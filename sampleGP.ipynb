{
 "cells": [
  {
   "cell_type": "markdown",
   "metadata": {},
   "source": [
    "# Sample from a GP Model"
   ]
  },
  {
   "cell_type": "code",
   "execution_count": 41,
   "metadata": {
    "collapsed": false
   },
   "outputs": [],
   "source": [
    "import GPflow\n",
    "import numpy as np\n",
    "from matplotlib import pyplot as plt\n",
    "%matplotlib inline\n",
    "np.set_printoptions(precision=4) # precision to print numpy array"
   ]
  },
  {
   "cell_type": "code",
   "execution_count": 45,
   "metadata": {
    "collapsed": false
   },
   "outputs": [],
   "source": [
    "# build a very simple data set:\n",
    "N = 10\n",
    "D = 1\n",
    "Xa = np.random.rand(N,1) # numpy ndarray\n",
    "Ya = Xa.copy()\n",
    "kern = GPflow.kernels.RBF(D) + GPflow.kernels.White(D)\n",
    "kern.k2.variance = 0.01"
   ]
  },
  {
   "cell_type": "code",
   "execution_count": 46,
   "metadata": {
    "collapsed": false,
    "scrolled": true
   },
   "outputs": [],
   "source": [
    "#kern.K(X) # would work with decorators?"
   ]
  },
  {
   "cell_type": "code",
   "execution_count": 47,
   "metadata": {
    "collapsed": false
   },
   "outputs": [
    {
     "name": "stdout",
     "output_type": "stream",
     "text": [
      "[[ 1.01    0.9932  0.9747  0.9999  0.9194  0.9724  0.8119  0.994   0.9404\n",
      "   0.9988]\n",
      " [ 0.9932  1.01    0.9428  0.9914  0.9579  0.9929  0.8695  0.9748  0.973\n",
      "   0.9865]\n",
      " [ 0.9747  0.9428  1.01    0.9779  0.8167  0.8983  0.6836  0.9931  0.8465\n",
      "   0.9842]\n",
      " [ 0.9999  0.9914  0.9779  1.01    0.9137  0.9689  0.804   0.9956  0.9354\n",
      "   0.9994]\n",
      " [ 0.9194  0.9579  0.8167  0.9137  1.01    0.9851  0.9726  0.8739  0.9982\n",
      "   0.9004]\n",
      " [ 0.9724  0.9929  0.8983  0.9689  0.9851  1.01    0.9197  0.942   0.9935\n",
      "   0.9603]\n",
      " [ 0.8119  0.8695  0.6836  0.804   0.9726  0.9197  1.01    0.7521  0.9574\n",
      "   0.7861]\n",
      " [ 0.994   0.9748  0.9931  0.9956  0.8739  0.942   0.7521  1.01    0.8996\n",
      "   0.9981]\n",
      " [ 0.9404  0.973   0.8465  0.9354  0.9982  0.9935  0.9574  0.8996  1.01\n",
      "   0.9235]\n",
      " [ 0.9988  0.9865  0.9842  0.9994  0.9004  0.9603  0.7861  0.9981  0.9235\n",
      "   1.01  ]]\n"
     ]
    }
   ],
   "source": [
    "# How to sample from a GP\n",
    "parameterVector = tf.placeholder(\"float64\") \n",
    "Xs = tf.placeholder(\"float64\") \n",
    "with kern.tf_mode():\n",
    "    kern.make_tf_array(parameterVector)\n",
    "    K_s = kern.K(Xs)\n",
    "with tf.Session() as sess:\n",
    "    K_eval = sess.run(K_s, feed_dict={parameterVector:kern.get_free_state(), Xs:Xa })\n",
    "print K_eval"
   ]
  },
  {
   "cell_type": "code",
   "execution_count": null,
   "metadata": {
    "collapsed": true
   },
   "outputs": [],
   "source": []
  }
 ],
 "metadata": {
  "kernelspec": {
   "display_name": "Python 2",
   "language": "python",
   "name": "python2"
  },
  "language_info": {
   "codemirror_mode": {
    "name": "ipython",
    "version": 2
   },
   "file_extension": ".py",
   "mimetype": "text/x-python",
   "name": "python",
   "nbconvert_exporter": "python",
   "pygments_lexer": "ipython2",
   "version": "2.7.11"
  }
 },
 "nbformat": 4,
 "nbformat_minor": 0
}
