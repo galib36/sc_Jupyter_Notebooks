{
 "cells": [
  {
   "cell_type": "code",
   "execution_count": 1,
   "metadata": {
    "collapsed": true
   },
   "outputs": [],
   "source": [
    "import subprocess, os, sys, signal, pip\n",
    "import rpy2\n",
    "from joblib import Parallel, delayed\n",
    "import multiprocessing\n",
    "import threading\n",
    "import time\n",
    "import numpy as np\n",
    "import csv"
   ]
  },
  {
   "cell_type": "code",
   "execution_count": 7,
   "metadata": {
    "collapsed": true
   },
   "outputs": [],
   "source": [
    "# inputFolder : Folder name with all the fastq files\n",
    "#intputFolder = '/mnt/fls01-bcf01/ngsdata/Analysis/2016/nextseq/161207_NB500968_0061_AHH7M3AFXX_analysis/Amy_Adlard_11oct16/fastqs'\n",
    "\n",
    "# Setting the output folder where all the results would be stored\n",
    "outputFolder = '/mnt/mr01-home01/mqbsxsm2/scratch/Amy_Adlard_Single_cell_Second_Dataset_ecoli_mapping/output/'"
   ]
  },
  {
   "cell_type": "markdown",
   "metadata": {},
   "source": [
    "## For STAR mapping"
   ]
  },
  {
   "cell_type": "code",
   "execution_count": 5,
   "metadata": {
    "collapsed": false
   },
   "outputs": [],
   "source": [
    "LogFilePath = outputFolder + 'STAR_output'\n",
    "CellMapSummary = ' Number_of_input_reads Uniquely_mapped_reads_number Percent_Uniquely_Mapped Percent_of_unmapped\\n'\n",
    "for root, folder, files in os.walk(LogFilePath):\n",
    "    files = [os.path.join(root, f) for f in files if (f.endswith('Log.final.out'))]\n",
    "    for f in files:\n",
    "        with open(f,'rt') as LogFile:\n",
    "            for line in LogFile:\n",
    "                if 'Number of input reads' in line:\n",
    "                    CellMapSummary = CellMapSummary + f.split('/')[-1].split('_')[0]+line.split('|')[1].split('%')[0].strip('\\n')                \n",
    "                if 'Uniquely mapped reads number' in line:\n",
    "                    CellMapSummary = CellMapSummary + line.split('|')[1].strip('\\n')\n",
    "                if 'Uniquely mapped reads %' in line:\n",
    "                    CellMapSummary = CellMapSummary + line.split('|')[1].split('%')[0].strip('\\n')\n",
    "                if '% of reads unmapped: too short' in line:\n",
    "                    CellMapSummary = CellMapSummary + line.split('|')[1].split('%')[0] + '\\n'\n",
    "\n",
    "targetFile = outputFolder + \"MappingSummary_rep1.csv\"\n",
    "target = open(targetFile, 'w')                    \n",
    "target.write(CellMapSummary)\n",
    "target.close()"
   ]
  },
  {
   "cell_type": "markdown",
   "metadata": {
    "collapsed": true
   },
   "source": [
    "## For Bowtie2 mapping"
   ]
  },
  {
   "cell_type": "code",
   "execution_count": 8,
   "metadata": {
    "collapsed": false
   },
   "outputs": [],
   "source": [
    "LogFilePath = outputFolder + 'Bowtie_files'\n",
    "CellMapSummary = 'CellNumber Number_of_input_reads concordantly_mapped_reads_number\\n'\n",
    "for root, folder, files in os.walk(LogFilePath):\n",
    "    files = [os.path.join(root, f) for f in files if (f.endswith('allignment.log'))]\n",
    "    for f in files:\n",
    "        with open(f,'rt') as LogFile:\n",
    "            for line in LogFile:\n",
    "                if 'reads; of these:' in line:\n",
    "                    CellMapSummary = CellMapSummary + f.split('/')[-1].split('_')[0]+' '+line.split(';')[0].split(' ')[0].strip('\\n')                                   \n",
    "                if 'aligned concordantly exactly 1 time' in line:\n",
    "                    CellMapSummary = CellMapSummary + line.split(' (')[0].strip('\\n') + '\\n'\n",
    "                    \n",
    "                #if 'Uniquely mapped reads %' in line:\n",
    "                #    CellMapSummary = CellMapSummary + line.split('|')[1].split('%')[0].strip('\\n')\n",
    "                #if '% of reads unmapped: too short' in line:\n",
    "                #    CellMapSummary = CellMapSummary + line.split('|')[1].split('%')[0] + '\\n'\n",
    "\n",
    "#print(CellMapSummary)\n",
    "targetFile = outputFolder + \"Bowtie2_MappingSummary_rep1.csv\"\n",
    "target = open(targetFile, 'w')                    \n",
    "target.write(CellMapSummary)\n",
    "target.close()"
   ]
  },
  {
   "cell_type": "code",
   "execution_count": null,
   "metadata": {
    "collapsed": true
   },
   "outputs": [],
   "source": []
  }
 ],
 "metadata": {
  "anaconda-cloud": {},
  "kernelspec": {
   "display_name": "Python [default]",
   "language": "python",
   "name": "python3"
  },
  "language_info": {
   "codemirror_mode": {
    "name": "ipython",
    "version": 3
   },
   "file_extension": ".py",
   "mimetype": "text/x-python",
   "name": "python",
   "nbconvert_exporter": "python",
   "pygments_lexer": "ipython3",
   "version": "3.5.2"
  }
 },
 "nbformat": 4,
 "nbformat_minor": 0
}
