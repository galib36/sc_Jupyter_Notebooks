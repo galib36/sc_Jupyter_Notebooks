{
 "cells": [
  {
   "cell_type": "code",
   "execution_count": 1,
   "metadata": {
    "collapsed": true
   },
   "outputs": [],
   "source": [
    "import rpy2.interactive as r\n",
    "import rpy2.interactive.packages # this can take few seconds\n",
    "import time\n",
    "#from ZIFA import ZIFA\n",
    "#from ZIFA import block_ZIFA\n",
    "import pylab"
   ]
  },
  {
   "cell_type": "code",
   "execution_count": 2,
   "metadata": {
    "collapsed": true
   },
   "outputs": [],
   "source": [
    "%load_ext rpy2.ipython"
   ]
  },
  {
   "cell_type": "code",
   "execution_count": 7,
   "metadata": {
    "collapsed": false
   },
   "outputs": [
    {
     "name": "stdout",
     "output_type": "stream",
     "text": [
      "\n",
      "Error in library(\"cowplot\") : there is no package called ‘cowplot’\n"
     ]
    }
   ],
   "source": [
    "%%R\n",
    "library(\"dplyr\")\n",
    "library(\"edgeR\")\n",
    "library(\"ggplot2\")\n",
    "library(\"cowplot\")\n",
    "library(\"BASiCS\")\n",
    "library(\"scde\")\n",
    "library(repr)\n",
    "library(biomaRt)\n",
    "library(GO.db)\n",
    "library(extRemes)\n",
    "library(Lmoments)\n",
    "library(distillery)\n",
    "library(car)\n",
    "library(scde)\n",
    "theme_set(theme_bw(base_size = 16))"
   ]
  },
  {
   "cell_type": "code",
   "execution_count": 5,
   "metadata": {
    "collapsed": true
   },
   "outputs": [],
   "source": [
    "%%R\n",
    "#cdSCDE <- read.csv('/home/baker/my-scratch-share/James_Bagnall_Single_cell_rna_seq_V3/output/GeneAnnotationIdName.csv',check.names=FALSE,row.names=1)\n",
    "CountData <- read.table('AllHtseqCounts.tsv',header=TRUE, sep='\\t', row.names=1)\n",
    "CellNumber <- dim(CountData)[2]\n",
    "ERCCData <- read.table('AllERCC_Counts.tsv', header=TRUE, sep='\\t', row.names=1)"
   ]
  },
  {
   "cell_type": "code",
   "execution_count": 8,
   "metadata": {
    "collapsed": false
   },
   "outputs": [
    {
     "name": "stdout",
     "output_type": "stream",
     "text": [
      "\n",
      "Error in withVisible({ : could not find function \"clean.counts\"\n"
     ]
    }
   ],
   "source": [
    "%%R -o cd\n",
    "# omit the non-mapped gene information\n",
    "cd = CountData[1:(dim(CountData)[1]-5),]\n",
    "# cd = CountData\n",
    "# omit genes that are never detected\n",
    " #cd <- cd[rowSums(cd[,2:dim(cd)[2]])>0, ]\n",
    "# omit cells with very poor coverage\n",
    " #cd <- cd[, colSums(cd[,2:dim(cd)[2]])>1e4]\n",
    "CellNumber <- dim(cd)[2]\n",
    " #GeneNames <- cbind(rownames(cd), as.character(cd[,1]))\n",
    " #colnames(GeneNames) <- c(\"EnsembleID\", \"GeneName\")\n",
    " #cd$gene_name <- NULL\n",
    " #print(head(GeneNames[,1]))\n",
    "cd <- clean.counts(cd, min.lib.size=1500)\n",
    "dim(cd)"
   ]
  },
  {
   "cell_type": "code",
   "execution_count": null,
   "metadata": {
    "collapsed": true
   },
   "outputs": [],
   "source": []
  }
 ],
 "metadata": {
  "kernelspec": {
   "display_name": "Python 3",
   "language": "python",
   "name": "python3"
  },
  "language_info": {
   "codemirror_mode": {
    "name": "ipython",
    "version": 3
   },
   "file_extension": ".py",
   "mimetype": "text/x-python",
   "name": "python",
   "nbconvert_exporter": "python",
   "pygments_lexer": "ipython3",
   "version": "3.5.1"
  }
 },
 "nbformat": 4,
 "nbformat_minor": 0
}
