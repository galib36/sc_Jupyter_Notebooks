{
 "cells": [
  {
   "cell_type": "code",
   "execution_count": 1,
   "metadata": {
    "collapsed": true
   },
   "outputs": [],
   "source": [
    "import subprocess, os, csv, signal, pysam, rpy2\n",
    "import numpy as np\n",
    "import matplotlib.pyplot as plt\n",
    "import readline\n",
    "import rpy2.robjects\n",
    "%matplotlib inline"
   ]
  },
  {
   "cell_type": "code",
   "execution_count": 2,
   "metadata": {
    "collapsed": true
   },
   "outputs": [],
   "source": [
    "%load_ext rpy2.ipython"
   ]
  },
  {
   "cell_type": "code",
   "execution_count": 4,
   "metadata": {
    "collapsed": false
   },
   "outputs": [],
   "source": [
    "%%R\n",
    "if (!require(\"pacman\")) install.packages(\"pacman\")\n",
    "pacman::p_load(ggplot2, ComplexHeatmap, Rtsne, prabclus, GGally, rtracklayer, chromVAR)"
   ]
  },
  {
   "cell_type": "code",
   "execution_count": 5,
   "metadata": {
    "collapsed": false
   },
   "outputs": [
    {
     "data": {
      "text/plain": [
       "\r",
       "|=                                                                              |   1%           \r",
       "|=                                                                              |   2%           \r",
       "|==                                                                             |   2%           \r",
       "|==                                                                             |   3%           \r",
       "|===                                                                            |   4%           \r",
       "|===                                                                            |   4%    1 MB\r",
       "|====                                                                           |   5%    1 MB\r",
       "|=====                                                                          |   6%    1 MB\r",
       "|=====                                                                          |   7%    1 MB\r",
       "|======                                                                         |   7%    1 MB\r",
       "|======                                                                         |   8%    1 MB\r",
       "|=======                                                                        |   9%    2 MB\r",
       "|=======                                                                        |   9%    2 MB\r",
       "|========                                                                       |  10%    2 MB\r",
       "|=========                                                                      |  11%    2 MB\r",
       "|=========                                                                      |  12%    2 MB\r",
       "|==========                                                                     |  12%    3 MB\r",
       "|==========                                                                     |  13%    3 MB\r",
       "|===========                                                                    |  14%    3 MB\r",
       "|===========                                                                    |  14%    3 MB\r",
       "|============                                                                   |  15%    3 MB\r",
       "|=============                                                                  |  16%    3 MB\r",
       "|=============                                                                  |  16%    4 MB\r",
       "|==============                                                                 |  17%    4 MB\r",
       "|==============                                                                 |  18%    4 MB\r",
       "|===============                                                                |  19%    4 MB\r",
       "|===============                                                                |  19%    4 MB\r",
       "|================                                                               |  20%    4 MB\r",
       "|=================                                                              |  21%    5 MB\r",
       "|=================                                                              |  21%    5 MB\r",
       "|==================                                                             |  22%    5 MB\r",
       "|==================                                                             |  23%    5 MB\r",
       "|===================                                                            |  24%    5 MB\r",
       "|===================                                                            |  24%    5 MB\r",
       "|====================                                                           |  25%    6 MB\r",
       "|=====================                                                          |  26%    6 MB\r",
       "|=====================                                                          |  26%    6 MB\r",
       "|======================                                                         |  27%    6 MB\r",
       "|======================                                                         |  28%    6 MB\r",
       "|=======================                                                        |  29%    6 MB\r",
       "|=======================                                                        |  29%    7 MB\r",
       "|========================                                                       |  30%    7 MB\r",
       "|========================                                                       |  31%    7 MB\r",
       "|=========================                                                      |  31%    7 MB\r",
       "|==========================                                                     |  32%    7 MB\r",
       "|==========================                                                     |  33%    7 MB\r",
       "|===========================                                                    |  34%    8 MB\r",
       "|===========================                                                    |  34%    8 MB\r",
       "|============================                                                   |  35%    8 MB\r",
       "|============================                                                   |  36%    8 MB\r",
       "|=============================                                                  |  36%    8 MB\r",
       "|==============================                                                 |  37%    8 MB\r",
       "|==============================                                                 |  38%    9 MB\r",
       "|===============================                                                |  39%    9 MB\r",
       "|===============================                                                |  39%    9 MB\r",
       "|================================                                               |  40%    9 MB\r",
       "|================================                                               |  41%    9 MB\r",
       "|=================================                                              |  41%    9 MB\r",
       "|==================================                                             |  42%   10 MB\r",
       "|==================================                                             |  43%   10 MB\r",
       "|===================================                                            |  43%   10 MB\r",
       "|===================================                                            |  44%   10 MB\r",
       "|====================================                                           |  45%   10 MB\r",
       "|====================================                                           |  46%   10 MB\r",
       "|=====================================                                          |  46%   11 MB\r",
       "|======================================                                         |  47%   11 MB\r",
       "|======================================                                         |  48%   11 MB\r",
       "|=======================================                                        |  48%   11 MB\r",
       "|=======================================                                        |  49%   11 MB\r",
       "|========================================                                       |  50%   11 MB\r",
       "|========================================                                       |  51%   12 MB\r",
       "|=========================================                                      |  51%   12 MB\r",
       "|==========================================                                     |  52%   12 MB\r",
       "|==========================================                                     |  53%   12 MB\r",
       "|===========================================                                    |  53%   12 MB\r",
       "|===========================================                                    |  54%   12 MB\r",
       "|============================================                                   |  55%   13 MB\r",
       "|============================================                                   |  56%   13 MB\r",
       "|=============================================                                  |  56%   13 MB\r",
       "|=============================================                                  |  57%   13 MB\r",
       "|==============================================                                 |  58%   13 MB\r",
       "|===============================================                                |  58%   13 MB\r",
       "|===============================================                                |  59%   14 MB\r",
       "|================================================                               |  60%   14 MB\r",
       "|================================================                               |  61%   14 MB\r",
       "|=================================================                              |  61%   14 MB\r",
       "|=================================================                              |  62%   14 MB\r",
       "|==================================================                             |  63%   14 MB\r",
       "|===================================================                            |  63%   15 MB\r",
       "|===================================================                            |  64%   15 MB\r",
       "|====================================================                           |  65%   15 MB\r",
       "|====================================================                           |  66%   15 MB\r",
       "|=====================================================                          |  66%   15 MB\r",
       "|=====================================================                          |  67%   15 MB\r",
       "|======================================================                         |  68%   16 MB\r",
       "|=======================================================                        |  68%   16 MB\r",
       "|=======================================================                        |  69%   16 MB\r",
       "|========================================================                       |  70%   16 MB\r",
       "|========================================================                       |  70%   16 MB\r",
       "|=========================================================                      |  71%   16 MB\r",
       "|=========================================================                      |  72%   17 MB\r",
       "|==========================================================                     |  73%   17 MB\r",
       "|===========================================================                    |  73%   17 MB\r",
       "|===========================================================                    |  74%   17 MB\r",
       "|============================================================                   |  75%   17 MB\r",
       "|============================================================                   |  75%   17 MB\r",
       "|=============================================================                  |  76%   18 MB\r",
       "|=============================================================                  |  77%   18 MB\r",
       "|==============================================================                 |  78%   18 MB\r",
       "|===============================================================                |  78%   18 MB\r",
       "|===============================================================                |  79%   18 MB\r",
       "|================================================================               |  80%   18 MB\r",
       "|================================================================               |  80%   19 MB\r",
       "|=================================================================              |  81%   19 MB\r",
       "|=================================================================              |  82%   19 MB\r",
       "|==================================================================             |  83%   19 MB\r",
       "|===================================================================            |  83%   19 MB\r",
       "|===================================================================            |  84%   19 MB\r",
       "|====================================================================           |  85%   20 MB\r",
       "|====================================================================           |  85%   20 MB\r",
       "|=====================================================================          |  86%   20 MB\r",
       "|=====================================================================          |  87%   20 MB\r",
       "|======================================================================         |  88%   20 MB\r",
       "|=======================================================================        |  88%   20 MB\r",
       "|=======================================================================        |  89%   21 MB\r",
       "|========================================================================       |  90%   21 MB\r",
       "|========================================================================       |  90%   21 MB\r",
       "|=========================================================================      |  91%   21 MB\r",
       "|=========================================================================      |  92%   21 MB\r",
       "|==========================================================================     |  93%   21 MB\r",
       "|===========================================================================    |  93%   22 MB\r",
       "|===========================================================================    |  94%   22 MB\r",
       "|============================================================================   |  95%   22 MB\r",
       "|============================================================================   |  95%   22 MB\r",
       "|=============================================================================  |  96%   22 MB\r",
       "|=============================================================================  |  97%   22 MB\r",
       "|============================================================================== |  98%   23 MB\r",
       "|===============================================================================|  98%   23 MB\r",
       "|===============================================================================|  99%   23 MB\r",
       "|================================================================================| 100%   23 MB\n"
      ]
     },
     "metadata": {},
     "output_type": "display_data"
    }
   ],
   "source": [
    "%%R\n",
    "peakfile <- \"/home/baker/my-dpsf-scratch-share/Syed_scATAC_and_scRNA_comparison/AllFilteredBam_Trimmo/AllFiles_Filtered_peaks.narrowPeak\"\n",
    "peaks <- get_peaks(peakfile)"
   ]
  },
  {
   "cell_type": "code",
   "execution_count": null,
   "metadata": {
    "collapsed": false
   },
   "outputs": [
    {
     "name": "stderr",
     "output_type": "stream",
     "text": [
      "/home/baker/anaconda3/lib/python3.5/site-packages/rpy2/rinterface/__init__.py:186: RRuntimeWarning: Reading in file: /home/baker/my-dpsf-scratch-share/Syed_scATAC_and_scRNA_comparison/AllFilteredBam_Trimmo/D01_nodup_sorted.bam\n",
      "\n",
      "  warnings.warn(x, RRuntimeWarning)\n",
      "/home/baker/anaconda3/lib/python3.5/site-packages/rpy2/rinterface/__init__.py:186: RRuntimeWarning: Reading in file: /home/baker/my-dpsf-scratch-share/Syed_scATAC_and_scRNA_comparison/AllFilteredBam_Trimmo/D02_nodup_sorted.bam\n",
      "\n",
      "  warnings.warn(x, RRuntimeWarning)\n",
      "/home/baker/anaconda3/lib/python3.5/site-packages/rpy2/rinterface/__init__.py:186: RRuntimeWarning: Reading in file: /home/baker/my-dpsf-scratch-share/Syed_scATAC_and_scRNA_comparison/AllFilteredBam_Trimmo/D03_nodup_sorted.bam\n",
      "\n",
      "  warnings.warn(x, RRuntimeWarning)\n",
      "/home/baker/anaconda3/lib/python3.5/site-packages/rpy2/rinterface/__init__.py:186: RRuntimeWarning: Reading in file: /home/baker/my-dpsf-scratch-share/Syed_scATAC_and_scRNA_comparison/AllFilteredBam_Trimmo/D04_nodup_sorted.bam\n",
      "\n",
      "  warnings.warn(x, RRuntimeWarning)\n",
      "/home/baker/anaconda3/lib/python3.5/site-packages/rpy2/rinterface/__init__.py:186: RRuntimeWarning: Reading in file: /home/baker/my-dpsf-scratch-share/Syed_scATAC_and_scRNA_comparison/AllFilteredBam_Trimmo/D05_nodup_sorted.bam\n",
      "\n",
      "  warnings.warn(x, RRuntimeWarning)\n",
      "/home/baker/anaconda3/lib/python3.5/site-packages/rpy2/rinterface/__init__.py:186: RRuntimeWarning: Reading in file: /home/baker/my-dpsf-scratch-share/Syed_scATAC_and_scRNA_comparison/AllFilteredBam_Trimmo/D06_nodup_sorted.bam\n",
      "\n",
      "  warnings.warn(x, RRuntimeWarning)\n",
      "/home/baker/anaconda3/lib/python3.5/site-packages/rpy2/rinterface/__init__.py:186: RRuntimeWarning: Reading in file: /home/baker/my-dpsf-scratch-share/Syed_scATAC_and_scRNA_comparison/AllFilteredBam_Trimmo/D07_nodup_sorted.bam\n",
      "\n",
      "  warnings.warn(x, RRuntimeWarning)\n",
      "/home/baker/anaconda3/lib/python3.5/site-packages/rpy2/rinterface/__init__.py:186: RRuntimeWarning: Reading in file: /home/baker/my-dpsf-scratch-share/Syed_scATAC_and_scRNA_comparison/AllFilteredBam_Trimmo/D08_nodup_sorted.bam\n",
      "\n",
      "  warnings.warn(x, RRuntimeWarning)\n",
      "/home/baker/anaconda3/lib/python3.5/site-packages/rpy2/rinterface/__init__.py:186: RRuntimeWarning: Reading in file: /home/baker/my-dpsf-scratch-share/Syed_scATAC_and_scRNA_comparison/AllFilteredBam_Trimmo/D09_nodup_sorted.bam\n",
      "\n",
      "  warnings.warn(x, RRuntimeWarning)\n",
      "/home/baker/anaconda3/lib/python3.5/site-packages/rpy2/rinterface/__init__.py:186: RRuntimeWarning: Reading in file: /home/baker/my-dpsf-scratch-share/Syed_scATAC_and_scRNA_comparison/AllFilteredBam_Trimmo/D10_nodup_sorted.bam\n",
      "\n",
      "  warnings.warn(x, RRuntimeWarning)\n",
      "/home/baker/anaconda3/lib/python3.5/site-packages/rpy2/rinterface/__init__.py:186: RRuntimeWarning: Reading in file: /home/baker/my-dpsf-scratch-share/Syed_scATAC_and_scRNA_comparison/AllFilteredBam_Trimmo/D11_nodup_sorted.bam\n",
      "\n",
      "  warnings.warn(x, RRuntimeWarning)\n",
      "/home/baker/anaconda3/lib/python3.5/site-packages/rpy2/rinterface/__init__.py:186: RRuntimeWarning: Reading in file: /home/baker/my-dpsf-scratch-share/Syed_scATAC_and_scRNA_comparison/AllFilteredBam_Trimmo/D12_nodup_sorted.bam\n",
      "\n",
      "  warnings.warn(x, RRuntimeWarning)\n",
      "/home/baker/anaconda3/lib/python3.5/site-packages/rpy2/rinterface/__init__.py:186: RRuntimeWarning: Reading in file: /home/baker/my-dpsf-scratch-share/Syed_scATAC_and_scRNA_comparison/AllFilteredBam_Trimmo/D13_nodup_sorted.bam\n",
      "\n",
      "  warnings.warn(x, RRuntimeWarning)\n"
     ]
    }
   ],
   "source": [
    "%%R\n",
    "BamFilePath = '/home/baker/my-dpsf-scratch-share/Syed_scATAC_and_scRNA_comparison/AllFilteredBam_Trimmo'\n",
    "BamFiles <- list.files(path=BamFilePath, pattern='^(D|E).*bam$', full.names=TRUE)\n",
    "DBatchLength <- length(list.files(path=BamFilePath, pattern='^D.*bam$'))\n",
    "EBatchLength <- length(list.files(path=BamFilePath, pattern='^E.*bam$'))\n",
    "fragment_counts <- get_counts(BamFiles, peaks, paired =  TRUE, by_rg = FALSE, format = \"bam\", colData = DataFrame(celltype = c(rep(\"D\",DBatchLength)), rep(\"E\", EBatchLength)))"
   ]
  },
  {
   "cell_type": "code",
   "execution_count": null,
   "metadata": {
    "collapsed": true
   },
   "outputs": [],
   "source": []
  }
 ],
 "metadata": {
  "anaconda-cloud": {},
  "kernelspec": {
   "display_name": "Python [conda root]",
   "language": "python",
   "name": "conda-root-py"
  },
  "language_info": {
   "codemirror_mode": {
    "name": "ipython",
    "version": 3
   },
   "file_extension": ".py",
   "mimetype": "text/x-python",
   "name": "python",
   "nbconvert_exporter": "python",
   "pygments_lexer": "ipython3",
   "version": "3.5.2"
  }
 },
 "nbformat": 4,
 "nbformat_minor": 1
}
