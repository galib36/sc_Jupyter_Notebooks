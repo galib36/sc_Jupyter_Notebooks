{
 "cells": [
  {
   "cell_type": "markdown",
   "metadata": {
    "collapsed": true,
    "slideshow": {
     "slide_type": "slide"
    }
   },
   "source": [
    "# Single-cell Bioinformatics analysis <br><br>\n",
    "\n",
    "### Syed Murtuza Baker <br><br>\n",
    "#### Bioinference & Bioinformatics Core Facility <br><br>\n",
    "#### Single-Cell Workshop<br>\n",
    "\n"
   ]
  },
  {
   "cell_type": "markdown",
   "metadata": {
    "slideshow": {
     "slide_type": "slide"
    }
   },
   "source": [
    "## Why Single cell\n",
    "- Explains gene expression profiles between individual cells\n",
    "- Avoid the mistake of taking averages of entire cell populations\n",
    "- Discover previously undetected subpopulations\n",
    "\n",
    "<center><img src=\"why_sc.png\" height=\"450\" width=\"450\"></center>\n"
   ]
  },
  {
   "cell_type": "markdown",
   "metadata": {
    "slideshow": {
     "slide_type": "slide"
    }
   },
   "source": [
    "## Analysis we have done\n",
    "\n",
    "- Single cell ATAC-seq\n",
    "- Single cell qPCR\n",
    "- Single cell RNA-seq\n",
    "\n"
   ]
  },
  {
   "cell_type": "markdown",
   "metadata": {
    "slideshow": {
     "slide_type": "slide"
    }
   },
   "source": [
    "## Single cell qPCR"
   ]
  },
  {
   "cell_type": "markdown",
   "metadata": {
    "slideshow": {
     "slide_type": "slide"
    }
   },
   "source": [
    "__Question:__ Does Zebrafish have T-helper (Th) subsets as Mamals?\n",
    "- High in gata3 and il-4 (Th2) but low for t-bet (Th1 marker)\n",
    "- CD4 and CD8a are anticorrelated, (Temporal dynamics?)\n",
    "<center><img src=\"Chris_qPCR_heatmap.png\" height=\"400\" width=\"450\"></center>"
   ]
  },
  {
   "cell_type": "markdown",
   "metadata": {
    "slideshow": {
     "slide_type": "slide"
    }
   },
   "source": [
    "## CAGE single cell RNA-seq"
   ]
  },
  {
   "cell_type": "markdown",
   "metadata": {
    "slideshow": {
     "slide_type": "slide"
    }
   },
   "source": [
    "## Key-Features\n",
    "\n",
    "<center><img src=\"UMI_Spike_Merged.png\" height=\"750\" width=\"750\"></center>"
   ]
  },
  {
   "cell_type": "markdown",
   "metadata": {
    "slideshow": {
     "slide_type": "slide"
    }
   },
   "source": [
    "<center><img src=\"CAGE-Workflow.png\">"
   ]
  },
  {
   "cell_type": "markdown",
   "metadata": {
    "slideshow": {
     "slide_type": "slide"
    }
   },
   "source": [
    "__Background__: Cells are infected with Bacteria\n",
    "\n",
    "__Question__: Can we identify the infected cells from uninfected ones\n",
    "- PCA with list of Genes\n",
    "- Variance driven by 2 Genes\n",
    "\n",
    "\n",
    "<img src=\"PCA_with_normalized_data.png\" style=\"float: left; width: 42%; margin-right: 1%;\">\n",
    "\n",
    "<img src=\"Gene_PCA.png\" style=\"float: left; width: 42%; margin-right: 1%; margin-bottom: 0.1em;\">\n",
    "<p style=\"clear: both;\">"
   ]
  },
  {
   "cell_type": "markdown",
   "metadata": {
    "slideshow": {
     "slide_type": "slide"
    }
   },
   "source": [
    "### Pathway and gene set overdispersion analysis (PAGODA)"
   ]
  },
  {
   "cell_type": "markdown",
   "metadata": {
    "collapsed": false,
    "slideshow": {
     "slide_type": "slide"
    }
   },
   "source": [
    "\n",
    "<a href=\"http://127.0.0.1:1470/custom/James_Cluster/index.html\">PAGODA analysis With Bacterial Infection </a>"
   ]
  },
  {
   "cell_type": "markdown",
   "metadata": {
    "collapsed": true,
    "slideshow": {
     "slide_type": "slide"
    }
   },
   "source": [
    "## Thank you "
   ]
  },
  {
   "cell_type": "markdown",
   "metadata": {
    "slideshow": {
     "slide_type": "slide"
    }
   },
   "source": [
    "## Other Approaches"
   ]
  },
  {
   "cell_type": "markdown",
   "metadata": {
    "collapsed": false,
    "slideshow": {
     "slide_type": "slide"
    }
   },
   "source": [
    "__Oscope__ to identify Oscillatory genes in Single-cell RNA-seq\n",
    "<img src=\"Oscillation_cluster2_updated.png\" height=\"800\" width=\"600\">"
   ]
  },
  {
   "cell_type": "markdown",
   "metadata": {
    "slideshow": {
     "slide_type": "slide"
    }
   },
   "source": [
    "Discovering brancing points\n",
    "<img src=\"Monocle_psuedotime.png\" height=400 width=400>"
   ]
  },
  {
   "cell_type": "markdown",
   "metadata": {
    "slideshow": {
     "slide_type": "slide"
    }
   },
   "source": [
    "Discovering Cell Cycle\n",
    "<img src=\"sCLVM.png\">"
   ]
  },
  {
   "cell_type": "markdown",
   "metadata": {
    "slideshow": {
     "slide_type": "slide"
    }
   },
   "source": [
    "## Noise calculation\n",
    "- Calculate two size factor (i) for 'technical genes' and (ii) 'biological genes'\n",
    "- For each technical gene $i$, estimate the sample mean $\\hat{\\mu}$ and sample variance of its normalized counts $\\hat{W_i}$\n",
    "- Similarly we calculate the sample moments for biological gene $i$ as $\\hat{\\mu}^B$ and $\\hat{W_i}^B$\n",
    "- Simplifying, the expected value of $\\hat{W_i}^B$ should be the sum of the technical and biological components of variance\n",
    "- Fit a GLM model with parameterization $w = \\frac{\\tilde{a_1}}{\\mu} + \\alpha_0$\n",
    "- Similarly we calculate the sample moments for biological gene $i$ as $\\hat{\\mu}^B$ and $\\hat{W_i}^B$\n",
    "- Technical variance is the value predicted by technical noise fit, $\\tilde{a_1}\\hat{\\mu}^B + \\alpha_0 (\\hat{\\mu}^B)^2$\n",
    "- For Total variance add $\\alpha_i^B (\\hat{\\mu}^B)^2$ where $\\alpha_i^B$ is the squared true coefficient of biological variation\n"
   ]
  },
  {
   "cell_type": "markdown",
   "metadata": {
    "slideshow": {
     "slide_type": "slide"
    }
   },
   "source": [
    "<center><img src=\"nmeth.2645-F3.jpg\" height=\"450\" width=\"450\">\n",
    "\n",
    "<p style=\"font-size:20px\"> Blue dots correspond to ERCC data points, brown dots to mouse genes, and magenta dots to significantly highly variable mouse genes (at a 10% false discovery rate). The solid red line represents the technical noise fit, and the dashed magenta line marks the expected position of genes with 50% biological CV.</p> "
   ]
  },
  {
   "cell_type": "code",
   "execution_count": null,
   "metadata": {
    "collapsed": true
   },
   "outputs": [],
   "source": []
  }
 ],
 "metadata": {
  "celltoolbar": "Slideshow",
  "kernelspec": {
   "display_name": "Python 2",
   "language": "python",
   "name": "python2"
  },
  "language_info": {
   "codemirror_mode": {
    "name": "ipython",
    "version": 2
   },
   "file_extension": ".py",
   "mimetype": "text/x-python",
   "name": "python",
   "nbconvert_exporter": "python",
   "pygments_lexer": "ipython2",
   "version": "2.7.11"
  }
 },
 "nbformat": 4,
 "nbformat_minor": 0
}
