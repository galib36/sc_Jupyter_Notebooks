{
 "cells": [
  {
   "cell_type": "code",
   "execution_count": 1,
   "metadata": {
    "collapsed": false
   },
   "outputs": [
    {
     "ename": "ImportError",
     "evalue": "No module named GPflow",
     "output_type": "error",
     "traceback": [
      "\u001b[0;31m---------------------------------------------------------------------------\u001b[0m",
      "\u001b[0;31mImportError\u001b[0m                               Traceback (most recent call last)",
      "\u001b[0;32m<ipython-input-1-c7b61438f901>\u001b[0m in \u001b[0;36m<module>\u001b[0;34m()\u001b[0m\n\u001b[0;32m----> 1\u001b[0;31m \u001b[0;32mimport\u001b[0m \u001b[0mGPflow\u001b[0m\u001b[0;34m\u001b[0m\u001b[0m\n\u001b[0m\u001b[1;32m      2\u001b[0m \u001b[0;32mimport\u001b[0m \u001b[0mtensorflow\u001b[0m \u001b[0;32mas\u001b[0m \u001b[0mtf\u001b[0m\u001b[0;34m\u001b[0m\u001b[0m\n",
      "\u001b[0;31mImportError\u001b[0m: No module named GPflow"
     ]
    }
   ],
   "source": [
    "import GPflow\n",
    "import tensorflow as tf"
   ]
  },
  {
   "cell_type": "code",
   "execution_count": 2,
   "metadata": {
    "collapsed": true
   },
   "outputs": [],
   "source": [
    "class assignGP(GPflow.model.GPModel):\n",
    "    def __init__(self, X, Y, kern, indices):\n",
    "        GPflow.model.GPModel.__init__(self, X, Y, kern, likelihood=GPflow.likelihoods.Gaussian(), mean_function=GPflow.mean_functions.Zero())\n",
    "        self.Phi = ProbMatrix(indices)\n",
    "        self.A = np.random.randn(*self.Phi.shape)\n",
    "        \n",
    "    def build_likelihood(self):\n",
    "        N = self.Y.shape[0]\n",
    "        M = self.X.shape[0]\n",
    "        \n",
    "        K = self.kern.K(self.X)\n",
    "        L = tf.cholesky(K)\n",
    "        tmp = tf.user_ops.triangular_solve(L, GPflow.tf_hacks.eye(M), 'lower')\n",
    "        Ki = tf.user_ops.triangular_solve(tf.transpose(L), tmp, 'upper')\n",
    "        tau = 1./self.likelihood.variance\n",
    "        \n",
    "        \n",
    "        Phi = self.Phi.make_matrix()\n",
    "        A = tf.matmul(tf.transpose(Phi), Phi)\n",
    "        A = A - tf.diag(tf.user_ops.get_diag(A))\n",
    "        A = A + tf.diag(tf.reduce_sum(Phi, 0))\n",
    "        \n",
    "        Lamb = A * tau + Ki\n",
    "        R = tf.cholesky(Lamb)\n",
    "        PhiY = tf.matmul(Phi, self.Y)\n",
    "        return -0.5*N*tf.log(tau)\\\n",
    "               - 0.5*tf.reduce_sum(tf.log(tf.user_ops.get_diag(L)))\\\n",
    "               - 0.5*tf.reduce_sum(tf.log(tf.user_ops.get_diag(R)))\\\n",
    "               - 0.5*tau*tf.reduce_sum(tf.square(self.Y))\\\n",
    "               - 0.5*tf.reduce_sum(tf.square(tau * tf.user_ops.triangular_solve(R, PhiY, 'lower')))\n",
    "    "
   ]
  },
  {
   "cell_type": "code",
   "execution_count": 22,
   "metadata": {
    "collapsed": false
   },
   "outputs": [],
   "source": [
    "def flat_softmax(x):\n",
    "    return tf.reshape(tf.nn.softmax(tf.reshape(x, (1,-1))), (-1))\n",
    "\n",
    "class ProbMatrix(GPflow.param.Parameterized):\n",
    "    def __init__(self, inds):\n",
    "        GPflow.param.Parameterized.__init__(self)\n",
    "        self.shape = ( len(inds), np.max(np.hstack(inds)) +1 )\n",
    "        \n",
    "        self.log_phis = GPflow.param.Param(np.random.randn(np.hstack(inds).size*10))\n",
    "        self.inds = inds\n",
    "    \n",
    "    def make_matrix(self):\n",
    "        return self.make_matrix_dumb()\n",
    "    \n",
    "    def make_matrix_sparse(self):\n",
    "        \"\"\"\n",
    "        This works, but the sparse matrix object in tensorflow \n",
    "        is lacking features, like multiplication with dense \n",
    "        matrices, and gradients!\n",
    "        \n",
    "        use make_matrix_dumb instead\n",
    "        \"\"\"\n",
    "        #softmax each row of the matrix and concatenate\n",
    "        count = 0\n",
    "        probs = []\n",
    "        for r, ind in enumerate(inds):\n",
    "            n = len(ind)\n",
    "            probs.append(flat_softmax(self.log_phis[count:count+n]))\n",
    "        probs = tf.concat(0, probs)\n",
    "        \n",
    "        #build a tf style index\n",
    "        i = np.hstack(inds)\n",
    "        i = np.vstack((np.arange(i.size), i)).T\n",
    "        \n",
    "        #make a sparse matrix\n",
    "        Z = tf.SparseTensor(i, probs, self.shape)\n",
    "        \n",
    "        return Z\n",
    "    \n",
    "    def make_matrix_dumb(self):\n",
    "        #softmax each row of the matrix, and put in zeros\n",
    "        rows = []\n",
    "        count = 0\n",
    "        for ind in self.inds:\n",
    "            n = len(ind)\n",
    "            probs = flat_softmax(self.log_phis[count:count+n])\n",
    "            count += n\n",
    "            \n",
    "            #make the row one piece at a time (!)\n",
    "            row = []\n",
    "            rowcount = 0\n",
    "            for i in range(n):\n",
    "                row.append( tf.zeros((ind[i] - rowcount,), tf.float64))\n",
    "                rowcount = ind[i]+1\n",
    "                row.append(probs[i:i+1])\n",
    "            row.append(tf.zeros((self.shape[1] - rowcount,), tf.float64))\n",
    "            row = tf.concat(0, row)\n",
    "            row = tf.expand_dims(row, 0)\n",
    "            rows.append(row)\n",
    "            \n",
    "        return rows[0]#tf.concat(0, rows)               \n"
   ]
  },
  {
   "cell_type": "code",
   "execution_count": 23,
   "metadata": {
    "collapsed": true
   },
   "outputs": [],
   "source": [
    "inds = [[0,1],[2,3]]"
   ]
  },
  {
   "cell_type": "code",
   "execution_count": 24,
   "metadata": {
    "collapsed": false
   },
   "outputs": [],
   "source": [
    "X = np.random.randn(4,1)\n",
    "Y = np.random.randn(4,1)\n",
    "k = GPflow.kernels.Matern32(1) + GPflow.kernels.White(1)\n",
    "m = assignGP(X, Y, k, inds)"
   ]
  },
  {
   "cell_type": "code",
   "execution_count": 25,
   "metadata": {
    "collapsed": false
   },
   "outputs": [
    {
     "name": "stdout",
     "output_type": "stream",
     "text": [
      "compiling tensorflow function...\n",
      "done\n"
     ]
    }
   ],
   "source": [
    "\n",
    "m._compile()\n"
   ]
  },
  {
   "cell_type": "code",
   "execution_count": 26,
   "metadata": {
    "collapsed": false
   },
   "outputs": [
    {
     "ename": "InvalidArgumentError",
     "evalue": "sizes input must be 1-D, not shape []\n\t [[Node: Reshape_43 = Reshape[T=DT_DOUBLE, _device=\"/job:localhost/replica:0/task:0/cpu:0\"](Softmax_8, Reshape_43/shape)]]\nCaused by op u'Reshape_43', defined at:\n  File \"/Users/james/anaconda/lib/python2.7/runpy.py\", line 162, in _run_module_as_main\n    \"__main__\", fname, loader, pkg_name)\n  File \"/Users/james/anaconda/lib/python2.7/runpy.py\", line 72, in _run_code\n    exec code in run_globals\n  File \"/Users/james/anaconda/lib/python2.7/site-packages/ipykernel/__main__.py\", line 3, in <module>\n    app.launch_new_instance()\n  File \"/Users/james/anaconda/lib/python2.7/site-packages/traitlets/config/application.py\", line 592, in launch_instance\n    app.start()\n  File \"/Users/james/anaconda/lib/python2.7/site-packages/ipykernel/kernelapp.py\", line 403, in start\n    ioloop.IOLoop.instance().start()\n  File \"/Users/james/anaconda/lib/python2.7/site-packages/zmq/eventloop/ioloop.py\", line 162, in start\n    super(ZMQIOLoop, self).start()\n  File \"/Users/james/anaconda/lib/python2.7/site-packages/tornado/ioloop.py\", line 883, in start\n    handler_func(fd_obj, events)\n  File \"/Users/james/anaconda/lib/python2.7/site-packages/tornado/stack_context.py\", line 275, in null_wrapper\n    return fn(*args, **kwargs)\n  File \"/Users/james/anaconda/lib/python2.7/site-packages/zmq/eventloop/zmqstream.py\", line 440, in _handle_events\n    self._handle_recv()\n  File \"/Users/james/anaconda/lib/python2.7/site-packages/zmq/eventloop/zmqstream.py\", line 472, in _handle_recv\n    self._run_callback(callback, msg)\n  File \"/Users/james/anaconda/lib/python2.7/site-packages/zmq/eventloop/zmqstream.py\", line 414, in _run_callback\n    callback(*args, **kwargs)\n  File \"/Users/james/anaconda/lib/python2.7/site-packages/tornado/stack_context.py\", line 275, in null_wrapper\n    return fn(*args, **kwargs)\n  File \"/Users/james/anaconda/lib/python2.7/site-packages/ipykernel/kernelbase.py\", line 260, in dispatcher\n    return self.dispatch_shell(stream, msg)\n  File \"/Users/james/anaconda/lib/python2.7/site-packages/ipykernel/kernelbase.py\", line 212, in dispatch_shell\n    handler(stream, idents, msg)\n  File \"/Users/james/anaconda/lib/python2.7/site-packages/ipykernel/kernelbase.py\", line 370, in execute_request\n    user_expressions, allow_stdin)\n  File \"/Users/james/anaconda/lib/python2.7/site-packages/ipykernel/ipkernel.py\", line 175, in do_execute\n    shell.run_cell(code, store_history=store_history, silent=silent)\n  File \"/Users/james/anaconda/lib/python2.7/site-packages/IPython/core/interactiveshell.py\", line 2902, in run_cell\n    interactivity=interactivity, compiler=compiler, result=result)\n  File \"/Users/james/anaconda/lib/python2.7/site-packages/IPython/core/interactiveshell.py\", line 3012, in run_ast_nodes\n    if self.run_code(code, result):\n  File \"/Users/james/anaconda/lib/python2.7/site-packages/IPython/core/interactiveshell.py\", line 3066, in run_code\n    exec(code_obj, self.user_global_ns, self.user_ns)\n  File \"<ipython-input-25-7b2c4b24c659>\", line 2, in <module>\n    m._compile()\n  File \"/Users/james/work/GPflow/GPflow/model.py\", line 85, in _compile\n    f = self.build_likelihood() + self.build_prior()\n  File \"<ipython-input-2-edb52f34200d>\", line 18, in build_likelihood\n    Phi = self.Phi.make_matrix()\n  File \"<ipython-input-22-71d5f026be04>\", line 13, in make_matrix\n    return self.make_matrix_dumb()\n  File \"<ipython-input-22-71d5f026be04>\", line 46, in make_matrix_dumb\n    probs = flat_softmax(self.log_phis[count:count+n])\n  File \"<ipython-input-22-71d5f026be04>\", line 2, in flat_softmax\n    return tf.reshape(tf.nn.softmax(tf.reshape(x, (1,-1))), (-1))\n  File \"/Users/james/anaconda/lib/python2.7/site-packages/tensorflow/python/ops/gen_array_ops.py\", line 560, in reshape\n    name=name)\n  File \"/Users/james/anaconda/lib/python2.7/site-packages/tensorflow/python/ops/op_def_library.py\", line 659, in apply_op\n    op_def=op_def)\n  File \"/Users/james/anaconda/lib/python2.7/site-packages/tensorflow/python/framework/ops.py\", line 1882, in create_op\n    original_op=self._default_original_op, op_def=op_def)\n  File \"/Users/james/anaconda/lib/python2.7/site-packages/tensorflow/python/framework/ops.py\", line 1081, in __init__\n    self._traceback = _extract_stack()\n",
     "output_type": "error",
     "traceback": [
      "\u001b[0;31m---------------------------------------------------------------------------\u001b[0m",
      "\u001b[0;31mInvalidArgumentError\u001b[0m                      Traceback (most recent call last)",
      "\u001b[0;32m<ipython-input-26-f080411f2672>\u001b[0m in \u001b[0;36m<module>\u001b[0;34m()\u001b[0m\n\u001b[0;32m----> 1\u001b[0;31m \u001b[0mm\u001b[0m\u001b[0;34m.\u001b[0m\u001b[0m_objective\u001b[0m\u001b[0;34m(\u001b[0m\u001b[0mm\u001b[0m\u001b[0;34m.\u001b[0m\u001b[0mget_free_state\u001b[0m\u001b[0;34m(\u001b[0m\u001b[0;34m)\u001b[0m\u001b[0;34m)\u001b[0m\u001b[0;34m\u001b[0m\u001b[0m\n\u001b[0m",
      "\u001b[0;32m/Users/james/work/GPflow/GPflow/model.pyc\u001b[0m in \u001b[0;36mobj\u001b[0;34m(x)\u001b[0m\n\u001b[1;32m     96\u001b[0m         \u001b[0msys\u001b[0m\u001b[0;34m.\u001b[0m\u001b[0mstdout\u001b[0m\u001b[0;34m.\u001b[0m\u001b[0mflush\u001b[0m\u001b[0;34m(\u001b[0m\u001b[0;34m)\u001b[0m\u001b[0;34m\u001b[0m\u001b[0m\n\u001b[1;32m     97\u001b[0m         \u001b[0;32mdef\u001b[0m \u001b[0mobj\u001b[0m\u001b[0;34m(\u001b[0m\u001b[0mx\u001b[0m\u001b[0;34m)\u001b[0m\u001b[0;34m:\u001b[0m\u001b[0;34m\u001b[0m\u001b[0m\n\u001b[0;32m---> 98\u001b[0;31m             \u001b[0;32mreturn\u001b[0m \u001b[0mself\u001b[0m\u001b[0;34m.\u001b[0m\u001b[0m_session\u001b[0m\u001b[0;34m.\u001b[0m\u001b[0mrun\u001b[0m\u001b[0;34m(\u001b[0m\u001b[0;34m[\u001b[0m\u001b[0mminusF\u001b[0m\u001b[0;34m,\u001b[0m\u001b[0mminusG\u001b[0m\u001b[0;34m]\u001b[0m\u001b[0;34m,\u001b[0m \u001b[0mfeed_dict\u001b[0m\u001b[0;34m=\u001b[0m\u001b[0;34m{\u001b[0m\u001b[0mself\u001b[0m\u001b[0;34m.\u001b[0m\u001b[0m_free_vars\u001b[0m\u001b[0;34m:\u001b[0m \u001b[0mx\u001b[0m\u001b[0;34m}\u001b[0m\u001b[0;34m)\u001b[0m\u001b[0;34m\u001b[0m\u001b[0m\n\u001b[0m\u001b[1;32m     99\u001b[0m         \u001b[0mself\u001b[0m\u001b[0;34m.\u001b[0m\u001b[0m_objective\u001b[0m \u001b[0;34m=\u001b[0m \u001b[0mobj\u001b[0m\u001b[0;34m\u001b[0m\u001b[0m\n\u001b[1;32m    100\u001b[0m         \u001b[0;32mprint\u001b[0m\u001b[0;34m(\u001b[0m\u001b[0;34m\"done\"\u001b[0m\u001b[0;34m)\u001b[0m\u001b[0;34m\u001b[0m\u001b[0m\n",
      "\u001b[0;32m/Users/james/anaconda/lib/python2.7/site-packages/tensorflow/python/client/session.pyc\u001b[0m in \u001b[0;36mrun\u001b[0;34m(self, fetches, feed_dict)\u001b[0m\n\u001b[1;32m    383\u001b[0m \u001b[0;34m\u001b[0m\u001b[0m\n\u001b[1;32m    384\u001b[0m     \u001b[0;31m# Run request and get response.\u001b[0m\u001b[0;34m\u001b[0m\u001b[0;34m\u001b[0m\u001b[0m\n\u001b[0;32m--> 385\u001b[0;31m     \u001b[0mresults\u001b[0m \u001b[0;34m=\u001b[0m \u001b[0mself\u001b[0m\u001b[0;34m.\u001b[0m\u001b[0m_do_run\u001b[0m\u001b[0;34m(\u001b[0m\u001b[0mtarget_list\u001b[0m\u001b[0;34m,\u001b[0m \u001b[0munique_fetch_targets\u001b[0m\u001b[0;34m,\u001b[0m \u001b[0mfeed_dict_string\u001b[0m\u001b[0;34m)\u001b[0m\u001b[0;34m\u001b[0m\u001b[0m\n\u001b[0m\u001b[1;32m    386\u001b[0m \u001b[0;34m\u001b[0m\u001b[0m\n\u001b[1;32m    387\u001b[0m     \u001b[0;31m# User may have fetched the same tensor multiple times, but we\u001b[0m\u001b[0;34m\u001b[0m\u001b[0;34m\u001b[0m\u001b[0m\n",
      "\u001b[0;32m/Users/james/anaconda/lib/python2.7/site-packages/tensorflow/python/client/session.pyc\u001b[0m in \u001b[0;36m_do_run\u001b[0;34m(self, target_list, fetch_list, feed_dict)\u001b[0m\n\u001b[1;32m    459\u001b[0m         \u001b[0;31m# pylint: disable=protected-access\u001b[0m\u001b[0;34m\u001b[0m\u001b[0;34m\u001b[0m\u001b[0m\n\u001b[1;32m    460\u001b[0m         raise errors._make_specific_exception(node_def, op, error_message,\n\u001b[0;32m--> 461\u001b[0;31m                                               e.code)\n\u001b[0m\u001b[1;32m    462\u001b[0m         \u001b[0;31m# pylint: enable=protected-access\u001b[0m\u001b[0;34m\u001b[0m\u001b[0;34m\u001b[0m\u001b[0m\n\u001b[1;32m    463\u001b[0m       \u001b[0msix\u001b[0m\u001b[0;34m.\u001b[0m\u001b[0mreraise\u001b[0m\u001b[0;34m(\u001b[0m\u001b[0me_type\u001b[0m\u001b[0;34m,\u001b[0m \u001b[0me_value\u001b[0m\u001b[0;34m,\u001b[0m \u001b[0me_traceback\u001b[0m\u001b[0;34m)\u001b[0m\u001b[0;34m\u001b[0m\u001b[0m\n",
      "\u001b[0;31mInvalidArgumentError\u001b[0m: sizes input must be 1-D, not shape []\n\t [[Node: Reshape_43 = Reshape[T=DT_DOUBLE, _device=\"/job:localhost/replica:0/task:0/cpu:0\"](Softmax_8, Reshape_43/shape)]]\nCaused by op u'Reshape_43', defined at:\n  File \"/Users/james/anaconda/lib/python2.7/runpy.py\", line 162, in _run_module_as_main\n    \"__main__\", fname, loader, pkg_name)\n  File \"/Users/james/anaconda/lib/python2.7/runpy.py\", line 72, in _run_code\n    exec code in run_globals\n  File \"/Users/james/anaconda/lib/python2.7/site-packages/ipykernel/__main__.py\", line 3, in <module>\n    app.launch_new_instance()\n  File \"/Users/james/anaconda/lib/python2.7/site-packages/traitlets/config/application.py\", line 592, in launch_instance\n    app.start()\n  File \"/Users/james/anaconda/lib/python2.7/site-packages/ipykernel/kernelapp.py\", line 403, in start\n    ioloop.IOLoop.instance().start()\n  File \"/Users/james/anaconda/lib/python2.7/site-packages/zmq/eventloop/ioloop.py\", line 162, in start\n    super(ZMQIOLoop, self).start()\n  File \"/Users/james/anaconda/lib/python2.7/site-packages/tornado/ioloop.py\", line 883, in start\n    handler_func(fd_obj, events)\n  File \"/Users/james/anaconda/lib/python2.7/site-packages/tornado/stack_context.py\", line 275, in null_wrapper\n    return fn(*args, **kwargs)\n  File \"/Users/james/anaconda/lib/python2.7/site-packages/zmq/eventloop/zmqstream.py\", line 440, in _handle_events\n    self._handle_recv()\n  File \"/Users/james/anaconda/lib/python2.7/site-packages/zmq/eventloop/zmqstream.py\", line 472, in _handle_recv\n    self._run_callback(callback, msg)\n  File \"/Users/james/anaconda/lib/python2.7/site-packages/zmq/eventloop/zmqstream.py\", line 414, in _run_callback\n    callback(*args, **kwargs)\n  File \"/Users/james/anaconda/lib/python2.7/site-packages/tornado/stack_context.py\", line 275, in null_wrapper\n    return fn(*args, **kwargs)\n  File \"/Users/james/anaconda/lib/python2.7/site-packages/ipykernel/kernelbase.py\", line 260, in dispatcher\n    return self.dispatch_shell(stream, msg)\n  File \"/Users/james/anaconda/lib/python2.7/site-packages/ipykernel/kernelbase.py\", line 212, in dispatch_shell\n    handler(stream, idents, msg)\n  File \"/Users/james/anaconda/lib/python2.7/site-packages/ipykernel/kernelbase.py\", line 370, in execute_request\n    user_expressions, allow_stdin)\n  File \"/Users/james/anaconda/lib/python2.7/site-packages/ipykernel/ipkernel.py\", line 175, in do_execute\n    shell.run_cell(code, store_history=store_history, silent=silent)\n  File \"/Users/james/anaconda/lib/python2.7/site-packages/IPython/core/interactiveshell.py\", line 2902, in run_cell\n    interactivity=interactivity, compiler=compiler, result=result)\n  File \"/Users/james/anaconda/lib/python2.7/site-packages/IPython/core/interactiveshell.py\", line 3012, in run_ast_nodes\n    if self.run_code(code, result):\n  File \"/Users/james/anaconda/lib/python2.7/site-packages/IPython/core/interactiveshell.py\", line 3066, in run_code\n    exec(code_obj, self.user_global_ns, self.user_ns)\n  File \"<ipython-input-25-7b2c4b24c659>\", line 2, in <module>\n    m._compile()\n  File \"/Users/james/work/GPflow/GPflow/model.py\", line 85, in _compile\n    f = self.build_likelihood() + self.build_prior()\n  File \"<ipython-input-2-edb52f34200d>\", line 18, in build_likelihood\n    Phi = self.Phi.make_matrix()\n  File \"<ipython-input-22-71d5f026be04>\", line 13, in make_matrix\n    return self.make_matrix_dumb()\n  File \"<ipython-input-22-71d5f026be04>\", line 46, in make_matrix_dumb\n    probs = flat_softmax(self.log_phis[count:count+n])\n  File \"<ipython-input-22-71d5f026be04>\", line 2, in flat_softmax\n    return tf.reshape(tf.nn.softmax(tf.reshape(x, (1,-1))), (-1))\n  File \"/Users/james/anaconda/lib/python2.7/site-packages/tensorflow/python/ops/gen_array_ops.py\", line 560, in reshape\n    name=name)\n  File \"/Users/james/anaconda/lib/python2.7/site-packages/tensorflow/python/ops/op_def_library.py\", line 659, in apply_op\n    op_def=op_def)\n  File \"/Users/james/anaconda/lib/python2.7/site-packages/tensorflow/python/framework/ops.py\", line 1882, in create_op\n    original_op=self._default_original_op, op_def=op_def)\n  File \"/Users/james/anaconda/lib/python2.7/site-packages/tensorflow/python/framework/ops.py\", line 1081, in __init__\n    self._traceback = _extract_stack()\n"
     ]
    }
   ],
   "source": [
    "m._objective(m.get_free_state())"
   ]
  },
  {
   "cell_type": "code",
   "execution_count": 27,
   "metadata": {
    "collapsed": false
   },
   "outputs": [],
   "source": [
    "m.make_tf_array(m._free_vars)\n",
    "with m.tf_mode():\n",
    "    P = m.Phi.make_matrix()"
   ]
  },
  {
   "cell_type": "code",
   "execution_count": 30,
   "metadata": {
    "collapsed": false
   },
   "outputs": [
    {
     "ename": "InvalidArgumentError",
     "evalue": "sizes input must be 1-D, not shape []\n\t [[Node: Reshape_52 = Reshape[T=DT_DOUBLE, _device=\"/job:localhost/replica:0/task:0/cpu:0\"](Softmax_10, Reshape_52/shape)]]\nCaused by op u'Reshape_52', defined at:\n  File \"/Users/james/anaconda/lib/python2.7/runpy.py\", line 162, in _run_module_as_main\n    \"__main__\", fname, loader, pkg_name)\n  File \"/Users/james/anaconda/lib/python2.7/runpy.py\", line 72, in _run_code\n    exec code in run_globals\n  File \"/Users/james/anaconda/lib/python2.7/site-packages/ipykernel/__main__.py\", line 3, in <module>\n    app.launch_new_instance()\n  File \"/Users/james/anaconda/lib/python2.7/site-packages/traitlets/config/application.py\", line 592, in launch_instance\n    app.start()\n  File \"/Users/james/anaconda/lib/python2.7/site-packages/ipykernel/kernelapp.py\", line 403, in start\n    ioloop.IOLoop.instance().start()\n  File \"/Users/james/anaconda/lib/python2.7/site-packages/zmq/eventloop/ioloop.py\", line 162, in start\n    super(ZMQIOLoop, self).start()\n  File \"/Users/james/anaconda/lib/python2.7/site-packages/tornado/ioloop.py\", line 883, in start\n    handler_func(fd_obj, events)\n  File \"/Users/james/anaconda/lib/python2.7/site-packages/tornado/stack_context.py\", line 275, in null_wrapper\n    return fn(*args, **kwargs)\n  File \"/Users/james/anaconda/lib/python2.7/site-packages/zmq/eventloop/zmqstream.py\", line 440, in _handle_events\n    self._handle_recv()\n  File \"/Users/james/anaconda/lib/python2.7/site-packages/zmq/eventloop/zmqstream.py\", line 472, in _handle_recv\n    self._run_callback(callback, msg)\n  File \"/Users/james/anaconda/lib/python2.7/site-packages/zmq/eventloop/zmqstream.py\", line 414, in _run_callback\n    callback(*args, **kwargs)\n  File \"/Users/james/anaconda/lib/python2.7/site-packages/tornado/stack_context.py\", line 275, in null_wrapper\n    return fn(*args, **kwargs)\n  File \"/Users/james/anaconda/lib/python2.7/site-packages/ipykernel/kernelbase.py\", line 260, in dispatcher\n    return self.dispatch_shell(stream, msg)\n  File \"/Users/james/anaconda/lib/python2.7/site-packages/ipykernel/kernelbase.py\", line 212, in dispatch_shell\n    handler(stream, idents, msg)\n  File \"/Users/james/anaconda/lib/python2.7/site-packages/ipykernel/kernelbase.py\", line 370, in execute_request\n    user_expressions, allow_stdin)\n  File \"/Users/james/anaconda/lib/python2.7/site-packages/ipykernel/ipkernel.py\", line 175, in do_execute\n    shell.run_cell(code, store_history=store_history, silent=silent)\n  File \"/Users/james/anaconda/lib/python2.7/site-packages/IPython/core/interactiveshell.py\", line 2902, in run_cell\n    interactivity=interactivity, compiler=compiler, result=result)\n  File \"/Users/james/anaconda/lib/python2.7/site-packages/IPython/core/interactiveshell.py\", line 3006, in run_ast_nodes\n    if self.run_code(code, result):\n  File \"/Users/james/anaconda/lib/python2.7/site-packages/IPython/core/interactiveshell.py\", line 3066, in run_code\n    exec(code_obj, self.user_global_ns, self.user_ns)\n  File \"<ipython-input-27-cd5b84d2387b>\", line 3, in <module>\n    P = m.Phi.make_matrix()\n  File \"<ipython-input-22-71d5f026be04>\", line 13, in make_matrix\n    return self.make_matrix_dumb()\n  File \"<ipython-input-22-71d5f026be04>\", line 46, in make_matrix_dumb\n    probs = flat_softmax(self.log_phis[count:count+n])\n  File \"<ipython-input-22-71d5f026be04>\", line 2, in flat_softmax\n    return tf.reshape(tf.nn.softmax(tf.reshape(x, (1,-1))), (-1))\n  File \"/Users/james/anaconda/lib/python2.7/site-packages/tensorflow/python/ops/gen_array_ops.py\", line 560, in reshape\n    name=name)\n  File \"/Users/james/anaconda/lib/python2.7/site-packages/tensorflow/python/ops/op_def_library.py\", line 659, in apply_op\n    op_def=op_def)\n  File \"/Users/james/anaconda/lib/python2.7/site-packages/tensorflow/python/framework/ops.py\", line 1882, in create_op\n    original_op=self._default_original_op, op_def=op_def)\n  File \"/Users/james/anaconda/lib/python2.7/site-packages/tensorflow/python/framework/ops.py\", line 1081, in __init__\n    self._traceback = _extract_stack()\n",
     "output_type": "error",
     "traceback": [
      "\u001b[0;31m---------------------------------------------------------------------------\u001b[0m",
      "\u001b[0;31mInvalidArgumentError\u001b[0m                      Traceback (most recent call last)",
      "\u001b[0;32m<ipython-input-30-42b3d788552c>\u001b[0m in \u001b[0;36m<module>\u001b[0;34m()\u001b[0m\n\u001b[0;32m----> 1\u001b[0;31m \u001b[0mm\u001b[0m\u001b[0;34m.\u001b[0m\u001b[0m_session\u001b[0m\u001b[0;34m.\u001b[0m\u001b[0mrun\u001b[0m\u001b[0;34m(\u001b[0m\u001b[0mP\u001b[0m\u001b[0;34m,\u001b[0m \u001b[0mfeed_dict\u001b[0m\u001b[0;34m=\u001b[0m\u001b[0;34m{\u001b[0m\u001b[0mm\u001b[0m\u001b[0;34m.\u001b[0m\u001b[0m_free_vars\u001b[0m\u001b[0;34m:\u001b[0m\u001b[0mm\u001b[0m\u001b[0;34m.\u001b[0m\u001b[0mget_free_state\u001b[0m\u001b[0;34m(\u001b[0m\u001b[0;34m)\u001b[0m\u001b[0;34m}\u001b[0m\u001b[0;34m)\u001b[0m\u001b[0;34m\u001b[0m\u001b[0m\n\u001b[0m",
      "\u001b[0;32m/Users/james/anaconda/lib/python2.7/site-packages/tensorflow/python/client/session.pyc\u001b[0m in \u001b[0;36mrun\u001b[0;34m(self, fetches, feed_dict)\u001b[0m\n\u001b[1;32m    383\u001b[0m \u001b[0;34m\u001b[0m\u001b[0m\n\u001b[1;32m    384\u001b[0m     \u001b[0;31m# Run request and get response.\u001b[0m\u001b[0;34m\u001b[0m\u001b[0;34m\u001b[0m\u001b[0m\n\u001b[0;32m--> 385\u001b[0;31m     \u001b[0mresults\u001b[0m \u001b[0;34m=\u001b[0m \u001b[0mself\u001b[0m\u001b[0;34m.\u001b[0m\u001b[0m_do_run\u001b[0m\u001b[0;34m(\u001b[0m\u001b[0mtarget_list\u001b[0m\u001b[0;34m,\u001b[0m \u001b[0munique_fetch_targets\u001b[0m\u001b[0;34m,\u001b[0m \u001b[0mfeed_dict_string\u001b[0m\u001b[0;34m)\u001b[0m\u001b[0;34m\u001b[0m\u001b[0m\n\u001b[0m\u001b[1;32m    386\u001b[0m \u001b[0;34m\u001b[0m\u001b[0m\n\u001b[1;32m    387\u001b[0m     \u001b[0;31m# User may have fetched the same tensor multiple times, but we\u001b[0m\u001b[0;34m\u001b[0m\u001b[0;34m\u001b[0m\u001b[0m\n",
      "\u001b[0;32m/Users/james/anaconda/lib/python2.7/site-packages/tensorflow/python/client/session.pyc\u001b[0m in \u001b[0;36m_do_run\u001b[0;34m(self, target_list, fetch_list, feed_dict)\u001b[0m\n\u001b[1;32m    459\u001b[0m         \u001b[0;31m# pylint: disable=protected-access\u001b[0m\u001b[0;34m\u001b[0m\u001b[0;34m\u001b[0m\u001b[0m\n\u001b[1;32m    460\u001b[0m         raise errors._make_specific_exception(node_def, op, error_message,\n\u001b[0;32m--> 461\u001b[0;31m                                               e.code)\n\u001b[0m\u001b[1;32m    462\u001b[0m         \u001b[0;31m# pylint: enable=protected-access\u001b[0m\u001b[0;34m\u001b[0m\u001b[0;34m\u001b[0m\u001b[0m\n\u001b[1;32m    463\u001b[0m       \u001b[0msix\u001b[0m\u001b[0;34m.\u001b[0m\u001b[0mreraise\u001b[0m\u001b[0;34m(\u001b[0m\u001b[0me_type\u001b[0m\u001b[0;34m,\u001b[0m \u001b[0me_value\u001b[0m\u001b[0;34m,\u001b[0m \u001b[0me_traceback\u001b[0m\u001b[0;34m)\u001b[0m\u001b[0;34m\u001b[0m\u001b[0m\n",
      "\u001b[0;31mInvalidArgumentError\u001b[0m: sizes input must be 1-D, not shape []\n\t [[Node: Reshape_52 = Reshape[T=DT_DOUBLE, _device=\"/job:localhost/replica:0/task:0/cpu:0\"](Softmax_10, Reshape_52/shape)]]\nCaused by op u'Reshape_52', defined at:\n  File \"/Users/james/anaconda/lib/python2.7/runpy.py\", line 162, in _run_module_as_main\n    \"__main__\", fname, loader, pkg_name)\n  File \"/Users/james/anaconda/lib/python2.7/runpy.py\", line 72, in _run_code\n    exec code in run_globals\n  File \"/Users/james/anaconda/lib/python2.7/site-packages/ipykernel/__main__.py\", line 3, in <module>\n    app.launch_new_instance()\n  File \"/Users/james/anaconda/lib/python2.7/site-packages/traitlets/config/application.py\", line 592, in launch_instance\n    app.start()\n  File \"/Users/james/anaconda/lib/python2.7/site-packages/ipykernel/kernelapp.py\", line 403, in start\n    ioloop.IOLoop.instance().start()\n  File \"/Users/james/anaconda/lib/python2.7/site-packages/zmq/eventloop/ioloop.py\", line 162, in start\n    super(ZMQIOLoop, self).start()\n  File \"/Users/james/anaconda/lib/python2.7/site-packages/tornado/ioloop.py\", line 883, in start\n    handler_func(fd_obj, events)\n  File \"/Users/james/anaconda/lib/python2.7/site-packages/tornado/stack_context.py\", line 275, in null_wrapper\n    return fn(*args, **kwargs)\n  File \"/Users/james/anaconda/lib/python2.7/site-packages/zmq/eventloop/zmqstream.py\", line 440, in _handle_events\n    self._handle_recv()\n  File \"/Users/james/anaconda/lib/python2.7/site-packages/zmq/eventloop/zmqstream.py\", line 472, in _handle_recv\n    self._run_callback(callback, msg)\n  File \"/Users/james/anaconda/lib/python2.7/site-packages/zmq/eventloop/zmqstream.py\", line 414, in _run_callback\n    callback(*args, **kwargs)\n  File \"/Users/james/anaconda/lib/python2.7/site-packages/tornado/stack_context.py\", line 275, in null_wrapper\n    return fn(*args, **kwargs)\n  File \"/Users/james/anaconda/lib/python2.7/site-packages/ipykernel/kernelbase.py\", line 260, in dispatcher\n    return self.dispatch_shell(stream, msg)\n  File \"/Users/james/anaconda/lib/python2.7/site-packages/ipykernel/kernelbase.py\", line 212, in dispatch_shell\n    handler(stream, idents, msg)\n  File \"/Users/james/anaconda/lib/python2.7/site-packages/ipykernel/kernelbase.py\", line 370, in execute_request\n    user_expressions, allow_stdin)\n  File \"/Users/james/anaconda/lib/python2.7/site-packages/ipykernel/ipkernel.py\", line 175, in do_execute\n    shell.run_cell(code, store_history=store_history, silent=silent)\n  File \"/Users/james/anaconda/lib/python2.7/site-packages/IPython/core/interactiveshell.py\", line 2902, in run_cell\n    interactivity=interactivity, compiler=compiler, result=result)\n  File \"/Users/james/anaconda/lib/python2.7/site-packages/IPython/core/interactiveshell.py\", line 3006, in run_ast_nodes\n    if self.run_code(code, result):\n  File \"/Users/james/anaconda/lib/python2.7/site-packages/IPython/core/interactiveshell.py\", line 3066, in run_code\n    exec(code_obj, self.user_global_ns, self.user_ns)\n  File \"<ipython-input-27-cd5b84d2387b>\", line 3, in <module>\n    P = m.Phi.make_matrix()\n  File \"<ipython-input-22-71d5f026be04>\", line 13, in make_matrix\n    return self.make_matrix_dumb()\n  File \"<ipython-input-22-71d5f026be04>\", line 46, in make_matrix_dumb\n    probs = flat_softmax(self.log_phis[count:count+n])\n  File \"<ipython-input-22-71d5f026be04>\", line 2, in flat_softmax\n    return tf.reshape(tf.nn.softmax(tf.reshape(x, (1,-1))), (-1))\n  File \"/Users/james/anaconda/lib/python2.7/site-packages/tensorflow/python/ops/gen_array_ops.py\", line 560, in reshape\n    name=name)\n  File \"/Users/james/anaconda/lib/python2.7/site-packages/tensorflow/python/ops/op_def_library.py\", line 659, in apply_op\n    op_def=op_def)\n  File \"/Users/james/anaconda/lib/python2.7/site-packages/tensorflow/python/framework/ops.py\", line 1882, in create_op\n    original_op=self._default_original_op, op_def=op_def)\n  File \"/Users/james/anaconda/lib/python2.7/site-packages/tensorflow/python/framework/ops.py\", line 1081, in __init__\n    self._traceback = _extract_stack()\n"
     ]
    }
   ],
   "source": [
    "m._session.run(P, feed_dict={m._free_vars:m.get_free_state()})"
   ]
  },
  {
   "cell_type": "code",
   "execution_count": null,
   "metadata": {
    "collapsed": true
   },
   "outputs": [],
   "source": []
  }
 ],
 "metadata": {
  "kernelspec": {
   "display_name": "Python 2",
   "language": "python",
   "name": "python2"
  },
  "language_info": {
   "codemirror_mode": {
    "name": "ipython",
    "version": 2
   },
   "file_extension": ".py",
   "mimetype": "text/x-python",
   "name": "python",
   "nbconvert_exporter": "python",
   "pygments_lexer": "ipython2",
   "version": "2.7.10"
  }
 },
 "nbformat": 4,
 "nbformat_minor": 0
}
