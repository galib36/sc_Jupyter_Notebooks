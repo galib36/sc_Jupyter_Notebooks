{
 "cells": [
  {
   "cell_type": "markdown",
   "metadata": {
    "collapsed": true,
    "slideshow": {
     "slide_type": "slide"
    }
   },
   "source": [
    "# RNA-seq workflow with CAGEscan short reads protocol <br><br>\n",
    "\n",
    "### Syed Murtuza Baker"
   ]
  },
  {
   "cell_type": "markdown",
   "metadata": {
    "slideshow": {
     "slide_type": "slide"
    }
   },
   "source": [
    "## What is CAGE\n",
    "- __Cap Analysis Gene Expression__\n",
    "- Produces a snapshot of the 5' end of mRNA\n",
    "- 5′ cap is a specially altered nucleotide on the 5′ end\n",
    "- Highly regulated and creates stable mRNA\n",
    "\n",
    "<center><img src=\"5_cap_structure.png\" height=\"350\" width=\"350\"></center>"
   ]
  },
  {
   "cell_type": "markdown",
   "metadata": {
    "slideshow": {
     "slide_type": "slide"
    }
   },
   "source": [
    "## Capturing Single Cells\n",
    "<br>\n",
    "<center><img src=\"mrna-workflow.jpeg\" height=\"800\" width=\"800\"></center>"
   ]
  },
  {
   "cell_type": "markdown",
   "metadata": {
    "slideshow": {
     "slide_type": "slide"
    }
   },
   "source": [
    "## Overview of CAGE protocol\n",
    "<br>\n",
    "<center><img src=\"CAGE-Protocol.png\"></center> <br>"
   ]
  },
  {
   "cell_type": "markdown",
   "metadata": {
    "slideshow": {
     "slide_type": "slide"
    }
   },
   "source": [
    "<center><img src=\"Polymerase_chain_reaction.svg.png\"></center>"
   ]
  },
  {
   "cell_type": "markdown",
   "metadata": {
    "slideshow": {
     "slide_type": "slide"
    }
   },
   "source": [
    "## PCR duplication artifacts\n",
    "Some sequences become overrepresented in the final library compared to their true abundance in the fragmented DNA."
   ]
  },
  {
   "cell_type": "markdown",
   "metadata": {
    "slideshow": {
     "slide_type": "slide"
    }
   },
   "source": [
    "## Unique Molecular Identifier (UMI)\n",
    "- Random sequences of bases used to tag each molecule (fragment)\n",
    "- Two reads with the same UMI and aligning to the same location:\n",
    "    - PCR duplicates originating from the same fragment prior to amplification\n",
    "    - Collapse the reads with the same genomic coordinates and UMI into a single representative read"
   ]
  },
  {
   "cell_type": "markdown",
   "metadata": {
    "slideshow": {
     "slide_type": "slide"
    }
   },
   "source": [
    "<center><img src=\"UMIs.jpg\" height=\"350\" width=\"350\">\n",
    "This figure is adapted from <a href=\"http://www.nature.com/nmeth/journal/v11/n2/full/nmeth.2772.html#ref8\">Islam et al (2014)</a>\n",
    "</center>\n"
   ]
  },
  {
   "cell_type": "markdown",
   "metadata": {
    "slideshow": {
     "slide_type": "slide"
    }
   },
   "source": [
    "## Differences between UMI & Markduplicates\n",
    "Markduplicate matches all read pairs that have identical 5' coordinates and orientations\n",
    "\n",
    "__Problems:__\n",
    "\n",
    "- Two reads with the same genomic coordinates from two independent fragments\n",
    "\n",
    "    <font color=\"green\">TATCTCATTATAGGGGGGAGCG</font><br><font color=\"red\">TATCTCATTATAGGGGGGAGCG</font>\n",
    "- Single-nucleotide polymorphism<br>\n",
    "    AACAA<font color=\"red\">A</font>TTTAAACAGCTAAA<br>\n",
    "    AACAA<font color=\"green\">G</font>TTTAAACAGCTAAA\n",
    "- Highly abundant cDNA sequences are likely to have multiple fragments\n",
    "- This problem is most acute in single cell RNA-seq"
   ]
  },
  {
   "cell_type": "markdown",
   "metadata": {
    "slideshow": {
     "slide_type": "slide"
    }
   },
   "source": [
    "## ERCC Spike-ins\n",
    "- External RNA Controls Consortium (ERCC) are a common set of external RNA controls\n",
    "- Total 83 synthetic genes\n",
    "<center><img src=\"spikein.png\"></center>\n"
   ]
  },
  {
   "cell_type": "markdown",
   "metadata": {
    "slideshow": {
     "slide_type": "slide"
    }
   },
   "source": [
    "For each gene, _i_, calculate the geometric mean\n",
    "\n",
    "<center>$k^M_i = \\left ( \\prod\\limits_{j=1}^{m}k_{ij} \\right )^{ \\frac{1}{m}}$</center>\n",
    "over the counts $k_{ij}$ across all the samples $j=1,\\dots,m$ and then use, for each sample the median of the ratio of the sample's counts to these means as a __size factor__: $s_j = median \\left ( \\frac{k_{ij}}{k^M_i} \\right )$\n",
    "\n",
    "- Calculate size factors for \"Technical genes\" and \"Biological genes\"\n",
    "- \"Technical genes\" size factor can express cell capture efficiency\n"
   ]
  },
  {
   "cell_type": "markdown",
   "metadata": {
    "slideshow": {
     "slide_type": "slide"
    }
   },
   "source": [
    "## Overview of Data analysis workflow"
   ]
  },
  {
   "cell_type": "markdown",
   "metadata": {
    "slideshow": {
     "slide_type": "slide"
    }
   },
   "source": [
    "<center><img src=\"Workflow_v2.png\">"
   ]
  },
  {
   "cell_type": "markdown",
   "metadata": {
    "slideshow": {
     "slide_type": "slide"
    }
   },
   "source": [
    "### Tagdust2\n",
    "TagDust allows users to specify the expected architecture of a read and converts it into a hidden Markov model.\n",
    "<center><img src=\"Tagdust_HMM.jpg\" height=\"450\" width=\"450\"></center>"
   ]
  },
  {
   "cell_type": "markdown",
   "metadata": {
    "slideshow": {
     "slide_type": "slide"
    }
   },
   "source": [
    "### Step 1: Extract UMIs\n",
    "Tag extraction is done with [TagDust2](http://sourceforge.net/projects/tagdust/files/tagdust-2.13.tar.gz/download). \n",
    "During this step, the unique molecular identifiers (UMI) are transferred from the sequence to\n",
    "the read name, and the spacers are removed\n",
    "\n",
    "    tagdust -t8 -o ../output/tagdust_r1/C01_S17_R1_001 -1 F:NNNNNNNN -2 S:TATAGGG -3 R:N ../C01_S17_R1_001.fastq.gz\n",
    "\n",
    "- F: Fingerprint sequence, S: Seperated by, R: Mappable Read\n",
    "\n",
    "    <font size=4.5>@NB500968:8:H5CFGAFXX:1:11101:4182:1067 1:N:0:AGGCAGAA+ATAGAGAG<br>\n",
    "    <font color=\"red\">GGGACCGC</font><font color=\"blue\">TATAGGG</font>AATTTAAGACATCATAAAAACAGACAGTTGATGATAACCTGTTGCAGACTTTTTGAGAAG\n",
    "    <br>__converts to__<br>\n",
    "    @NB500968:8:H5CFGAFXX:1:11101:4182:1067 1:N:0:AGGCAGAA+ATAGAGAG;<font color=\"green\">FP:43097</font>;RQ:34.67<br>\n",
    "    AATTTAAGACATCATAAAAACAGACAGTTGATGATAACCTGTTGCAGACTTTTTGAGAAG</font>"
   ]
  },
  {
   "cell_type": "markdown",
   "metadata": {
    "slideshow": {
     "slide_type": "slide"
    }
   },
   "source": [
    "### Step 2: Syncing pairs\n",
    "The reads are then syncronized with `syncpairs` to restore the pairing with the reads.\n",
    "\n",
    "```bash   \n",
    "syncpairs ../output/tagdust_r1/C01_S17_R1_001.fq ../output/unzip_r2/C01_S17_R1_001.fq ../output/extracted_r1/C01_S17_R1_001.fq ../output/extracted_r2/C01_S17_R1_001.fq\n",
    "```"
   ]
  },
  {
   "cell_type": "markdown",
   "metadata": {
    "slideshow": {
     "slide_type": "slide"
    }
   },
   "source": [
    "### Step 3: Filtering ribosomal genes and Geting RNA spike-ins\n",
    "The reads are then filtered against the sequences of ribosomal genes and synthetic RNA spikes using TagDust2 v2.13 in paired-end mode.\n",
    "\n",
    "```sh\n",
    "tagdust -arch SimpleArchitecture.txt -dust 20 -ref ../ercc_and_TPA_mouse_rRNA.fa -o ../output/cleaned_reads/C01_S17_R1_001 ../output/extracted_r1/C01_S17_R1_001.fq ../output/extracted_r2/C01_S17_R1_001.fq\n",
    "```"
   ]
  },
  {
   "cell_type": "markdown",
   "metadata": {
    "slideshow": {
     "slide_type": "slide"
    }
   },
   "source": [
    "### Step 4: Align paired-end reads\n",
    "For each sample separately, the reads are aligned paired-end on the selected genome with `BWA mem` using standard parameters\n",
    "\n",
    "```bash\n",
    "bwa mem -M ../bwa/bwa_mm10_random_chrM_chrUn ../output/cleaned_r1/C01_S17_R1_001.fq ../output/cleaned_r2/C01_S17_R1_001.fq > ../output/sampe/C01_S17_R1_001.sam\n",
    "```"
   ]
  },
  {
   "cell_type": "markdown",
   "metadata": {
    "slideshow": {
     "slide_type": "slide"
    }
   },
   "source": [
    "### Step 5: Remove non-properly paired reads\n",
    "Using samtools, the \"genome mapped\" reads are filtered by removing non-properly paired reads [4] and non-primary alignments, and then sorted by name. The result is the \"properly paired\" reads:\n",
    "\n",
    "    samtools view -f 0x0002 -F 0x0100 -uo - ../output/genome_mapped/C01_S17_R1_001.bam | samtools sort -n - ../output/properly_paired/C01_S17_R1_001\n",
    "    \n",
    "The \"properly paired\" reads are then converted to BED12 format with the program pairedBamToBed12. These are the \"CAGEscan pairs\":\n",
    "\n",
    "    pairedBamToBed12 -i ../output/properly_paired/C01_S17_R1_001.bam > ../output/cagescan_pairs/C01_S17_R1_001.bed"
   ]
  },
  {
   "cell_type": "markdown",
   "metadata": {
    "slideshow": {
     "slide_type": "slide"
    }
   },
   "source": [
    "### Step 6: Keep unique UMIs\n",
    "The pairs sharing the same TSS and UMI are then aggregated into \"CAGEscan fragments\", with the \"umicountFP\" script of umicount. The CAGEscan fragments represent single transcript molecules:\n",
    "\n",
    "    umicountFP -f ../output/cagescan_pairs/C01_S17_R1_001.bed > ../output/cagescan_fragments/C01_S17_R1_001.bed"
   ]
  },
  {
   "cell_type": "markdown",
   "metadata": {
    "slideshow": {
     "slide_type": "slide"
    }
   },
   "source": [
    "### Step 7: Gene Count\n",
    "Convert the bed files to bam files and use `featurecount` to count the genes\n",
    "\n",
    "```bash\n",
    "bedToBam -i ../output/cagescan_fragments/C01_S17_R1_001.bed -g ../chrom.sizes > ../output/bedToBam_output/C01_S17_R1_001.bam\n",
    "```\n",
    "```bash\n",
    "featureCounts -p -t exon -g gene_id -a /home/baker/my-mm10-index-share/annotation/Gencode-M5/gencode.vM5.annotation.gtf -o <ALL_BAM_FILES>\n",
    "```"
   ]
  },
  {
   "cell_type": "markdown",
   "metadata": {
    "slideshow": {
     "slide_type": "slide"
    }
   },
   "source": [
    "## Problem analysis\n",
    "- Patched htseq-count and ran it on bam files generated on step 4\n",
    "- Found that the gene-count with strandness and without strandness varying quite lot\n",
    "- `PairedBamToBed12` reconstruct the transcripts where he start and end positions are the 5′ end of Read 1 and the 3′ end of Read 2\n",
    "\n",
    "<center><img src=\"Read_Alignment.png\" height=\"650\" width=\"650\"></center>"
   ]
  },
  {
   "cell_type": "markdown",
   "metadata": {
    "slideshow": {
     "slide_type": "slide"
    }
   },
   "source": [
    "### For Trim25 read counts for both stranded and non-stranded were very similar (287 vs 280)"
   ]
  },
  {
   "cell_type": "markdown",
   "metadata": {
    "slideshow": {
     "slide_type": "slide"
    }
   },
   "source": [
    "<center><img src=\"igv_snapshot_StrandnessOK.png\"></center>"
   ]
  },
  {
   "cell_type": "markdown",
   "metadata": {
    "slideshow": {
     "slide_type": "slide"
    }
   },
   "source": [
    "NB500968:8:H5CFGAFXX:1:11101:21599:9347___1:N:0:CAGAGAGG+ATAGAGAG;FP:39004;RQ:34.69;RQ:-1.00\t<font color=\"green\">99</font> chr11\n",
    "\n",
    "NB500968:8:H5CFGAFXX:1:11101:21599:9347___1:N:0:CAGAGAGG+ATAGAGAG;FP:39004;RQ:34.69;RQ:-1.00\t<font color=\"green\">147</font>\tchr11"
   ]
  },
  {
   "cell_type": "markdown",
   "metadata": {
    "slideshow": {
     "slide_type": "slide"
    }
   },
   "source": [
    "For the FLAG of 99 we transform this into a binary string: 01100011. So accordingly to the flag table:\n",
    "\n",
    "| Bits | Explanation                                                                |\n",
    "|------|----------------------------------------------------------------------------|\n",
    "| 1    | the read is paired in sequencing, no matter whether it is mapped in a pair |\n",
    "| 1    | the read is mapped in a proper pair                                        |\n",
    "| 0    | not unmapped                                                               |\n",
    "| 0    | mate is not unmapped                                                       |\n",
    "| <font color=\"green\">0</font>    | <font color=\"green\">forward strand</font>                                                             |\n",
    "| 1    | mate strand is negative                                                    |\n",
    "| <font color=\"green\">1</font>    | <font color=\"green\">the read is the first read in a pair</font>                                       |\n",
    "| 0    | the read is not the second read in a pair                                  |"
   ]
  },
  {
   "cell_type": "markdown",
   "metadata": {
    "slideshow": {
     "slide_type": "slide"
    }
   },
   "source": [
    "### For Stat5a the Not-stranded count was 273 whereas for Stranded it was 3"
   ]
  },
  {
   "cell_type": "markdown",
   "metadata": {
    "slideshow": {
     "slide_type": "slide"
    }
   },
   "source": [
    "### FP:42678\n",
    "<center><img src=\"stat5a_snapshot_v2.png\"></center>"
   ]
  },
  {
   "cell_type": "markdown",
   "metadata": {
    "slideshow": {
     "slide_type": "slide"
    }
   },
   "source": [
    "NB500968:8:H5CFGAFXX:4:21407:11238:19211___1:N:0:CAGAGAGG+ATAGAGAG;FP:42678;RQ:34.57;RQ:-1.00\t<font color=\"red\">163</font>\tchr11\n",
    "\n",
    "NB500968:8:H5CFGAFXX:4:21407:11238:19211___1:N:0:CAGAGAGG+ATAGAGAG;FP:42678;RQ:34.57;RQ:-1.00\t<font color=\"red\">83</font>\tchr11"
   ]
  },
  {
   "cell_type": "markdown",
   "metadata": {
    "slideshow": {
     "slide_type": "slide"
    }
   },
   "source": [
    "For the FLAG of 83 we transform this into a binary string: 01010011. So accordingly to the flag table:\n",
    "\n",
    "| Bits | Explanation                                                                |\n",
    "|------|----------------------------------------------------------------------------|\n",
    "| 1    | the read is paired in sequencing, no matter whether it is mapped in a pair |\n",
    "| 1    | the read is mapped in a proper pair                                        |\n",
    "| 0    | not unmapped                                                               |\n",
    "| 0    | mate is not unmapped                                                       |\n",
    "| <font color=\"green\">1</font>    | <font color=\"green\">negative strand</font>                                                             |\n",
    "| 0    | mate strand is positive                                                    |\n",
    "| <font color=\"green\">1</font>    | <font color=\"green\">the read is the first read in a pair</font>                                       |\n",
    "| 0    | the read is not the second read in a pair                                  |"
   ]
  },
  {
   "cell_type": "markdown",
   "metadata": {
    "slideshow": {
     "slide_type": "slide"
    }
   },
   "source": [
    "### Bottlenecks\n",
    "- Molecular mechanism is not yet clear\n",
    "- The starting concentration of ERCC-spike ins are confusing\n",
    "- What to be done with Strandness\n",
    "- How to deal with optical error"
   ]
  },
  {
   "cell_type": "markdown",
   "metadata": {
    "slideshow": {
     "slide_type": "slide"
    }
   },
   "source": [
    "### Pathway and gene set overdispersion analysis (PAGODA)"
   ]
  },
  {
   "cell_type": "markdown",
   "metadata": {
    "slideshow": {
     "slide_type": "slide"
    }
   },
   "source": [
    "<center><img src=\"Heterogeneity_pathway.jpg\" width=\"900\" length=\"1500\"><br> Adapted from the paper of Jean Fan et. al.</center>"
   ]
  },
  {
   "cell_type": "code",
   "execution_count": 257,
   "metadata": {
    "collapsed": false,
    "slideshow": {
     "slide_type": "slide"
    }
   },
   "outputs": [
    {
     "data": {
      "image/png": "[encoded data removed]"
     },
     "metadata": {},
     "output_type": "display_data"
    }
   ],
   "source": [
    "%%R -w 800 -h 400\n",
    "tamr2 <- pagoda.reduce.redundancy(tamr, distance.threshold = 0.9, plot = TRUE, cell.clustering = hc, labRow = NA, labCol = NA, box = TRUE, margins = c(0.5, 0.5), trim = 0, col.cols = rbind(groups = cutree(hc, 4)))"
   ]
  },
  {
   "cell_type": "code",
   "execution_count": 343,
   "metadata": {
    "collapsed": false,
    "slideshow": {
     "slide_type": "slide"
    }
   },
   "outputs": [
    {
     "data": {
      "image/png": "[encoded data removed]"
     },
     "metadata": {},
     "output_type": "display_data"
    }
   ],
   "source": [
    "%%R -w 900 -h 400\n",
    "test<- pagoda.show.pathways(c(\"GO:0071346 cellular response to interferon-gamma\",\"GO:0070098 chemokine-mediated signaling pathway\"), varinfo, go.env, cell.clustering = hc, margins = c(1,10), show.cell.dendrogram = TRUE, showRowLabels = TRUE, showPC = TRUE)"
   ]
  },
  {
   "cell_type": "markdown",
   "metadata": {
    "slideshow": {
     "slide_type": "slide"
    }
   },
   "source": [
    "### Prospective works\n",
    "- Can be used to identify cell cycles\n",
    "- Can be used to identify branching points"
   ]
  },
  {
   "cell_type": "code",
   "execution_count": 146,
   "metadata": {
    "collapsed": false,
    "slideshow": {
     "slide_type": "slide"
    }
   },
   "outputs": [
    {
     "data": {
      "text/plain": [
       "Server started on 127.0.0.1:1468\n",
       "[1] RookTest      http://127.0.0.1:1468/custom/RookTest\n",
       "[2] pollen        http://127.0.0.1:1468/custom/pollen\n",
       "[3] James_Cluster http://127.0.0.1:1468/custom/James_Cluster\n",
       "\n",
       "Call browse() with an index number or name to run an application.\n"
      ]
     },
     "metadata": {},
     "output_type": "display_data"
    }
   ],
   "source": [
    "%%R\n",
    "# compile a browsable app, showing top three clusters with the top color bar\n",
    "app <- make.pagoda.app(tamr2, tam, varinfo, go.env, pwpca, clpca, col.cols = col.cols, cell.clustering = hc, title = \"NPCs\")\n",
    "# show app in the browser (port 1468)\n",
    "show.app(app, \"James_Cluster\", browse = TRUE, port = 1468) "
   ]
  },
  {
   "cell_type": "markdown",
   "metadata": {
    "collapsed": true,
    "slideshow": {
     "slide_type": "slide"
    }
   },
   "source": [
    "## Thank you "
   ]
  },
  {
   "cell_type": "markdown",
   "metadata": {
    "slideshow": {
     "slide_type": "slide"
    }
   },
   "source": [
    "## Noise calculation\n",
    "- Calculate two size factor (i) for 'technical genes' and (ii) 'biological genes'\n",
    "- For each technical gene $i$, estimate the sample mean $\\hat{\\mu}$ and sample variance of its normalized counts $\\hat{W_i}$\n",
    "- Similarly we calculate the sample moments for biological gene $i$ as $\\hat{\\mu}^B$ and $\\hat{W_i}^B$\n",
    "- Simplifying, the expected value of $\\hat{W_i}^B$ should be the sum of the technical and biological components of variance\n",
    "- Fit a GLM model with parameterization $w = \\frac{\\tilde{a_1}}{\\mu} + \\alpha_0$\n",
    "- Similarly we calculate the sample moments for biological gene $i$ as $\\hat{\\mu}^B$ and $\\hat{W_i}^B$\n",
    "- Technical variance is the value predicted by technical noise fit, $\\tilde{a_1}\\hat{\\mu}^B + \\alpha_0 (\\hat{\\mu}^B)^2$\n",
    "- For Total variance add $\\alpha_i^B (\\hat{\\mu}^B)^2$ where $\\alpha_i^B$ is the squared true coefficient of biological variation\n"
   ]
  },
  {
   "cell_type": "markdown",
   "metadata": {
    "slideshow": {
     "slide_type": "slide"
    }
   },
   "source": [
    "<center><img src=\"nmeth.2645-F3.jpg\" height=\"450\" width=\"450\">\n",
    "\n",
    "<p style=\"font-size:20px\"> Blue dots correspond to ERCC data points, brown dots to mouse genes, and magenta dots to significantly highly variable mouse genes (at a 10% false discovery rate). The solid red line represents the technical noise fit, and the dashed magenta line marks the expected position of genes with 50% biological CV.</p> "
   ]
  },
  {
   "cell_type": "code",
   "execution_count": 9,
   "metadata": {
    "collapsed": false
   },
   "outputs": [
    {
     "ename": "ImportError",
     "evalue": "No module named rpy2.interactive",
     "output_type": "error",
     "traceback": [
      "\u001b[0;31m---------------------------------------------------------------------------\u001b[0m",
      "\u001b[0;31mImportError\u001b[0m                               Traceback (most recent call last)",
      "\u001b[0;32m<ipython-input-9-45f33902c8ce>\u001b[0m in \u001b[0;36m<module>\u001b[0;34m()\u001b[0m\n\u001b[1;32m      5\u001b[0m \u001b[0;31m#%matplotlib inline\u001b[0m\u001b[0;34m\u001b[0m\u001b[0;34m\u001b[0m\u001b[0m\n\u001b[1;32m      6\u001b[0m \u001b[0;34m\u001b[0m\u001b[0m\n\u001b[0;32m----> 7\u001b[0;31m \u001b[0;32mimport\u001b[0m \u001b[0mrpy2\u001b[0m\u001b[0;34m.\u001b[0m\u001b[0minteractive\u001b[0m \u001b[0;32mas\u001b[0m \u001b[0mr\u001b[0m\u001b[0;34m\u001b[0m\u001b[0m\n\u001b[0m\u001b[1;32m      8\u001b[0m \u001b[0;32mimport\u001b[0m \u001b[0mrpy2\u001b[0m\u001b[0;34m.\u001b[0m\u001b[0minteractive\u001b[0m\u001b[0;34m.\u001b[0m\u001b[0mpackages\u001b[0m \u001b[0;31m# this can take few seconds\u001b[0m\u001b[0;34m\u001b[0m\u001b[0m\n\u001b[1;32m      9\u001b[0m \u001b[0;32mimport\u001b[0m \u001b[0mtime\u001b[0m\u001b[0;34m\u001b[0m\u001b[0m\n",
      "\u001b[0;31mImportError\u001b[0m: No module named rpy2.interactive"
     ]
    }
   ],
   "source": [
    "#import subprocess, os, csv, signal, pysam, collections, optparse, sys, tempfile, re, optparse\n",
    "#import pandas as pd\n",
    "#import numpy as np\n",
    "#import matplotlib.pyplot as plt\n",
    "#%matplotlib inline\n",
    "\n",
    "import rpy2.interactive as r\n",
    "import rpy2.interactive.packages # this can take few seconds\n",
    "import time\n",
    "#from ZIFA import ZIFA\n",
    "#from ZIFA import block_ZIFA\n",
    "import pylab"
   ]
  },
  {
   "cell_type": "code",
   "execution_count": null,
   "metadata": {
    "collapsed": true
   },
   "outputs": [],
   "source": []
  }
 ],
 "metadata": {
  "celltoolbar": "Slideshow",
  "kernelspec": {
   "display_name": "Python 2",
   "language": "python",
   "name": "python2"
  },
  "language_info": {
   "codemirror_mode": {
    "name": "ipython",
    "version": 2
   },
   "file_extension": ".py",
   "mimetype": "text/x-python",
   "name": "python",
   "nbconvert_exporter": "python",
   "pygments_lexer": "ipython2",
   "version": "2.7.11"
  }
 },
 "nbformat": 4,
 "nbformat_minor": 0
}
