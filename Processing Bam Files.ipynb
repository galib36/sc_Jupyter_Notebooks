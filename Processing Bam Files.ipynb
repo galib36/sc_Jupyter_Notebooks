{
 "cells": [
  {
   "cell_type": "code",
   "execution_count": 1,
   "metadata": {
    "collapsed": true
   },
   "outputs": [],
   "source": [
    "import subprocess, os, sys, signal, pip\n",
    "import multiprocessing\n",
    "import threading\n",
    "import time\n",
    "import numpy as np"
   ]
  },
  {
   "cell_type": "code",
   "execution_count": 13,
   "metadata": {
    "collapsed": true
   },
   "outputs": [],
   "source": [
    "# Setting the output folder where all the results would be stored\n",
    "Folder = '/home/baker/my-single-cell-share/Andy_Bulk_Cell-Cycle/'"
   ]
  },
  {
   "cell_type": "code",
   "execution_count": 25,
   "metadata": {
    "collapsed": false
   },
   "outputs": [
    {
     "name": "stdout",
     "output_type": "stream",
     "text": [
      "macs2 callpeak -t /home/baker/my-single-cell-share/Andy_Bulk_Cell-Cycle/BAM_files/U2OS_release_4h_S4_R1_mergedUnique.bam_rmDup.bam_mtRemove.bam -n /home/baker/my-single-cell-share/Andy_Bulk_Cell-Cycle/macs2_files/U2OS_4h -q 0.01 -g hs -f BAM --nomodel --shift -75 --extsize 150 -B --SPMR --call-summits\n",
      "macs2 callpeak -t /home/baker/my-single-cell-share/Andy_Bulk_Cell-Cycle/BAM_files/U2OS_release_8h_S6_R1_mergedUnique.bam_rmDup.bam_mtRemove.bam -n /home/baker/my-single-cell-share/Andy_Bulk_Cell-Cycle/macs2_files/U2OS_8h -q 0.01 -g hs -f BAM --nomodel --shift -75 --extsize 150 -B --SPMR --call-summits\n",
      "macs2 callpeak -t /home/baker/my-single-cell-share/Andy_Bulk_Cell-Cycle/BAM_files/U2OS_release_6h_S5_R1_mergedUnique.bam_rmDup.bam_mtRemove.bam -n /home/baker/my-single-cell-share/Andy_Bulk_Cell-Cycle/macs2_files/U2OS_6h -q 0.01 -g hs -f BAM --nomodel --shift -75 --extsize 150 -B --SPMR --call-summits\n",
      "macs2 callpeak -t /home/baker/my-single-cell-share/Andy_Bulk_Cell-Cycle/BAM_files/U2OS_release_10h_S7_R1_mergedUnique.bam_rmDup.bam_mtRemove.bam -n /home/baker/my-single-cell-share/Andy_Bulk_Cell-Cycle/macs2_files/U2OS_10h -q 0.01 -g hs -f BAM --nomodel --shift -75 --extsize 150 -B --SPMR --call-summits\n",
      "macs2 callpeak -t /home/baker/my-single-cell-share/Andy_Bulk_Cell-Cycle/BAM_files/U2OS_release_0h_S1_R1_mergedUnique.bam_rmDup.bam_mtRemove.bam -n /home/baker/my-single-cell-share/Andy_Bulk_Cell-Cycle/macs2_files/U2OS_0h -q 0.01 -g hs -f BAM --nomodel --shift -75 --extsize 150 -B --SPMR --call-summits\n",
      "macs2 callpeak -t /home/baker/my-single-cell-share/Andy_Bulk_Cell-Cycle/BAM_files/U2OS_release_2h_S2_R1_mergedUnique.bam_rmDup.bam_mtRemove.bam -n /home/baker/my-single-cell-share/Andy_Bulk_Cell-Cycle/macs2_files/U2OS_2h -q 0.01 -g hs -f BAM --nomodel --shift -75 --extsize 150 -B --SPMR --call-summits\n",
      "macs2 callpeak -t /home/baker/my-single-cell-share/Andy_Bulk_Cell-Cycle/BAM_files/U2OS_release_10h_SO_S8_R1_mergedUnique.bam_rmDup.bam_mtRemove.bam -n /home/baker/my-single-cell-share/Andy_Bulk_Cell-Cycle/macs2_files/U2OS_10h -q 0.01 -g hs -f BAM --nomodel --shift -75 --extsize 150 -B --SPMR --call-summits\n"
     ]
    }
   ],
   "source": [
    "BamFiles = Folder + 'BAM_files/'\n",
    "macs2Files = Folder + 'macs2_files/'\n",
    "root, folders, files = os.walk(BamFiles).next()\n",
    "files = [os.path.join(root, f) for f in files if (f.endswith('_mergedUnique.bam_rmDup.bam_mtRemove.bam'))]\n",
    "for f in files:\n",
    "    TempCellName = os.path.basename(f).split('_')\n",
    "    CellName = TempCellName[0] + '_' + TempCellName[2]\n",
    "    Macs2Cmd = 'macs2 callpeak -t ' + f +' -n ' + macs2Files + CellName + ' -q 0.01 -g hs -f BAM --nomodel --shift -75 --extsize 150 -B --SPMR --call-summits'\n",
    "    print(Macs2Cmd)\n",
    "    #subprocess.call(Macs2Cmd, shell=True)"
   ]
  },
  {
   "cell_type": "code",
   "execution_count": null,
   "metadata": {
    "collapsed": true
   },
   "outputs": [],
   "source": []
  }
 ],
 "metadata": {
  "kernelspec": {
   "display_name": "Python 2.7",
   "language": "python",
   "name": "python2"
  },
  "language_info": {
   "name": "python",
   "version": "2.7.6"
  }
 },
 "nbformat": 4,
 "nbformat_minor": 0
}
