{
 "cells": [
  {
   "cell_type": "markdown",
   "metadata": {
    "collapsed": true
   },
   "source": [
    "# WORKFLOW-CAGE Bacterial Infection Higher MOI"
   ]
  },
  {
   "cell_type": "markdown",
   "metadata": {},
   "source": [
    "This document is an example of how to process a C1-CAGE library with a Jupyter notebook from raw reads to single molecule count. In the following section we assume that:\n",
    "- The softwares used in this workflow are mentioned in the [prerequesite](https://github.com/Population-Transcriptomics/C1-CAGE-preview/blob/master/prerequisite.md) section.\n",
    "- The reference genome has to be already indexed with bwa\n",
    "- The tutorials are introduced with the example file mentioned in the tutorial"
   ]
  },
  {
   "cell_type": "markdown",
   "metadata": {},
   "source": [
    "In our hands this notebook worked without trouble on a machine running Debian GNU/Linux 8. We noticed that the behavior of tagdust2 in single-end mode was different on Mac OSX. In short, the order of the reads1 is changed after extraction on Mac OSX which is a problem because syncpairs expect the order of reads1 and reads2 to be the same. One way to overcome this issueis sort reads1 and reads2 separately after the exctraction then syncpairs will work properly."
   ]
  },
  {
   "cell_type": "markdown",
   "metadata": {},
   "source": [
    "## Setting the Input and Output Folder"
   ]
  },
  {
   "cell_type": "code",
   "execution_count": 1,
   "metadata": {
    "collapsed": true
   },
   "outputs": [],
   "source": [
    "# Setting the output folder where all the results would be stored\n",
    "outputFolder = '/home/baker/my-scratch-share/James_Bagnall_Bacterial_Workflow_Riken_Misesq_length_BWA_MEM/output/'\n",
    "\n",
    "# inputFolder : Folder name with all the fastq files\n",
    "intputFolder = '/home/baker/my-single-cell-share/James_fastq_Adapter_Untrimmed_Miseq_Size_Trimmed/'"
   ]
  },
  {
   "cell_type": "markdown",
   "metadata": {},
   "source": [
    "## Imports"
   ]
  },
  {
   "cell_type": "code",
   "execution_count": 2,
   "metadata": {
    "collapsed": true
   },
   "outputs": [],
   "source": [
    "import subprocess, os, csv, signal, pysam, collections, optparse, sys, tempfile, re, optparse\n",
    "import pandas as pd\n",
    "import numpy as np\n",
    "import matplotlib.pyplot as plt\n",
    "%matplotlib inline\n",
    "import rpy2.interactive as r\n",
    "import rpy2.interactive.packages # this can take few seconds\n",
    "import time\n",
    "#from ZIFA import ZIFA\n",
    "#from ZIFA import block_ZIFA\n",
    "import pylab"
   ]
  },
  {
   "cell_type": "code",
   "execution_count": 3,
   "metadata": {
    "collapsed": false
   },
   "outputs": [],
   "source": [
    "%load_ext rpy2.ipython"
   ]
  },
  {
   "cell_type": "code",
   "execution_count": 5,
   "metadata": {
    "collapsed": false
   },
   "outputs": [],
   "source": [
    "%%R\n",
    "library(\"dplyr\")\n",
    "library(\"edgeR\")\n",
    "library(\"ggplot2\")\n",
    "library(\"cowplot\")\n",
    "library(\"BASiCS\")\n",
    "library(\"scde\")\n",
    "library(repr)\n",
    "library(biomaRt)\n",
    "library(GO.db)\n",
    "library(extRemes)\n",
    "library(Lmoments)\n",
    "library(distillery)\n",
    "library(car)\n",
    "theme_set(theme_bw(base_size = 16))"
   ]
  },
  {
   "cell_type": "markdown",
   "metadata": {},
   "source": [
    "## Custom functions"
   ]
  },
  {
   "cell_type": "code",
   "execution_count": 6,
   "metadata": {
    "collapsed": true
   },
   "outputs": [],
   "source": [
    "remove_extension = lambda x: x.split('.')[0]"
   ]
  },
  {
   "cell_type": "markdown",
   "metadata": {},
   "source": [
    "Declare the function that deals with inputs and outputs"
   ]
  },
  {
   "cell_type": "code",
   "execution_count": 7,
   "metadata": {
    "collapsed": true
   },
   "outputs": [],
   "source": [
    "def get_args(read1, read2, ref_genome, bacterial_ref_genome, Spike_in_genome, output_folders):\n",
    "    '''Set the input and output path for a given pair of reads'''\n",
    "    r1_shortname = remove_extension(os.path.basename(read1))\n",
    "\n",
    "    args = {  \n",
    "        'r1_input': read1,\n",
    "        'r2_input': read2,\n",
    "        'ref_genome': ref_genome,\n",
    "        'bacterial_ref_genome': bacterial_ref_genome,\n",
    "        'Spike_in_genome': Spike_in_genome\n",
    "    }\n",
    "    \n",
    "    output_paths = {folder: os.path.join(outputFolder, folder, r1_shortname) for folder in output_folders}\n",
    "    \n",
    "    return dict(args, **output_paths)"
   ]
  },
  {
   "cell_type": "code",
   "execution_count": 8,
   "metadata": {
    "collapsed": true
   },
   "outputs": [],
   "source": [
    "def ERCC_finder(f):\n",
    "    full_path = cleanedReadsFolder + f\n",
    "    file_ERCC = open(full_path,'rb')\n",
    "    ERCCTempFilePath = outputFolder + 'ERCC_count/ERCC_count_'\n",
    "    for line in file_ERCC:\n",
    "        if 'ERCC' in line:\n",
    "            temp = str.split(line)            \n",
    "            ERCC_file_path = ERCCTempFilePath + f.split('_', 1)[0]+\".txt\"            \n",
    "            ERCC_command_file = open(ERCC_file_path, 'a')\n",
    "            ERCC_line_to_write = temp[3] + \"\\t\" + temp[2]+ \"\\n\"\n",
    "            ERCC_command_file.writelines(ERCC_line_to_write)\n",
    "            ERCC_command_file.close"
   ]
  },
  {
   "cell_type": "code",
   "execution_count": 9,
   "metadata": {
    "collapsed": true
   },
   "outputs": [],
   "source": [
    "def expanderuser(path):\n",
    "    \"\"\"Replaces the ~ with the users home directory\"\"\"\n",
    "    if path.startswith(\"~\"):\n",
    "        return os.path.expanduser(\"~\") + path[1: ]\n",
    "    return path\n",
    "\n",
    "def multiple_match(regex, old_name, name):\n",
    "    report_error(regex+\" matched both \" + old_name + \" and \" + name + \"strickter regex required\")\n",
    "\n",
    "def do_walk(source, regex, target_path, onerror=None, followlinks=False, verbose=True, divider=None, sort=None):\n",
    "    \"\"\"\n",
    "    Walker method\n",
    "    Inputs are:\n",
    "    source Parent directory to be walked through\n",
    "    onerror is a function on underlying os.listdir fails\n",
    "    followlinks would allow following symbolic links\n",
    "        WARNING Be aware that setting followlinks to True can lead to infinite\n",
    "           recursion if a link points to a parent directory of itself.\n",
    "           walk() does not keep track of the directories it visited already.\n",
    "    verbose: Flag passed to action methods to provide more output\n",
    "    \"\"\"\n",
    "    source = expanderuser(source)\n",
    "    (names_number, names_path) = tempfile.mkstemp()\n",
    "    re_object = re.compile(regex)\n",
    "    file_paths = []\n",
    "    with open(names_path, 'w') as f:\n",
    "        # Must be topdown=True otherwise walk will process subdirectories before checking them\n",
    "        for root, dirs, files in os.walk(source, topdown=True, onerror=onerror, followlinks=followlinks):\n",
    "            for name in files:\n",
    "                if re_object.search(name):\n",
    "                    file_path = os.path.join(root, name)\n",
    "                    f.write(file_path)\n",
    "                    f.write(\"\\n\")\n",
    "                    file_paths.append(file_path)\n",
    "                    if verbose:\n",
    "                        print \"Merging\",file_path\n",
    "                #else:\n",
    "                #    print \"NO\",name, root\n",
    "    if len(file_paths) == 0:\n",
    "        report_error(\"NO files found to match \"+ regex)\n",
    "    if divider:\n",
    "        if sort:\n",
    "            merge_files(file_paths, names_path, target_path, verbose=verbose, divider = divider, sort = sort)\n",
    "        else:\n",
    "            merge_files(file_paths, names_path, target_path, verbose=verbose, divider = divider)\n",
    "    else:\n",
    "        if sort:\n",
    "            merge_files(file_paths, names_path, target_path, verbose, sort=sort)\n",
    "        else:\n",
    "            merge_files(file_paths, names_path, target_path, verbose)\n"
   ]
  },
  {
   "cell_type": "code",
   "execution_count": 10,
   "metadata": {
    "collapsed": true
   },
   "outputs": [],
   "source": [
    "\n",
    "def report_error(error):\n",
    "    \"\"\"Prints the error, and exits -1\"\"\"\n",
    "    print error\n",
    "    sys.stderr.write(error)\n",
    "    sys.stderr.write(\"\\n\")\n",
    "    sys.stderr.flush()\n",
    "    sys.exit(1)\n",
    "\n",
    "\n",
    "def remove_common(names):\n",
    "    start = names[0]\n",
    "    end = names[0]\n",
    "    for name in names:\n",
    "        while len(start) > 0 and not(name.startswith(start)):\n",
    "            start = start[: -1]\n",
    "        while len(end) > 0 and not(name.endswith(end)):\n",
    "            end = end[1:]\n",
    "    new_names = []\n",
    "    for name in names:\n",
    "        new_name = name[len(start): -len(end)]\n",
    "        new_names.append(\"C\"+new_name)\n",
    "    return new_names\n",
    "\n",
    "\n",
    "def remove_symbols(s):\n",
    "    if s.find(\"__\") == -1:\n",
    "        return s\n",
    "    # Patterns used by Galaxy\n",
    "    s = s.replace(\"__cb__\", ']')\n",
    "    s = s.replace(\"__cc__\", '}')\n",
    "    s = s.replace(\"__dq__\", '\"')\n",
    "    s = s.replace(\"__lt__\", '<')\n",
    "    s = s.replace(\"__gt__\", '>')\n",
    "    s = s.replace(\"__ob__\", '[')\n",
    "    s = s.replace(\"__oc__\", '{')\n",
    "    s = s.replace(\"__sq__\", \"'\")\n",
    "    # Patterns added by Christian\n",
    "    s = s.replace(\"__in__\", '%in%')\n",
    "    s = s.replace(\"__not__\", '!')\n",
    "    end = -2\n",
    "    # tab = 9\n",
    "    # | = 124\n",
    "    while True:\n",
    "        start = s.find(\"__\", end + 2) + 2\n",
    "        if start == 1:\n",
    "            return s\n",
    "        end = s.find(\"__\", start)\n",
    "        if end == -1:\n",
    "            return s\n",
    "        part = s[start: end]\n",
    "        try:\n",
    "            ascii = int(part)\n",
    "            s = s.replace(\"__\" + part + \"__\", chr(ascii))\n",
    "            end = -2\n",
    "        except ValueError:\n",
    "            pass\n",
    "    return s\n",
    "\n",
    "\n",
    "def clean_part(part):\n",
    "    part = part.strip()\n",
    "    part = part.replace(\"\\t\", \"__9__\")\n",
    "    return part\n",
    "\n",
    "\n",
    "def return_blank():\n",
    "    return \"0\"\n",
    "\n",
    "\n",
    "def black_dict():\n",
    "    return collections.defaultdict(return_blank)\n",
    "\n",
    "\n",
    "def merge_files(file_paths, names_path, target_path, verbose=False, divider=\"\\t\", sort = None):\n",
    "    if sort:\n",
    "        if sort == \"column_names\":\n",
    "            column_sort = True\n",
    "            row_sort = False\n",
    "        elif sort == \"row_names\":\n",
    "            column_sort = False\n",
    "            row_sort = true\n",
    "        elif sort == \"both\":\n",
    "            column_sort = True\n",
    "            row_sort = True\n",
    "        elif sort == \"none\":\n",
    "            column_sort = False\n",
    "            row_sort = False\n",
    "        else:\n",
    "            report_error(\"Unexpected value: \" + sort + \" for sort parameter. Legeal values are: column_names, row_names, both or none\")\n",
    "    else:\n",
    "        column_sort = False\n",
    "        row_sort = False\n",
    "\n",
    "    names = []\n",
    "    with open(names_path, 'r') as f:\n",
    "        for line in f:\n",
    "            line = line.strip()\n",
    "            if len(line) > 0:\n",
    "                names.append(line)\n",
    "    if len(names) != len(file_paths):\n",
    "        report_error(\"Found \" + str(len(file_paths)) + \" file_paths but \" + names_path + \" contains \" + str(len(names)) + \" lines.\")\n",
    "    new_names = remove_common(names)\n",
    "    clean_divider = remove_symbols(divider)\n",
    "    all_values = collections.defaultdict(black_dict)\n",
    "    for count, file_path in enumerate(file_paths):\n",
    "        mis_match = 0\n",
    "        with open(file_path, 'r') as f:\n",
    "            for line in f:\n",
    "                parts = line.strip().split(clean_divider)\n",
    "                if len(parts) == 2:\n",
    "                    key = clean_part(parts[0])\n",
    "                    value = clean_part(parts[1])\n",
    "                    all_values[key][new_names[count]] = value\n",
    "                else:\n",
    "                    mis_match+= 1\n",
    "                    if verbose:\n",
    "                        if mis_match < 5:\n",
    "                            print \"ignoring following line from\", file_path\n",
    "                            print line\n",
    "        if mis_match > 0:\n",
    "            print \"In file \" + file_path + \" \" + str(mis_match) + \" lines did not have 1 divider (\" + clean_divider + \") \" + divider\n",
    "\n",
    "    if column_sort:\n",
    "        new_names = sorted(new_names)\n",
    "    if row_sort:\n",
    "        row_names = sorted(all_values.keys())\n",
    "    else:\n",
    "        row_names = all_values.keys()\n",
    "\n",
    "    with open(target_path, 'w') as f:\n",
    "        for name in new_names:\n",
    "            f.write(\"\\t\")\n",
    "            f.write(name)\n",
    "        f.write(\"\\n\")\n",
    "        for key in row_names:\n",
    "            f.write(key)\n",
    "            for name in new_names:\n",
    "                f.write(\"\\t\")\n",
    "                f.write(all_values[key][name])\n",
    "            f.write(\"\\n\")"
   ]
  },
  {
   "cell_type": "markdown",
   "metadata": {},
   "source": [
    "## Parameters"
   ]
  },
  {
   "cell_type": "markdown",
   "metadata": {},
   "source": [
    "If the required softwares are not in the PATH you can manually set their location here"
   ]
  },
  {
   "cell_type": "code",
   "execution_count": 11,
   "metadata": {
    "collapsed": true
   },
   "outputs": [],
   "source": [
    "tagdust2_path = 'tagdust'\n",
    "bwa_path = '/home/baker/bwa/bwa'\n",
    "samtools_path = 'samtools'\n",
    "paired_bam_to_bed12_path = '/home/baker/pairedBamToBed12/bin/pairedBamToBed12'\n",
    "umicountFP_path = 'umicountFP'\n",
    "syncpairs_path = 'syncpairs'\n",
    "bedToBam_path = 'bedToBam'\n",
    "featureCount_path = '/home/baker/Downloads/subread-1.5.0-p1-source/bin/featureCounts'\n",
    "Trimmo_path = '/home/baker/my-hydra-share/Packages/Trimmomatic-0.35/trimmomatic-0.35.jar'"
   ]
  },
  {
   "cell_type": "markdown",
   "metadata": {},
   "source": [
    "Path to the reference genome you want to align your reads against"
   ]
  },
  {
   "cell_type": "code",
   "execution_count": 12,
   "metadata": {
    "collapsed": true
   },
   "outputs": [],
   "source": [
    "#ref_genome = '/home/baker/my-mm10-index-share/Mus_musculus.GRCm38.71.fa'\n",
    "ref_genome = '/home/baker/my-mm10-index-share/bwa/bwa_mm10_random_chrM_chrUn'\n",
    "bacterial_ref_genome = '/home/baker/my-genomeIndex-share/L.monocytogenes/bwa/genome'\n",
    "Spike_in_genome = '/home/baker/my-hydra-share/Packages/Spike-In_Index/ERCC92'"
   ]
  },
  {
   "cell_type": "code",
   "execution_count": 13,
   "metadata": {
    "collapsed": true
   },
   "outputs": [],
   "source": [
    "softwares = {    \n",
    "    'bwa': bwa_path,\n",
    "    'tagdust': tagdust2_path,\n",
    "    'syncpairs': syncpairs_path,\n",
    "    'samtools': samtools_path,\n",
    "    'pairedBamToBed12': paired_bam_to_bed12_path,\n",
    "    'umicountFP': umicountFP_path,\n",
    "    'bedToBam': bedToBam_path,\n",
    "    'featureCount':featureCount_path,\n",
    "    'trimmomatic':Trimmo_path}"
   ]
  },
  {
   "cell_type": "markdown",
   "metadata": {},
   "source": [
    "The name of the output folders for each command"
   ]
  },
  {
   "cell_type": "code",
   "execution_count": 14,
   "metadata": {
    "collapsed": true
   },
   "outputs": [],
   "source": [
    "output_folders = [ 'tagdust_r1', 'unzip_r2'                    # Demultiplexed R1, unziped R2\n",
    "                 , 'extracted_r1', 'extracted_r2'              # Synced R1 and R2\n",
    "                 , 'cleaned_reads', 'cleaned_r1', 'cleaned_r2' # rRNA reads removed\n",
    "                 , 'r1_sai', 'r2_sai', 'sampe'                 # Intermediate files from BWA\n",
    "                 , 'r1_bac_sai', 'r2_bac_sai', 'sampe_bac'     # Intermediate files from BWA for Bacterial\n",
    "                 , 'genome_mapped', 'properly_paired'          # Final output in BAM format\n",
    "                 , 'cagescan_pairs', 'cagescan_fragments'      # Final output in BED12 format\n",
    "                 , 'htseq_output', 'ERCC_count'                # Htseq-count and ERCC-Spike in counts\n",
    "                 , 'bedToBam_output','featureCount_output'\n",
    "                 , 'sampeBacteria', 'bacterial_genome_mapped'\n",
    "                 , 'Spikesampe', 'Spike_genome_mapped'\n",
    "                 , 'Spike_properly_paired', 'Spike_cagescan_pairs'\n",
    "                 , 'Spike_cagescan_fragments', 'Fortrimmo_r1', 'Fortrimmo_r2'\n",
    "                 , 'bedToBam_output_Spike'\n",
    "                 ]"
   ]
  },
  {
   "cell_type": "markdown",
   "metadata": {},
   "source": [
    "Create the folders"
   ]
  },
  {
   "cell_type": "code",
   "execution_count": 15,
   "metadata": {
    "collapsed": false
   },
   "outputs": [],
   "source": [
    "for folder in output_folders:\n",
    "    os.makedirs(os.path.join(outputFolder, folder))"
   ]
  },
  {
   "cell_type": "markdown",
   "metadata": {},
   "source": [
    "The actual command to run. See the [tutorial](https://github.com/Population-Transcriptomics/C1-CAGE-preview/blob/master/tutorial.md) section for more details about each command"
   ]
  },
  {
   "cell_type": "markdown",
   "metadata": {},
   "source": [
    "### Samtools Flags\n",
    "\n",
    "Flag Description (The way I used):\n",
    "- 0x0001 Paired in sequencing\n",
    "- __0x0002 Mapped in proper read pair__\n",
    "- 0x0004 Query unmapped\n",
    "- 0x0008 Mate unmapped\n",
    "- 0x0010 Strand of the query (1 for reverse)\n",
    "- 0x0020 Strand of the mate (1 for reverse)\n",
    "- 0x0040 First read in the pair\n",
    "- 0x0080 Second read in the pair\n",
    "- __0x0100 Secondary alignment__\n",
    "- 0x0200 QC failure\n",
    "- 0x0400 Optical or PCR duplicates\n",
    "\n",
    "Flag Description (The way mentioned in samtools help):\n",
    "- 0x1\tPAIRED\tpaired-end (or multiple-segment) sequencing technology\n",
    "- 0x2\tPROPER_PAIR\teach segment properly aligned according to the aligner\n",
    "- 0x4\tUNMAP\tsegment unmapped\n",
    "- 0x8\tMUNMAP\tnext segment in the template unmapped\n",
    "- 0x10\tREVERSE\tSEQ is reverse complemented\n",
    "- 0x20\tMREVERSE\tSEQ of the next segment in the template is reverse complemented\n",
    "- 0x40\tREAD1\tthe first segment in the template\n",
    "- 0x80\tREAD2\tthe last segment in the template\n",
    "- 0x100\tSECONDARY\tsecondary alignment\n",
    "- 0x200\tQCFAIL\tnot passing quality controls\n",
    "- 0x400\tDUP\tPCR or optical duplicate\n",
    "- 0x800\tSUPPLEMENTARY\tsupplementary alignment\n",
    "\n",
    "If you want to extract reads that mapped only to a certain strand of the reference, you can use the -F and -f flags in samtools:\n",
    "\n",
    "__for positive strand__<br>\n",
    "samtools view -F 0x10 -b input.bam > postiveStrand.sam\n",
    "\n",
    "__for negative strand __<br>\n",
    "samtools view -f 0x10 -b input.bam > negativeStrand.sam \n",
    "\n",
    "The 0x10 flag of the bitwise flags indicates whether the read is reverse complemented or not. If 0x10 is set, then the read mapped to the reverse strand. If it is not set, then the read mapped to the positive strand.\n",
    "\n",
    "The -F parameter with 0x10 will skip anything that has 0x10 set, meaning it will skip anything that mapped to the reverse strand. The -f parameter will only keep anything that has 0x10 set.\n",
    "\n",
    "__Samtools view options__\n",
    "\n",
    " OPTIONS:\n",
    "\n",
    "-b\n",
    "\n",
    "    Output in the BAM format. \n",
    "-C\n",
    "\n",
    "    Output in the CRAM format (requires -T). \n",
    "-1\n",
    "\n",
    "    Enable fast BAM compression (implies -b). \n",
    "-u\n",
    "\n",
    "    Output uncompressed BAM. This option saves time spent on compression/decompression and is thus preferred when the output is piped to another samtools command. \n",
    "-h\n",
    "\n",
    "    Include the header in the output. \n",
    "-H\n",
    "\n",
    "    Output the header only. \n",
    "-c\n",
    "\n",
    "    Instead of printing the alignments, only count them and print the total number. All filter options, such as -f, -F, and -q, are taken into account. \n",
    "-?\n",
    "\n",
    "    Output long help and exit immediately. \n",
    "-o FILE\n",
    "\n",
    "    Output to FILE [stdout]. \n",
    "-U FILE\n",
    "\n",
    "    Write alignments that are not selected by the various filter options to FILE. When this option is used, all alignments (or all alignments intersecting the regions specified) are written to either the output file or this file, but never both. \n",
    "-t FILE\n",
    "\n",
    "    A tab-delimited FILE. Each line must contain the reference name in the first column and the length of the reference in the second column, with one line for each distinct reference. Any additional fields beyond the second column are ignored. This file also defines the order of the reference sequences in sorting. If you run: `samtools faidx <ref.fa>', the resulting index file <ref.fa>.fai can be used as this FILE. \n",
    "-T FILE\n",
    "\n",
    "    A FASTA format reference FILE, optionally compressed by bgzip and ideally indexed by samtools faidx. If an index is not present, one will be generated for you. \n",
    "-L FILE\n",
    "\n",
    "    Only output alignments overlapping the input BED FILE [null]. \n",
    "-r STR\n",
    "\n",
    "    Only output alignments in read group STR [null]. \n",
    "-R FILE\n",
    "\n",
    "    Output alignments in read groups listed in FILE [null]. \n",
    "-q INT\n",
    "\n",
    "    Skip alignments with MAPQ smaller than INT [0]. \n",
    "-l STR\n",
    "\n",
    "    Only output alignments in library STR [null]. \n",
    "-m INT\n",
    "\n",
    "    Only output alignments with number of CIGAR bases consuming query sequence ≥ INT [0] \n",
    "-f INT\n",
    "\n",
    "    Only output alignments with all bits set in INT present in the FLAG field. INT can be specified in hex by beginning with `0x' (i.e. /^0x[0-9A-F]+/) or in octal by beginning with `0' (i.e. /^0[0-7]+/) [0]. \n",
    "-F INT\n",
    "\n",
    "    Do not output alignments with any bits set in INT present in the FLAG field. INT can be specified in hex by beginning with `0x' (i.e. /^0x[0-9A-F]+/) or in octal by beginning with `0' (i.e. /^0[0-7]+/) [0]. \n",
    "-x STR\n",
    "\n",
    "    Read tag to exclude from output (repeatable) [null] \n",
    "-B\n",
    "\n",
    "    Collapse the backward CIGAR operation. \n",
    "-s FLOAT\n",
    "\n",
    "    Integer part is used to seed the random number generator [0]. Part after the decimal point sets the fraction of templates/pairs to subsample [no subsampling]. \n",
    "-@ INT\n",
    "\n",
    "    Number of BAM compression threads to use in addition to main thread [0]. \n",
    "-S\n",
    "\n",
    "    Ignored for compatibility with previous samtools versions. Previously this option was required if input was in SAM format, but now the correct format is automatically detected by examining the first few characters of input. \n",
    "\n",
    "### bwa mem -M option\n",
    "\"Changed the way a chimeric alignment is reported (conforming to the upcoming\n",
    "SAM spec v1.5). With 0.7.5, if the read has a chimeric alignment, the paired\n",
    "or the top hit uses soft clipping and is marked with neither 0x800 nor 0x100\n",
    "bits. All the other hits part of the chimeric alignment will use hard\n",
    "clipping and be marked with 0x800 if option \"-M\" is not in use, or marked\n",
    "with 0x100 otherwise __(Seondary Alignment)__.\""
   ]
  },
  {
   "cell_type": "markdown",
   "metadata": {},
   "source": [
    "__Formatting the fasta file for BWA index generation__"
   ]
  },
  {
   "cell_type": "code",
   "execution_count": null,
   "metadata": {
    "collapsed": true
   },
   "outputs": [],
   "source": [
    "from Bio import SeqIO\n",
    "for seq_record in SeqIO.parse(\"/home/baker/my-hydra-share/Packages/Spike-In_Index/ERCC92.fa\",\"fasta\"):\n",
    "    f = open(\"/home/baker/my-hydra-share/Packages/Spike-In_Index/ERCC92.fa.modified\", 'a')\n",
    "    f.write('>' + str(seq_record.id) + '\\n')\n",
    "    f.write(str(seq_record.seq) + '\\n')\n",
    "    f.close()"
   ]
  },
  {
   "cell_type": "markdown",
   "metadata": {},
   "source": [
    "Sequences to generate the BWA index"
   ]
  },
  {
   "cell_type": "code",
   "execution_count": null,
   "metadata": {
    "collapsed": true
   },
   "outputs": [],
   "source": [
    "bwa index -a bwtsw reference.fa\n",
    "samtools faidx reference.fa \n",
    "\n",
    "\n",
    "java -jar picard.jar CreateSequenceDictionary \\\n",
    "    REFERENCE=reference.fa \\ \n",
    "    OUTPUT=reference.dict "
   ]
  },
  {
   "cell_type": "code",
   "execution_count": 27,
   "metadata": {
    "collapsed": false
   },
   "outputs": [],
   "source": [
    "cmds = [\n",
    "    \n",
    "    '{tagdust} -t8 -o {tagdust_r1} -1 F:NNNNNNNN -2 S:TATAGGG -3 R:N {r1_input}',\n",
    "    \n",
    "    'gunzip -c {r2_input} > {unzip_r2}.fq',\n",
    "    \n",
    "    '{syncpairs} {tagdust_r1}.fq {unzip_r2}.fq {extracted_r1}.fq {extracted_r2}.fq',\n",
    "    \n",
    "    '{tagdust} -arch SimpleArchitecture.txt -ref ercc_and_mouse_rRNA_and_tagdust.fa -o {cleaned_reads} {extracted_r1}.fq {extracted_r2}.fq',\n",
    "    \n",
    "    'cp {cleaned_reads}_READ1.fq {cleaned_r1}.fq',\n",
    "    \n",
    "    'cp {cleaned_reads}_READ2.fq {cleaned_r2}.fq',\n",
    "    \n",
    "    '{bwa} mem -M {ref_genome} {cleaned_r1}.fq {cleaned_r2}.fq > {sampe}.sam',\n",
    "    \n",
    "    '{bwa} mem -M {bacterial_ref_genome} {cleaned_r1}.fq {cleaned_r2}.fq > {sampeBacteria}.sam',    \n",
    "    \n",
    "    '{samtools} view -uSo - {sampe}.sam | {samtools} sort - {genome_mapped}',\n",
    "    \n",
    "    '{samtools} flagstat {genome_mapped}.bam >{genome_mapped}.Logfile',\n",
    "    \n",
    "    '{samtools} view -uSo - {sampeBacteria}.sam | {samtools} sort - {bacterial_genome_mapped}',\n",
    "    \n",
    "    '{samtools} flagstat {bacterial_genome_mapped}.bam >{bacterial_genome_mapped}.Logfile',\n",
    "    \n",
    "    '{samtools} view -f 0x0002 -F 0x0100 -uo - {genome_mapped}.bam | {samtools} sort -n - {properly_paired}',\n",
    "    \n",
    "    '{pairedBamToBed12} -i {properly_paired}.bam > {cagescan_pairs}.bed',\n",
    "    \n",
    "    '{umicountFP} -f {cagescan_pairs}.bed > {cagescan_fragments}.bed',\n",
    "    \n",
    "    '{bedToBam} -i {cagescan_fragments}.bed -g /home/baker/my-hydra-share/Packages/MouseChromosome/chrom.sizes > {bedToBam_output}.bam',\n",
    "    \n",
    "    '{samtools} sort {bedToBam_output}.bam {bedToBam_output}_sorted',\n",
    "    \n",
    "    '{samtools} view -bh {bedToBam_output}_sorted.bam > {bedToBam_output}_sorted_header.bam'    \n",
    "    \n",
    "    \n",
    "]"
   ]
  },
  {
   "cell_type": "code",
   "execution_count": null,
   "metadata": {
    "collapsed": true
   },
   "outputs": [],
   "source": [
    "cmds = [\n",
    "    \n",
    "    '{bedToBam} -i {cagescan_fragments}.bed -g /home/baker/my-hydra-share/Packages/MouseChromosome/chrom.sizes > {bedToBam_output}.bam',\n",
    "    \n",
    "    '{samtools} sort {bedToBam_output}.bam {bedToBam_output}_sorted',\n",
    "    \n",
    "    '{samtools} view -bh {bedToBam_output}_sorted.bam > {bedToBam_output}_sorted_header.bam'    \n",
    "    \n",
    "    \n",
    "]"
   ]
  },
  {
   "cell_type": "markdown",
   "metadata": {},
   "source": [
    "Get the reads. Here we assume that the reads are in the current directory, in a folder named following the MiSeq run id"
   ]
  },
  {
   "cell_type": "code",
   "execution_count": 28,
   "metadata": {
    "collapsed": false
   },
   "outputs": [],
   "source": [
    "root, folders, files = os.walk(intputFolder).next()\n",
    "\n",
    "files = [f for f in files if not f.startswith('.')] #remove hidden files if there exist\n",
    "reads1 = sorted([os.path.join(root, f) for f in files if 'R1' in f])\n",
    "reads2 = sorted([os.path.join(root, f) for f in files if 'R2' in f])"
   ]
  },
  {
   "cell_type": "code",
   "execution_count": 29,
   "metadata": {
    "collapsed": true
   },
   "outputs": [
    {
     "name": "stdout",
     "output_type": "stream",
     "text": [
      "['/home/baker/my-single-cell-share/James_fastq_Adapter_Untrimmed_Miseq_Size_Trimmed/C01_S17_R1_001.fastq.gz', '/home/baker/my-single-cell-share/James_fastq_Adapter_Untrimmed_Miseq_Size_Trimmed/C02_S9_R1_001.fastq.gz', '/home/baker/my-single-cell-share/James_fastq_Adapter_Untrimmed_Miseq_Size_Trimmed/C03_S1_R1_001.fastq.gz', '/home/baker/my-single-cell-share/James_fastq_Adapter_Untrimmed_Miseq_Size_Trimmed/C04_S65_R1_001.fastq.gz', '/home/baker/my-single-cell-share/James_fastq_Adapter_Untrimmed_Miseq_Size_Trimmed/C05_S57_R1_001.fastq.gz', '/home/baker/my-single-cell-share/James_fastq_Adapter_Untrimmed_Miseq_Size_Trimmed/C06_S49_R1_001.fastq.gz', '/home/baker/my-single-cell-share/James_fastq_Adapter_Untrimmed_Miseq_Size_Trimmed/C07_S18_R1_001.fastq.gz', '/home/baker/my-single-cell-share/James_fastq_Adapter_Untrimmed_Miseq_Size_Trimmed/C08_S10_R1_001.fastq.gz', '/home/baker/my-single-cell-share/James_fastq_Adapter_Untrimmed_Miseq_Size_Trimmed/C09_S2_R1_001.fastq.gz', '/home/baker/my-single-cell-share/James_fastq_Adapter_Untrimmed_Miseq_Size_Trimmed/C10_S66_R1_001.fastq.gz', '/home/baker/my-single-cell-share/James_fastq_Adapter_Untrimmed_Miseq_Size_Trimmed/C11_S58_R1_001.fastq.gz', '/home/baker/my-single-cell-share/James_fastq_Adapter_Untrimmed_Miseq_Size_Trimmed/C12_S50_R1_001.fastq.gz', '/home/baker/my-single-cell-share/James_fastq_Adapter_Untrimmed_Miseq_Size_Trimmed/C13_S19_R1_001.fastq.gz', '/home/baker/my-single-cell-share/James_fastq_Adapter_Untrimmed_Miseq_Size_Trimmed/C14_S11_R1_001.fastq.gz', '/home/baker/my-single-cell-share/James_fastq_Adapter_Untrimmed_Miseq_Size_Trimmed/C15_S3_R1_001.fastq.gz', '/home/baker/my-single-cell-share/James_fastq_Adapter_Untrimmed_Miseq_Size_Trimmed/C16_S67_R1_001.fastq.gz', '/home/baker/my-single-cell-share/James_fastq_Adapter_Untrimmed_Miseq_Size_Trimmed/C17_S59_R1_001.fastq.gz', '/home/baker/my-single-cell-share/James_fastq_Adapter_Untrimmed_Miseq_Size_Trimmed/C18_S51_R1_001.fastq.gz', '/home/baker/my-single-cell-share/James_fastq_Adapter_Untrimmed_Miseq_Size_Trimmed/C19_S20_R1_001.fastq.gz', '/home/baker/my-single-cell-share/James_fastq_Adapter_Untrimmed_Miseq_Size_Trimmed/C20_S12_R1_001.fastq.gz', '/home/baker/my-single-cell-share/James_fastq_Adapter_Untrimmed_Miseq_Size_Trimmed/C21_S4_R1_001.fastq.gz', '/home/baker/my-single-cell-share/James_fastq_Adapter_Untrimmed_Miseq_Size_Trimmed/C22_S68_R1_001.fastq.gz', '/home/baker/my-single-cell-share/James_fastq_Adapter_Untrimmed_Miseq_Size_Trimmed/C23_S60_R1_001.fastq.gz', '/home/baker/my-single-cell-share/James_fastq_Adapter_Untrimmed_Miseq_Size_Trimmed/C24_S52_R1_001.fastq.gz', '/home/baker/my-single-cell-share/James_fastq_Adapter_Untrimmed_Miseq_Size_Trimmed/C25_S5_R1_001.fastq.gz', '/home/baker/my-single-cell-share/James_fastq_Adapter_Untrimmed_Miseq_Size_Trimmed/C26_S13_R1_001.fastq.gz', '/home/baker/my-single-cell-share/James_fastq_Adapter_Untrimmed_Miseq_Size_Trimmed/C27_S21_R1_001.fastq.gz', '/home/baker/my-single-cell-share/James_fastq_Adapter_Untrimmed_Miseq_Size_Trimmed/C28_S53_R1_001.fastq.gz', '/home/baker/my-single-cell-share/James_fastq_Adapter_Untrimmed_Miseq_Size_Trimmed/C29_S61_R1_001.fastq.gz', '/home/baker/my-single-cell-share/James_fastq_Adapter_Untrimmed_Miseq_Size_Trimmed/C30_S69_R1_001.fastq.gz', '/home/baker/my-single-cell-share/James_fastq_Adapter_Untrimmed_Miseq_Size_Trimmed/C31_S6_R1_001.fastq.gz', '/home/baker/my-single-cell-share/James_fastq_Adapter_Untrimmed_Miseq_Size_Trimmed/C32_S14_R1_001.fastq.gz', '/home/baker/my-single-cell-share/James_fastq_Adapter_Untrimmed_Miseq_Size_Trimmed/C33_S22_R1_001.fastq.gz', '/home/baker/my-single-cell-share/James_fastq_Adapter_Untrimmed_Miseq_Size_Trimmed/C34_S54_R1_001.fastq.gz', '/home/baker/my-single-cell-share/James_fastq_Adapter_Untrimmed_Miseq_Size_Trimmed/C35_S62_R1_001.fastq.gz', '/home/baker/my-single-cell-share/James_fastq_Adapter_Untrimmed_Miseq_Size_Trimmed/C36_S70_R1_001.fastq.gz', '/home/baker/my-single-cell-share/James_fastq_Adapter_Untrimmed_Miseq_Size_Trimmed/C37_S7_R1_001.fastq.gz', '/home/baker/my-single-cell-share/James_fastq_Adapter_Untrimmed_Miseq_Size_Trimmed/C38_S15_R1_001.fastq.gz', '/home/baker/my-single-cell-share/James_fastq_Adapter_Untrimmed_Miseq_Size_Trimmed/C39_S23_R1_001.fastq.gz', '/home/baker/my-single-cell-share/James_fastq_Adapter_Untrimmed_Miseq_Size_Trimmed/C40_S55_R1_001.fastq.gz', '/home/baker/my-single-cell-share/James_fastq_Adapter_Untrimmed_Miseq_Size_Trimmed/C41_S63_R1_001.fastq.gz', '/home/baker/my-single-cell-share/James_fastq_Adapter_Untrimmed_Miseq_Size_Trimmed/C42_S71_R1_001.fastq.gz', '/home/baker/my-single-cell-share/James_fastq_Adapter_Untrimmed_Miseq_Size_Trimmed/C43_S8_R1_001.fastq.gz', '/home/baker/my-single-cell-share/James_fastq_Adapter_Untrimmed_Miseq_Size_Trimmed/C44_S16_R1_001.fastq.gz', '/home/baker/my-single-cell-share/James_fastq_Adapter_Untrimmed_Miseq_Size_Trimmed/C45_S24_R1_001.fastq.gz', '/home/baker/my-single-cell-share/James_fastq_Adapter_Untrimmed_Miseq_Size_Trimmed/C46_S56_R1_001.fastq.gz', '/home/baker/my-single-cell-share/James_fastq_Adapter_Untrimmed_Miseq_Size_Trimmed/C47_S64_R1_001.fastq.gz', '/home/baker/my-single-cell-share/James_fastq_Adapter_Untrimmed_Miseq_Size_Trimmed/C48_S72_R1_001.fastq.gz', '/home/baker/my-single-cell-share/James_fastq_Adapter_Untrimmed_Miseq_Size_Trimmed/C49_S25_R1_001.fastq.gz', '/home/baker/my-single-cell-share/James_fastq_Adapter_Untrimmed_Miseq_Size_Trimmed/C50_S33_R1_001.fastq.gz', '/home/baker/my-single-cell-share/James_fastq_Adapter_Untrimmed_Miseq_Size_Trimmed/C51_S41_R1_001.fastq.gz', '/home/baker/my-single-cell-share/James_fastq_Adapter_Untrimmed_Miseq_Size_Trimmed/C52_S73_R1_001.fastq.gz', '/home/baker/my-single-cell-share/James_fastq_Adapter_Untrimmed_Miseq_Size_Trimmed/C53_S81_R1_001.fastq.gz', '/home/baker/my-single-cell-share/James_fastq_Adapter_Untrimmed_Miseq_Size_Trimmed/C54_S89_R1_001.fastq.gz', '/home/baker/my-single-cell-share/James_fastq_Adapter_Untrimmed_Miseq_Size_Trimmed/C55_S26_R1_001.fastq.gz', '/home/baker/my-single-cell-share/James_fastq_Adapter_Untrimmed_Miseq_Size_Trimmed/C56_S34_R1_001.fastq.gz', '/home/baker/my-single-cell-share/James_fastq_Adapter_Untrimmed_Miseq_Size_Trimmed/C57_S42_R1_001.fastq.gz', '/home/baker/my-single-cell-share/James_fastq_Adapter_Untrimmed_Miseq_Size_Trimmed/C58_S74_R1_001.fastq.gz', '/home/baker/my-single-cell-share/James_fastq_Adapter_Untrimmed_Miseq_Size_Trimmed/C59_S82_R1_001.fastq.gz', '/home/baker/my-single-cell-share/James_fastq_Adapter_Untrimmed_Miseq_Size_Trimmed/C60_S90_R1_001.fastq.gz', '/home/baker/my-single-cell-share/James_fastq_Adapter_Untrimmed_Miseq_Size_Trimmed/C61_S27_R1_001.fastq.gz', '/home/baker/my-single-cell-share/James_fastq_Adapter_Untrimmed_Miseq_Size_Trimmed/C62_S35_R1_001.fastq.gz', '/home/baker/my-single-cell-share/James_fastq_Adapter_Untrimmed_Miseq_Size_Trimmed/C63_S43_R1_001.fastq.gz', '/home/baker/my-single-cell-share/James_fastq_Adapter_Untrimmed_Miseq_Size_Trimmed/C64_S75_R1_001.fastq.gz', '/home/baker/my-single-cell-share/James_fastq_Adapter_Untrimmed_Miseq_Size_Trimmed/C65_S83_R1_001.fastq.gz', '/home/baker/my-single-cell-share/James_fastq_Adapter_Untrimmed_Miseq_Size_Trimmed/C66_S91_R1_001.fastq.gz', '/home/baker/my-single-cell-share/James_fastq_Adapter_Untrimmed_Miseq_Size_Trimmed/C67_S28_R1_001.fastq.gz', '/home/baker/my-single-cell-share/James_fastq_Adapter_Untrimmed_Miseq_Size_Trimmed/C68_S36_R1_001.fastq.gz', '/home/baker/my-single-cell-share/James_fastq_Adapter_Untrimmed_Miseq_Size_Trimmed/C69_S44_R1_001.fastq.gz', '/home/baker/my-single-cell-share/James_fastq_Adapter_Untrimmed_Miseq_Size_Trimmed/C70_S76_R1_001.fastq.gz', '/home/baker/my-single-cell-share/James_fastq_Adapter_Untrimmed_Miseq_Size_Trimmed/C71_S84_R1_001.fastq.gz', '/home/baker/my-single-cell-share/James_fastq_Adapter_Untrimmed_Miseq_Size_Trimmed/C72_S92_R1_001.fastq.gz', '/home/baker/my-single-cell-share/James_fastq_Adapter_Untrimmed_Miseq_Size_Trimmed/C73_S45_R1_001.fastq.gz', '/home/baker/my-single-cell-share/James_fastq_Adapter_Untrimmed_Miseq_Size_Trimmed/C74_S37_R1_001.fastq.gz', '/home/baker/my-single-cell-share/James_fastq_Adapter_Untrimmed_Miseq_Size_Trimmed/C75_S29_R1_001.fastq.gz', '/home/baker/my-single-cell-share/James_fastq_Adapter_Untrimmed_Miseq_Size_Trimmed/C76_S93_R1_001.fastq.gz', '/home/baker/my-single-cell-share/James_fastq_Adapter_Untrimmed_Miseq_Size_Trimmed/C77_S85_R1_001.fastq.gz', '/home/baker/my-single-cell-share/James_fastq_Adapter_Untrimmed_Miseq_Size_Trimmed/C78_S77_R1_001.fastq.gz', '/home/baker/my-single-cell-share/James_fastq_Adapter_Untrimmed_Miseq_Size_Trimmed/C79_S46_R1_001.fastq.gz', '/home/baker/my-single-cell-share/James_fastq_Adapter_Untrimmed_Miseq_Size_Trimmed/C80_S38_R1_001.fastq.gz', '/home/baker/my-single-cell-share/James_fastq_Adapter_Untrimmed_Miseq_Size_Trimmed/C81_S30_R1_001.fastq.gz', '/home/baker/my-single-cell-share/James_fastq_Adapter_Untrimmed_Miseq_Size_Trimmed/C82_S94_R1_001.fastq.gz', '/home/baker/my-single-cell-share/James_fastq_Adapter_Untrimmed_Miseq_Size_Trimmed/C83_S86_R1_001.fastq.gz', '/home/baker/my-single-cell-share/James_fastq_Adapter_Untrimmed_Miseq_Size_Trimmed/C84_S78_R1_001.fastq.gz', '/home/baker/my-single-cell-share/James_fastq_Adapter_Untrimmed_Miseq_Size_Trimmed/C85_S47_R1_001.fastq.gz', '/home/baker/my-single-cell-share/James_fastq_Adapter_Untrimmed_Miseq_Size_Trimmed/C86_S39_R1_001.fastq.gz', '/home/baker/my-single-cell-share/James_fastq_Adapter_Untrimmed_Miseq_Size_Trimmed/C87_S31_R1_001.fastq.gz', '/home/baker/my-single-cell-share/James_fastq_Adapter_Untrimmed_Miseq_Size_Trimmed/C88_S95_R1_001.fastq.gz', '/home/baker/my-single-cell-share/James_fastq_Adapter_Untrimmed_Miseq_Size_Trimmed/C89_S87_R1_001.fastq.gz', '/home/baker/my-single-cell-share/James_fastq_Adapter_Untrimmed_Miseq_Size_Trimmed/C90_S79_R1_001.fastq.gz', '/home/baker/my-single-cell-share/James_fastq_Adapter_Untrimmed_Miseq_Size_Trimmed/C91_S48_R1_001.fastq.gz', '/home/baker/my-single-cell-share/James_fastq_Adapter_Untrimmed_Miseq_Size_Trimmed/C92_S40_R1_001.fastq.gz', '/home/baker/my-single-cell-share/James_fastq_Adapter_Untrimmed_Miseq_Size_Trimmed/C93_S32_R1_001.fastq.gz', '/home/baker/my-single-cell-share/James_fastq_Adapter_Untrimmed_Miseq_Size_Trimmed/C94_S96_R1_001.fastq.gz', '/home/baker/my-single-cell-share/James_fastq_Adapter_Untrimmed_Miseq_Size_Trimmed/C95_S88_R1_001.fastq.gz', '/home/baker/my-single-cell-share/James_fastq_Adapter_Untrimmed_Miseq_Size_Trimmed/C96_S80_R1_001.fastq.gz'] ['/home/baker/my-single-cell-share/James_fastq_Adapter_Untrimmed_Miseq_Size_Trimmed/C01_S17_R2_001.fastq.gz', '/home/baker/my-single-cell-share/James_fastq_Adapter_Untrimmed_Miseq_Size_Trimmed/C02_S9_R2_001.fastq.gz', '/home/baker/my-single-cell-share/James_fastq_Adapter_Untrimmed_Miseq_Size_Trimmed/C03_S1_R2_001.fastq.gz', '/home/baker/my-single-cell-share/James_fastq_Adapter_Untrimmed_Miseq_Size_Trimmed/C04_S65_R2_001.fastq.gz', '/home/baker/my-single-cell-share/James_fastq_Adapter_Untrimmed_Miseq_Size_Trimmed/C05_S57_R2_001.fastq.gz', '/home/baker/my-single-cell-share/James_fastq_Adapter_Untrimmed_Miseq_Size_Trimmed/C06_S49_R2_001.fastq.gz', '/home/baker/my-single-cell-share/James_fastq_Adapter_Untrimmed_Miseq_Size_Trimmed/C07_S18_R2_001.fastq.gz', '/home/baker/my-single-cell-share/James_fastq_Adapter_Untrimmed_Miseq_Size_Trimmed/C08_S10_R2_001.fastq.gz', '/home/baker/my-single-cell-share/James_fastq_Adapter_Untrimmed_Miseq_Size_Trimmed/C09_S2_R2_001.fastq.gz', '/home/baker/my-single-cell-share/James_fastq_Adapter_Untrimmed_Miseq_Size_Trimmed/C10_S66_R2_001.fastq.gz', '/home/baker/my-single-cell-share/James_fastq_Adapter_Untrimmed_Miseq_Size_Trimmed/C11_S58_R2_001.fastq.gz', '/home/baker/my-single-cell-share/James_fastq_Adapter_Untrimmed_Miseq_Size_Trimmed/C12_S50_R2_001.fastq.gz', '/home/baker/my-single-cell-share/James_fastq_Adapter_Untrimmed_Miseq_Size_Trimmed/C13_S19_R2_001.fastq.gz', '/home/baker/my-single-cell-share/James_fastq_Adapter_Untrimmed_Miseq_Size_Trimmed/C14_S11_R2_001.fastq.gz', '/home/baker/my-single-cell-share/James_fastq_Adapter_Untrimmed_Miseq_Size_Trimmed/C15_S3_R2_001.fastq.gz', '/home/baker/my-single-cell-share/James_fastq_Adapter_Untrimmed_Miseq_Size_Trimmed/C16_S67_R2_001.fastq.gz', '/home/baker/my-single-cell-share/James_fastq_Adapter_Untrimmed_Miseq_Size_Trimmed/C17_S59_R2_001.fastq.gz', '/home/baker/my-single-cell-share/James_fastq_Adapter_Untrimmed_Miseq_Size_Trimmed/C18_S51_R2_001.fastq.gz', '/home/baker/my-single-cell-share/James_fastq_Adapter_Untrimmed_Miseq_Size_Trimmed/C19_S20_R2_001.fastq.gz', '/home/baker/my-single-cell-share/James_fastq_Adapter_Untrimmed_Miseq_Size_Trimmed/C20_S12_R2_001.fastq.gz', '/home/baker/my-single-cell-share/James_fastq_Adapter_Untrimmed_Miseq_Size_Trimmed/C21_S4_R2_001.fastq.gz', '/home/baker/my-single-cell-share/James_fastq_Adapter_Untrimmed_Miseq_Size_Trimmed/C22_S68_R2_001.fastq.gz', '/home/baker/my-single-cell-share/James_fastq_Adapter_Untrimmed_Miseq_Size_Trimmed/C23_S60_R2_001.fastq.gz', '/home/baker/my-single-cell-share/James_fastq_Adapter_Untrimmed_Miseq_Size_Trimmed/C24_S52_R2_001.fastq.gz', '/home/baker/my-single-cell-share/James_fastq_Adapter_Untrimmed_Miseq_Size_Trimmed/C25_S5_R2_001.fastq.gz', '/home/baker/my-single-cell-share/James_fastq_Adapter_Untrimmed_Miseq_Size_Trimmed/C26_S13_R2_001.fastq.gz', '/home/baker/my-single-cell-share/James_fastq_Adapter_Untrimmed_Miseq_Size_Trimmed/C27_S21_R2_001.fastq.gz', '/home/baker/my-single-cell-share/James_fastq_Adapter_Untrimmed_Miseq_Size_Trimmed/C28_S53_R2_001.fastq.gz', '/home/baker/my-single-cell-share/James_fastq_Adapter_Untrimmed_Miseq_Size_Trimmed/C29_S61_R2_001.fastq.gz', '/home/baker/my-single-cell-share/James_fastq_Adapter_Untrimmed_Miseq_Size_Trimmed/C30_S69_R2_001.fastq.gz', '/home/baker/my-single-cell-share/James_fastq_Adapter_Untrimmed_Miseq_Size_Trimmed/C31_S6_R2_001.fastq.gz', '/home/baker/my-single-cell-share/James_fastq_Adapter_Untrimmed_Miseq_Size_Trimmed/C32_S14_R2_001.fastq.gz', '/home/baker/my-single-cell-share/James_fastq_Adapter_Untrimmed_Miseq_Size_Trimmed/C33_S22_R2_001.fastq.gz', '/home/baker/my-single-cell-share/James_fastq_Adapter_Untrimmed_Miseq_Size_Trimmed/C34_S54_R2_001.fastq.gz', '/home/baker/my-single-cell-share/James_fastq_Adapter_Untrimmed_Miseq_Size_Trimmed/C35_S62_R2_001.fastq.gz', '/home/baker/my-single-cell-share/James_fastq_Adapter_Untrimmed_Miseq_Size_Trimmed/C36_S70_R2_001.fastq.gz', '/home/baker/my-single-cell-share/James_fastq_Adapter_Untrimmed_Miseq_Size_Trimmed/C37_S7_R2_001.fastq.gz', '/home/baker/my-single-cell-share/James_fastq_Adapter_Untrimmed_Miseq_Size_Trimmed/C38_S15_R2_001.fastq.gz', '/home/baker/my-single-cell-share/James_fastq_Adapter_Untrimmed_Miseq_Size_Trimmed/C39_S23_R2_001.fastq.gz', '/home/baker/my-single-cell-share/James_fastq_Adapter_Untrimmed_Miseq_Size_Trimmed/C40_S55_R2_001.fastq.gz', '/home/baker/my-single-cell-share/James_fastq_Adapter_Untrimmed_Miseq_Size_Trimmed/C41_S63_R2_001.fastq.gz', '/home/baker/my-single-cell-share/James_fastq_Adapter_Untrimmed_Miseq_Size_Trimmed/C42_S71_R2_001.fastq.gz', '/home/baker/my-single-cell-share/James_fastq_Adapter_Untrimmed_Miseq_Size_Trimmed/C43_S8_R2_001.fastq.gz', '/home/baker/my-single-cell-share/James_fastq_Adapter_Untrimmed_Miseq_Size_Trimmed/C44_S16_R2_001.fastq.gz', '/home/baker/my-single-cell-share/James_fastq_Adapter_Untrimmed_Miseq_Size_Trimmed/C45_S24_R2_001.fastq.gz', '/home/baker/my-single-cell-share/James_fastq_Adapter_Untrimmed_Miseq_Size_Trimmed/C46_S56_R2_001.fastq.gz', '/home/baker/my-single-cell-share/James_fastq_Adapter_Untrimmed_Miseq_Size_Trimmed/C47_S64_R2_001.fastq.gz', '/home/baker/my-single-cell-share/James_fastq_Adapter_Untrimmed_Miseq_Size_Trimmed/C48_S72_R2_001.fastq.gz', '/home/baker/my-single-cell-share/James_fastq_Adapter_Untrimmed_Miseq_Size_Trimmed/C49_S25_R2_001.fastq.gz', '/home/baker/my-single-cell-share/James_fastq_Adapter_Untrimmed_Miseq_Size_Trimmed/C50_S33_R2_001.fastq.gz', '/home/baker/my-single-cell-share/James_fastq_Adapter_Untrimmed_Miseq_Size_Trimmed/C51_S41_R2_001.fastq.gz', '/home/baker/my-single-cell-share/James_fastq_Adapter_Untrimmed_Miseq_Size_Trimmed/C52_S73_R2_001.fastq.gz', '/home/baker/my-single-cell-share/James_fastq_Adapter_Untrimmed_Miseq_Size_Trimmed/C53_S81_R2_001.fastq.gz', '/home/baker/my-single-cell-share/James_fastq_Adapter_Untrimmed_Miseq_Size_Trimmed/C54_S89_R2_001.fastq.gz', '/home/baker/my-single-cell-share/James_fastq_Adapter_Untrimmed_Miseq_Size_Trimmed/C55_S26_R2_001.fastq.gz', '/home/baker/my-single-cell-share/James_fastq_Adapter_Untrimmed_Miseq_Size_Trimmed/C56_S34_R2_001.fastq.gz', '/home/baker/my-single-cell-share/James_fastq_Adapter_Untrimmed_Miseq_Size_Trimmed/C57_S42_R2_001.fastq.gz', '/home/baker/my-single-cell-share/James_fastq_Adapter_Untrimmed_Miseq_Size_Trimmed/C58_S74_R2_001.fastq.gz', '/home/baker/my-single-cell-share/James_fastq_Adapter_Untrimmed_Miseq_Size_Trimmed/C59_S82_R2_001.fastq.gz', '/home/baker/my-single-cell-share/James_fastq_Adapter_Untrimmed_Miseq_Size_Trimmed/C60_S90_R2_001.fastq.gz', '/home/baker/my-single-cell-share/James_fastq_Adapter_Untrimmed_Miseq_Size_Trimmed/C61_S27_R2_001.fastq.gz', '/home/baker/my-single-cell-share/James_fastq_Adapter_Untrimmed_Miseq_Size_Trimmed/C62_S35_R2_001.fastq.gz', '/home/baker/my-single-cell-share/James_fastq_Adapter_Untrimmed_Miseq_Size_Trimmed/C63_S43_R2_001.fastq.gz', '/home/baker/my-single-cell-share/James_fastq_Adapter_Untrimmed_Miseq_Size_Trimmed/C64_S75_R2_001.fastq.gz', '/home/baker/my-single-cell-share/James_fastq_Adapter_Untrimmed_Miseq_Size_Trimmed/C65_S83_R2_001.fastq.gz', '/home/baker/my-single-cell-share/James_fastq_Adapter_Untrimmed_Miseq_Size_Trimmed/C66_S91_R2_001.fastq.gz', '/home/baker/my-single-cell-share/James_fastq_Adapter_Untrimmed_Miseq_Size_Trimmed/C67_S28_R2_001.fastq.gz', '/home/baker/my-single-cell-share/James_fastq_Adapter_Untrimmed_Miseq_Size_Trimmed/C68_S36_R2_001.fastq.gz', '/home/baker/my-single-cell-share/James_fastq_Adapter_Untrimmed_Miseq_Size_Trimmed/C69_S44_R2_001.fastq.gz', '/home/baker/my-single-cell-share/James_fastq_Adapter_Untrimmed_Miseq_Size_Trimmed/C70_S76_R2_001.fastq.gz', '/home/baker/my-single-cell-share/James_fastq_Adapter_Untrimmed_Miseq_Size_Trimmed/C71_S84_R2_001.fastq.gz', '/home/baker/my-single-cell-share/James_fastq_Adapter_Untrimmed_Miseq_Size_Trimmed/C72_S92_R2_001.fastq.gz', '/home/baker/my-single-cell-share/James_fastq_Adapter_Untrimmed_Miseq_Size_Trimmed/C73_S45_R2_001.fastq.gz', '/home/baker/my-single-cell-share/James_fastq_Adapter_Untrimmed_Miseq_Size_Trimmed/C74_S37_R2_001.fastq.gz', '/home/baker/my-single-cell-share/James_fastq_Adapter_Untrimmed_Miseq_Size_Trimmed/C75_S29_R2_001.fastq.gz', '/home/baker/my-single-cell-share/James_fastq_Adapter_Untrimmed_Miseq_Size_Trimmed/C76_S93_R2_001.fastq.gz', '/home/baker/my-single-cell-share/James_fastq_Adapter_Untrimmed_Miseq_Size_Trimmed/C77_S85_R2_001.fastq.gz', '/home/baker/my-single-cell-share/James_fastq_Adapter_Untrimmed_Miseq_Size_Trimmed/C78_S77_R2_001.fastq.gz', '/home/baker/my-single-cell-share/James_fastq_Adapter_Untrimmed_Miseq_Size_Trimmed/C79_S46_R2_001.fastq.gz', '/home/baker/my-single-cell-share/James_fastq_Adapter_Untrimmed_Miseq_Size_Trimmed/C80_S38_R2_001.fastq.gz', '/home/baker/my-single-cell-share/James_fastq_Adapter_Untrimmed_Miseq_Size_Trimmed/C81_S30_R2_001.fastq.gz', '/home/baker/my-single-cell-share/James_fastq_Adapter_Untrimmed_Miseq_Size_Trimmed/C82_S94_R2_001.fastq.gz', '/home/baker/my-single-cell-share/James_fastq_Adapter_Untrimmed_Miseq_Size_Trimmed/C83_S86_R2_001.fastq.gz', '/home/baker/my-single-cell-share/James_fastq_Adapter_Untrimmed_Miseq_Size_Trimmed/C84_S78_R2_001.fastq.gz', '/home/baker/my-single-cell-share/James_fastq_Adapter_Untrimmed_Miseq_Size_Trimmed/C85_S47_R2_001.fastq.gz', '/home/baker/my-single-cell-share/James_fastq_Adapter_Untrimmed_Miseq_Size_Trimmed/C86_S39_R2_001.fastq.gz', '/home/baker/my-single-cell-share/James_fastq_Adapter_Untrimmed_Miseq_Size_Trimmed/C87_S31_R2_001.fastq.gz', '/home/baker/my-single-cell-share/James_fastq_Adapter_Untrimmed_Miseq_Size_Trimmed/C88_S95_R2_001.fastq.gz', '/home/baker/my-single-cell-share/James_fastq_Adapter_Untrimmed_Miseq_Size_Trimmed/C89_S87_R2_001.fastq.gz', '/home/baker/my-single-cell-share/James_fastq_Adapter_Untrimmed_Miseq_Size_Trimmed/C90_S79_R2_001.fastq.gz', '/home/baker/my-single-cell-share/James_fastq_Adapter_Untrimmed_Miseq_Size_Trimmed/C91_S48_R2_001.fastq.gz', '/home/baker/my-single-cell-share/James_fastq_Adapter_Untrimmed_Miseq_Size_Trimmed/C92_S40_R2_001.fastq.gz', '/home/baker/my-single-cell-share/James_fastq_Adapter_Untrimmed_Miseq_Size_Trimmed/C93_S32_R2_001.fastq.gz', '/home/baker/my-single-cell-share/James_fastq_Adapter_Untrimmed_Miseq_Size_Trimmed/C94_S96_R2_001.fastq.gz', '/home/baker/my-single-cell-share/James_fastq_Adapter_Untrimmed_Miseq_Size_Trimmed/C95_S88_R2_001.fastq.gz', '/home/baker/my-single-cell-share/James_fastq_Adapter_Untrimmed_Miseq_Size_Trimmed/C96_S80_R2_001.fastq.gz']\n"
     ]
    }
   ],
   "source": [
    "print reads1, reads2"
   ]
  },
  {
   "cell_type": "markdown",
   "metadata": {},
   "source": [
    "Run the commands for all the pairs"
   ]
  },
  {
   "cell_type": "code",
   "execution_count": 30,
   "metadata": {
    "collapsed": false
   },
   "outputs": [],
   "source": [
    "for read1, read2 in zip(reads1, reads2):\n",
    "    args = get_args(read1, read2, ref_genome, bacterial_ref_genome, Spike_in_genome, output_folders)\n",
    "    args = dict(args, **softwares)    \n",
    "    for cmd in cmds:        \n",
    "        #print cmd.format(**args)\n",
    "        subprocess.call(cmd.format(**args), preexec_fn=lambda: signal.signal(signal.SIGPIPE, signal.SIG_DFL), shell=True)"
   ]
  },
  {
   "cell_type": "code",
   "execution_count": 31,
   "metadata": {
    "collapsed": false,
    "scrolled": true
   },
   "outputs": [
    {
     "data": {
      "text/plain": [
       "0"
      ]
     },
     "execution_count": 31,
     "metadata": {},
     "output_type": "execute_result"
    }
   ],
   "source": [
    "FeatureCountFolder = outputFolder + 'featureCount_output/'\n",
    "bedToBamOutputFolder = outputFolder + 'bedToBam_output/'\n",
    "root, folders, files = os.walk(bedToBamOutputFolder).next()\n",
    "files = [os.path.join(root, f) for f in files if f.endswith('_sorted_header.bam')]\n",
    "files = sorted(files)\n",
    "featureCountCmd = '/home/baker/Downloads/subread-1.5.0-p1-source/bin/./featureCounts -p -t exon -g gene_id -a /home/baker/my-mm10-index-share/annotation/Gencode-M5/gencode.vM5.annotation.gtf -o '+ FeatureCountFolder+'AllFeatureCounts.txt '\n",
    "for f in files:   \n",
    "    featureCountCmd = featureCountCmd + f + ' '    \n",
    "subprocess.call(featureCountCmd, shell=True)\n",
    "#print featureCountCmd"
   ]
  },
  {
   "cell_type": "markdown",
   "metadata": {},
   "source": [
    "__Extracting the counts mapped with Bacterial Genome__"
   ]
  },
  {
   "cell_type": "code",
   "execution_count": 32,
   "metadata": {
    "collapsed": false
   },
   "outputs": [],
   "source": [
    "BacterialGenomeFolder = outputFolder + 'bacterial_genome_mapped/'\n",
    "root, folders, files = os.walk(BacterialGenomeFolder).next()\n",
    "files = [os.path.join(root, f) for f in files if f.endswith('.Logfile')]\n",
    "files = sorted(files)\n",
    "\n",
    "BacterialCountFile = BacterialGenomeFolder + 'BacteriaCount.txt'\n",
    "BacterialCount = \"CellName\"+ \"\\t\" + \"Counts\" + \"\\t\" + \"PercentMapped \\n\"\n",
    "\n",
    "for f in files:\n",
    "    file_Bacteria = open(f,'rb')\n",
    "    for line in file_Bacteria:\n",
    "        if \"mapped (\" in line :\n",
    "            BacterialCount = BacterialCount + f.rsplit('/', 1)[1].rsplit('_',3)[0] + '\\t' + line.rsplit('+', 1)[0] + '\\t' + line.rsplit('(', 1)[1].split('%', 1)[0]+'\\n' \n",
    "        \n",
    "\n",
    "target = open(BacterialCountFile, 'w')\n",
    "target.write(BacterialCount)\n",
    "target.close()"
   ]
  },
  {
   "cell_type": "markdown",
   "metadata": {},
   "source": [
    "__Extracting the counts mapped with Mouse Genome__"
   ]
  },
  {
   "cell_type": "code",
   "execution_count": 33,
   "metadata": {
    "collapsed": false
   },
   "outputs": [],
   "source": [
    "MouseGenomeFolder = outputFolder + 'genome_mapped/'\n",
    "root, folders, files = os.walk(MouseGenomeFolder).next()\n",
    "files = [os.path.join(root, f) for f in files if f.endswith('.Logfile')]\n",
    "files = sorted(files)\n",
    "\n",
    "MouseCountFile = MouseGenomeFolder + 'MouseCount.txt'\n",
    "MouseCount = \"CellName\"+ \"\\t\" + \"TotalReads\" + \"\\t\" + \"Mapped\" + \"\\t\" + \"PercentMapped \\n\"\n",
    "\n",
    "for f in files:\n",
    "    file_Mouse = open(f,'rb')\n",
    "    line = file_Mouse.readline().rstrip()\n",
    "    MouseCount = MouseCount + f.rsplit('/', 1)[1].rsplit('_',3)[0] + '\\t' + line.split(' + ', 1)[0]\n",
    "    for line in file_Mouse:        \n",
    "        if \"mapped (\" in line :\n",
    "            MouseCount = MouseCount + '\\t' + line.rsplit('+', 1)[0] + '\\t' + line.rsplit('(', 1)[1].split('%', 1)[0]+'\\n' \n",
    "        \n",
    "\n",
    "target = open(MouseCountFile, 'w')\n",
    "target.write(MouseCount)\n",
    "target.close()"
   ]
  },
  {
   "cell_type": "markdown",
   "metadata": {},
   "source": [
    "Generate the level1 file (__We are not using it at the moment__)"
   ]
  },
  {
   "cell_type": "code",
   "execution_count": null,
   "metadata": {
    "collapsed": true
   },
   "outputs": [],
   "source": [
    "genomeMapped = outputFolder + 'genome_mapped/'\n",
    "root, folders, files = os.walk(genomeMapped).next()\n",
    "files = [os.path.join(root, f) for f in files if f.endswith('bam')]\n",
    "level1 = 'python /home/baker/PromoterPipeline_20150516/level1.py -o /home/baker/my-scratch-share/James_Bagnall_Single_cell_rna_seq_Feature_Count/output/mylevel1file.l1.osc.gz -f 0x0042 -F 0x0104 --fingerprint {files}'.format(files=' '.join(files))"
   ]
  },
  {
   "cell_type": "code",
   "execution_count": null,
   "metadata": {
    "collapsed": false
   },
   "outputs": [],
   "source": [
    "subprocess.call(level1, shell=True)"
   ]
  },
  {
   "cell_type": "markdown",
   "metadata": {},
   "source": [
    "## Generate logs (triplet)"
   ]
  },
  {
   "cell_type": "markdown",
   "metadata": {},
   "source": [
    "Here we generate four summary files that will be used for [QC](https://github.com/Population-Transcriptomics/C1-CAGE-preview/blob/master/QC.md) and place them in the 'output' directory. \n",
    "\n",
    "1.  mapped.log: The number of mapped reads per cell\n",
    "2.  extracted.log: The number of remaining reads after filtering for ribosomal DNA and unreadable UMIs\n",
    "3.  filtered.log: The detailed number of ribosomal DNA extracted per cell\n",
    "4.  transcript_count.log: The exact number of unique transcprit per cell\n",
    "\n"
   ]
  },
  {
   "cell_type": "code",
   "execution_count": 34,
   "metadata": {
    "collapsed": true
   },
   "outputs": [],
   "source": [
    "total_cmd       = \"grep 'total input reads'      {tagdust_r1}_logfile.txt    | cut -f 2\"\n",
    "extracted_cmd   = \"grep 'successfully extracted' {tagdust_r1}_logfile.txt    | cut -f 2\"\n",
    "cleaned_cmd     = \"grep 'successfully extracted' {cleaned_reads}_logfile.txt | cut -f 2\"\n",
    "rdna_cmd        = \"grep 'ribosomal'              {cleaned_reads}_logfile.txt | cut -f 2\"\n",
    "spikes_cmd      = \"grep 'ERCC'                   {cleaned_reads}_logfile.txt | cut -f 2 | paste -s -d+ - | bc\"\n",
    "mapped_cmd      = \"{samtools} view -u -f 0x40 {genome_mapped}.bam | {samtools} flagstat - | grep 'mapped (' | cut -f 1 -d ' '\"\n",
    "properpairs_cmd = \"{samtools} view -u -f 0x42 {genome_mapped}.bam | {samtools} flagstat - | grep 'mapped (' | cut -f 1 -d ' '\"\n",
    "counts_cmd      = \"wc -l {cagescan_fragments}.bed | cut -f 1 -d ' '\""
   ]
  },
  {
   "cell_type": "code",
   "execution_count": 35,
   "metadata": {
    "collapsed": true
   },
   "outputs": [],
   "source": [
    "#remove _R1 from the file's name\n",
    "custom_rename = lambda x: x.replace('_R1', '')"
   ]
  },
  {
   "cell_type": "code",
   "execution_count": 36,
   "metadata": {
    "collapsed": false
   },
   "outputs": [],
   "source": [
    "total, cleaned, extracted, rdna, spikes, mapped, properpairs, counts = ([], [], [], [], [], [], [], [])\n",
    "\n",
    "def run_qc(command, dest, keyword):\n",
    "    output = subprocess.check_output(command.format(**args), shell=True).strip().decode()\n",
    "    dest.append([keyword, custom_rename(r1_shortname), output])\n",
    "\n",
    "for read1 in reads1:\n",
    "    r1_shortname = remove_extension(os.path.basename(read1))\n",
    "    \n",
    "    args = {'tagdust_r1':         os.path.join('output', 'tagdust_r1',         r1_shortname),\n",
    "            'genome_mapped':      os.path.join('output', 'genome_mapped',      r1_shortname),\n",
    "            'cagescan_fragments': os.path.join('output', 'cagescan_fragments', r1_shortname),\n",
    "            'cleaned_reads':      os.path.join('output', 'cleaned_reads',      r1_shortname),\n",
    "            'samtools': samtools_path}\n",
    "    \n",
    "    run_qc(total_cmd,       total,       'total')\n",
    "    run_qc(extracted_cmd,   extracted,   'extracted')\n",
    "    run_qc(cleaned_cmd,     cleaned,     'cleaned')\n",
    "    run_qc(rdna_cmd,        rdna,        'rdna')\n",
    "    run_qc(spikes_cmd,      spikes,      'spikes')\n",
    "    run_qc(mapped_cmd,      mapped,      'mapped')\n",
    "    run_qc(properpairs_cmd, properpairs, 'properpairs')\n",
    "    run_qc(counts_cmd,      counts,      'counts')"
   ]
  },
  {
   "cell_type": "code",
   "execution_count": 37,
   "metadata": {
    "collapsed": false
   },
   "outputs": [
    {
     "ename": "IOError",
     "evalue": "[Errno 2] No such file or directory: 'output/total.log'",
     "output_type": "error",
     "traceback": [
      "\u001b[1;31m---------------------------------------------------------------------------\u001b[0m\n\u001b[1;31mIOError\u001b[0m                                   Traceback (most recent call last)",
      "\u001b[1;32m<ipython-input-37-0258b6d1daca>\u001b[0m in \u001b[0;36m<module>\u001b[1;34m()\u001b[0m\n\u001b[0;32m      4\u001b[0m         \u001b[0mwriter\u001b[0m\u001b[1;33m.\u001b[0m\u001b[0mwriterows\u001b[0m\u001b[1;33m(\u001b[0m\u001b[0mresults\u001b[0m\u001b[1;33m)\u001b[0m\u001b[1;33m\u001b[0m\u001b[0m\n\u001b[0;32m      5\u001b[0m \u001b[1;33m\u001b[0m\u001b[0m\n\u001b[1;32m----> 6\u001b[1;33m \u001b[0mwrite_logs\u001b[0m\u001b[1;33m(\u001b[0m\u001b[1;34m'output/total.log'\u001b[0m\u001b[1;33m,\u001b[0m       \u001b[0mtotal\u001b[0m\u001b[1;33m)\u001b[0m\u001b[1;33m\u001b[0m\u001b[0m\n\u001b[0m\u001b[0;32m      7\u001b[0m \u001b[0mwrite_logs\u001b[0m\u001b[1;33m(\u001b[0m\u001b[1;34m'output/cleaned.log'\u001b[0m\u001b[1;33m,\u001b[0m     \u001b[0mcleaned\u001b[0m\u001b[1;33m)\u001b[0m\u001b[1;33m\u001b[0m\u001b[0m\n\u001b[0;32m      8\u001b[0m \u001b[0mwrite_logs\u001b[0m\u001b[1;33m(\u001b[0m\u001b[1;34m'output/extracted.log'\u001b[0m\u001b[1;33m,\u001b[0m   \u001b[0mextracted\u001b[0m\u001b[1;33m)\u001b[0m\u001b[1;33m\u001b[0m\u001b[0m\n",
      "\u001b[1;32m<ipython-input-37-0258b6d1daca>\u001b[0m in \u001b[0;36mwrite_logs\u001b[1;34m(file_dest, results)\u001b[0m\n\u001b[0;32m      1\u001b[0m \u001b[1;32mdef\u001b[0m \u001b[0mwrite_logs\u001b[0m\u001b[1;33m(\u001b[0m\u001b[0mfile_dest\u001b[0m\u001b[1;33m,\u001b[0m \u001b[0mresults\u001b[0m\u001b[1;33m)\u001b[0m\u001b[1;33m:\u001b[0m\u001b[1;33m\u001b[0m\u001b[0m\n\u001b[1;32m----> 2\u001b[1;33m     \u001b[1;32mwith\u001b[0m \u001b[0mopen\u001b[0m\u001b[1;33m(\u001b[0m\u001b[0mfile_dest\u001b[0m\u001b[1;33m,\u001b[0m \u001b[1;34m'w'\u001b[0m\u001b[1;33m)\u001b[0m \u001b[1;32mas\u001b[0m \u001b[0mhandler\u001b[0m\u001b[1;33m:\u001b[0m\u001b[1;33m\u001b[0m\u001b[0m\n\u001b[0m\u001b[0;32m      3\u001b[0m         \u001b[0mwriter\u001b[0m \u001b[1;33m=\u001b[0m \u001b[0mcsv\u001b[0m\u001b[1;33m.\u001b[0m\u001b[0mwriter\u001b[0m\u001b[1;33m(\u001b[0m\u001b[0mhandler\u001b[0m\u001b[1;33m,\u001b[0m \u001b[0mdelimiter\u001b[0m\u001b[1;33m=\u001b[0m\u001b[1;34m'\\t'\u001b[0m\u001b[1;33m)\u001b[0m\u001b[1;33m\u001b[0m\u001b[0m\n\u001b[0;32m      4\u001b[0m         \u001b[0mwriter\u001b[0m\u001b[1;33m.\u001b[0m\u001b[0mwriterows\u001b[0m\u001b[1;33m(\u001b[0m\u001b[0mresults\u001b[0m\u001b[1;33m)\u001b[0m\u001b[1;33m\u001b[0m\u001b[0m\n\u001b[0;32m      5\u001b[0m \u001b[1;33m\u001b[0m\u001b[0m\n",
      "\u001b[1;31mIOError\u001b[0m: [Errno 2] No such file or directory: 'output/total.log'"
     ]
    }
   ],
   "source": [
    "def write_logs(file_dest, results):\n",
    "    with open(file_dest, 'w') as handler:\n",
    "        writer = csv.writer(handler, delimiter='\\t')\n",
    "        writer.writerows(results)\n",
    "\n",
    "write_logs('output/total.log',       total)\n",
    "write_logs('output/cleaned.log',     cleaned)\n",
    "write_logs('output/extracted.log',   extracted)\n",
    "write_logs('output/rdna.log',        rdna)\n",
    "write_logs('output/spikes.log',      spikes)\n",
    "write_logs('output/mapped.log',      mapped)\n",
    "write_logs('output/properpairs.log', properpairs)\n",
    "write_logs('output/counts.log',      counts)"
   ]
  },
  {
   "cell_type": "markdown",
   "metadata": {
    "collapsed": true
   },
   "source": [
    "### Generating commands for htseq-count runs"
   ]
  },
  {
   "cell_type": "code",
   "execution_count": null,
   "metadata": {
    "collapsed": false
   },
   "outputs": [],
   "source": [
    "log_files = \"\"\n",
    "properlyPairedFolder = outputFolder + 'properly_paired/'\n",
    "root, folders, files = os.walk(properlyPairedFolder).next()\n",
    "htseq_command=\"\"\n",
    "htseqFile = outputFolder + 'htseq_command.txt'\n",
    "for f in files:   \n",
    "    htseq_command_file = open(htseqFile, 'a')\n",
    "    #htseq_command = \"qsub run_htseq-count output/properly_paired/\" + f + \" output/htseq_output/\"+f.split('_', 1)[0]+\"_htseq_count.txt\\n\"\n",
    "    htseq_command =\"sh run_htseq-count_desktop output/properly_paired/\" + f + \" output/htseq_output/\"+f.split('_', 1)[0]+\"_htseq_count.txt\\n\"\n",
    "    htseq_command_file.writelines(htseq_command)\n",
    "    htseq_command_file.close\n",
    "        #htseq_command.append([\"qsub run_htseq-count\", f])\n"
   ]
  },
  {
   "cell_type": "markdown",
   "metadata": {},
   "source": [
    "__Generating command for ERCC molecule count with -u option__"
   ]
  },
  {
   "cell_type": "code",
   "execution_count": null,
   "metadata": {
    "collapsed": true
   },
   "outputs": [],
   "source": [
    "properlyPairedFolder = outputFolder + 'properly_paired/'\n",
    "root, folders, files = os.walk(properlyPairedFolder).next()\n",
    "htseq_command=\"\"\n",
    "htseqFile = outputFolder + 'ERCC_command.txt'\n",
    "for f in files:   \n",
    "    htseq_command_file = open(htseqFile, 'a')\n",
    "    htseq_command = \"qsub -pe smp.pe 2 run_htseq_ERCC-count output/properly_paired/\" + f + \" output/ERCC_Reads/\"+f.split('_', 1)[0]+\"_ERCC_count.txt\\n\"\n",
    "    htseq_command_file.writelines(htseq_command)\n",
    "    htseq_command_file.close"
   ]
  },
  {
   "cell_type": "markdown",
   "metadata": {},
   "source": [
    "__Combinging htseq count files and ERRC count files__"
   ]
  },
  {
   "cell_type": "markdown",
   "metadata": {},
   "source": [
    "The following command counts ERCC reads from the tagdust output"
   ]
  },
  {
   "cell_type": "code",
   "execution_count": null,
   "metadata": {
    "collapsed": false
   },
   "outputs": [],
   "source": [
    "cleanedReadsFolder = outputFolder + 'cleaned_reads/'\n",
    "root, folders, files = os.walk(cleanedReadsFolder).next()\n",
    "files = [os.path.join(\"\", f) for f in files if f.endswith('txt')]"
   ]
  },
  {
   "cell_type": "code",
   "execution_count": null,
   "metadata": {
    "collapsed": false
   },
   "outputs": [],
   "source": [
    "for f in files:    \n",
    "    ERCC_val = ERCC_finder(f)"
   ]
  },
  {
   "cell_type": "code",
   "execution_count": null,
   "metadata": {
    "collapsed": false,
    "scrolled": true
   },
   "outputs": [],
   "source": [
    "ERCCFolder = outputFolder + 'ERCC_count/'\n",
    "ERCCFile = outputFolder + 'AllERCC_Counts.tsv'\n",
    "do_walk(ERCCFolder, 'ERCC_count_', ERCCFile, onerror=None, followlinks=False, verbose=True, divider=None, sort=\"both\")"
   ]
  },
  {
   "cell_type": "markdown",
   "metadata": {},
   "source": [
    "This command combines the htseq counts from hydra"
   ]
  },
  {
   "cell_type": "code",
   "execution_count": null,
   "metadata": {
    "collapsed": true
   },
   "outputs": [],
   "source": [
    "HTSEQFolder = outputFolder + 'htseq_output/'\n",
    "HTSEqFile = outputFolder + 'AllHtseqCounts.tsv'\n",
    "do_walk(HTSEQFolder, 'htseq_count.txt', HTSEqFile, onerror=None, followlinks=False, verbose=True, divider=None, sort=\"both\")"
   ]
  },
  {
   "cell_type": "code",
   "execution_count": null,
   "metadata": {
    "collapsed": true
   },
   "outputs": [],
   "source": []
  },
  {
   "cell_type": "code",
   "execution_count": null,
   "metadata": {
    "collapsed": true
   },
   "outputs": [],
   "source": []
  },
  {
   "cell_type": "code",
   "execution_count": null,
   "metadata": {
    "collapsed": false
   },
   "outputs": [],
   "source": [
    "%%R\n",
    "CountData <- read.table('/home/baker/my-scratch-share/James_Bagnall_Single_cell_rna_seq_BWA_mem_Feature_Count/output/AllHtseqCounts.tsv',header=TRUE, sep='\\t',row.names=1)\n",
    "CellNumber <- dim(CountData)[2]"
   ]
  },
  {
   "cell_type": "code",
   "execution_count": null,
   "metadata": {
    "collapsed": false,
    "scrolled": true
   },
   "outputs": [],
   "source": [
    "%%R\n",
    "head(CountData)"
   ]
  },
  {
   "cell_type": "markdown",
   "metadata": {},
   "source": [
    "## Generating summary"
   ]
  },
  {
   "cell_type": "code",
   "execution_count": null,
   "metadata": {
    "collapsed": false
   },
   "outputs": [],
   "source": [
    "%%R\n",
    "# summary_data <- data.frame(CellNumber= character(CellNumber), Assigned_Reads=numeric(CellNumber),alignment_not_unique=numeric(CellNumber),ambiguous=numeric(CellNumber),no_feature=numeric(CellNumber),not_aligned=numeric(CellNumber),too_low_aQual=numeric(CellNumber ) )\n",
    "summary_data <- data.frame(CellNumber= character(CellNumber), Assigned_Reads=numeric(CellNumber))\n",
    "summary_data$CellNumber <- colnames(CountData)\n",
    "summary_data$Assigned_Reads <- apply(CountData[grep(\"ENSMUSG\", rownames(CountData)), ],2,sum) \n",
    "#summary_data$alignment_not_unique <- t(CountData[grep(\"alignment_not_unique\", rownames(CountData)), ])\n",
    "#summary_data$ambiguous <- t(CountData[grep(\"ambiguous\", rownames(CountData)), ])\n",
    "#summary_data$no_feature <- t(CountData[grep(\"no_feature\", rownames(CountData)), ])\n",
    "#summary_data$not_aligned <- t(CountData[grep(\"not_aligned\", rownames(CountData)), ])\n",
    "#summary_data$too_low_aQual <- t(CountData[grep(\"too_low_aQual\", rownames(CountData)), ])\n",
    "\n",
    "#apply(CountData[grep(\"ENSMUSG\", rownames(CountData)), ],2,sum) "
   ]
  },
  {
   "cell_type": "code",
   "execution_count": null,
   "metadata": {
    "collapsed": true
   },
   "outputs": [],
   "source": [
    "%%R\n",
    "summary_data"
   ]
  },
  {
   "cell_type": "code",
   "execution_count": null,
   "metadata": {
    "collapsed": false
   },
   "outputs": [],
   "source": [
    "%%R\n",
    "ERCCData <- read.table('/home/baker/my-scratch-share/James_Bagnall_Single_cell_rna_seq_BWA_mem_Feature_Count/output/AllERCC_Counts.tsv',header=TRUE, sep='\\t',row.names=1)"
   ]
  },
  {
   "cell_type": "code",
   "execution_count": null,
   "metadata": {
    "collapsed": true
   },
   "outputs": [],
   "source": [
    "%%R\n",
    "head(ERCCData)"
   ]
  },
  {
   "cell_type": "code",
   "execution_count": null,
   "metadata": {
    "collapsed": false
   },
   "outputs": [],
   "source": [
    "%%R\n",
    "ERCC_reads <- apply(ERCCData[grep(\"ERCC\", rownames(ERCCData)), ],2,sum)\n",
    "ercc_reads_plot <- ggplot(ERCC_reads,\n",
    "                   aes(x = factor(colnames(ERCCData)), y = ERCC_reads,\n",
    "                   fill = factor(colnames(ERCCData))), height = 600, width = 2000) +\n",
    "                   geom_violin(alpha = .5) + \n",
    "                   geom_boxplot(alpha = .01, width = .2, position = position_dodge(width = .9)) +\n",
    "                   labs(x = \"\", y = \"ERCC molecules\", title = \"Total ERCC molecule counts per cell\") +\n",
    "                   theme(axis.text.x = element_text(hjust=1, angle = 45))\n",
    "\n",
    "#theme_set(theme_bw(base_size = 16))\n",
    "print(ercc_reads_plot)"
   ]
  },
  {
   "cell_type": "code",
   "execution_count": null,
   "metadata": {
    "collapsed": false
   },
   "outputs": [],
   "source": [
    "%%R\n",
    "molecules_filter <- ERCCData\n",
    "molecules_filter <- molecules_filter[rowSums(molecules_filter)>0,]\n",
    "dim(molecules_filter)"
   ]
  },
  {
   "cell_type": "markdown",
   "metadata": {},
   "source": [
    "Filtering the Cells"
   ]
  },
  {
   "cell_type": "code",
   "execution_count": null,
   "metadata": {
    "collapsed": false
   },
   "outputs": [],
   "source": [
    "%%R -o cdNonFilter\n",
    "# omit the non-mapped gene information\n",
    "cdNonFilter = CountData[1:(dim(CountData)[1]-5),]\n",
    "# omit genes that are never detected\n",
    "cdNonFilter <- cdNonFilter[rowSums(cdNonFilter)>0, ]\n",
    "# omit cells with very poor coverage\n",
    "cdNonFilter <- cdNonFilter[, colSums(cdNonFilter)>1e4]\n",
    "CellNumber <- dim(cdNonFilter)[2]\n",
    "print(dim(cdNonFilter))"
   ]
  },
  {
   "cell_type": "code",
   "execution_count": null,
   "metadata": {
    "collapsed": false
   },
   "outputs": [],
   "source": [
    "%%R\n",
    "GeneAnnotation <- read.table('/home/baker/my-scratch-share/James_Bagnall_Single_cell_rna_seq_V3/output/GeneAnnotation.csv', header=TRUE, sep=\",\")"
   ]
  },
  {
   "cell_type": "code",
   "execution_count": null,
   "metadata": {
    "collapsed": false
   },
   "outputs": [],
   "source": [
    "%%R\n",
    "FilteredAnnotatedData <- AnnotatedCountData\n",
    "FilteredAnnotatedData <- FilteredAnnotatedData[rowSums(FilteredAnnotatedData[,12:dim(FilteredAnnotatedData)[2]]) > 0, ]\n",
    "write.csv(FilteredAnnotatedData, \"/home/baker/my-scratch-share/James_Bagnall_Single_cell_rna_seq_V3/output/Filtered_Annotated_read_count_data.csv\", row.names=T)"
   ]
  },
  {
   "cell_type": "code",
   "execution_count": null,
   "metadata": {
    "collapsed": false
   },
   "outputs": [],
   "source": [
    "%%R\n",
    "spike <- read.table(\"/home/baker/my-scratch-share/James_Bagnall_Single_cell_rna_seq_V3/output/expected-ercc-molecules.txt\", header=TRUE, sep = \"\\t\", stringsAsFactors = FALSE)"
   ]
  },
  {
   "cell_type": "code",
   "execution_count": null,
   "metadata": {
    "collapsed": false
   },
   "outputs": [],
   "source": [
    "%%R\n",
    "spike_input <- data.frame(Spike=spike$id[spike$id %in% rownames(molecules_filter)], Read=spike$ercc_molecules_well[spike$id %in% rownames(molecules_filter)])\n",
    "#names(spike_input) <- spike$id[spike$id %in% rownames(molecules_filter)]\n",
    "#spike_input <- data.frame(spike_input[order(names(spike_input))])\n"
   ]
  },
  {
   "cell_type": "markdown",
   "metadata": {},
   "source": [
    "## Fitting the BASiCS model\n",
    "\n",
    "The BASiCS model is fitted using a Bayesian approach by means of an Adaptive Metropolis within Gibbs Sampling algorithm[^RobertsRosenthal2009]. We assume prior independence between all model parameters (except within the $\\phi_j$'s, for which its total sum is constrained), using a flat *non informative* prior for the normalised expression rates $\\mu_1,\\ldots,\\mu_{q_0}$ and proper *informative* prior distributions for all other model parameters. The adopted prior is given by\n",
    "\n",
    "* $\\pi(\\mu_i) \\propto \\mu_i^{-1}$ for $i=1, \\ldots, q_0$,\n",
    "\n",
    "* $\\delta_i \\sim \\mbox{Gamma}(a_{\\delta},b_{\\delta})$ for $i=1, \\ldots, q_0$,\n",
    "\n",
    "* $n^{-1} \\phi = n^{-1} (\\phi_1, \\ldots, \\phi_n)'  \\sim \\mbox{Dirichlet}(p)$ with $p = (p_1,\\ldots,p_n)'$ and each $p_j>0$,\n",
    "\n",
    "* $s_j \\sim \\mbox{Gamma}(a_s,b_s)$,\n",
    "\n",
    "* $\\theta \\sim \\mbox{Gamma}(a_{\\theta},b_{\\theta})$, \n",
    "\n",
    "for fixed hyper-parameter values $a_{\\delta}, b_{\\delta}$, $p, a_s, b_s, a_{\\theta}$ and $b_{\\theta}$[^Prior]. As a default option, the sampler assumes all these hyper-parameters are equal to 1 (in case of $p$, we use $p_1 = p_2 = \\cdots = p_n = 1$). However, the user can modify this option. \n",
    "\n",
    "[^Prior]: The analysis of simulated and real datasets suggested that the choice of these hyper-parameters does not have major consequences in posterior inference.\n",
    "\n",
    "[^RobertsRosenthal2009]: Roberts GO, Rosenthal JS (2009). Examples of adaptive MCMC. Journal of Computational and Graphical Statistics 18: 349-367. DOI: 10.1198/jcgs.2009.06134\n",
    "\n",
    "The function `BASiCS_MCMC` runs the sampler. It requires 4 basic arguments:\n",
    "\n",
    "* `Data`: an object of class `BASiCS_Data`\n",
    "\n",
    "* `N`: the total number of iterations for the algorithm\n",
    "\n",
    "* `Thin`: thinning period for the algorithm (i.e. the output will only store parameter draws every `Thin` iterations)\n",
    "\n",
    "* `Burn`: burning period for the algorithm (i.e. the initial `Burn` iterations are discarded)"
   ]
  },
  {
   "cell_type": "code",
   "execution_count": null,
   "metadata": {
    "collapsed": false
   },
   "outputs": [],
   "source": [
    "%%R\n",
    "# From ERCCData we take only the ERCC for which the input value is given. In the fasta file, downloaded from\n",
    "# https://www-s.nist.gov/srmors/view_datafiles.cfm?srm=2374 has more ERCC than the input values\n",
    "SpikeExp <- ERCCData[rownames(ERCCData) %in% spike_input$Spike, ]\n",
    "SpikeExp <- SpikeExp[, colnames(SpikeExp) %in% colnames(cd)]\n",
    "Tech <- c(rep(FALSE, dim(cd)[1]), rep(TRUE, dim(SpikeExp)[1]))\n",
    "SpikeInput <- spike_input\n",
    "Counts <- as.matrix(rbind(cd, SpikeExp))\n",
    "write.table(Counts, \"/home/baker/my-scratch-share/James_Bagnall_Single_cell_rna_seq_V3/output/BASiCS_OUTPUT/AllCombinedCounts.txt\", quote = FALSE,\n",
    "            sep = \"\\t\", col.names = NA)"
   ]
  },
  {
   "cell_type": "code",
   "execution_count": null,
   "metadata": {
    "collapsed": false
   },
   "outputs": [],
   "source": [
    "%%R\n",
    "basics_data <- newBASiCS_Data(Counts, Tech, SpikeInput)"
   ]
  },
  {
   "cell_type": "code",
   "execution_count": null,
   "metadata": {
    "collapsed": true
   },
   "outputs": [],
   "source": [
    "%%R\n",
    "store_dir <- \"/home/baker/my-scratch-share/James_Bagnall_Single_cell_rna_seq_V3/output/BASiCS_OUTPUT\"\n",
    "run_name <- \"batch-clean\"\n",
    "if (file.exists(paste0(store_dir, \"/chain_phi_\", run_name, \".txt\"))) {\n",
    "  chain_mu = as.matrix(fread(paste0(store_dir, \"/chain_mu_\", run_name, \".txt\")))\n",
    "  chain_delta = as.matrix(fread(paste0(store_dir, \"/chain_delta_\", run_name, \".txt\")))\n",
    "  chain_phi = as.matrix(fread(paste0(store_dir, \"/chain_phi_\", run_name, \".txt\")))\n",
    "  chain_s = as.matrix(fread(paste0(store_dir, \"/chain_s_\", run_name, \".txt\")))\n",
    "  chain_nu = as.matrix(fread(paste0(store_dir, \"/chain_nu_\", run_name, \".txt\")))\n",
    "  chain_theta = as.matrix(fread(paste0(store_dir, \"/chain_theta_\", run_name, \".txt\")))\n",
    "\n",
    "  mcmc_output <- newBASiCS_Chain(mu = chain_mu, delta = chain_delta,\n",
    "                                 phi = chain_phi, s = chain_s,\n",
    "                                 nu = chain_nu, theta = chain_theta)\n",
    "\n",
    "  time_total <- readRDS(paste0(store_dir, \"/time_total_\", run_name, \".rds\"))\n",
    "} else {\n",
    "  time_start <- Sys.time()\n",
    "  mcmc_output <- BASiCS_MCMC(basics_data, N = 40000, Thin = 10, Burn = 20000,\n",
    "                             PrintProgress = TRUE, StoreChains = TRUE,\n",
    "                             StoreDir = store_dir, RunName = run_name)\n",
    "  time_end <- Sys.time()\n",
    "  time_total <- difftime(time_end, time_start, units = \"hours\")\n",
    "  saveRDS(time_total, paste0(store_dir, \"/time_total_\", run_name, \".rds\"))\n",
    "}"
   ]
  },
  {
   "cell_type": "code",
   "execution_count": null,
   "metadata": {
    "collapsed": false
   },
   "outputs": [],
   "source": [
    "%%R\n",
    "mcmc_summary <- Summary(mcmc_output)"
   ]
  },
  {
   "cell_type": "code",
   "execution_count": null,
   "metadata": {
    "collapsed": false
   },
   "outputs": [],
   "source": [
    "%%R\n",
    "mcmc_summary"
   ]
  },
  {
   "cell_type": "markdown",
   "metadata": {},
   "source": [
    "## Cell-specific normalizing constants\n",
    "BASiCS models two cell-specific parameters. \n",
    "\n",
    "* $\\phi_j$: The cell-specific normalizing constants related to differences in mRNA content. For identifiability reasons, BASiCS impose the constrain: $\\sum_{j=1}^{n} \\phi_j = n$ . \n",
    "* $s_j$: Cell specific normalizing constant related to differences in capture efficiency (when analyzing UMI based expression counts) and other amplification biases such as sequencing depth (when analyzing non-UMI based expression counts, as generated by standard scRNA-seq experiments)"
   ]
  },
  {
   "cell_type": "code",
   "execution_count": null,
   "metadata": {
    "collapsed": false
   },
   "outputs": [],
   "source": [
    "%%R\n",
    "plot(mcmc_summary, Param = \"phi\")"
   ]
  },
  {
   "cell_type": "code",
   "execution_count": null,
   "metadata": {
    "collapsed": false
   },
   "outputs": [],
   "source": [
    "%%R\n",
    "plot(mcmc_summary, Param = \"s\")"
   ]
  },
  {
   "cell_type": "code",
   "execution_count": null,
   "metadata": {
    "collapsed": false
   },
   "outputs": [],
   "source": [
    "%%R\n",
    "phi <- displaySummaryBASiCS(mcmc_summary, Param = \"phi\")\n",
    "s <- displaySummaryBASiCS(mcmc_summary, Param = \"s\")\n",
    "#parameters <- cbind(phi, s)\n",
    "gene_count <- colSums(counts(basics_data, type = \"biological\"))\n",
    "ercc_count <- colSums(counts(basics_data, type = \"technical\"))\n",
    "parameters <- cbind(phi, s, gene_count, ercc_count)\n"
   ]
  },
  {
   "cell_type": "code",
   "execution_count": null,
   "metadata": {
    "collapsed": false,
    "scrolled": true
   },
   "outputs": [],
   "source": [
    "%%R\n",
    "#rownames(parameters) <- c(1:96)\n",
    "parameters <- data.frame(parameters)"
   ]
  },
  {
   "cell_type": "code",
   "execution_count": null,
   "metadata": {
    "collapsed": false
   },
   "outputs": [],
   "source": [
    "%%R\n",
    "#png(\"phi_vs_Gene_Counts.png\")\n",
    "phi_gene_count <- ggplot(parameters, aes(x = gene_count, y = Phi)) +\n",
    "  geom_point() +\n",
    "  geom_smooth(method = \"lm\") +\n",
    "  labs(x = \"Gene molecule count\",\n",
    "       title = paste0(\"Phi measures gene molecule count differences\\nr = \",\n",
    "                      round(cor(parameters$gene_count, parameters$Phi), 2)))\n",
    "phi_gene_count"
   ]
  },
  {
   "cell_type": "markdown",
   "metadata": {},
   "source": [
    "## S versus ERCC molecule count\n",
    "As $s_j$ is determined from ERCC molecules, they are proportional to that"
   ]
  },
  {
   "cell_type": "code",
   "execution_count": null,
   "metadata": {
    "collapsed": false
   },
   "outputs": [],
   "source": [
    "%%R\n",
    "#png(\"S_vs_ERCC_Counts.png\")\n",
    "S_ERCC_count <- ggplot(parameters, aes(x = ercc_count, y = S)) +\n",
    "  geom_point() +\n",
    "  geom_smooth(method = \"lm\") +\n",
    "  labs(x = \"ERCC molecule count\",\n",
    "       title = paste0(\"S measures ERCC molecule count differences\\nr = \",\n",
    "                      round(cor(parameters$ercc_count, parameters$S), 2)))\n",
    "S_ERCC_count"
   ]
  },
  {
   "cell_type": "markdown",
   "metadata": {},
   "source": [
    "## $\\phi$ vs $S$"
   ]
  },
  {
   "cell_type": "code",
   "execution_count": null,
   "metadata": {
    "collapsed": false
   },
   "outputs": [],
   "source": [
    "%%R\n",
    "#png(\"phi_vs_S.png\")\n",
    "phi_s <- ggplot(parameters, aes(x = S, y = Phi)) +\n",
    "  geom_point() +\n",
    "  geom_smooth(method = \"lm\") +\n",
    "  labs(       title = paste0(\"Phi versus S\\nr = \",\n",
    "                      round(cor(parameters$S, parameters$Phi), 2)))\n",
    "phi_s"
   ]
  },
  {
   "cell_type": "markdown",
   "metadata": {},
   "source": [
    "## Denoised data\n",
    "\n",
    "The function `BASiCS_DenoisedCounts(Data=Data, Chain = MCMC_Output)` produce a matrix of normalized counts for which the effect of technical variation is removed \n",
    "\n",
    "For each gene $i$ and cell $j$ this function returns\n",
    "\n",
    "$$ x^*_{ij} = \\frac{ x_{ij} } {\\hat{\\phi}_j \\hat{\\nu}_j}, $$\n",
    "\n",
    "where $x_{ij}$ is the observed expression count of gene $i$ in cell $j$, $\\hat{\\phi}_j$ denotes the posterior median of $\\phi_j$ and $\\hat{\\nu}_j$ is the posterior median of $\\nu_j$.\n",
    "\n",
    "Remove technical noise (i.e. normalize using the ERCC spike-ins). This takes a long time!"
   ]
  },
  {
   "cell_type": "code",
   "execution_count": null,
   "metadata": {
    "collapsed": false
   },
   "outputs": [],
   "source": [
    "%%R\n",
    "denoised = BASiCS_DenoisedCounts(Data = basics_data, Chain = mcmc_output)\n",
    "write.table(denoised, \"/home/baker/my-scratch-share/James_Bagnall_Single_cell_rna_seq_V3/output/BASiCS_OUTPUT/basics-denoised.txt\", quote = FALSE,\n",
    "            sep = \"\\t\", col.names = NA)"
   ]
  },
  {
   "cell_type": "markdown",
   "metadata": {},
   "source": [
    "Alternativelly, the user can compute the normalised and denoised expression rates underlying the expression of all genes across cells using `BASiCS_DenoisedRates`. The output of this function is given by \n",
    "\n",
    "$$ \\Lambda_{ij} = \\hat{\\mu_i} \\hat{\\rho}_{ij},  $$\n",
    "\n",
    "where $\\hat{\\mu_i}$ represents the posterior median of $\\mu_j$ and $\\hat{\\rho}_{ij}$ is given by its posterior mean (Monte Carlo estimate based on the MCMC sample of all model parameters)."
   ]
  },
  {
   "cell_type": "code",
   "execution_count": null,
   "metadata": {
    "collapsed": false
   },
   "outputs": [],
   "source": [
    "%%R\n",
    "denoised_rates = BASiCS_DenoisedRates(Data = basics_data, Chain = mcmc_output)\n",
    "write.table(denoised_rates, \"/home/baker/my-scratch-share/James_Bagnall_Single_cell_rna_seq_V3/output/BASiCS_OUTPUT/basics-denoised-rates.txt\", quote = FALSE,\n",
    "            sep = \"\\t\", col.names = NA)"
   ]
  },
  {
   "cell_type": "markdown",
   "metadata": {},
   "source": [
    "Chekcing for the Convergence"
   ]
  },
  {
   "cell_type": "code",
   "execution_count": null,
   "metadata": {
    "collapsed": false
   },
   "outputs": [],
   "source": [
    "%%R -w 800 -h 1000\n",
    "par(mfrow=c(3,2))\n",
    "plot(mcmc_output, Param = \"mu\", Gene = 1, log = \"y\")\n",
    "plot(mcmc_output, Param = \"delta\", Gene = 1)\n",
    "plot(mcmc_output, Param = \"phi\", Cell = 1)\n",
    "plot(mcmc_output, Param = \"s\", Cell= 1)\n",
    "plot(mcmc_output, Param = \"nu\", Cell = 1)\n",
    "plot(mcmc_output, Param = \"theta\", Batch = 1)"
   ]
  },
  {
   "cell_type": "markdown",
   "metadata": {},
   "source": [
    "__PCA Plotting with Normalized Dataset__\n",
    "\n",
    "This plot is generated taking both the gene counts and the ERCC spike in counts"
   ]
  },
  {
   "cell_type": "code",
   "execution_count": null,
   "metadata": {
    "collapsed": false
   },
   "outputs": [],
   "source": [
    "%%R -w 600 -h 600\n",
    "FinalPCAData <- denoised\n",
    "# # Used this function to save the file in pdf format\n",
    "#FinalPCAData <- na.omit(FinalPCAData)\n",
    "#print(dim(FinalPCAData))\n",
    "strain <- factor(c(rep(\"Cells\", CellNumber)), levels=c(\"Cells\"), labels=c(\"Cells\"))\n",
    "PCx=1\n",
    "PCy=2\n",
    "pcaPRComp <- prcomp((FinalPCAData))\n",
    "percentVar <- pcaPRComp$sdev^2/sum(pcaPRComp$sdev^2)\n",
    "df<-data.frame(PCX=pcaPRComp$rotation[,PCx],PCY=pcaPRComp$rotation[,PCy],Cell=strain)\n",
    "p<-ggplot(df, aes_string(x=\"PCX\",y =\"PCY\",color=\"Cell\"))\n",
    "p<-p+ggtitle(\"PCA with Normalized Dataset\")\n",
    "p<-p+geom_point(size = 2)\n",
    "p<-p+xlab(paste(\"PC\",PCx,\": \", round(percentVar[PCx] * 100), \"% variance\"))\n",
    "p<-p    + ylab(paste(\"PC\",PCy,\": \", round(percentVar[PCy] * 100), \"% variance\"))\n",
    "p<-p + geom_text(data=df,aes(label=colnames(cd)),alpha=0.5,size=5, vjust=1,hjust=0.5,angle=45, color=\"black\")\n",
    "print(p)"
   ]
  },
  {
   "cell_type": "markdown",
   "metadata": {},
   "source": [
    "__PCA plotting with the raw data__\n",
    "\n",
    "This plot is generated taking both the gene counts and the ERCC spike in counts"
   ]
  },
  {
   "cell_type": "code",
   "execution_count": null,
   "metadata": {
    "collapsed": false
   },
   "outputs": [],
   "source": [
    "%%R -w 600 -h 600\n",
    "FinalPCAData <- Counts\n",
    "#FinalPCAData <- na.omit(FinalPCAData)\n",
    "#print(dim(FinalPCAData))\n",
    "#png(\"PCA with Raw Data.png\")\n",
    "strain <- factor(c(rep(\"Cells\", CellNumber)), levels=c(\"Cells\"), labels=c(\"Cells\"))\n",
    "PCx=1\n",
    "PCy=2\n",
    "pcaPRComp <- prcomp((FinalPCAData))\n",
    "percentVar <- pcaPRComp$sdev^2/sum(pcaPRComp$sdev^2)\n",
    "df<-data.frame(PCX=pcaPRComp$rotation[,PCx],PCY=pcaPRComp$rotation[,PCy],Cell=strain)\n",
    "p<-ggplot(df, aes_string(x=\"PCX\",y =\"PCY\",color=\"Cell\"))\n",
    "p<-p+ggtitle(\"PCA with Raw Dataset\")\n",
    "p<-p+geom_point(size = 2)\n",
    "p<-p+xlab(paste(\"PC\",PCx,\": \", round(percentVar[PCx] * 100), \"% variance\"))\n",
    "p<-p    + ylab(paste(\"PC\",PCy,\": \", round(percentVar[PCy] * 100), \"% variance\"))\n",
    "p<-p + geom_text(data=df,aes(label=colnames(cd)),alpha=0.5,size=5, vjust=1,hjust=0.5,angle=45, color=\"black\")\n",
    "print(p)"
   ]
  },
  {
   "cell_type": "markdown",
   "metadata": {},
   "source": [
    "__Gene Expression per cell__"
   ]
  },
  {
   "cell_type": "code",
   "execution_count": null,
   "metadata": {
    "collapsed": false
   },
   "outputs": [],
   "source": [
    "%%R -w 600 -h 600\n",
    "CellGeneExpression <- colSums(denoised_rates)\n",
    "barplot(CellGeneExpression,xlab=\"Cell Number\", ylab=\"Total Gene Expression\")"
   ]
  },
  {
   "cell_type": "markdown",
   "metadata": {
    "collapsed": true
   },
   "source": [
    "## SCDE for Heterogeneity analysis"
   ]
  },
  {
   "cell_type": "markdown",
   "metadata": {},
   "source": [
    "The pagoda routines implemented in the scde resolves multiple, potentially overlapping aspects of transcriptional heterogeneity by identifying known pathways or novel gene sets that show significant excess of coordinated variability among the measured cells. Briefly, cell-specific error models derived from scde are used to estimate residual gene expression variance, and identify pathways and gene sets that exhibit statistically significant excess of coordinated variability (overdispersion). pagoda can be used to effectively recover known subpopulations and discover putative new subpopulations and their corresponding functional characteristics in single-cell samples. For more information, please refer to the original manuscript by [Fan et al](http://www.nature.com/nmeth/journal/vaop/ncurrent/full/nmeth.3734.html)\n",
    "\n",
    "### Fitting error models\n",
    "\n",
    "Next, we'll construct error models for individual cells. Here, we use k-nearest neighbor model fitting procedure implemented by `knn.error.models()` method. Our data is a UMI based data, so we raise the min.count.threshold to 1 (minimum number of reads for the gene to be initially classified as a non-failed measurement), requiring at least 5 non-failed measurements per gene. We're providing a rough guess to the complexity of the population, by fitting the error models based on 1/4 of most similar cells (i.e. guessing there might be ~4 subpopulations).\n",
    "\n",
    "Note this step takes a considerable amount of time unless multiple cores are used. We highly recommend use of multiple cores. You can check the number of available cores available using `parallel::detectCores()`"
   ]
  },
  {
   "cell_type": "markdown",
   "metadata": {},
   "source": [
    "__We had to use the raw data for this as SCDE does not accept normalized data__"
   ]
  },
  {
   "cell_type": "code",
   "execution_count": null,
   "metadata": {
    "collapsed": false
   },
   "outputs": [],
   "source": [
    "%%R\n",
    "#cdSCDE <- read.csv('/home/baker/my-scratch-share/James_Bagnall_Single_cell_rna_seq_V3/output/GeneAnnotationIdName.csv',check.names=FALSE,row.names=1)\n",
    "CountData <- read.csv('/home/baker/my-scratch-share/James_Bagnall_Single_cell_rna_seq_V3/output/AllHtseqCounts.csv',check.names=FALSE,row.names=1)\n",
    "CellNumber <- dim(CountData)[2]"
   ]
  },
  {
   "cell_type": "code",
   "execution_count": null,
   "metadata": {
    "collapsed": false
   },
   "outputs": [],
   "source": [
    "%%R\n",
    "dim(CountData)"
   ]
  },
  {
   "cell_type": "markdown",
   "metadata": {},
   "source": [
    "We used the clean.counts() method from SCDE to filter the cells and genes. However, the detault parameter filtered out too much of the cells and so we had to chage it\n",
    "\n",
    "clean.counts(counts, min.lib.size = 1800, min.reads = 10,\n",
    "  min.detected = 5)\n",
    "  \n",
    "Arguments\n",
    "\n",
    "| Parameters | Description |\n",
    "|----------|:-------------|\n",
    "| counts |  read count matrix. The rows correspond to genes, columns correspond to individual cells |\n",
    "| min.lib.size |    Minimum number of genes detected in a cell. Cells with fewer genes will be removed (default: 1.8e3) |\n",
    "| min.reads | Minimum number of reads per gene. Genes with fewer reads will be removed (default: 10) |\n",
    "| min.detected | Minimum number of cells a gene must be seen in. Genes not seen in a sufficient number of cells will be removed (default: 5) |\n",
    "\n",
    "We changed the `min.lib.size` to `1500`. This gives 57 cells. "
   ]
  },
  {
   "cell_type": "code",
   "execution_count": null,
   "metadata": {
    "collapsed": false
   },
   "outputs": [],
   "source": [
    "%%R -o cd\n",
    "# omit the non-mapped gene information\n",
    "cd = CountData[1:(dim(CountData)[1]-5),]\n",
    "# omit genes that are never detected\n",
    " #cd <- cd[rowSums(cd[,2:dim(cd)[2]])>0, ]\n",
    "# omit cells with very poor coverage\n",
    " #cd <- cd[, colSums(cd[,2:dim(cd)[2]])>1e4]\n",
    "CellNumber <- dim(cd)[2]\n",
    " #GeneNames <- cbind(rownames(cd), as.character(cd[,1]))\n",
    " #colnames(GeneNames) <- c(\"EnsembleID\", \"GeneName\")\n",
    " #cd$gene_name <- NULL\n",
    " #print(head(GeneNames[,1]))\n",
    "cd <- clean.counts(cd, min.lib.size=1500)\n",
    "dim(cd)"
   ]
  },
  {
   "cell_type": "code",
   "execution_count": null,
   "metadata": {
    "collapsed": false
   },
   "outputs": [],
   "source": [
    "%%R\n",
    "print(colnames(cd))\n",
    "colSums(cd)"
   ]
  },
  {
   "cell_type": "code",
   "execution_count": null,
   "metadata": {
    "collapsed": false
   },
   "outputs": [],
   "source": [
    "%%R\n",
    "rownames(cd) <- gsub(\"\\\\..*\",\"\",rownames(cd))\n",
    "head(rownames(cd))"
   ]
  },
  {
   "cell_type": "code",
   "execution_count": null,
   "metadata": {
    "collapsed": false
   },
   "outputs": [],
   "source": [
    "%%R\n",
    "GeneNames[,1] <- gsub(\"\\\\..*\",\"\",GeneNames[,1])\n",
    "GeneNamesList <- split(GeneNames, rep(1:ncol(GeneNames), each = nrow(GeneNames)))"
   ]
  },
  {
   "cell_type": "code",
   "execution_count": null,
   "metadata": {
    "collapsed": false
   },
   "outputs": [],
   "source": [
    "%%R\n",
    "knn <- knn.error.models(cd, k = ncol(cd)/4, n.cores = 2, min.count.threshold = 1, min.nonfailed = 5, save.model.plots = TRUE, max.model.plots = 50)"
   ]
  },
  {
   "cell_type": "code",
   "execution_count": null,
   "metadata": {
    "collapsed": false
   },
   "outputs": [],
   "source": [
    "%%R\n",
    "head(knn)"
   ]
  },
  {
   "cell_type": "code",
   "execution_count": null,
   "metadata": {
    "collapsed": true
   },
   "outputs": [],
   "source": [
    "%%R\n",
    "knnWithERCC <- knn.error.models(Counts, k = ncol(Counts)/4, n.cores = 2, min.count.threshold = 1, min.nonfailed = 5, save.model.plots = TRUE, max.model.plots = 50)"
   ]
  },
  {
   "cell_type": "markdown",
   "metadata": {},
   "source": [
    "The fitting process above wrote out `cell.models.pdf` file in the current directory showing model fits for the first 50 cells"
   ]
  },
  {
   "cell_type": "markdown",
   "metadata": {},
   "source": [
    "### Normalizing variance\n",
    "In order to accurately quantify excess variance or overdispersion, we must normalize out expected levels of technical and intrinsic biological noise. Briefly, variance of the NB/Poisson mixture processes derived from the error modeling step are modeled as a chi-squared distribution using adjusted degrees of freedom and observation weights based on the drop-out probability of a given gene. Here, we normalize variance, trimming 3 most extreme cells and limiting maximum adjusted variance to 5."
   ]
  },
  {
   "cell_type": "code",
   "execution_count": null,
   "metadata": {
    "collapsed": false
   },
   "outputs": [],
   "source": [
    "%%R -w 800 -h 400\n",
    "varinfo <- pagoda.varnorm(knn, counts = cd, trim = 3/ncol(cd), max.adj.var = 5, n.cores = 2, plot = TRUE)"
   ]
  },
  {
   "cell_type": "markdown",
   "metadata": {},
   "source": [
    "The plot on the left shows coefficient of variance squared (on log10 scale) as a function of expression magnitude (log10 FPM). The red line shows local regression model for the genome-wide average dependency. The plot on the right shows adjusted variance (derived based on chi-squared probability of observed/genomewide expected ratio for each gene, with degrees of freedom adjusted for each gene). The adjusted variance of 1 means that a given gene exhibits as much variance as expected for a gene of such population average expression magnitude. Genes with high adjusted variance are overdispersed within the measured population and most likely show subpopulation-specific expression:"
   ]
  },
  {
   "cell_type": "markdown",
   "metadata": {},
   "source": [
    "__Using ERCC spike ins to fit dependency between expression magnitude and variance__"
   ]
  },
  {
   "cell_type": "code",
   "execution_count": null,
   "metadata": {
    "collapsed": false
   },
   "outputs": [],
   "source": [
    "%%R -w 800 -h 400\n",
    "ercc.genes <- grep(\"^ERCC-\",rownames(Counts),value=T)\n",
    "varinfo <- pagoda.varnorm(knnWithERCC, counts = Counts, trim = 3/ncol(Counts), fit.genes=ercc.genes,n.cores=2,plot=T,verbose=1,max.adj.var=5)"
   ]
  },
  {
   "cell_type": "markdown",
   "metadata": {},
   "source": [
    "__Now fitting model with only read counts__\n",
    "\n",
    "As the ERCC spike in data were not conclusive, here I am running the error model fitting from SCDE with only the read counts. The fitting process relies on a subset of robust genes that are detected in multiple cross-cell comparisons. \n",
    "\n",
    "Note this step takes a considerable amount of time unless multiple cores are used."
   ]
  },
  {
   "cell_type": "code",
   "execution_count": null,
   "metadata": {
    "collapsed": false
   },
   "outputs": [],
   "source": [
    "%%R\n",
    "# calculate models\n",
    "#o.ifm <- scde.error.models(counts = cd, n.cores = 2, threshold.segmentation = TRUE, save.crossfit.plots = FALSE, save.model.plots = TRUE, verbose = 1)"
   ]
  },
  {
   "cell_type": "code",
   "execution_count": null,
   "metadata": {
    "collapsed": false
   },
   "outputs": [],
   "source": [
    "%%R\n",
    "# list top overdispersed genes\n",
    "sort(varinfo$arv, decreasing = TRUE)[1:10]"
   ]
  },
  {
   "cell_type": "markdown",
   "metadata": {},
   "source": [
    "### Controlling for sequencing depth\n",
    "\n",
    "Even with all the corrections, sequencing depth or gene coverage is typically still a major aspects of variability. In most studies, we would want to control for that as a technical artifact (exceptions are cell mixtures where subtypes significantly differ in the amount of total mRNA). Below we will control for the gene coverage (estimated as a number of genes with non-zero magnitude per cell) and normalize out that aspect of cell heterogeneity:"
   ]
  },
  {
   "cell_type": "code",
   "execution_count": null,
   "metadata": {
    "collapsed": false
   },
   "outputs": [],
   "source": [
    "%%R\n",
    "varinfo <- pagoda.subtract.aspect(varinfo, colSums(cd[, rownames(knn)]>0))"
   ]
  },
  {
   "cell_type": "code",
   "execution_count": null,
   "metadata": {
    "collapsed": false
   },
   "outputs": [],
   "source": [
    "%%R\n",
    "head(varinfo$arv)"
   ]
  },
  {
   "cell_type": "markdown",
   "metadata": {},
   "source": [
    "### Evaluate overdispersion of pre-defined gene sets\n",
    "\n",
    "In order to detect significant aspects of heterogeneity across the population of single cells, 'pagoda' identifies pathways and gene sets that exhibit statistically significant excess of coordinated variability. Specifically, for each gene set, we tested whether the amount of variance explained by the first principal component significantly exceed the background expectation. \n",
    "\n",
    "__ Using Ensembl's BioMart service to get the GO annotations__"
   ]
  },
  {
   "cell_type": "code",
   "execution_count": null,
   "metadata": {
    "collapsed": false
   },
   "outputs": [],
   "source": [
    "%%R\n",
    "# Initialize the connection to the Ensembl BioMart Service\n",
    "# Available datasets can be listed with \n",
    "# listDatasets(useMart(\"ensembl\"))\n",
    "# Use mmusculus_gene_ensembl for mouse\n",
    "# For mouse symbols we can use \"mgi_symbol\"\n",
    "ensembl = useMart(\"ensembl\", dataset = \"mmusculus_gene_ensembl\")\n",
    "\n",
    "# Constructs a dataframe with two columns: hgnc_symbol and go_id\n",
    "# If rownames are Ensembl IDs, use ensembl_gene_id as filter value\n",
    "#go = getBM(attributes = c(\"ensembl_gene_id\", \"go_id\"), filters = \"ensembl_gene_id\", values = gsub(\"\\\\.[0-9]+\", \"\", rownames(cd)), mart = ensembl)\n",
    "go = getBM(attributes = c(\"ensembl_gene_id\", \"mgi_symbol\", \"go_id\"), filters = \"ensembl_gene_id\", values = rownames(cd), mart = ensembl)\n",
    "#go = getBM(attributes = c(\"ensembl_gene_id\", \"go_id\"), mart = ensembl)\n",
    "\n",
    "# Use the GO.db library to add a column with the GO-term to the dataframe\n",
    "go$term = Term(go$go_id)\n",
    "\n",
    "# Create a named list of character vectors out of the df\n",
    "s = split(go$ensembl_gene_id, paste(go$go_id,go$term),go$mgi_symbol)\n",
    "\n",
    "# Saves the list as a R environment\n",
    "go.env = list2env(s)"
   ]
  },
  {
   "cell_type": "code",
   "execution_count": null,
   "metadata": {
    "collapsed": true
   },
   "outputs": [],
   "source": [
    "%%R\n",
    "# Create a named list of character vectors out of the df\n",
    "s = split(cbind(go$ensembl_gene_id, go$mgi_symbol), paste(go$go_id,go$term))\n",
    "# Saves the list as a R environment\n",
    "go.env = list2env(s)"
   ]
  },
  {
   "cell_type": "code",
   "execution_count": null,
   "metadata": {
    "collapsed": false
   },
   "outputs": [],
   "source": [
    "%%R\n",
    "head(ls(go.env))"
   ]
  },
  {
   "cell_type": "code",
   "execution_count": null,
   "metadata": {
    "collapsed": false
   },
   "outputs": [],
   "source": [
    "%%R\n",
    "# Initialize the connection to the Ensembl BioMart Service\n",
    "# Available datasets can be listed with \n",
    "# listDatasets(useMart(\"ensembl\"))\n",
    "# Use mmusculus_gene_ensembl for mouse\n",
    "# For mouse symbols we can use \"mgi_symbol\"\n",
    "ensembl = useMart(\"ensembl\", dataset = \"mmusculus_gene_ensembl\")\n",
    "\n",
    "# Constructs a dataframe with two columns: hgnc_symbol and go_id\n",
    "# If rownames are Ensembl IDs, use ensembl_gene_id as filter value\n",
    "#go = getBM(attributes = c(\"ensembl_gene_id\", \"go_id\"), filters = \"ensembl_gene_id\", values = gsub(\"\\\\.[0-9]+\", \"\", rownames(cd)), mart = ensembl)\n",
    "goVarinfo = getBM(attributes = c( \"mgi_symbol\", \"go_id\"), filters = \"ensembl_gene_id\", values = rownames(cd), mart = ensembl)\n",
    "#go = getBM(attributes = c(\"ensembl_gene_id\", \"go_id\"), mart = ensembl)\n",
    "\n",
    "# Use the GO.db library to add a column with the GO-term to the dataframe\n",
    "goVarinfo$term = Term(goVarinfo$go_id)\n",
    "\n",
    "# Create a named list of character vectors out of the df\n",
    "s = split(goVarinfo$ensembl_gene_id, paste(goVarinfo$go_id,goVarinfo$term),goVarinfo$mgi_symbol)\n",
    "\n",
    "# Saves the list as a R environment\n",
    "goVarinfo.env = list2env(s)"
   ]
  },
  {
   "cell_type": "code",
   "execution_count": null,
   "metadata": {
    "collapsed": true
   },
   "outputs": [],
   "source": [
    "%%R\n",
    "# Use the GO.db library to add a column with the GO-term to the dataframe\n",
    "goVarinfo$term = Term(goVarinfo$go_id)\n",
    "\n",
    "# Create a named list of character vectors out of the df\n",
    "s = split(goVarinfo$mgi_symbol, paste(goVarinfo$go_id,goVarinfo$term))\n",
    "\n",
    "# Saves the list as a R environment\n",
    "goVarinfo.env = list2env(s)"
   ]
  },
  {
   "cell_type": "code",
   "execution_count": null,
   "metadata": {
    "collapsed": true
   },
   "outputs": [],
   "source": [
    "%%R\n",
    "# Saving the GO terms with Gene names\n",
    "GOAnnotated <- cbind(go$ensembl_gene_id,go$go_id,go$term)\n",
    "write.csv(GOAnnotated, \"/home/baker/my-scratch-share/James_Bagnall_Single_cell_rna_seq_V3/output/GOAnnotated.csv\", row.names=T)"
   ]
  },
  {
   "cell_type": "code",
   "execution_count": null,
   "metadata": {
    "collapsed": false
   },
   "outputs": [],
   "source": [
    "%%R\n",
    "head(ls(go.env)) # Look at gene set names"
   ]
  },
  {
   "cell_type": "code",
   "execution_count": null,
   "metadata": {
    "collapsed": false
   },
   "outputs": [],
   "source": [
    "%%R\n",
    "head(get(ls(go.env), go.env)) # Look at one gene set"
   ]
  },
  {
   "cell_type": "code",
   "execution_count": null,
   "metadata": {
    "collapsed": false
   },
   "outputs": [],
   "source": [
    "%%R\n",
    "ngenes <- unlist(lapply(as.list(go.env),function(x) sum(x %in% rownames(varinfo$mat))))\n",
    "#ngenes <- unlist(lapply(as.list(go.env),function(x) x))\n",
    "head(ngenes)"
   ]
  },
  {
   "cell_type": "markdown",
   "metadata": {},
   "source": [
    "Now, we can calculate weighted first principal component magnitudes for each GO gene set in the provided environment."
   ]
  },
  {
   "cell_type": "code",
   "execution_count": null,
   "metadata": {
    "collapsed": false
   },
   "outputs": [],
   "source": [
    "%%R\n",
    "pwpca <- pagoda.pathway.wPCA(varinfo, go.env, n.components = 1, n.cores = 2, verbose=TRUE)"
   ]
  },
  {
   "cell_type": "code",
   "execution_count": null,
   "metadata": {
    "collapsed": false
   },
   "outputs": [],
   "source": [
    "%%R\n",
    "#pwpca[[1]]"
   ]
  },
  {
   "cell_type": "markdown",
   "metadata": {},
   "source": [
    "We can now evaluate the statistical significance of the observed overdispersion for each GO gene set."
   ]
  },
  {
   "cell_type": "code",
   "execution_count": null,
   "metadata": {
    "collapsed": false
   },
   "outputs": [],
   "source": [
    "%%R\n",
    "df <- pagoda.top.aspects(pwpca, return.table = TRUE, plot = TRUE, z.score = 1.96)"
   ]
  },
  {
   "cell_type": "markdown",
   "metadata": {
    "collapsed": true
   },
   "source": [
    "Each point on the plot shows the PC1 variance (lambda1) magnitude (normalized by set size) as a function of set size. The red lines show expected (solid) and 95% upper bound (dashed) magnitudes based on the Tracey-Widom model."
   ]
  },
  {
   "cell_type": "code",
   "execution_count": null,
   "metadata": {
    "collapsed": false
   },
   "outputs": [],
   "source": [
    "%%R\n",
    "head(df, 20)"
   ]
  },
  {
   "cell_type": "markdown",
   "metadata": {},
   "source": [
    "- The z column gives the Z-score of pathway over-dispersion relative to the genome-wide model (Z-score of 1.96 corresponds to P-value of 5%, etc.).\n",
    "- \"z.adj\" column shows the Z-score adjusted for multiple hypothesis (using Benjamini-Hochberg correction).\n",
    "- \"score\" gives observed/expected variance ratio\n",
    "- \"sh.z\" and \"adj.sh.z\" columns give the raw and adjusted Z-scores of \"pathway cohesion\", which compares the observed PC1 magnitude to the magnitudes obtained when the observations for each gene are randomized with respect to cells. When such Z-score is high (e.g. for GO:0008009) then multiple genes within the pathway contribute to the coordinated pattern.\n"
   ]
  },
  {
   "cell_type": "markdown",
   "metadata": {},
   "source": [
    "## Evaluate overdispersion of 'de novo' gene sets\n",
    "\n",
    "We can also test 'de novo' gene sets whose expression profiles are well-correlated within the given dataset. The following procedure will determine 'de novo' gene clusters in the data, and build a background model for the expectation of the gene cluster weighted principal component magnitudes. Note the higher trim values for the clusters, as we want to avoid clusters that are formed by outlier cells.\n",
    "\n"
   ]
  },
  {
   "cell_type": "code",
   "execution_count": null,
   "metadata": {
    "collapsed": false
   },
   "outputs": [],
   "source": [
    "%%R -w 800 -h 400\n",
    "library(extRemes)\n",
    "library(Lmoments)\n",
    "library(distillery)\n",
    "library(car)\n",
    "\n",
    "clpca <- pagoda.gene.clusters(varinfo, trim = 7.1/ncol(varinfo$mat), n.clusters = 50, n.cores = 2, plot = TRUE)"
   ]
  },
  {
   "cell_type": "markdown",
   "metadata": {},
   "source": [
    "The plot above shows background distribution of the first principal component (PC1) variance (lambda1) magnitude. The blue scatterplot on the left shows lambda1 magnitude vs. cluster size for clusters determined based on randomly-generated matrices of the same size. The black circles show top cluster in each simulation. The red lines show expected magnitude and 95% confidence interval based on Tracy-Widom distribution. The right plot shows extreme value distribution fit of residual cluster PC1 variance magnitude relative to the Gumbel (extreme value) distribution.\n",
    "\n",
    "Now the set of top aspects can be recalculated taking these de novo gene clusters into account:"
   ]
  },
  {
   "cell_type": "code",
   "execution_count": null,
   "metadata": {
    "collapsed": false
   },
   "outputs": [],
   "source": [
    "%%R -w 400 -h 400\n",
    "df <- pagoda.top.aspects(pwpca, clpca, return.table = TRUE, plot = TRUE, z.score = 1.96)\n",
    "write.table(df, \"/home/baker/my-scratch-share/James_Bagnall_Single_cell_rna_seq_V3/output/BASiCS_OUTPUT/TopAspects.txt\", quote = FALSE,\n",
    "            sep = \"\\t\", col.names = NA)"
   ]
  },
  {
   "cell_type": "markdown",
   "metadata": {},
   "source": [
    "The gene clusters and their corresponding model expected value and 95% upper bound are shown in green."
   ]
  },
  {
   "cell_type": "markdown",
   "metadata": {},
   "source": [
    "## Visualize significant aspects of heterogeneity\n",
    "\n",
    "To view top heterogeneity aspects, we will first obtain information on all the significant aspects of transcriptional heterogeneity. We will also determine the overall cell clustering based on this full information:"
   ]
  },
  {
   "cell_type": "code",
   "execution_count": null,
   "metadata": {
    "collapsed": false
   },
   "outputs": [],
   "source": [
    "%%R\n",
    "# get full info on the top aspects\n",
    "tam <- pagoda.top.aspects(pwpca, clpca, n.cells = NULL, z.score = qnorm(0.01/2, lower.tail = FALSE))\n",
    "# determine overall cell clustering\n",
    "hc <- pagoda.cluster.cells(tam, varinfo)"
   ]
  },
  {
   "cell_type": "code",
   "execution_count": null,
   "metadata": {
    "collapsed": false
   },
   "outputs": [],
   "source": [
    "%%R -w 800 -h 400\n",
    "plot(hc)"
   ]
  },
  {
   "cell_type": "markdown",
   "metadata": {},
   "source": [
    "Next, we will reduce redundant aspects in two steps. First we will combine pathways that are driven by the same sets of genes:"
   ]
  },
  {
   "cell_type": "code",
   "execution_count": null,
   "metadata": {
    "collapsed": true
   },
   "outputs": [],
   "source": [
    "%%R\n",
    "tamr <- pagoda.reduce.loading.redundancy(tam, pwpca, clpca)"
   ]
  },
  {
   "cell_type": "markdown",
   "metadata": {},
   "source": [
    "In the second step we will combine aspects that show similar patterns (i.e. separate the same sets of cells). Here we will plot the cells using the overall cell clustering determined above:"
   ]
  },
  {
   "cell_type": "code",
   "execution_count": null,
   "metadata": {
    "collapsed": false
   },
   "outputs": [],
   "source": [
    "%%R -w 800 -h 400\n",
    "tamr2 <- pagoda.reduce.redundancy(tamr, distance.threshold = 0.9, plot = TRUE, cell.clustering = hc, labRow = NA, labCol = NA, box = TRUE, margins = c(0.5, 0.5), trim = 0, col.cols = rbind(groups = cutree(hc, 4)))"
   ]
  },
  {
   "cell_type": "markdown",
   "metadata": {},
   "source": [
    "In the plot above, the columns are cells, rows are different significant aspects, clustered by their similarity pattern.The green-to-orange color scheme shows low-to-high weighted PCA scores (aspect patterns), where generally orange indicates higher expression. Blocks of color on the left margin show which aspects have been combined by the command above. Here the number of resulting aspects is relatively small. \"top\" argument (i.e. top = 10) can be used to limit further analysis to top N aspects.\n",
    "\n",
    "We will view the top aspects, clustering them by pattern similarity (note, to view aspects in the order of increasing `lambda1` magnitude, use `row.clustering = NA`)."
   ]
  },
  {
   "cell_type": "code",
   "execution_count": null,
   "metadata": {
    "collapsed": false
   },
   "outputs": [],
   "source": [
    "%%R -w 800 -h 400\n",
    "pagoda.view.aspects(tamr2, cell.clustering = hc, box = TRUE, labCol = hc, margins = c(0.5, 40), col.cols = rbind(groups = cutree(hc, 4)))"
   ]
  },
  {
   "cell_type": "code",
   "execution_count": null,
   "metadata": {
    "collapsed": false,
    "scrolled": true
   },
   "outputs": [],
   "source": [
    "%%R\n",
    "go.env\n",
    "#save.image()"
   ]
  },
  {
   "cell_type": "code",
   "execution_count": null,
   "metadata": {
    "collapsed": false,
    "scrolled": true
   },
   "outputs": [],
   "source": [
    "%%R\n",
    "varinfoTest <- varinfo\n",
    "testVarinfo <- cbind((goVarinfo$ensembl_gene_id),(goVarinfo$mgi_symbol))\n",
    "dim(testVarinfo)\n",
    "#rownames(varinfoTest$mat)<- test[rownames(varinfoTest$mat) == test[,1],2]\n",
    "#test[(rownames(varinfoTest$mat)[1]) == (test[,1]),][1,2]\n",
    "#for(i in 1:dim(varinfoTest$mat)[1]){\n",
    "#    print(test[rownames(varinfoTest$mat)[i] == test[,1],][1,])\n",
    "#    print(i)\n",
    "#}\n"
   ]
  },
  {
   "cell_type": "code",
   "execution_count": null,
   "metadata": {
    "collapsed": false
   },
   "outputs": [],
   "source": [
    "%%R\n",
    "print(rownames(varinfoTest$mat)[1148])"
   ]
  },
  {
   "cell_type": "code",
   "execution_count": null,
   "metadata": {
    "collapsed": false
   },
   "outputs": [],
   "source": [
    "%%R -w 900 -h 400\n",
    "test<- pagoda.show.pathways(c(\"GO:0071346 cellular response to interferon-gamma\",\"GO:0070098 chemokine-mediated signaling pathway\"), varinfo, go.env, cell.clustering = hc, margins = c(1,10), show.cell.dendrogram = TRUE, showRowLabels = TRUE, showPC = TRUE)"
   ]
  },
  {
   "cell_type": "code",
   "execution_count": null,
   "metadata": {
    "collapsed": false
   },
   "outputs": [],
   "source": [
    "%%R\n",
    "test"
   ]
  },
  {
   "cell_type": "code",
   "execution_count": null,
   "metadata": {
    "collapsed": false
   },
   "outputs": [],
   "source": [
    "%%R\n",
    "# compile a browsable app, showing top three clusters with the top color bar\n",
    "app <- make.pagoda.app(tamr2, tam, varinfo, go.env, pwpca, clpca, col.cols = col.cols, cell.clustering = hc, title = \"NPCs\")\n",
    "# show app in the browser (port 1468)\n",
    "show.app(app, \"James_Cluster\", browse = TRUE, port = 1468) "
   ]
  },
  {
   "cell_type": "code",
   "execution_count": null,
   "metadata": {
    "collapsed": true
   },
   "outputs": [],
   "source": []
  }
 ],
 "metadata": {
  "kernelspec": {
   "display_name": "Python 2.7",
   "language": "python",
   "name": "python2"
  },
  "language_info": {
   "name": "python",
   "version": "2.7.6"
  }
 },
 "nbformat": 4,
 "nbformat_minor": 0
}
