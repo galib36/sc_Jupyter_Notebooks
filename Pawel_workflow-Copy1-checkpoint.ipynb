{
 "cells": [
  {
   "cell_type": "markdown",
   "metadata": {},
   "source": [
    "# WORKFLOW-CAGEscan-short-reads with James Bagnall"
   ]
  },
  {
   "cell_type": "markdown",
   "metadata": {},
   "source": [
    "This document is an example of how to process a C1-CAGE library with a Jupyter notebook from raw reads to single molecule count. In the following section we assume that:\n",
    "- The softwares used in this workflow are mentioned in the [prerequesite](https://github.com/Population-Transcriptomics/C1-CAGE-preview/blob/master/prerequisite.md) section.\n",
    "- The reference genome has to be already indexed with bwa\n",
    "- The tutorials are introduced with the example file mentioned in the tutorial"
   ]
  },
  {
   "cell_type": "markdown",
   "metadata": {},
   "source": [
    "In our hands this notebook worked without trouble on a machine running Debian GNU/Linux 8. We noticed that the behavior of tagdust2 in single-end mode was different on Mac OSX. In short, the order of the reads1 is changed after extraction on Mac OSX which is a problem because syncpairs expect the order of reads1 and reads2 to be the same. One way to overcome this issueis sort reads1 and reads2 separately after the exctraction then syncpairs will work properly."
   ]
  },
  {
   "cell_type": "markdown",
   "metadata": {},
   "source": [
    "## Setting the Input and Output Folder"
   ]
  },
  {
   "cell_type": "code",
   "execution_count": 63,
   "metadata": {
    "collapsed": true
   },
   "outputs": [],
   "source": [
    "# Setting the output folder where all the results would be stored\n",
    "outputFolder = '/home/baker/my-scratch-share/James_Bagnall_Single_cell_rna_seq_V2/output/'\n",
    "\n",
    "# inputFolder : Folder name with all the fastq files\n",
    "intputFolder = '/home/baker/my-James-Bagnall-share/fastqs/'"
   ]
  },
  {
   "cell_type": "markdown",
   "metadata": {},
   "source": [
    "## Imports"
   ]
  },
  {
   "cell_type": "code",
   "execution_count": 64,
   "metadata": {
    "collapsed": true
   },
   "outputs": [],
   "source": [
    "import subprocess, os, csv, signal, pysam"
   ]
  },
  {
   "cell_type": "markdown",
   "metadata": {},
   "source": [
    "## Custom functions"
   ]
  },
  {
   "cell_type": "code",
   "execution_count": 65,
   "metadata": {
    "collapsed": true
   },
   "outputs": [],
   "source": [
    "remove_extension = lambda x: x.split('.')[0]"
   ]
  },
  {
   "cell_type": "markdown",
   "metadata": {},
   "source": [
    "Declare the function that deals with inputs and outputs"
   ]
  },
  {
   "cell_type": "code",
   "execution_count": 66,
   "metadata": {
    "collapsed": true
   },
   "outputs": [],
   "source": [
    "def get_args(read1, read2, ref_genome, output_folders):\n",
    "    '''Set the input and output path for a given pair of reads'''\n",
    "    r1_shortname = remove_extension(os.path.basename(read1))\n",
    "\n",
    "    args = {  \n",
    "        'r1_input': read1,\n",
    "        'r2_input': read2,\n",
    "        'ref_genome': ref_genome,\n",
    "    }\n",
    "    \n",
    "    output_paths = {folder: os.path.join(outputFolder, folder, r1_shortname) for folder in output_folders}\n",
    "    \n",
    "    return dict(args, **output_paths)"
   ]
  },
  {
   "cell_type": "code",
   "execution_count": 67,
   "metadata": {
    "collapsed": true
   },
   "outputs": [],
   "source": [
    "def ERCC_finder(f):\n",
    "    full_path = cleanedReadsFolder + f\n",
    "    file_ERCC = open(full_path,'rb')\n",
    "    ERCCTempFilePath = outputFolder + 'ERCC_count/ERCC_count_'\n",
    "    for line in file_ERCC:\n",
    "        if 'ERCC' in line:\n",
    "            temp = str.split(line)            \n",
    "            ERCC_file_path = ERCCTempFilePath + f.split('_', 1)[0]+\".txt\"            \n",
    "            ERCC_command_file = open(ERCC_file_path, 'a')\n",
    "            ERCC_line_to_write = temp[3] + \"\\t\" + temp[2]+ \"\\n\"\n",
    "            ERCC_command_file.writelines(ERCC_line_to_write)\n",
    "            ERCC_command_file.close"
   ]
  },
  {
   "cell_type": "markdown",
   "metadata": {},
   "source": [
    "## Parameters"
   ]
  },
  {
   "cell_type": "markdown",
   "metadata": {},
   "source": [
    "If the required softwares are not in the PATH you can manually set their location here"
   ]
  },
  {
   "cell_type": "code",
   "execution_count": 68,
   "metadata": {
    "collapsed": true
   },
   "outputs": [],
   "source": [
    "tagdust2_path = 'tagdust'\n",
    "bwa_path = '/home/baker/bwa/bwa'\n",
    "samtools_path = 'samtools'\n",
    "paired_bam_to_bed12_path = '/home/baker/pairedBamToBed12/bin/pairedBamToBed12'\n",
    "umicountFP_path = 'umicountFP'\n",
    "syncpairs_path = 'syncpairs'"
   ]
  },
  {
   "cell_type": "markdown",
   "metadata": {},
   "source": [
    "Path to the reference genome you want to align your reads against"
   ]
  },
  {
   "cell_type": "code",
   "execution_count": 69,
   "metadata": {
    "collapsed": true
   },
   "outputs": [],
   "source": [
    "#ref_genome = '/home/baker/my-mm10-index-share/Mus_musculus.GRCm38.71.fa'\n",
    "ref_genome = '/home/baker/my-mm10-index-share/bwa/bwa_mm10_random_chrM_chrUn'"
   ]
  },
  {
   "cell_type": "code",
   "execution_count": 70,
   "metadata": {
    "collapsed": true
   },
   "outputs": [],
   "source": [
    "softwares = {    \n",
    "    'bwa': bwa_path,\n",
    "    'tagdust': tagdust2_path,\n",
    "    'syncpairs': syncpairs_path,\n",
    "    'samtools': samtools_path,\n",
    "    'pairedBamToBed12': paired_bam_to_bed12_path,\n",
    "    'umicountFP': umicountFP_path}"
   ]
  },
  {
   "cell_type": "markdown",
   "metadata": {},
   "source": [
    "The name of the output folders for each command"
   ]
  },
  {
   "cell_type": "code",
   "execution_count": 71,
   "metadata": {
    "collapsed": true
   },
   "outputs": [],
   "source": [
    "output_folders = [ 'tagdust_r1', 'unzip_r2'                    # Demultiplexed R1, unziped R2\n",
    "                 , 'extracted_r1', 'extracted_r2'              # Synced R1 and R2\n",
    "                 , 'cleaned_reads', 'cleaned_r1', 'cleaned_r2' # rRNA reads removed\n",
    "                 , 'r1_sai', 'r2_sai', 'sampe'                 # Intermediate files from BWA\n",
    "                 , 'genome_mapped', 'properly_paired'          # Final output in BAM format\n",
    "                 , 'cagescan_pairs', 'cagescan_fragments'      # Final output in BED12 format\n",
    "                 , 'htseq_output', 'ERCC_count'                # Htseq-count and ERCC-Spike in counts                  \n",
    "                 ]"
   ]
  },
  {
   "cell_type": "markdown",
   "metadata": {},
   "source": [
    "Create the folders"
   ]
  },
  {
   "cell_type": "code",
   "execution_count": 72,
   "metadata": {
    "collapsed": false
   },
   "outputs": [],
   "source": [
    "for folder in output_folders:\n",
    "    os.makedirs(os.path.join(outputFolder, folder))"
   ]
  },
  {
   "cell_type": "markdown",
   "metadata": {},
   "source": [
    "The actual command to run. See the [tutorial](https://github.com/Population-Transcriptomics/C1-CAGE-preview/blob/master/tutorial.md) section for more details about each command"
   ]
  },
  {
   "cell_type": "code",
   "execution_count": 46,
   "metadata": {
    "collapsed": true
   },
   "outputs": [],
   "source": [
    "cmds = [\n",
    "    \n",
    "    '{tagdust} -t8 -o {tagdust_r1} -1 F:NNNNNNNN -2 S:TATAGGG -3 R:N {r1_input}',\n",
    "    \n",
    "    'gunzip -c {r2_input} > {unzip_r2}.fq',\n",
    "        \n",
    "    '{syncpairs} {tagdust_r1}.fq {unzip_r2}.fq {extracted_r1}.fq {extracted_r2}.fq',\n",
    "    \n",
    "    '{tagdust} -arch SimpleArchitecture.txt -ref /home/baker/Rna-seq_Data-Analysis/Pawel_Pascaz/ercc_and_TPA_mouse_rRNA.fa -o {cleaned_reads} {extracted_r1}.fq {extracted_r2}.fq',\n",
    "    \n",
    "    'cp {cleaned_reads}_READ1.fq {cleaned_r1}.fq',\n",
    "    \n",
    "    'cp {cleaned_reads}_READ2.fq {cleaned_r2}.fq',\n",
    "    \n",
    "    '{bwa} aln {ref_genome} {cleaned_r1}.fq > {r1_sai}.sai',\n",
    "    \n",
    "    '{bwa} aln {ref_genome} {cleaned_r2}.fq > {r2_sai}.sai',\n",
    "    \n",
    "    '{bwa} sampe -a 2000000 -c 0.00001 {ref_genome} {r1_sai}.sai {r2_sai}.sai {cleaned_r1}.fq {cleaned_r2}.fq > {sampe}.sam',\n",
    "    \n",
    "    '{samtools} view -uSo - {sampe}.sam | {samtools} sort - {genome_mapped}',\n",
    "    \n",
    "    '{samtools} view -f 0x0002 -F 0x0100 -uo - {genome_mapped}.bam | {samtools} sort -n - {properly_paired}',\n",
    "    \n",
    "    '{pairedBamToBed12} -i {properly_paired}.bam > {cagescan_pairs}.bed',\n",
    "    \n",
    "    '{umicountFP} -f {cagescan_pairs}.bed > {cagescan_fragments}.bed'\n",
    "    \n",
    "]"
   ]
  },
  {
   "cell_type": "markdown",
   "metadata": {},
   "source": [
    "Get the reads. Here we assume that the reads are in the current directory, in a folder named following the MiSeq run id"
   ]
  },
  {
   "cell_type": "code",
   "execution_count": 47,
   "metadata": {
    "collapsed": false
   },
   "outputs": [],
   "source": [
    "root, folders, files = os.walk(intputFolder).next()\n",
    "\n",
    "files = [f for f in files if not f.startswith('.')] #remove hidden files if there exist\n",
    "reads1 = sorted([os.path.join(root, f) for f in files if 'R1' in f])\n",
    "reads2 = sorted([os.path.join(root, f) for f in files if 'R2' in f])"
   ]
  },
  {
   "cell_type": "code",
   "execution_count": 48,
   "metadata": {
    "collapsed": false,
    "scrolled": true
   },
   "outputs": [
    {
     "name": "stdout",
     "output_type": "stream",
     "text": [
      "['/home/baker/my-James-Bagnall-share/fastqs/C01_S17_R1_001.fastq.gz', '/home/baker/my-James-Bagnall-share/fastqs/C02_S9_R1_001.fastq.gz', '/home/baker/my-James-Bagnall-share/fastqs/C03_S1_R1_001.fastq.gz', '/home/baker/my-James-Bagnall-share/fastqs/C04_S65_R1_001.fastq.gz', '/home/baker/my-James-Bagnall-share/fastqs/C05_S57_R1_001.fastq.gz', '/home/baker/my-James-Bagnall-share/fastqs/C06_S49_R1_001.fastq.gz', '/home/baker/my-James-Bagnall-share/fastqs/C07_S18_R1_001.fastq.gz', '/home/baker/my-James-Bagnall-share/fastqs/C08_S10_R1_001.fastq.gz', '/home/baker/my-James-Bagnall-share/fastqs/C09_S2_R1_001.fastq.gz', '/home/baker/my-James-Bagnall-share/fastqs/C10_S66_R1_001.fastq.gz', '/home/baker/my-James-Bagnall-share/fastqs/C11_S58_R1_001.fastq.gz', '/home/baker/my-James-Bagnall-share/fastqs/C12_S50_R1_001.fastq.gz', '/home/baker/my-James-Bagnall-share/fastqs/C13_S19_R1_001.fastq.gz', '/home/baker/my-James-Bagnall-share/fastqs/C14_S11_R1_001.fastq.gz', '/home/baker/my-James-Bagnall-share/fastqs/C15_S3_R1_001.fastq.gz', '/home/baker/my-James-Bagnall-share/fastqs/C16_S67_R1_001.fastq.gz', '/home/baker/my-James-Bagnall-share/fastqs/C17_S59_R1_001.fastq.gz', '/home/baker/my-James-Bagnall-share/fastqs/C18_S51_R1_001.fastq.gz', '/home/baker/my-James-Bagnall-share/fastqs/C19_S20_R1_001.fastq.gz', '/home/baker/my-James-Bagnall-share/fastqs/C20_S12_R1_001.fastq.gz', '/home/baker/my-James-Bagnall-share/fastqs/C21_S4_R1_001.fastq.gz', '/home/baker/my-James-Bagnall-share/fastqs/C22_S68_R1_001.fastq.gz', '/home/baker/my-James-Bagnall-share/fastqs/C23_S60_R1_001.fastq.gz', '/home/baker/my-James-Bagnall-share/fastqs/C24_S52_R1_001.fastq.gz', '/home/baker/my-James-Bagnall-share/fastqs/C25_S5_R1_001.fastq.gz', '/home/baker/my-James-Bagnall-share/fastqs/C26_S13_R1_001.fastq.gz', '/home/baker/my-James-Bagnall-share/fastqs/C27_S21_R1_001.fastq.gz', '/home/baker/my-James-Bagnall-share/fastqs/C28_S53_R1_001.fastq.gz', '/home/baker/my-James-Bagnall-share/fastqs/C29_S61_R1_001.fastq.gz', '/home/baker/my-James-Bagnall-share/fastqs/C30_S69_R1_001.fastq.gz', '/home/baker/my-James-Bagnall-share/fastqs/C31_S6_R1_001.fastq.gz', '/home/baker/my-James-Bagnall-share/fastqs/C32_S14_R1_001.fastq.gz', '/home/baker/my-James-Bagnall-share/fastqs/C33_S22_R1_001.fastq.gz', '/home/baker/my-James-Bagnall-share/fastqs/C34_S54_R1_001.fastq.gz', '/home/baker/my-James-Bagnall-share/fastqs/C35_S62_R1_001.fastq.gz', '/home/baker/my-James-Bagnall-share/fastqs/C36_S70_R1_001.fastq.gz', '/home/baker/my-James-Bagnall-share/fastqs/C37_S7_R1_001.fastq.gz', '/home/baker/my-James-Bagnall-share/fastqs/C38_S15_R1_001.fastq.gz', '/home/baker/my-James-Bagnall-share/fastqs/C39_S23_R1_001.fastq.gz', '/home/baker/my-James-Bagnall-share/fastqs/C40_S55_R1_001.fastq.gz', '/home/baker/my-James-Bagnall-share/fastqs/C41_S63_R1_001.fastq.gz', '/home/baker/my-James-Bagnall-share/fastqs/C42_S71_R1_001.fastq.gz', '/home/baker/my-James-Bagnall-share/fastqs/C43_S8_R1_001.fastq.gz', '/home/baker/my-James-Bagnall-share/fastqs/C44_S16_R1_001.fastq.gz', '/home/baker/my-James-Bagnall-share/fastqs/C45_S24_R1_001.fastq.gz', '/home/baker/my-James-Bagnall-share/fastqs/C46_S56_R1_001.fastq.gz', '/home/baker/my-James-Bagnall-share/fastqs/C47_S64_R1_001.fastq.gz', '/home/baker/my-James-Bagnall-share/fastqs/C48_S72_R1_001.fastq.gz', '/home/baker/my-James-Bagnall-share/fastqs/C49_S25_R1_001.fastq.gz', '/home/baker/my-James-Bagnall-share/fastqs/C50_S33_R1_001.fastq.gz', '/home/baker/my-James-Bagnall-share/fastqs/C51_S41_R1_001.fastq.gz', '/home/baker/my-James-Bagnall-share/fastqs/C52_S73_R1_001.fastq.gz', '/home/baker/my-James-Bagnall-share/fastqs/C53_S81_R1_001.fastq.gz', '/home/baker/my-James-Bagnall-share/fastqs/C54_S89_R1_001.fastq.gz', '/home/baker/my-James-Bagnall-share/fastqs/C55_S26_R1_001.fastq.gz', '/home/baker/my-James-Bagnall-share/fastqs/C56_S34_R1_001.fastq.gz', '/home/baker/my-James-Bagnall-share/fastqs/C57_S42_R1_001.fastq.gz', '/home/baker/my-James-Bagnall-share/fastqs/C58_S74_R1_001.fastq.gz', '/home/baker/my-James-Bagnall-share/fastqs/C59_S82_R1_001.fastq.gz', '/home/baker/my-James-Bagnall-share/fastqs/C60_S90_R1_001.fastq.gz', '/home/baker/my-James-Bagnall-share/fastqs/C61_S27_R1_001.fastq.gz', '/home/baker/my-James-Bagnall-share/fastqs/C62_S35_R1_001.fastq.gz', '/home/baker/my-James-Bagnall-share/fastqs/C63_S43_R1_001.fastq.gz', '/home/baker/my-James-Bagnall-share/fastqs/C64_S75_R1_001.fastq.gz', '/home/baker/my-James-Bagnall-share/fastqs/C65_S83_R1_001.fastq.gz', '/home/baker/my-James-Bagnall-share/fastqs/C66_S91_R1_001.fastq.gz', '/home/baker/my-James-Bagnall-share/fastqs/C67_S28_R1_001.fastq.gz', '/home/baker/my-James-Bagnall-share/fastqs/C68_S36_R1_001.fastq.gz', '/home/baker/my-James-Bagnall-share/fastqs/C69_S44_R1_001.fastq.gz', '/home/baker/my-James-Bagnall-share/fastqs/C70_S76_R1_001.fastq.gz', '/home/baker/my-James-Bagnall-share/fastqs/C71_S84_R1_001.fastq.gz', '/home/baker/my-James-Bagnall-share/fastqs/C72_S92_R1_001.fastq.gz', '/home/baker/my-James-Bagnall-share/fastqs/C73_S45_R1_001.fastq.gz', '/home/baker/my-James-Bagnall-share/fastqs/C74_S37_R1_001.fastq.gz', '/home/baker/my-James-Bagnall-share/fastqs/C75_S29_R1_001.fastq.gz', '/home/baker/my-James-Bagnall-share/fastqs/C76_S93_R1_001.fastq.gz', '/home/baker/my-James-Bagnall-share/fastqs/C77_S85_R1_001.fastq.gz', '/home/baker/my-James-Bagnall-share/fastqs/C78_S77_R1_001.fastq.gz', '/home/baker/my-James-Bagnall-share/fastqs/C79_S46_R1_001.fastq.gz', '/home/baker/my-James-Bagnall-share/fastqs/C80_S38_R1_001.fastq.gz', '/home/baker/my-James-Bagnall-share/fastqs/C81_S30_R1_001.fastq.gz', '/home/baker/my-James-Bagnall-share/fastqs/C82_S94_R1_001.fastq.gz', '/home/baker/my-James-Bagnall-share/fastqs/C83_S86_R1_001.fastq.gz', '/home/baker/my-James-Bagnall-share/fastqs/C84_S78_R1_001.fastq.gz', '/home/baker/my-James-Bagnall-share/fastqs/C85_S47_R1_001.fastq.gz', '/home/baker/my-James-Bagnall-share/fastqs/C86_S39_R1_001.fastq.gz', '/home/baker/my-James-Bagnall-share/fastqs/C87_S31_R1_001.fastq.gz', '/home/baker/my-James-Bagnall-share/fastqs/C88_S95_R1_001.fastq.gz', '/home/baker/my-James-Bagnall-share/fastqs/C89_S87_R1_001.fastq.gz', '/home/baker/my-James-Bagnall-share/fastqs/C90_S79_R1_001.fastq.gz', '/home/baker/my-James-Bagnall-share/fastqs/C91_S48_R1_001.fastq.gz', '/home/baker/my-James-Bagnall-share/fastqs/C92_S40_R1_001.fastq.gz', '/home/baker/my-James-Bagnall-share/fastqs/C93_S32_R1_001.fastq.gz', '/home/baker/my-James-Bagnall-share/fastqs/C94_S96_R1_001.fastq.gz', '/home/baker/my-James-Bagnall-share/fastqs/C95_S88_R1_001.fastq.gz', '/home/baker/my-James-Bagnall-share/fastqs/C96_S80_R1_001.fastq.gz'] ['/home/baker/my-James-Bagnall-share/fastqs/C01_S17_R2_001.fastq.gz', '/home/baker/my-James-Bagnall-share/fastqs/C02_S9_R2_001.fastq.gz', '/home/baker/my-James-Bagnall-share/fastqs/C03_S1_R2_001.fastq.gz', '/home/baker/my-James-Bagnall-share/fastqs/C04_S65_R2_001.fastq.gz', '/home/baker/my-James-Bagnall-share/fastqs/C05_S57_R2_001.fastq.gz', '/home/baker/my-James-Bagnall-share/fastqs/C06_S49_R2_001.fastq.gz', '/home/baker/my-James-Bagnall-share/fastqs/C07_S18_R2_001.fastq.gz', '/home/baker/my-James-Bagnall-share/fastqs/C08_S10_R2_001.fastq.gz', '/home/baker/my-James-Bagnall-share/fastqs/C09_S2_R2_001.fastq.gz', '/home/baker/my-James-Bagnall-share/fastqs/C10_S66_R2_001.fastq.gz', '/home/baker/my-James-Bagnall-share/fastqs/C11_S58_R2_001.fastq.gz', '/home/baker/my-James-Bagnall-share/fastqs/C12_S50_R2_001.fastq.gz', '/home/baker/my-James-Bagnall-share/fastqs/C13_S19_R2_001.fastq.gz', '/home/baker/my-James-Bagnall-share/fastqs/C14_S11_R2_001.fastq.gz', '/home/baker/my-James-Bagnall-share/fastqs/C15_S3_R2_001.fastq.gz', '/home/baker/my-James-Bagnall-share/fastqs/C16_S67_R2_001.fastq.gz', '/home/baker/my-James-Bagnall-share/fastqs/C17_S59_R2_001.fastq.gz', '/home/baker/my-James-Bagnall-share/fastqs/C18_S51_R2_001.fastq.gz', '/home/baker/my-James-Bagnall-share/fastqs/C19_S20_R2_001.fastq.gz', '/home/baker/my-James-Bagnall-share/fastqs/C20_S12_R2_001.fastq.gz', '/home/baker/my-James-Bagnall-share/fastqs/C21_S4_R2_001.fastq.gz', '/home/baker/my-James-Bagnall-share/fastqs/C22_S68_R2_001.fastq.gz', '/home/baker/my-James-Bagnall-share/fastqs/C23_S60_R2_001.fastq.gz', '/home/baker/my-James-Bagnall-share/fastqs/C24_S52_R2_001.fastq.gz', '/home/baker/my-James-Bagnall-share/fastqs/C25_S5_R2_001.fastq.gz', '/home/baker/my-James-Bagnall-share/fastqs/C26_S13_R2_001.fastq.gz', '/home/baker/my-James-Bagnall-share/fastqs/C27_S21_R2_001.fastq.gz', '/home/baker/my-James-Bagnall-share/fastqs/C28_S53_R2_001.fastq.gz', '/home/baker/my-James-Bagnall-share/fastqs/C29_S61_R2_001.fastq.gz', '/home/baker/my-James-Bagnall-share/fastqs/C30_S69_R2_001.fastq.gz', '/home/baker/my-James-Bagnall-share/fastqs/C31_S6_R2_001.fastq.gz', '/home/baker/my-James-Bagnall-share/fastqs/C32_S14_R2_001.fastq.gz', '/home/baker/my-James-Bagnall-share/fastqs/C33_S22_R2_001.fastq.gz', '/home/baker/my-James-Bagnall-share/fastqs/C34_S54_R2_001.fastq.gz', '/home/baker/my-James-Bagnall-share/fastqs/C35_S62_R2_001.fastq.gz', '/home/baker/my-James-Bagnall-share/fastqs/C36_S70_R2_001.fastq.gz', '/home/baker/my-James-Bagnall-share/fastqs/C37_S7_R2_001.fastq.gz', '/home/baker/my-James-Bagnall-share/fastqs/C38_S15_R2_001.fastq.gz', '/home/baker/my-James-Bagnall-share/fastqs/C39_S23_R2_001.fastq.gz', '/home/baker/my-James-Bagnall-share/fastqs/C40_S55_R2_001.fastq.gz', '/home/baker/my-James-Bagnall-share/fastqs/C41_S63_R2_001.fastq.gz', '/home/baker/my-James-Bagnall-share/fastqs/C42_S71_R2_001.fastq.gz', '/home/baker/my-James-Bagnall-share/fastqs/C43_S8_R2_001.fastq.gz', '/home/baker/my-James-Bagnall-share/fastqs/C44_S16_R2_001.fastq.gz', '/home/baker/my-James-Bagnall-share/fastqs/C45_S24_R2_001.fastq.gz', '/home/baker/my-James-Bagnall-share/fastqs/C46_S56_R2_001.fastq.gz', '/home/baker/my-James-Bagnall-share/fastqs/C47_S64_R2_001.fastq.gz', '/home/baker/my-James-Bagnall-share/fastqs/C48_S72_R2_001.fastq.gz', '/home/baker/my-James-Bagnall-share/fastqs/C49_S25_R2_001.fastq.gz', '/home/baker/my-James-Bagnall-share/fastqs/C50_S33_R2_001.fastq.gz', '/home/baker/my-James-Bagnall-share/fastqs/C51_S41_R2_001.fastq.gz', '/home/baker/my-James-Bagnall-share/fastqs/C52_S73_R2_001.fastq.gz', '/home/baker/my-James-Bagnall-share/fastqs/C53_S81_R2_001.fastq.gz', '/home/baker/my-James-Bagnall-share/fastqs/C54_S89_R2_001.fastq.gz', '/home/baker/my-James-Bagnall-share/fastqs/C55_S26_R2_001.fastq.gz', '/home/baker/my-James-Bagnall-share/fastqs/C56_S34_R2_001.fastq.gz', '/home/baker/my-James-Bagnall-share/fastqs/C57_S42_R2_001.fastq.gz', '/home/baker/my-James-Bagnall-share/fastqs/C58_S74_R2_001.fastq.gz', '/home/baker/my-James-Bagnall-share/fastqs/C59_S82_R2_001.fastq.gz', '/home/baker/my-James-Bagnall-share/fastqs/C60_S90_R2_001.fastq.gz', '/home/baker/my-James-Bagnall-share/fastqs/C61_S27_R2_001.fastq.gz', '/home/baker/my-James-Bagnall-share/fastqs/C62_S35_R2_001.fastq.gz', '/home/baker/my-James-Bagnall-share/fastqs/C63_S43_R2_001.fastq.gz', '/home/baker/my-James-Bagnall-share/fastqs/C64_S75_R2_001.fastq.gz', '/home/baker/my-James-Bagnall-share/fastqs/C65_S83_R2_001.fastq.gz', '/home/baker/my-James-Bagnall-share/fastqs/C66_S91_R2_001.fastq.gz', '/home/baker/my-James-Bagnall-share/fastqs/C67_S28_R2_001.fastq.gz', '/home/baker/my-James-Bagnall-share/fastqs/C68_S36_R2_001.fastq.gz', '/home/baker/my-James-Bagnall-share/fastqs/C69_S44_R2_001.fastq.gz', '/home/baker/my-James-Bagnall-share/fastqs/C70_S76_R2_001.fastq.gz', '/home/baker/my-James-Bagnall-share/fastqs/C71_S84_R2_001.fastq.gz', '/home/baker/my-James-Bagnall-share/fastqs/C72_S92_R2_001.fastq.gz', '/home/baker/my-James-Bagnall-share/fastqs/C73_S45_R2_001.fastq.gz', '/home/baker/my-James-Bagnall-share/fastqs/C74_S37_R2_001.fastq.gz', '/home/baker/my-James-Bagnall-share/fastqs/C75_S29_R2_001.fastq.gz', '/home/baker/my-James-Bagnall-share/fastqs/C76_S93_R2_001.fastq.gz', '/home/baker/my-James-Bagnall-share/fastqs/C77_S85_R2_001.fastq.gz', '/home/baker/my-James-Bagnall-share/fastqs/C78_S77_R2_001.fastq.gz', '/home/baker/my-James-Bagnall-share/fastqs/C79_S46_R2_001.fastq.gz', '/home/baker/my-James-Bagnall-share/fastqs/C80_S38_R2_001.fastq.gz', '/home/baker/my-James-Bagnall-share/fastqs/C81_S30_R2_001.fastq.gz', '/home/baker/my-James-Bagnall-share/fastqs/C82_S94_R2_001.fastq.gz', '/home/baker/my-James-Bagnall-share/fastqs/C83_S86_R2_001.fastq.gz', '/home/baker/my-James-Bagnall-share/fastqs/C84_S78_R2_001.fastq.gz', '/home/baker/my-James-Bagnall-share/fastqs/C85_S47_R2_001.fastq.gz', '/home/baker/my-James-Bagnall-share/fastqs/C86_S39_R2_001.fastq.gz', '/home/baker/my-James-Bagnall-share/fastqs/C87_S31_R2_001.fastq.gz', '/home/baker/my-James-Bagnall-share/fastqs/C88_S95_R2_001.fastq.gz', '/home/baker/my-James-Bagnall-share/fastqs/C89_S87_R2_001.fastq.gz', '/home/baker/my-James-Bagnall-share/fastqs/C90_S79_R2_001.fastq.gz', '/home/baker/my-James-Bagnall-share/fastqs/C91_S48_R2_001.fastq.gz', '/home/baker/my-James-Bagnall-share/fastqs/C92_S40_R2_001.fastq.gz', '/home/baker/my-James-Bagnall-share/fastqs/C93_S32_R2_001.fastq.gz', '/home/baker/my-James-Bagnall-share/fastqs/C94_S96_R2_001.fastq.gz', '/home/baker/my-James-Bagnall-share/fastqs/C95_S88_R2_001.fastq.gz', '/home/baker/my-James-Bagnall-share/fastqs/C96_S80_R2_001.fastq.gz']\n"
     ]
    }
   ],
   "source": [
    "print reads1, reads2"
   ]
  },
  {
   "cell_type": "markdown",
   "metadata": {},
   "source": [
    "Run the commands for all the pairs"
   ]
  },
  {
   "cell_type": "code",
   "execution_count": 50,
   "metadata": {
    "collapsed": false,
    "scrolled": true
   },
   "outputs": [],
   "source": [
    "for read1, read2 in zip(reads1, reads2):\n",
    "    args = get_args(read1, read2, ref_genome, output_folders)\n",
    "    args = dict(args, **softwares)\n",
    "    \n",
    "    for cmd in cmds:\n",
    "        #print cmd.format(**args)\n",
    "        subprocess.call(cmd.format(**args), preexec_fn=lambda: signal.signal(signal.SIGPIPE, signal.SIG_DFL), shell=True)"
   ]
  },
  {
   "cell_type": "markdown",
   "metadata": {},
   "source": [
    "Generate the level1 file"
   ]
  },
  {
   "cell_type": "code",
   "execution_count": 51,
   "metadata": {
    "collapsed": true
   },
   "outputs": [],
   "source": [
    "genomeMapped = outputFolder + 'genome_mapped/'\n",
    "root, folders, files = os.walk(genomeMapped).next()\n",
    "files = [os.path.join(root, f) for f in files if f.endswith('bam')]\n",
    "level1 = 'python /home/baker/PromoterPipeline_20150516/level1.py -o /home/baker/my-scratch-share/James_Bagnall_Single_cell_rna_seq_V2/output/mylevel1file.l1.osc.gz -f 0x0042 -F 0x0104 --fingerprint {files}'.format(files=' '.join(files))"
   ]
  },
  {
   "cell_type": "code",
   "execution_count": 52,
   "metadata": {
    "collapsed": false
   },
   "outputs": [
    {
     "data": {
      "text/plain": [
       "0"
      ]
     },
     "execution_count": 52,
     "metadata": {},
     "output_type": "execute_result"
    }
   ],
   "source": [
    "subprocess.call(level1, shell=True)"
   ]
  },
  {
   "cell_type": "markdown",
   "metadata": {},
   "source": [
    "## Generate logs (triplet)"
   ]
  },
  {
   "cell_type": "markdown",
   "metadata": {},
   "source": [
    "Here we generate four summary files that will be used for [QC](https://github.com/Population-Transcriptomics/C1-CAGE-preview/blob/master/QC.md) and place them in the 'output' directory. \n",
    "\n",
    "1.  mapped.log: The number of mapped reads per cell\n",
    "2.  extracted.log: The number of remaining reads after filtering for ribosomal DNA and unreadable UMIs\n",
    "3.  filtered.log: The detailed number of ribosomal DNA extracted per cell\n",
    "4.  transcript_count.log: The exact number of unique transcprit per cell\n",
    "\n"
   ]
  },
  {
   "cell_type": "code",
   "execution_count": 53,
   "metadata": {
    "collapsed": true
   },
   "outputs": [],
   "source": [
    "mapped_cmd = \"{samtools} view -u -f 0x40 {genome_mapped}.bam | {samtools} flagstat - | grep mapped | grep % | cut -f 1 -d ' '\"\n",
    "extracted_cmd = \"{samtools} flagstat {genome_mapped}.bam | grep read1 | cut -f 1 -d ' '\"\n",
    "counts_cmd = \"wc -l {cagescan_fragments}.bed | cut -f 1 -d ' '\"\n",
    "rdna_cmd = \"grep ribosomal {cleaned_reads}_logfile.txt | cut -f 2\""
   ]
  },
  {
   "cell_type": "code",
   "execution_count": 54,
   "metadata": {
    "collapsed": true
   },
   "outputs": [],
   "source": [
    "#remove _R1 from the file's name\n",
    "custom_rename = lambda x: x.replace('_R1', '')"
   ]
  },
  {
   "cell_type": "code",
   "execution_count": 57,
   "metadata": {
    "collapsed": false
   },
   "outputs": [],
   "source": [
    "mapped, extracted, rdna, counts = ([], [], [], [])\n",
    "\n",
    "for read1 in reads1:\n",
    "    r1_shortname = remove_extension(os.path.basename(read1))\n",
    "    \n",
    "    args = {'samtools': samtools_path,\n",
    "            'genome_mapped': os.path.join(outputFolder, 'genome_mapped', r1_shortname),\n",
    "            'cagescan_fragments': os.path.join(outputFolder, 'cagescan_fragments', r1_shortname),\n",
    "            'cleaned_reads': os.path.join(outputFolder, 'cleaned_reads', r1_shortname)}\n",
    "    \n",
    "    output = subprocess.check_output(mapped_cmd.format(**args), shell=True).strip()\n",
    "    mapped.append(['mapped', custom_rename(r1_shortname), output])\n",
    "\n",
    "    output = subprocess.check_output(extracted_cmd.format(**args), shell=True).strip()\n",
    "    extracted.append(['extracted', custom_rename(r1_shortname), output])\n",
    "    \n",
    "    output = subprocess.check_output(counts_cmd.format(**args), shell=True).strip()\n",
    "    counts.append(['counts', custom_rename(r1_shortname), output])\n",
    "\n",
    "    output = subprocess.check_output(rdna_cmd.format(**args), shell=True).strip()\n",
    "    rdna.append(['rdna', custom_rename(r1_shortname), output])\n",
    "    #print rdna_cmd.format(**args)"
   ]
  },
  {
   "cell_type": "code",
   "execution_count": 58,
   "metadata": {
    "collapsed": true
   },
   "outputs": [],
   "source": [
    "mappedFile = outputFolder + 'mapped.log'\n",
    "with open(mappedFile, 'w') as handler:\n",
    "    writer = csv.writer(handler, delimiter='\\t')\n",
    "    writer.writerows(mapped)\n",
    "\n",
    "extractedFile = outputFolder + 'extracted.log'\n",
    "with open(extractedFile, 'w') as handler:\n",
    "    writer = csv.writer(handler, delimiter='\\t')\n",
    "    writer.writerows(extracted)\n",
    "\n",
    "filteredFolder = outputFolder + 'filtered.log'    \n",
    "with open(filteredFolder, 'w') as handler:\n",
    "    writer = csv.writer(handler, delimiter='\\t')\n",
    "    writer.writerows(rdna)\n",
    "\n",
    "transctiptFolder = outputFolder + 'transcript_count.log'    \n",
    "with open(transctiptFolder, 'w') as handler:\n",
    "    writer = csv.writer(handler, delimiter='\\t')\n",
    "    writer.writerows(counts)"
   ]
  },
  {
   "cell_type": "markdown",
   "metadata": {
    "collapsed": true
   },
   "source": [
    "### Generating commands for htseq-count runs"
   ]
  },
  {
   "cell_type": "code",
   "execution_count": 59,
   "metadata": {
    "collapsed": false
   },
   "outputs": [],
   "source": [
    "log_files = \"\"\n",
    "properlyPairedFolder = outputFolder + 'properly_paired/'\n",
    "root, folders, files = os.walk(properlyPairedFolder).next()\n",
    "htseq_command=\"\"\n",
    "htseqFile = outputFolder + 'htseq_command.txt'\n",
    "for f in files:   \n",
    "    htseq_command_file = open(htseqFile, 'a')\n",
    "    htseq_command = \"qsub run_htseq-count output/properly_paired/\" + f + \" output/htseq_output/\"+f.split('_', 1)[0]+\"_htseq_count.txt\\n\"\n",
    "    htseq_command_file.writelines(htseq_command)\n",
    "    htseq_command_file.close\n",
    "        #htseq_command.append([\"qsub run_htseq-count\", f])\n"
   ]
  },
  {
   "cell_type": "code",
   "execution_count": 60,
   "metadata": {
    "collapsed": false
   },
   "outputs": [],
   "source": [
    "cleanedReadsFolder = outputFolder + 'cleaned_reads/'\n",
    "root, folders, files = os.walk(cleanedReadsFolder).next()\n",
    "files = [os.path.join(\"\", f) for f in files if f.endswith('txt')]"
   ]
  },
  {
   "cell_type": "code",
   "execution_count": 61,
   "metadata": {
    "collapsed": false
   },
   "outputs": [],
   "source": [
    "for f in files:    \n",
    "    ERCC_val = ERCC_finder(f)"
   ]
  }
 ],
 "metadata": {
  "kernelspec": {
   "display_name": "Python 2.7",
   "language": "python",
   "name": "python2"
  },
  "language_info": {
   "name": "python",
   "version": "2.7.6"
  }
 },
 "nbformat": 4,
 "nbformat_minor": 0
}
