{
 "cells": [
  {
   "cell_type": "markdown",
   "metadata": {},
   "source": [
    "# WORKFLOW-CAGEscan-short-reads with James Bagnall"
   ]
  },
  {
   "cell_type": "markdown",
   "metadata": {},
   "source": [
    "This document is an example of how to process a C1CAGE library with a Jupyter notebook from raw reads to single molecule count. All the steps are described in the [tutorial](https://github.com/Population-Transcriptomics/C1-CAGE-preview/blob/master/tutorial.md) section of this repository. In the following section we assume that:\n",
    "- The softwares used in this workflow are mentioned in the [prerequesite](https://github.com/Population-Transcriptomics/C1-CAGE-preview/blob/master/prerequisite.md) section.\n",
    "- The reference genome has to be already indexed with bwa\n",
    "- The tutorials are introduced with the example file mentioned in the tutorial"
   ]
  },
  {
   "cell_type": "markdown",
   "metadata": {},
   "source": [
    "In our hands this notebook worked without trouble on a machine running Debian GNU/Linux 8. We noticed that the behavior of tagdust2 in single-end mode was different on Mac OSX. In short, the order of the reads1 is changed after extraction on Mac OSX which is a problem because syncpairs expect the order of reads1 and reads2 to be the same. One way to overcome this issueis sort reads1 and reads2 separately after the exctraction then syncpairs will work properly."
   ]
  },
  {
   "cell_type": "markdown",
   "metadata": {},
   "source": [
    "## Imports"
   ]
  },
  {
   "cell_type": "code",
   "execution_count": 1,
   "metadata": {
    "collapsed": true
   },
   "outputs": [],
   "source": [
    "import subprocess, os, csv, signal, pysam"
   ]
  },
  {
   "cell_type": "markdown",
   "metadata": {},
   "source": [
    "## Custom functions"
   ]
  },
  {
   "cell_type": "code",
   "execution_count": 2,
   "metadata": {
    "collapsed": true
   },
   "outputs": [],
   "source": [
    "remove_extension = lambda x: x.split('.')[0]"
   ]
  },
  {
   "cell_type": "code",
   "execution_count": 3,
   "metadata": {
    "collapsed": false
   },
   "outputs": [
    {
     "name": "stdout",
     "output_type": "stream",
     "text": [
      "<function <lambda> at 0x7f4f5005eb90>\n"
     ]
    }
   ],
   "source": [
    "print remove_extension"
   ]
  },
  {
   "cell_type": "markdown",
   "metadata": {},
   "source": [
    "Declare the function that deals with inputs and outputs"
   ]
  },
  {
   "cell_type": "code",
   "execution_count": 4,
   "metadata": {
    "collapsed": true
   },
   "outputs": [],
   "source": [
    "def get_args(read1, read2, ref_genome, output_folders):\n",
    "    '''Set the input and output path for a given pair of reads'''\n",
    "    r1_shortname = remove_extension(os.path.basename(read1))\n",
    "\n",
    "    args = {  \n",
    "        'r1_input': read1,\n",
    "        'r2_input': read2,\n",
    "        'ref_genome': ref_genome,\n",
    "    }\n",
    "    \n",
    "    #output_paths = {folder: os.path.join('output', folder, r1_shortname) for folder in output_folders}\n",
    "    output_paths = {folder: os.path.join('/home/baker/my-scratch-share/James_Bagnall_Single_cell_rna_seq/output/', folder, r1_shortname) for folder in output_folders}\n",
    "    \n",
    "    return dict(args, **output_paths)"
   ]
  },
  {
   "cell_type": "markdown",
   "metadata": {},
   "source": [
    "## Parameters"
   ]
  },
  {
   "cell_type": "markdown",
   "metadata": {},
   "source": [
    "If the required softwares are not in the PATH you can manually set their location here"
   ]
  },
  {
   "cell_type": "code",
   "execution_count": 5,
   "metadata": {
    "collapsed": true
   },
   "outputs": [],
   "source": [
    "tagdust2_path = 'tagdust'\n",
    "bwa_path = '/home/baker/bwa/bwa'\n",
    "samtools_path = 'samtools'\n",
    "paired_bam_to_bed12_path = '/home/baker/pairedBamToBed12/bin/pairedBamToBed12'\n",
    "umicountFP_path = 'umicountFP'\n",
    "syncpairs_path = 'syncpairs'"
   ]
  },
  {
   "cell_type": "markdown",
   "metadata": {},
   "source": [
    "Path to the reference genome you want to align your reads against"
   ]
  },
  {
   "cell_type": "code",
   "execution_count": 6,
   "metadata": {
    "collapsed": true
   },
   "outputs": [],
   "source": [
    "#ref_genome = '/home/baker/my-mm10-index-share/Mus_musculus.GRCm38.71.fa'\n",
    "ref_genome = '/home/baker/my-mm10-index-share/bwa/bwa_mm10_random_chrM_chrUn'"
   ]
  },
  {
   "cell_type": "code",
   "execution_count": 7,
   "metadata": {
    "collapsed": true
   },
   "outputs": [],
   "source": [
    "softwares = {    \n",
    "    'bwa': bwa_path,\n",
    "    'tagdust': tagdust2_path,\n",
    "    'syncpairs': syncpairs_path,\n",
    "    'samtools': samtools_path,\n",
    "    'pairedBamToBed12': paired_bam_to_bed12_path,\n",
    "    'umicountFP': umicountFP_path}"
   ]
  },
  {
   "cell_type": "markdown",
   "metadata": {},
   "source": [
    "The name of the output folders for each command"
   ]
  },
  {
   "cell_type": "code",
   "execution_count": 8,
   "metadata": {
    "collapsed": true
   },
   "outputs": [],
   "source": [
    "output_folders = [ 'tagdust_r1', 'unzip_r2'                    # Demultiplexed R1, unziped R2\n",
    "                 , 'extracted_r1', 'extracted_r2'              # Synced R1 and R2\n",
    "                 , 'cleaned_reads', 'cleaned_r1', 'cleaned_r2' # rRNA reads removed\n",
    "                 , 'r1_sai', 'r2_sai', 'sampe'                 # Intermediate files from BWA\n",
    "                 , 'genome_mapped', 'properly_paired'          # Final output in BAM format\n",
    "                 , 'cagescan_pairs', 'cagescan_fragments'      # Final output in BED12 format\n",
    "                 ]"
   ]
  },
  {
   "cell_type": "markdown",
   "metadata": {},
   "source": [
    "Create the folders"
   ]
  },
  {
   "cell_type": "code",
   "execution_count": 9,
   "metadata": {
    "collapsed": false
   },
   "outputs": [],
   "source": [
    "for folder in output_folders:\n",
    "    os.makedirs(os.path.join('/home/baker/my-scratch-share/James_Bagnall_Single_cell_rna_seq/output', folder))"
   ]
  },
  {
   "cell_type": "markdown",
   "metadata": {},
   "source": [
    "The actual command to run. See the [tutorial](https://github.com/Population-Transcriptomics/C1-CAGE-preview/blob/master/tutorial.md) section for more details about each command"
   ]
  },
  {
   "cell_type": "code",
   "execution_count": 10,
   "metadata": {
    "collapsed": true
   },
   "outputs": [],
   "source": [
    "cmds = [\n",
    "    \n",
    "    '{tagdust} -t8 -o {tagdust_r1} -1 F:NNNNNNNN -2 S:TATAGGG -3 R:N {r1_input}',\n",
    "    \n",
    "    'gunzip -c {r2_input} > {unzip_r2}.fq',\n",
    "        \n",
    "    '{syncpairs} {tagdust_r1}.fq {unzip_r2}.fq {extracted_r1}.fq {extracted_r2}.fq',\n",
    "    \n",
    "    '{tagdust} -arch SimpleArchitecture.txt -ref /home/baker/Rna-seq_Data-Analysis/Pawel_Pascaz/ercc_and_TPA_mouse_rRNA.fa -o {cleaned_reads} {extracted_r1}.fq {extracted_r2}.fq',\n",
    "    \n",
    "    'cp {cleaned_reads}_READ1.fq {cleaned_r1}.fq',\n",
    "    \n",
    "    'cp {cleaned_reads}_READ2.fq {cleaned_r2}.fq',\n",
    "    \n",
    "    '{bwa} aln {ref_genome} {cleaned_r1}.fq > {r1_sai}.sai',\n",
    "    \n",
    "    '{bwa} aln {ref_genome} {cleaned_r2}.fq > {r2_sai}.sai',\n",
    "    \n",
    "    '{bwa} sampe -a 2000000 -c 0.00001 {ref_genome} {r1_sai}.sai {r2_sai}.sai {cleaned_r1}.fq {cleaned_r2}.fq > {sampe}.sam',\n",
    "    \n",
    "    '{samtools} view -uSo - {sampe}.sam | {samtools} sort - {genome_mapped}',\n",
    "    \n",
    "    '{samtools} view -f 0x0002 -F 0x0100 -uo - {genome_mapped}.bam | {samtools} sort -n - {properly_paired}',\n",
    "    \n",
    "    '{pairedBamToBed12} -i {properly_paired}.bam > {cagescan_pairs}.bed',\n",
    "    \n",
    "    '{umicountFP} -f {cagescan_pairs}.bed > {cagescan_fragments}.bed'\n",
    "    \n",
    "]"
   ]
  },
  {
   "cell_type": "code",
   "execution_count": null,
   "metadata": {
    "collapsed": false
   },
   "outputs": [],
   "source": []
  },
  {
   "cell_type": "markdown",
   "metadata": {},
   "source": [
    "Get the reads. Here we assume that the reads are in the current directory, in a folder named following the MiSeq run id"
   ]
  },
  {
   "cell_type": "code",
   "execution_count": 11,
   "metadata": {
    "collapsed": false
   },
   "outputs": [],
   "source": [
    "root, folders, files = os.walk('/home/baker/my-James-Bagnall-share/fastqs/').next()\n",
    "\n",
    "files = [f for f in files if not f.startswith('.')] #remove hidden files if there exist\n",
    "reads1 = sorted([os.path.join(root, f) for f in files if 'R1' in f])\n",
    "reads2 = sorted([os.path.join(root, f) for f in files if 'R2' in f])"
   ]
  },
  {
   "cell_type": "code",
   "execution_count": 12,
   "metadata": {
    "collapsed": false,
    "scrolled": true
   },
   "outputs": [
    {
     "name": "stdout",
     "output_type": "stream",
     "text": [
      "['/home/baker/my-James-Bagnall-share/fastqs/C01_S17_R1_001.fastq.gz', '/home/baker/my-James-Bagnall-share/fastqs/C02_S9_R1_001.fastq.gz', '/home/baker/my-James-Bagnall-share/fastqs/C03_S1_R1_001.fastq.gz', '/home/baker/my-James-Bagnall-share/fastqs/C04_S65_R1_001.fastq.gz', '/home/baker/my-James-Bagnall-share/fastqs/C05_S57_R1_001.fastq.gz', '/home/baker/my-James-Bagnall-share/fastqs/C06_S49_R1_001.fastq.gz', '/home/baker/my-James-Bagnall-share/fastqs/C07_S18_R1_001.fastq.gz', '/home/baker/my-James-Bagnall-share/fastqs/C08_S10_R1_001.fastq.gz', '/home/baker/my-James-Bagnall-share/fastqs/C09_S2_R1_001.fastq.gz', '/home/baker/my-James-Bagnall-share/fastqs/C10_S66_R1_001.fastq.gz', '/home/baker/my-James-Bagnall-share/fastqs/C11_S58_R1_001.fastq.gz', '/home/baker/my-James-Bagnall-share/fastqs/C12_S50_R1_001.fastq.gz', '/home/baker/my-James-Bagnall-share/fastqs/C13_S19_R1_001.fastq.gz', '/home/baker/my-James-Bagnall-share/fastqs/C14_S11_R1_001.fastq.gz', '/home/baker/my-James-Bagnall-share/fastqs/C15_S3_R1_001.fastq.gz', '/home/baker/my-James-Bagnall-share/fastqs/C16_S67_R1_001.fastq.gz', '/home/baker/my-James-Bagnall-share/fastqs/C17_S59_R1_001.fastq.gz', '/home/baker/my-James-Bagnall-share/fastqs/C18_S51_R1_001.fastq.gz', '/home/baker/my-James-Bagnall-share/fastqs/C19_S20_R1_001.fastq.gz', '/home/baker/my-James-Bagnall-share/fastqs/C20_S12_R1_001.fastq.gz', '/home/baker/my-James-Bagnall-share/fastqs/C21_S4_R1_001.fastq.gz', '/home/baker/my-James-Bagnall-share/fastqs/C22_S68_R1_001.fastq.gz', '/home/baker/my-James-Bagnall-share/fastqs/C23_S60_R1_001.fastq.gz', '/home/baker/my-James-Bagnall-share/fastqs/C24_S52_R1_001.fastq.gz', '/home/baker/my-James-Bagnall-share/fastqs/C25_S5_R1_001.fastq.gz', '/home/baker/my-James-Bagnall-share/fastqs/C26_S13_R1_001.fastq.gz', '/home/baker/my-James-Bagnall-share/fastqs/C27_S21_R1_001.fastq.gz', '/home/baker/my-James-Bagnall-share/fastqs/C28_S53_R1_001.fastq.gz', '/home/baker/my-James-Bagnall-share/fastqs/C29_S61_R1_001.fastq.gz', '/home/baker/my-James-Bagnall-share/fastqs/C30_S69_R1_001.fastq.gz', '/home/baker/my-James-Bagnall-share/fastqs/C31_S6_R1_001.fastq.gz', '/home/baker/my-James-Bagnall-share/fastqs/C32_S14_R1_001.fastq.gz', '/home/baker/my-James-Bagnall-share/fastqs/C33_S22_R1_001.fastq.gz', '/home/baker/my-James-Bagnall-share/fastqs/C34_S54_R1_001.fastq.gz', '/home/baker/my-James-Bagnall-share/fastqs/C35_S62_R1_001.fastq.gz', '/home/baker/my-James-Bagnall-share/fastqs/C36_S70_R1_001.fastq.gz', '/home/baker/my-James-Bagnall-share/fastqs/C37_S7_R1_001.fastq.gz', '/home/baker/my-James-Bagnall-share/fastqs/C38_S15_R1_001.fastq.gz', '/home/baker/my-James-Bagnall-share/fastqs/C39_S23_R1_001.fastq.gz', '/home/baker/my-James-Bagnall-share/fastqs/C40_S55_R1_001.fastq.gz', '/home/baker/my-James-Bagnall-share/fastqs/C41_S63_R1_001.fastq.gz', '/home/baker/my-James-Bagnall-share/fastqs/C42_S71_R1_001.fastq.gz', '/home/baker/my-James-Bagnall-share/fastqs/C43_S8_R1_001.fastq.gz', '/home/baker/my-James-Bagnall-share/fastqs/C44_S16_R1_001.fastq.gz', '/home/baker/my-James-Bagnall-share/fastqs/C45_S24_R1_001.fastq.gz', '/home/baker/my-James-Bagnall-share/fastqs/C46_S56_R1_001.fastq.gz', '/home/baker/my-James-Bagnall-share/fastqs/C47_S64_R1_001.fastq.gz', '/home/baker/my-James-Bagnall-share/fastqs/C48_S72_R1_001.fastq.gz', '/home/baker/my-James-Bagnall-share/fastqs/C49_S25_R1_001.fastq.gz', '/home/baker/my-James-Bagnall-share/fastqs/C50_S33_R1_001.fastq.gz', '/home/baker/my-James-Bagnall-share/fastqs/C51_S41_R1_001.fastq.gz', '/home/baker/my-James-Bagnall-share/fastqs/C52_S73_R1_001.fastq.gz', '/home/baker/my-James-Bagnall-share/fastqs/C53_S81_R1_001.fastq.gz', '/home/baker/my-James-Bagnall-share/fastqs/C54_S89_R1_001.fastq.gz', '/home/baker/my-James-Bagnall-share/fastqs/C55_S26_R1_001.fastq.gz', '/home/baker/my-James-Bagnall-share/fastqs/C56_S34_R1_001.fastq.gz', '/home/baker/my-James-Bagnall-share/fastqs/C57_S42_R1_001.fastq.gz', '/home/baker/my-James-Bagnall-share/fastqs/C58_S74_R1_001.fastq.gz', '/home/baker/my-James-Bagnall-share/fastqs/C59_S82_R1_001.fastq.gz', '/home/baker/my-James-Bagnall-share/fastqs/C60_S90_R1_001.fastq.gz', '/home/baker/my-James-Bagnall-share/fastqs/C61_S27_R1_001.fastq.gz', '/home/baker/my-James-Bagnall-share/fastqs/C62_S35_R1_001.fastq.gz', '/home/baker/my-James-Bagnall-share/fastqs/C63_S43_R1_001.fastq.gz', '/home/baker/my-James-Bagnall-share/fastqs/C64_S75_R1_001.fastq.gz', '/home/baker/my-James-Bagnall-share/fastqs/C65_S83_R1_001.fastq.gz', '/home/baker/my-James-Bagnall-share/fastqs/C66_S91_R1_001.fastq.gz', '/home/baker/my-James-Bagnall-share/fastqs/C67_S28_R1_001.fastq.gz', '/home/baker/my-James-Bagnall-share/fastqs/C68_S36_R1_001.fastq.gz', '/home/baker/my-James-Bagnall-share/fastqs/C69_S44_R1_001.fastq.gz', '/home/baker/my-James-Bagnall-share/fastqs/C70_S76_R1_001.fastq.gz', '/home/baker/my-James-Bagnall-share/fastqs/C71_S84_R1_001.fastq.gz', '/home/baker/my-James-Bagnall-share/fastqs/C72_S92_R1_001.fastq.gz', '/home/baker/my-James-Bagnall-share/fastqs/C73_S45_R1_001.fastq.gz', '/home/baker/my-James-Bagnall-share/fastqs/C74_S37_R1_001.fastq.gz', '/home/baker/my-James-Bagnall-share/fastqs/C75_S29_R1_001.fastq.gz', '/home/baker/my-James-Bagnall-share/fastqs/C76_S93_R1_001.fastq.gz', '/home/baker/my-James-Bagnall-share/fastqs/C77_S85_R1_001.fastq.gz', '/home/baker/my-James-Bagnall-share/fastqs/C78_S77_R1_001.fastq.gz', '/home/baker/my-James-Bagnall-share/fastqs/C79_S46_R1_001.fastq.gz', '/home/baker/my-James-Bagnall-share/fastqs/C80_S38_R1_001.fastq.gz', '/home/baker/my-James-Bagnall-share/fastqs/C81_S30_R1_001.fastq.gz', '/home/baker/my-James-Bagnall-share/fastqs/C82_S94_R1_001.fastq.gz', '/home/baker/my-James-Bagnall-share/fastqs/C83_S86_R1_001.fastq.gz', '/home/baker/my-James-Bagnall-share/fastqs/C84_S78_R1_001.fastq.gz', '/home/baker/my-James-Bagnall-share/fastqs/C85_S47_R1_001.fastq.gz', '/home/baker/my-James-Bagnall-share/fastqs/C86_S39_R1_001.fastq.gz', '/home/baker/my-James-Bagnall-share/fastqs/C87_S31_R1_001.fastq.gz', '/home/baker/my-James-Bagnall-share/fastqs/C88_S95_R1_001.fastq.gz', '/home/baker/my-James-Bagnall-share/fastqs/C89_S87_R1_001.fastq.gz', '/home/baker/my-James-Bagnall-share/fastqs/C90_S79_R1_001.fastq.gz', '/home/baker/my-James-Bagnall-share/fastqs/C91_S48_R1_001.fastq.gz', '/home/baker/my-James-Bagnall-share/fastqs/C92_S40_R1_001.fastq.gz', '/home/baker/my-James-Bagnall-share/fastqs/C93_S32_R1_001.fastq.gz', '/home/baker/my-James-Bagnall-share/fastqs/C94_S96_R1_001.fastq.gz', '/home/baker/my-James-Bagnall-share/fastqs/C95_S88_R1_001.fastq.gz', '/home/baker/my-James-Bagnall-share/fastqs/C96_S80_R1_001.fastq.gz'] ['/home/baker/my-James-Bagnall-share/fastqs/C01_S17_R2_001.fastq.gz', '/home/baker/my-James-Bagnall-share/fastqs/C02_S9_R2_001.fastq.gz', '/home/baker/my-James-Bagnall-share/fastqs/C03_S1_R2_001.fastq.gz', '/home/baker/my-James-Bagnall-share/fastqs/C04_S65_R2_001.fastq.gz', '/home/baker/my-James-Bagnall-share/fastqs/C05_S57_R2_001.fastq.gz', '/home/baker/my-James-Bagnall-share/fastqs/C06_S49_R2_001.fastq.gz', '/home/baker/my-James-Bagnall-share/fastqs/C07_S18_R2_001.fastq.gz', '/home/baker/my-James-Bagnall-share/fastqs/C08_S10_R2_001.fastq.gz', '/home/baker/my-James-Bagnall-share/fastqs/C09_S2_R2_001.fastq.gz', '/home/baker/my-James-Bagnall-share/fastqs/C10_S66_R2_001.fastq.gz', '/home/baker/my-James-Bagnall-share/fastqs/C11_S58_R2_001.fastq.gz', '/home/baker/my-James-Bagnall-share/fastqs/C12_S50_R2_001.fastq.gz', '/home/baker/my-James-Bagnall-share/fastqs/C13_S19_R2_001.fastq.gz', '/home/baker/my-James-Bagnall-share/fastqs/C14_S11_R2_001.fastq.gz', '/home/baker/my-James-Bagnall-share/fastqs/C15_S3_R2_001.fastq.gz', '/home/baker/my-James-Bagnall-share/fastqs/C16_S67_R2_001.fastq.gz', '/home/baker/my-James-Bagnall-share/fastqs/C17_S59_R2_001.fastq.gz', '/home/baker/my-James-Bagnall-share/fastqs/C18_S51_R2_001.fastq.gz', '/home/baker/my-James-Bagnall-share/fastqs/C19_S20_R2_001.fastq.gz', '/home/baker/my-James-Bagnall-share/fastqs/C20_S12_R2_001.fastq.gz', '/home/baker/my-James-Bagnall-share/fastqs/C21_S4_R2_001.fastq.gz', '/home/baker/my-James-Bagnall-share/fastqs/C22_S68_R2_001.fastq.gz', '/home/baker/my-James-Bagnall-share/fastqs/C23_S60_R2_001.fastq.gz', '/home/baker/my-James-Bagnall-share/fastqs/C24_S52_R2_001.fastq.gz', '/home/baker/my-James-Bagnall-share/fastqs/C25_S5_R2_001.fastq.gz', '/home/baker/my-James-Bagnall-share/fastqs/C26_S13_R2_001.fastq.gz', '/home/baker/my-James-Bagnall-share/fastqs/C27_S21_R2_001.fastq.gz', '/home/baker/my-James-Bagnall-share/fastqs/C28_S53_R2_001.fastq.gz', '/home/baker/my-James-Bagnall-share/fastqs/C29_S61_R2_001.fastq.gz', '/home/baker/my-James-Bagnall-share/fastqs/C30_S69_R2_001.fastq.gz', '/home/baker/my-James-Bagnall-share/fastqs/C31_S6_R2_001.fastq.gz', '/home/baker/my-James-Bagnall-share/fastqs/C32_S14_R2_001.fastq.gz', '/home/baker/my-James-Bagnall-share/fastqs/C33_S22_R2_001.fastq.gz', '/home/baker/my-James-Bagnall-share/fastqs/C34_S54_R2_001.fastq.gz', '/home/baker/my-James-Bagnall-share/fastqs/C35_S62_R2_001.fastq.gz', '/home/baker/my-James-Bagnall-share/fastqs/C36_S70_R2_001.fastq.gz', '/home/baker/my-James-Bagnall-share/fastqs/C37_S7_R2_001.fastq.gz', '/home/baker/my-James-Bagnall-share/fastqs/C38_S15_R2_001.fastq.gz', '/home/baker/my-James-Bagnall-share/fastqs/C39_S23_R2_001.fastq.gz', '/home/baker/my-James-Bagnall-share/fastqs/C40_S55_R2_001.fastq.gz', '/home/baker/my-James-Bagnall-share/fastqs/C41_S63_R2_001.fastq.gz', '/home/baker/my-James-Bagnall-share/fastqs/C42_S71_R2_001.fastq.gz', '/home/baker/my-James-Bagnall-share/fastqs/C43_S8_R2_001.fastq.gz', '/home/baker/my-James-Bagnall-share/fastqs/C44_S16_R2_001.fastq.gz', '/home/baker/my-James-Bagnall-share/fastqs/C45_S24_R2_001.fastq.gz', '/home/baker/my-James-Bagnall-share/fastqs/C46_S56_R2_001.fastq.gz', '/home/baker/my-James-Bagnall-share/fastqs/C47_S64_R2_001.fastq.gz', '/home/baker/my-James-Bagnall-share/fastqs/C48_S72_R2_001.fastq.gz', '/home/baker/my-James-Bagnall-share/fastqs/C49_S25_R2_001.fastq.gz', '/home/baker/my-James-Bagnall-share/fastqs/C50_S33_R2_001.fastq.gz', '/home/baker/my-James-Bagnall-share/fastqs/C51_S41_R2_001.fastq.gz', '/home/baker/my-James-Bagnall-share/fastqs/C52_S73_R2_001.fastq.gz', '/home/baker/my-James-Bagnall-share/fastqs/C53_S81_R2_001.fastq.gz', '/home/baker/my-James-Bagnall-share/fastqs/C54_S89_R2_001.fastq.gz', '/home/baker/my-James-Bagnall-share/fastqs/C55_S26_R2_001.fastq.gz', '/home/baker/my-James-Bagnall-share/fastqs/C56_S34_R2_001.fastq.gz', '/home/baker/my-James-Bagnall-share/fastqs/C57_S42_R2_001.fastq.gz', '/home/baker/my-James-Bagnall-share/fastqs/C58_S74_R2_001.fastq.gz', '/home/baker/my-James-Bagnall-share/fastqs/C59_S82_R2_001.fastq.gz', '/home/baker/my-James-Bagnall-share/fastqs/C60_S90_R2_001.fastq.gz', '/home/baker/my-James-Bagnall-share/fastqs/C61_S27_R2_001.fastq.gz', '/home/baker/my-James-Bagnall-share/fastqs/C62_S35_R2_001.fastq.gz', '/home/baker/my-James-Bagnall-share/fastqs/C63_S43_R2_001.fastq.gz', '/home/baker/my-James-Bagnall-share/fastqs/C64_S75_R2_001.fastq.gz', '/home/baker/my-James-Bagnall-share/fastqs/C65_S83_R2_001.fastq.gz', '/home/baker/my-James-Bagnall-share/fastqs/C66_S91_R2_001.fastq.gz', '/home/baker/my-James-Bagnall-share/fastqs/C67_S28_R2_001.fastq.gz', '/home/baker/my-James-Bagnall-share/fastqs/C68_S36_R2_001.fastq.gz', '/home/baker/my-James-Bagnall-share/fastqs/C69_S44_R2_001.fastq.gz', '/home/baker/my-James-Bagnall-share/fastqs/C70_S76_R2_001.fastq.gz', '/home/baker/my-James-Bagnall-share/fastqs/C71_S84_R2_001.fastq.gz', '/home/baker/my-James-Bagnall-share/fastqs/C72_S92_R2_001.fastq.gz', '/home/baker/my-James-Bagnall-share/fastqs/C73_S45_R2_001.fastq.gz', '/home/baker/my-James-Bagnall-share/fastqs/C74_S37_R2_001.fastq.gz', '/home/baker/my-James-Bagnall-share/fastqs/C75_S29_R2_001.fastq.gz', '/home/baker/my-James-Bagnall-share/fastqs/C76_S93_R2_001.fastq.gz', '/home/baker/my-James-Bagnall-share/fastqs/C77_S85_R2_001.fastq.gz', '/home/baker/my-James-Bagnall-share/fastqs/C78_S77_R2_001.fastq.gz', '/home/baker/my-James-Bagnall-share/fastqs/C79_S46_R2_001.fastq.gz', '/home/baker/my-James-Bagnall-share/fastqs/C80_S38_R2_001.fastq.gz', '/home/baker/my-James-Bagnall-share/fastqs/C81_S30_R2_001.fastq.gz', '/home/baker/my-James-Bagnall-share/fastqs/C82_S94_R2_001.fastq.gz', '/home/baker/my-James-Bagnall-share/fastqs/C83_S86_R2_001.fastq.gz', '/home/baker/my-James-Bagnall-share/fastqs/C84_S78_R2_001.fastq.gz', '/home/baker/my-James-Bagnall-share/fastqs/C85_S47_R2_001.fastq.gz', '/home/baker/my-James-Bagnall-share/fastqs/C86_S39_R2_001.fastq.gz', '/home/baker/my-James-Bagnall-share/fastqs/C87_S31_R2_001.fastq.gz', '/home/baker/my-James-Bagnall-share/fastqs/C88_S95_R2_001.fastq.gz', '/home/baker/my-James-Bagnall-share/fastqs/C89_S87_R2_001.fastq.gz', '/home/baker/my-James-Bagnall-share/fastqs/C90_S79_R2_001.fastq.gz', '/home/baker/my-James-Bagnall-share/fastqs/C91_S48_R2_001.fastq.gz', '/home/baker/my-James-Bagnall-share/fastqs/C92_S40_R2_001.fastq.gz', '/home/baker/my-James-Bagnall-share/fastqs/C93_S32_R2_001.fastq.gz', '/home/baker/my-James-Bagnall-share/fastqs/C94_S96_R2_001.fastq.gz', '/home/baker/my-James-Bagnall-share/fastqs/C95_S88_R2_001.fastq.gz', '/home/baker/my-James-Bagnall-share/fastqs/C96_S80_R2_001.fastq.gz']\n"
     ]
    }
   ],
   "source": [
    "print reads1, reads2"
   ]
  },
  {
   "cell_type": "markdown",
   "metadata": {},
   "source": [
    "Run the commands for all the pairs"
   ]
  },
  {
   "cell_type": "code",
   "execution_count": 13,
   "metadata": {
    "collapsed": false,
    "scrolled": true
   },
   "outputs": [
    {
     "ename": "KeyboardInterrupt",
     "evalue": "",
     "output_type": "error",
     "traceback": [
      "\u001b[1;31m---------------------------------------------------------------------------\u001b[0m\n\u001b[1;31mKeyboardInterrupt\u001b[0m                         Traceback (most recent call last)",
      "\u001b[1;32m<ipython-input-13-988eee67552a>\u001b[0m in \u001b[0;36m<module>\u001b[1;34m()\u001b[0m\n\u001b[0;32m      5\u001b[0m     \u001b[1;32mfor\u001b[0m \u001b[0mcmd\u001b[0m \u001b[1;32min\u001b[0m \u001b[0mcmds\u001b[0m\u001b[1;33m:\u001b[0m\u001b[1;33m\u001b[0m\u001b[0m\n\u001b[0;32m      6\u001b[0m         \u001b[1;31m#print cmd.format(**args)\u001b[0m\u001b[1;33m\u001b[0m\u001b[1;33m\u001b[0m\u001b[0m\n\u001b[1;32m----> 7\u001b[1;33m         \u001b[0msubprocess\u001b[0m\u001b[1;33m.\u001b[0m\u001b[0mcall\u001b[0m\u001b[1;33m(\u001b[0m\u001b[0mcmd\u001b[0m\u001b[1;33m.\u001b[0m\u001b[0mformat\u001b[0m\u001b[1;33m(\u001b[0m\u001b[1;33m**\u001b[0m\u001b[0margs\u001b[0m\u001b[1;33m)\u001b[0m\u001b[1;33m,\u001b[0m \u001b[0mpreexec_fn\u001b[0m\u001b[1;33m=\u001b[0m\u001b[1;32mlambda\u001b[0m\u001b[1;33m:\u001b[0m \u001b[0msignal\u001b[0m\u001b[1;33m.\u001b[0m\u001b[0msignal\u001b[0m\u001b[1;33m(\u001b[0m\u001b[0msignal\u001b[0m\u001b[1;33m.\u001b[0m\u001b[0mSIGPIPE\u001b[0m\u001b[1;33m,\u001b[0m \u001b[0msignal\u001b[0m\u001b[1;33m.\u001b[0m\u001b[0mSIG_DFL\u001b[0m\u001b[1;33m)\u001b[0m\u001b[1;33m,\u001b[0m \u001b[0mshell\u001b[0m\u001b[1;33m=\u001b[0m\u001b[0mTrue\u001b[0m\u001b[1;33m)\u001b[0m\u001b[1;33m\u001b[0m\u001b[0m\n\u001b[0m",
      "\u001b[1;32m/usr/lib/python2.7/subprocess.pyc\u001b[0m in \u001b[0;36mcall\u001b[1;34m(*popenargs, **kwargs)\u001b[0m\n\u001b[0;32m    520\u001b[0m     \u001b[0mretcode\u001b[0m \u001b[1;33m=\u001b[0m \u001b[0mcall\u001b[0m\u001b[1;33m(\u001b[0m\u001b[1;33m[\u001b[0m\u001b[1;34m\"ls\"\u001b[0m\u001b[1;33m,\u001b[0m \u001b[1;34m\"-l\"\u001b[0m\u001b[1;33m]\u001b[0m\u001b[1;33m)\u001b[0m\u001b[1;33m\u001b[0m\u001b[0m\n\u001b[0;32m    521\u001b[0m     \"\"\"\n\u001b[1;32m--> 522\u001b[1;33m     \u001b[1;32mreturn\u001b[0m \u001b[0mPopen\u001b[0m\u001b[1;33m(\u001b[0m\u001b[1;33m*\u001b[0m\u001b[0mpopenargs\u001b[0m\u001b[1;33m,\u001b[0m \u001b[1;33m**\u001b[0m\u001b[0mkwargs\u001b[0m\u001b[1;33m)\u001b[0m\u001b[1;33m.\u001b[0m\u001b[0mwait\u001b[0m\u001b[1;33m(\u001b[0m\u001b[1;33m)\u001b[0m\u001b[1;33m\u001b[0m\u001b[0m\n\u001b[0m\u001b[0;32m    523\u001b[0m \u001b[1;33m\u001b[0m\u001b[0m\n\u001b[0;32m    524\u001b[0m \u001b[1;33m\u001b[0m\u001b[0m\n",
      "\u001b[1;32m/usr/lib/python2.7/subprocess.pyc\u001b[0m in \u001b[0;36mwait\u001b[1;34m(self)\u001b[0m\n\u001b[0;32m   1374\u001b[0m             \u001b[1;32mwhile\u001b[0m \u001b[0mself\u001b[0m\u001b[1;33m.\u001b[0m\u001b[0mreturncode\u001b[0m \u001b[1;32mis\u001b[0m \u001b[0mNone\u001b[0m\u001b[1;33m:\u001b[0m\u001b[1;33m\u001b[0m\u001b[0m\n\u001b[0;32m   1375\u001b[0m                 \u001b[1;32mtry\u001b[0m\u001b[1;33m:\u001b[0m\u001b[1;33m\u001b[0m\u001b[0m\n\u001b[1;32m-> 1376\u001b[1;33m                     \u001b[0mpid\u001b[0m\u001b[1;33m,\u001b[0m \u001b[0msts\u001b[0m \u001b[1;33m=\u001b[0m \u001b[0m_eintr_retry_call\u001b[0m\u001b[1;33m(\u001b[0m\u001b[0mos\u001b[0m\u001b[1;33m.\u001b[0m\u001b[0mwaitpid\u001b[0m\u001b[1;33m,\u001b[0m \u001b[0mself\u001b[0m\u001b[1;33m.\u001b[0m\u001b[0mpid\u001b[0m\u001b[1;33m,\u001b[0m \u001b[1;36m0\u001b[0m\u001b[1;33m)\u001b[0m\u001b[1;33m\u001b[0m\u001b[0m\n\u001b[0m\u001b[0;32m   1377\u001b[0m                 \u001b[1;32mexcept\u001b[0m \u001b[0mOSError\u001b[0m \u001b[1;32mas\u001b[0m \u001b[0me\u001b[0m\u001b[1;33m:\u001b[0m\u001b[1;33m\u001b[0m\u001b[0m\n\u001b[0;32m   1378\u001b[0m                     \u001b[1;32mif\u001b[0m \u001b[0me\u001b[0m\u001b[1;33m.\u001b[0m\u001b[0merrno\u001b[0m \u001b[1;33m!=\u001b[0m \u001b[0merrno\u001b[0m\u001b[1;33m.\u001b[0m\u001b[0mECHILD\u001b[0m\u001b[1;33m:\u001b[0m\u001b[1;33m\u001b[0m\u001b[0m\n",
      "\u001b[1;32m/usr/lib/python2.7/subprocess.pyc\u001b[0m in \u001b[0;36m_eintr_retry_call\u001b[1;34m(func, *args)\u001b[0m\n\u001b[0;32m    474\u001b[0m     \u001b[1;32mwhile\u001b[0m \u001b[0mTrue\u001b[0m\u001b[1;33m:\u001b[0m\u001b[1;33m\u001b[0m\u001b[0m\n\u001b[0;32m    475\u001b[0m         \u001b[1;32mtry\u001b[0m\u001b[1;33m:\u001b[0m\u001b[1;33m\u001b[0m\u001b[0m\n\u001b[1;32m--> 476\u001b[1;33m             \u001b[1;32mreturn\u001b[0m \u001b[0mfunc\u001b[0m\u001b[1;33m(\u001b[0m\u001b[1;33m*\u001b[0m\u001b[0margs\u001b[0m\u001b[1;33m)\u001b[0m\u001b[1;33m\u001b[0m\u001b[0m\n\u001b[0m\u001b[0;32m    477\u001b[0m         \u001b[1;32mexcept\u001b[0m \u001b[1;33m(\u001b[0m\u001b[0mOSError\u001b[0m\u001b[1;33m,\u001b[0m \u001b[0mIOError\u001b[0m\u001b[1;33m)\u001b[0m \u001b[1;32mas\u001b[0m \u001b[0me\u001b[0m\u001b[1;33m:\u001b[0m\u001b[1;33m\u001b[0m\u001b[0m\n\u001b[0;32m    478\u001b[0m             \u001b[1;32mif\u001b[0m \u001b[0me\u001b[0m\u001b[1;33m.\u001b[0m\u001b[0merrno\u001b[0m \u001b[1;33m==\u001b[0m \u001b[0merrno\u001b[0m\u001b[1;33m.\u001b[0m\u001b[0mEINTR\u001b[0m\u001b[1;33m:\u001b[0m\u001b[1;33m\u001b[0m\u001b[0m\n",
      "\u001b[1;31mKeyboardInterrupt\u001b[0m: "
     ]
    }
   ],
   "source": [
    "for read1, read2 in zip(reads1, reads2):\n",
    "    args = get_args(read1, read2, ref_genome, output_folders)\n",
    "    args = dict(args, **softwares)\n",
    "    \n",
    "    for cmd in cmds:\n",
    "        #print cmd.format(**args)\n",
    "        subprocess.call(cmd.format(**args), preexec_fn=lambda: signal.signal(signal.SIGPIPE, signal.SIG_DFL), shell=True)"
   ]
  },
  {
   "cell_type": "code",
   "execution_count": 175,
   "metadata": {
    "collapsed": false
   },
   "outputs": [],
   "source": [
    "#for cmd in cmds:\n",
    "#    print cmd.format(**args)"
   ]
  },
  {
   "cell_type": "markdown",
   "metadata": {},
   "source": [
    "Generate the level1 file"
   ]
  },
  {
   "cell_type": "code",
   "execution_count": 179,
   "metadata": {
    "collapsed": true
   },
   "outputs": [],
   "source": [
    "root, folders, files = os.walk('/home/baker/my-scratch-share/James_Bagnall_Single_cell_rna_seq/output/genome_mapped/').next()\n",
    "files = [os.path.join(root, f) for f in files if f.endswith('bam')]\n",
    "level1 = 'python /home/baker/PromoterPipeline_20150516/level1.py -o /home/baker/my-scratch-share/James_Bagnall_Single_cell_rna_seq/output/mylevel1file.l1.osc.gz -f 0x0042 -F 0x0104 --fingerprint {files}'.format(files=' '.join(files))"
   ]
  },
  {
   "cell_type": "code",
   "execution_count": 180,
   "metadata": {
    "collapsed": false,
    "scrolled": true
   },
   "outputs": [
    {
     "name": "stdout",
     "output_type": "stream",
     "text": [
      "python /home/baker/PromoterPipeline_20150516/level1.py -o /home/baker/my-scratch-share/James_Bagnall_Single_cell_rna_seq/output/mylevel1file.l1.osc.gz -f 0x0042 -F 0x0104 --fingerprint /home/baker/my-scratch-share/James_Bagnall_Single_cell_rna_seq/output/genome_mapped/C64_S75_R1_001.bam /home/baker/my-scratch-share/James_Bagnall_Single_cell_rna_seq/output/genome_mapped/C03_S1_R1_001.bam /home/baker/my-scratch-share/James_Bagnall_Single_cell_rna_seq/output/genome_mapped/C77_S85_R1_001.bam /home/baker/my-scratch-share/James_Bagnall_Single_cell_rna_seq/output/genome_mapped/C54_S89_R1_001.bam /home/baker/my-scratch-share/James_Bagnall_Single_cell_rna_seq/output/genome_mapped/C76_S93_R1_001.bam /home/baker/my-scratch-share/James_Bagnall_Single_cell_rna_seq/output/genome_mapped/C38_S15_R1_001.bam /home/baker/my-scratch-share/James_Bagnall_Single_cell_rna_seq/output/genome_mapped/C84_S78_R1_001.bam /home/baker/my-scratch-share/James_Bagnall_Single_cell_rna_seq/output/genome_mapped/C43_S8_R1_001.bam /home/baker/my-scratch-share/James_Bagnall_Single_cell_rna_seq/output/genome_mapped/C12_S50_R1_001.bam /home/baker/my-scratch-share/James_Bagnall_Single_cell_rna_seq/output/genome_mapped/C07_S18_R1_001.bam /home/baker/my-scratch-share/James_Bagnall_Single_cell_rna_seq/output/genome_mapped/C94_S96_R1_001.bam /home/baker/my-scratch-share/James_Bagnall_Single_cell_rna_seq/output/genome_mapped/C36_S70_R1_001.bam /home/baker/my-scratch-share/James_Bagnall_Single_cell_rna_seq/output/genome_mapped/C57_S42_R1_001.bam /home/baker/my-scratch-share/James_Bagnall_Single_cell_rna_seq/output/genome_mapped/C51_S41_R1_001.bam /home/baker/my-scratch-share/James_Bagnall_Single_cell_rna_seq/output/genome_mapped/C70_S76_R1_001.bam /home/baker/my-scratch-share/James_Bagnall_Single_cell_rna_seq/output/genome_mapped/C39_S23_R1_001.bam /home/baker/my-scratch-share/James_Bagnall_Single_cell_rna_seq/output/genome_mapped/C52_S73_R1_001.bam /home/baker/my-scratch-share/James_Bagnall_Single_cell_rna_seq/output/genome_mapped/C66_S91_R1_001.bam /home/baker/my-scratch-share/James_Bagnall_Single_cell_rna_seq/output/genome_mapped/C83_S86_R1_001.bam /home/baker/my-scratch-share/James_Bagnall_Single_cell_rna_seq/output/genome_mapped/C13_S19_R1_001.bam /home/baker/my-scratch-share/James_Bagnall_Single_cell_rna_seq/output/genome_mapped/C45_S24_R1_001.bam /home/baker/my-scratch-share/James_Bagnall_Single_cell_rna_seq/output/genome_mapped/C89_S87_R1_001.bam /home/baker/my-scratch-share/James_Bagnall_Single_cell_rna_seq/output/genome_mapped/C11_S58_R1_001.bam /home/baker/my-scratch-share/James_Bagnall_Single_cell_rna_seq/output/genome_mapped/C22_S68_R1_001.bam /home/baker/my-scratch-share/James_Bagnall_Single_cell_rna_seq/output/genome_mapped/C10_S66_R1_001.bam /home/baker/my-scratch-share/James_Bagnall_Single_cell_rna_seq/output/genome_mapped/C29_S61_R1_001.bam /home/baker/my-scratch-share/James_Bagnall_Single_cell_rna_seq/output/genome_mapped/C92_S40_R1_001.bam /home/baker/my-scratch-share/James_Bagnall_Single_cell_rna_seq/output/genome_mapped/C91_S48_R1_001.bam /home/baker/my-scratch-share/James_Bagnall_Single_cell_rna_seq/output/genome_mapped/C26_S13_R1_001.bam /home/baker/my-scratch-share/James_Bagnall_Single_cell_rna_seq/output/genome_mapped/C60_S90_R1_001.bam /home/baker/my-scratch-share/James_Bagnall_Single_cell_rna_seq/output/genome_mapped/C25_S5_R1_001.bam /home/baker/my-scratch-share/James_Bagnall_Single_cell_rna_seq/output/genome_mapped/C49_S25_R1_001.bam /home/baker/my-scratch-share/James_Bagnall_Single_cell_rna_seq/output/genome_mapped/C59_S82_R1_001.bam /home/baker/my-scratch-share/James_Bagnall_Single_cell_rna_seq/output/genome_mapped/C32_S14_R1_001.bam /home/baker/my-scratch-share/James_Bagnall_Single_cell_rna_seq/output/genome_mapped/C50_S33_R1_001.bam /home/baker/my-scratch-share/James_Bagnall_Single_cell_rna_seq/output/genome_mapped/C06_S49_R1_001.bam /home/baker/my-scratch-share/James_Bagnall_Single_cell_rna_seq/output/genome_mapped/C30_S69_R1_001.bam /home/baker/my-scratch-share/James_Bagnall_Single_cell_rna_seq/output/genome_mapped/C82_S94_R1_001.bam /home/baker/my-scratch-share/James_Bagnall_Single_cell_rna_seq/output/genome_mapped/C61_S27_R1_001.bam /home/baker/my-scratch-share/James_Bagnall_Single_cell_rna_seq/output/genome_mapped/C56_S34_R1_001.bam /home/baker/my-scratch-share/James_Bagnall_Single_cell_rna_seq/output/genome_mapped/C44_S16_R1_001.bam /home/baker/my-scratch-share/James_Bagnall_Single_cell_rna_seq/output/genome_mapped/C79_S46_R1_001.bam /home/baker/my-scratch-share/James_Bagnall_Single_cell_rna_seq/output/genome_mapped/C01_S17_R1_001.bam /home/baker/my-scratch-share/James_Bagnall_Single_cell_rna_seq/output/genome_mapped/C78_S77_R1_001.bam /home/baker/my-scratch-share/James_Bagnall_Single_cell_rna_seq/output/genome_mapped/C19_S20_R1_001.bam /home/baker/my-scratch-share/James_Bagnall_Single_cell_rna_seq/output/genome_mapped/C18_S51_R1_001.bam /home/baker/my-scratch-share/James_Bagnall_Single_cell_rna_seq/output/genome_mapped/C68_S36_R1_001.bam /home/baker/my-scratch-share/James_Bagnall_Single_cell_rna_seq/output/genome_mapped/C46_S56_R1_001.bam /home/baker/my-scratch-share/James_Bagnall_Single_cell_rna_seq/output/genome_mapped/C33_S22_R1_001.bam /home/baker/my-scratch-share/James_Bagnall_Single_cell_rna_seq/output/genome_mapped/C95_S88_R1_001.bam /home/baker/my-scratch-share/James_Bagnall_Single_cell_rna_seq/output/genome_mapped/C85_S47_R1_001.bam /home/baker/my-scratch-share/James_Bagnall_Single_cell_rna_seq/output/genome_mapped/C81_S30_R1_001.bam /home/baker/my-scratch-share/James_Bagnall_Single_cell_rna_seq/output/genome_mapped/C53_S81_R1_001.bam /home/baker/my-scratch-share/James_Bagnall_Single_cell_rna_seq/output/genome_mapped/C74_S37_R1_001.bam /home/baker/my-scratch-share/James_Bagnall_Single_cell_rna_seq/output/genome_mapped/C14_S11_R1_001.bam /home/baker/my-scratch-share/James_Bagnall_Single_cell_rna_seq/output/genome_mapped/C21_S4_R1_001.bam /home/baker/my-scratch-share/James_Bagnall_Single_cell_rna_seq/output/genome_mapped/C40_S55_R1_001.bam /home/baker/my-scratch-share/James_Bagnall_Single_cell_rna_seq/output/genome_mapped/C65_S83_R1_001.bam /home/baker/my-scratch-share/James_Bagnall_Single_cell_rna_seq/output/genome_mapped/C87_S31_R1_001.bam /home/baker/my-scratch-share/James_Bagnall_Single_cell_rna_seq/output/genome_mapped/C15_S3_R1_001.bam /home/baker/my-scratch-share/James_Bagnall_Single_cell_rna_seq/output/genome_mapped/C37_S7_R1_001.bam /home/baker/my-scratch-share/James_Bagnall_Single_cell_rna_seq/output/genome_mapped/C73_S45_R1_001.bam /home/baker/my-scratch-share/James_Bagnall_Single_cell_rna_seq/output/genome_mapped/C75_S29_R1_001.bam /home/baker/my-scratch-share/James_Bagnall_Single_cell_rna_seq/output/genome_mapped/C23_S60_R1_001.bam /home/baker/my-scratch-share/James_Bagnall_Single_cell_rna_seq/output/genome_mapped/C48_S72_R1_001.bam /home/baker/my-scratch-share/James_Bagnall_Single_cell_rna_seq/output/genome_mapped/C62_S35_R1_001.bam /home/baker/my-scratch-share/James_Bagnall_Single_cell_rna_seq/output/genome_mapped/C20_S12_R1_001.bam /home/baker/my-scratch-share/James_Bagnall_Single_cell_rna_seq/output/genome_mapped/C16_S67_R1_001.bam /home/baker/my-scratch-share/James_Bagnall_Single_cell_rna_seq/output/genome_mapped/C34_S54_R1_001.bam /home/baker/my-scratch-share/James_Bagnall_Single_cell_rna_seq/output/genome_mapped/C80_S38_R1_001.bam /home/baker/my-scratch-share/James_Bagnall_Single_cell_rna_seq/output/genome_mapped/C63_S43_R1_001.bam /home/baker/my-scratch-share/James_Bagnall_Single_cell_rna_seq/output/genome_mapped/C67_S28_R1_001.bam /home/baker/my-scratch-share/James_Bagnall_Single_cell_rna_seq/output/genome_mapped/C47_S64_R1_001.bam /home/baker/my-scratch-share/James_Bagnall_Single_cell_rna_seq/output/genome_mapped/C09_S2_R1_001.bam /home/baker/my-scratch-share/James_Bagnall_Single_cell_rna_seq/output/genome_mapped/C55_S26_R1_001.bam /home/baker/my-scratch-share/James_Bagnall_Single_cell_rna_seq/output/genome_mapped/C35_S62_R1_001.bam /home/baker/my-scratch-share/James_Bagnall_Single_cell_rna_seq/output/genome_mapped/C96_S80_R1_001.bam /home/baker/my-scratch-share/James_Bagnall_Single_cell_rna_seq/output/genome_mapped/C93_S32_R1_001.bam /home/baker/my-scratch-share/James_Bagnall_Single_cell_rna_seq/output/genome_mapped/C08_S10_R1_001.bam /home/baker/my-scratch-share/James_Bagnall_Single_cell_rna_seq/output/genome_mapped/C71_S84_R1_001.bam /home/baker/my-scratch-share/James_Bagnall_Single_cell_rna_seq/output/genome_mapped/C88_S95_R1_001.bam /home/baker/my-scratch-share/James_Bagnall_Single_cell_rna_seq/output/genome_mapped/C58_S74_R1_001.bam /home/baker/my-scratch-share/James_Bagnall_Single_cell_rna_seq/output/genome_mapped/C27_S21_R1_001.bam /home/baker/my-scratch-share/James_Bagnall_Single_cell_rna_seq/output/genome_mapped/C69_S44_R1_001.bam /home/baker/my-scratch-share/James_Bagnall_Single_cell_rna_seq/output/genome_mapped/C72_S92_R1_001.bam /home/baker/my-scratch-share/James_Bagnall_Single_cell_rna_seq/output/genome_mapped/C17_S59_R1_001.bam /home/baker/my-scratch-share/James_Bagnall_Single_cell_rna_seq/output/genome_mapped/C24_S52_R1_001.bam /home/baker/my-scratch-share/James_Bagnall_Single_cell_rna_seq/output/genome_mapped/C31_S6_R1_001.bam /home/baker/my-scratch-share/James_Bagnall_Single_cell_rna_seq/output/genome_mapped/C28_S53_R1_001.bam /home/baker/my-scratch-share/James_Bagnall_Single_cell_rna_seq/output/genome_mapped/C90_S79_R1_001.bam /home/baker/my-scratch-share/James_Bagnall_Single_cell_rna_seq/output/genome_mapped/C02_S9_R1_001.bam /home/baker/my-scratch-share/James_Bagnall_Single_cell_rna_seq/output/genome_mapped/C41_S63_R1_001.bam /home/baker/my-scratch-share/James_Bagnall_Single_cell_rna_seq/output/genome_mapped/C86_S39_R1_001.bam /home/baker/my-scratch-share/James_Bagnall_Single_cell_rna_seq/output/genome_mapped/C05_S57_R1_001.bam /home/baker/my-scratch-share/James_Bagnall_Single_cell_rna_seq/output/genome_mapped/C42_S71_R1_001.bam /home/baker/my-scratch-share/James_Bagnall_Single_cell_rna_seq/output/genome_mapped/C04_S65_R1_001.bam\n"
     ]
    }
   ],
   "source": [
    "print level1"
   ]
  },
  {
   "cell_type": "code",
   "execution_count": 181,
   "metadata": {
    "collapsed": false
   },
   "outputs": [
    {
     "data": {
      "text/plain": [
       "0"
      ]
     },
     "execution_count": 181,
     "metadata": {},
     "output_type": "execute_result"
    }
   ],
   "source": [
    "subprocess.call(level1, shell=True)"
   ]
  },
  {
   "cell_type": "markdown",
   "metadata": {},
   "source": [
    "## Generate logs (triplet)"
   ]
  },
  {
   "cell_type": "markdown",
   "metadata": {},
   "source": [
    "Here we generate four summary files that will be used for [QC](https://github.com/Population-Transcriptomics/C1-CAGE-preview/blob/master/QC.md) and place them in the 'output' directory. \n",
    "\n",
    "1.  mapped.log: The number of mapped reads per cell\n",
    "2.  extracted.log: The number of remaining reads after filtering for ribosomal DNA and unreadable UMIs\n",
    "3.  filtered.log: The detailed number of ribosomal DNA extracted per cell\n",
    "4.  transcript_count.log: The exact number of unique transcprit per cell\n",
    "\n"
   ]
  },
  {
   "cell_type": "code",
   "execution_count": 182,
   "metadata": {
    "collapsed": true
   },
   "outputs": [],
   "source": [
    "mapped_cmd = \"{samtools} view -u -f 0x40 {genome_mapped}.bam | {samtools} flagstat - | grep mapped | grep % | cut -f 1 -d ' '\"\n",
    "extracted_cmd = \"{samtools} flagstat {genome_mapped}.bam | grep read1 | cut -f 1 -d ' '\"\n",
    "counts_cmd = \"wc -l {cagescan_fragments}.bed | cut -f 1 -d ' '\"\n",
    "rdna_cmd = \"grep ribosomal {cleaned_reads}_logfile.txt | cut -f 2\""
   ]
  },
  {
   "cell_type": "code",
   "execution_count": 183,
   "metadata": {
    "collapsed": true
   },
   "outputs": [],
   "source": [
    "#remove _R1 from the file's name\n",
    "custom_rename = lambda x: x.replace('_R1', '')"
   ]
  },
  {
   "cell_type": "code",
   "execution_count": 184,
   "metadata": {
    "collapsed": false
   },
   "outputs": [],
   "source": [
    "mapped, extracted, rdna, counts = ([], [], [], [])\n",
    "\n",
    "for read1 in reads1:\n",
    "    r1_shortname = remove_extension(os.path.basename(read1))\n",
    "    \n",
    "    args = {'samtools': samtools_path,\n",
    "            'genome_mapped': os.path.join('/home/baker/my-scratch-share/James_Bagnall_Single_cell_rna_seq/output/', 'genome_mapped', r1_shortname),\n",
    "            'cagescan_fragments': os.path.join('/home/baker/my-scratch-share/James_Bagnall_Single_cell_rna_seq/output/', 'cagescan_fragments', r1_shortname),\n",
    "            'cleaned_reads': os.path.join('/home/baker/my-scratch-share/James_Bagnall_Single_cell_rna_seq/output/', 'cleaned_reads', r1_shortname)}\n",
    "    \n",
    "    output = subprocess.check_output(mapped_cmd.format(**args), shell=True).strip()\n",
    "    mapped.append(['mapped', custom_rename(r1_shortname), output])\n",
    "\n",
    "    output = subprocess.check_output(extracted_cmd.format(**args), shell=True).strip()\n",
    "    extracted.append(['extracted', custom_rename(r1_shortname), output])\n",
    "    \n",
    "    output = subprocess.check_output(counts_cmd.format(**args), shell=True).strip()\n",
    "    counts.append(['counts', custom_rename(r1_shortname), output])\n",
    "\n",
    "    output = subprocess.check_output(rdna_cmd.format(**args), shell=True).strip()\n",
    "    rdna.append(['rdna', custom_rename(r1_shortname), output])\n",
    "    #print rdna_cmd.format(**args)"
   ]
  },
  {
   "cell_type": "code",
   "execution_count": 185,
   "metadata": {
    "collapsed": true
   },
   "outputs": [],
   "source": [
    "with open('/home/baker/my-scratch-share/James_Bagnall_Single_cell_rna_seq/output/mapped.log', 'w') as handler:\n",
    "    writer = csv.writer(handler, delimiter='\\t')\n",
    "    writer.writerows(mapped)\n",
    "\n",
    "with open('/home/baker/my-scratch-share/James_Bagnall_Single_cell_rna_seq/output/extracted.log', 'w') as handler:\n",
    "    writer = csv.writer(handler, delimiter='\\t')\n",
    "    writer.writerows(extracted)\n",
    "    \n",
    "with open('/home/baker/my-scratch-share/James_Bagnall_Single_cell_rna_seq/output/filtered.log', 'w') as handler:\n",
    "    writer = csv.writer(handler, delimiter='\\t')\n",
    "    writer.writerows(rdna)\n",
    "    \n",
    "with open('/home/baker/my-scratch-share/James_Bagnall_Single_cell_rna_seq/output/transcript_count.log', 'w') as handler:\n",
    "    writer = csv.writer(handler, delimiter='\\t')\n",
    "    writer.writerows(counts)"
   ]
  },
  {
   "cell_type": "markdown",
   "metadata": {
    "collapsed": true
   },
   "source": [
    "### Generating commands for htseq-count runs"
   ]
  },
  {
   "cell_type": "code",
   "execution_count": 204,
   "metadata": {
    "collapsed": false
   },
   "outputs": [],
   "source": [
    "log_files = \"\"\n",
    "root, folders, files = os.walk('/home/baker/my-scratch-share/James_Bagnall_Single_cell_rna_seq/output/properly_paired/').next()"
   ]
  },
  {
   "cell_type": "code",
   "execution_count": 231,
   "metadata": {
    "collapsed": false
   },
   "outputs": [],
   "source": [
    "htseq_command=\"\"\n",
    "for f in files:   \n",
    "    htseq_command_file = open('/home/baker/my-scratch-share/James_Bagnall_Single_cell_rna_seq/output/htseq_command.txt', 'a')\n",
    "    htseq_command = \"qsub run_htseq-count output/properly_paired/\" + f + \" output/htseq_output/\"+f.split('_', 1)[0]+\"_htseq_count.txt\\n\"\n",
    "    htseq_command_file.writelines(htseq_command)\n",
    "    htseq_command_file.close\n",
    "        #htseq_command.append([\"qsub run_htseq-count\", f])\n"
   ]
  },
  {
   "cell_type": "code",
   "execution_count": 276,
   "metadata": {
    "collapsed": false
   },
   "outputs": [],
   "source": [
    "root, folders, files = os.walk('/home/baker/my-scratch-share/James_Bagnall_Single_cell_rna_seq/output/cleaned_reads/').next()\n",
    "files = [os.path.join(\"\", f) for f in files if f.endswith('txt')]"
   ]
  },
  {
   "cell_type": "code",
   "execution_count": 289,
   "metadata": {
    "collapsed": false
   },
   "outputs": [],
   "source": [
    "def ERCC_finder(f):\n",
    "    full_path = '/home/baker/my-scratch-share/James_Bagnall_Single_cell_rna_seq/output/cleaned_reads/' + f\n",
    "    file_ERCC = open(full_path,'rb')\n",
    "    for line in file_ERCC:\n",
    "        if 'ERCC' in line:\n",
    "            temp = str.split(line)            \n",
    "            ERCC_file_path = \"/home/baker/my-scratch-share/James_Bagnall_Single_cell_rna_seq/output/ERCC_count/ERCC_count_\" + f.split('_', 1)[0]+\".txt\"            \n",
    "            ERCC_command_file = open(ERCC_file_path, 'a')\n",
    "            ERCC_line_to_write = temp[3] + \"\\t\" + temp[2]+ \"\\n\"\n",
    "            ERCC_command_file.writelines(ERCC_line_to_write)\n",
    "            ERCC_command_file.close\n",
    "    \n"
   ]
  },
  {
   "cell_type": "code",
   "execution_count": 291,
   "metadata": {
    "collapsed": false
   },
   "outputs": [],
   "source": [
    "for f in files:    \n",
    "    ERCC_val = ERCC_finder(f)"
   ]
  },
  {
   "cell_type": "code",
   "execution_count": null,
   "metadata": {
    "collapsed": true
   },
   "outputs": [],
   "source": []
  }
 ],
 "metadata": {
  "kernelspec": {
   "display_name": "Python 2.7",
   "language": "python",
   "name": "python2"
  },
  "language_info": {
   "name": "python",
   "version": "2.7.6"
  }
 },
 "nbformat": 4,
 "nbformat_minor": 0
}
