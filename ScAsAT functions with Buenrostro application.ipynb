{
 "cells": [
  {
   "cell_type": "markdown",
   "metadata": {},
   "source": [
    "# Apllication of ScAsAT \n",
    "\n",
    "This python notebook introduces __S__ingle-__c__ell __A__TAC-seq __A__nalysis __T__ool (ScAsAT). We applied this tool to analyze the human data generated in the paper by [Buenrostro et. al](http://www.nature.com/nature/journal/v523/n7561/full/nature14590.html). Although they have nouse and human data, where we showed the application of only human data."
   ]
  },
  {
   "cell_type": "markdown",
   "metadata": {},
   "source": [
    "### Import python packages"
   ]
  },
  {
   "cell_type": "code",
   "execution_count": 1,
   "metadata": {
    "collapsed": true
   },
   "outputs": [],
   "source": [
    "import subprocess, os, csv, signal, pysam, rpy2\n",
    "import numpy as np\n",
    "import readline\n",
    "import rpy2.robjects\n",
    "import matplotlib.pyplot as plt\n",
    "import csv\n",
    "from operator import itemgetter\n",
    "%matplotlib inline"
   ]
  },
  {
   "cell_type": "markdown",
   "metadata": {},
   "source": [
    "This code toggles between showing/hiding the codes. The outputs and the discussions would always be visible."
   ]
  },
  {
   "cell_type": "code",
   "execution_count": 2,
   "metadata": {
    "collapsed": false
   },
   "outputs": [
    {
     "data": {
      "text/html": [
       "<script>\n",
       "code_show=true;\n",
       "function code_toggle() {\n",
       " if (code_show){\n",
       " $('div.input').hide();\n",
       " } else {\n",
       " $('div.input').show();\n",
       " }\n",
       " code_show = !code_show\n",
       "}\n",
       "$( document ).ready(code_toggle);\n",
       "</script>\n",
       "<form action=\"javascript:code_toggle()\"><input type=\"submit\" value=\"Click here to toggle on/off the raw code.\"></form>"
      ],
      "text/plain": [
       "<IPython.core.display.HTML object>"
      ]
     },
     "execution_count": 2,
     "metadata": {},
     "output_type": "execute_result"
    }
   ],
   "source": [
    "from IPython.display import HTML\n",
    "\n",
    "HTML('''<script>\n",
    "code_show=true;\n",
    "function code_toggle() {\n",
    " if (code_show){\n",
    " $('div.input').hide();\n",
    " } else {\n",
    " $('div.input').show();\n",
    " }\n",
    " code_show = !code_show\n",
    "}\n",
    "$( document ).ready(code_toggle);\n",
    "</script>\n",
    "<form action=\"javascript:code_toggle()\"><input type=\"submit\" value=\"Click here to toggle on/off the raw code.\"></form>''')\n",
    "\n"
   ]
  },
  {
   "cell_type": "markdown",
   "metadata": {},
   "source": [
    "rpy2 package provides a simple and robust access to `R` from within `Python`. The following cells loads the package to run `R` code within `Python` notebook. To write and execute `R` code we will use the magic command `%%R` at the top of the cell. "
   ]
  },
  {
   "cell_type": "code",
   "execution_count": 6,
   "metadata": {
    "collapsed": false
   },
   "outputs": [],
   "source": [
    "%load_ext rpy2.ipython"
   ]
  },
  {
   "cell_type": "markdown",
   "metadata": {},
   "source": [
    "## Python Functions"
   ]
  },
  {
   "cell_type": "code",
   "execution_count": 5,
   "metadata": {
    "collapsed": false
   },
   "outputs": [],
   "source": [
    "def formatSummitBed(summitFile, fileToSave):\n",
    "#fileToSave = '/home/baker/my-dpsf-scratch-share/Conor_Rogerson_Older_Genome\n",
    "#                /output/Bam_Files_Filtered_on_Library_Size/AllFiles_Filtered_summits_shifted.bed' \n",
    "#peakFile = '/home/baker/my-dpsf-scratch-share/Conor_Rogerson_Older_Genome\n",
    "#            /output/Bam_Files_Filtered_on_Library_Size/AllFiles_Filtered_summits.bed'\n",
    "\n",
    "    with open(summitFile,'r') as f:\n",
    "        peaks=[x.strip().split('\\t') for x in f]\n",
    "    for i in range(len(peaks)):\n",
    "        peaks[i][1] = str(int(peaks[i][1]) - 250)\n",
    "        peaks[i][2] = str(int(peaks[i][2]) + 250)\n",
    "\n",
    "    peaks.sort(key=lambda x: float(x[4]), reverse=True)\n",
    "\n",
    "    with open(fileToSave, \"w\") as f:\n",
    "        writer = csv.writer(f,delimiter='\\t')\n",
    "        writer.writerows(peaks)"
   ]
  },
  {
   "cell_type": "markdown",
   "metadata": {},
   "source": [
    "`formatSummitBed()`: \n",
    "> This functions formats the summit file by adding 500 bp distance from the summit position.\n",
    "\n",
    "Arguments:\n",
    "> `summitFile` : The name of the summit file. This has to be the file that is generated from the aggreagated `BAM` file<br>\n",
    "> `fileToSave`: The name of the file where the save the peak file with the 500 bp peaks.\n",
    "\n",
    "Value:\n",
    "> File with 500 bp peaks."
   ]
  },
  {
   "cell_type": "code",
   "execution_count": 7,
   "metadata": {
    "collapsed": true
   },
   "outputs": [],
   "source": [
    "def getMergedBam(BAMFolder, BAMFilePattern):\n",
    "    \n",
    "    import pandas as pd\n",
    "    \n",
    "        \n",
    "    mergeFiles = ''\n",
    "    for root, folder, files in os.walk(BAMFolder):\n",
    "            files = [os.path.join(root, f) for f in files if (f.endswith(BAMFilePattern))]\n",
    "            for f in files:\n",
    "                mergeFiles = mergeFiles +  f + ' '\n",
    "    \n",
    "        \n",
    "    mergeCommand = 'samtools merge ' + BAMFolder + 'AllFiles_Filtered_Merged_nodup.bam' + ' ' + mergeFiles    \n",
    "    subprocess.call(mergeCommand, shell=True)   \n",
    "    \n",
    "    \n",
    "    sortMergeCmd = 'samtools sort ' + BAMFolder + 'AllFiles_Filtered_Merged_nodup.bam' \\\n",
    "                    + ' ' + BAMFolder + 'AllFiles_Filtered_Merged_nodup_sorted'        \n",
    "    subprocess.call(sortMergeCmd, shell=True)\n",
    "    \n",
    "    indexMergeCmd = 'samtools index ' + BAMFolder + 'AllFiles_Filtered_Merged_nodup_sorted.bam'\n",
    "    subprocess.call(indexMergeCmd, shell=True)"
   ]
  },
  {
   "cell_type": "markdown",
   "metadata": {},
   "source": [
    "`getMergedBam()`:\n",
    "> merges all the individual `BAM` files for each of the cells and creates `AllFiles_Filtered_Merged_nodup.bam` file. This file is then sorted and indexed.\n",
    "\n",
    "Arguements:\n",
    "> `BAMFolder`: Location of the folder where all the BAM files for each of the single-cells are. <br>\n",
    "> `BAMFilePattern` : The end pattern of the `BAM` files to be merged.\n",
    "\n",
    "Value:\n",
    "> The merged `BAM` file `AllFiles_Filtered_Merged_nodup_sorted.bam`. "
   ]
  },
  {
   "cell_type": "code",
   "execution_count": 8,
   "metadata": {
    "collapsed": true
   },
   "outputs": [],
   "source": [
    "def getAggregatedPeak(BAMFolder, BAMFilePattern):\n",
    "    getMergedBam(BAMFolder, BAMFilePattern)\n",
    "    \n",
    "    MergedMacs2Cmd = 'macs2 callpeak -t ' + BAMFolder + 'AllFiles_Filtered_Merged_nodup_sorted.bam' +' -n ' \\\n",
    "                    + BAMFolder + 'AllFiles_Filtered' +' -q 0.01 -g hs -f BAM --nomodel --nolambda --shift -75 --extsize 150 \\\n",
    "                    -B --SPMR --call-summits --keep-dup all'\n",
    "    subprocess.call(MergedMacs2Cmd, shell=True)\n",
    "    \n",
    "    narrowPeakFile = BAMFolder + 'AllFiles_Filtered_peaks.narrowPeak'\n",
    "    mergedPeakFile = BAMFolder + 'mergedPeaks.bed'\n",
    "    \n",
    "    \n",
    "    with open(narrowPeakFile,'r') as f:\n",
    "        peaks=[x.strip().split('\\t') for x in f]\n",
    "    peaks.sort(key=lambda x: float(x[8]), reverse=True)\n",
    "    \n",
    "    \n",
    "    peaksToWrite = list()\n",
    "    for i in range(len(peaks)):\n",
    "        peaksToWrite.insert(i, peaks[i][0:4])\n",
    "        peaksToWrite[i].append(peaks[i][8])      \n",
    "    \n",
    "    \n",
    "    with open(mergedPeakFile, \"w\") as f:\n",
    "        writer = csv.writer(f,delimiter='\\t')        \n",
    "        writer.writerows(peaksToWrite)        "
   ]
  },
  {
   "cell_type": "markdown",
   "metadata": {},
   "source": [
    "`getAggregatedPeak()`:\n",
    "> This function calls `MACS2` on the aggregated `BAM` file and generates the peaks. If the user is following the merging BAM option then this is the function they need to call. Then the `getMergedBam()` is called within this function\n",
    "\n",
    "Arguements:\n",
    "> `BAMFolder`: Location of the folder where all the BAM files for each of the single-cells are. <br>\n",
    "> `BAMFilePattern` : The end pattern of the `BAM` files to be merged.\n",
    "\n",
    "Value:\n",
    "> Peak files from MACS2 call."
   ]
  },
  {
   "cell_type": "markdown",
   "metadata": {},
   "source": [
    "------------------\n",
    "## R functions"
   ]
  },
  {
   "cell_type": "markdown",
   "metadata": {},
   "source": [
    "### Loading R packages (if not available it will install it before loading)"
   ]
  },
  {
   "cell_type": "code",
   "execution_count": 10,
   "metadata": {
    "collapsed": false
   },
   "outputs": [],
   "source": [
    "%%R\n",
    "if (!require(\"pacman\")) install.packages(\"pacman\")\n",
    "pacman::p_load(ggplot2, ComplexHeatmap, Rtsne, prabclus, GGally, rtracklayer, VGAM, JASPAR2016, TFBSTools, motifmatchr)"
   ]
  },
  {
   "cell_type": "markdown",
   "metadata": {},
   "source": [
    "### R functions for the ScAsAT"
   ]
  },
  {
   "cell_type": "code",
   "execution_count": 11,
   "metadata": {
    "collapsed": true
   },
   "outputs": [],
   "source": [
    "%%R\n",
    "peakAccesibility <- function(mergedPeakFile, peakFolder, peakFilePattern, outputFolder, outputPeakFileName){\n",
    "    if(length(list.files(path=peakFolder, pattern = paste0(peakFilePattern,'.bed'), full.names=TRUE))>0){\n",
    "        files = list.files(path=peakFolder, pattern = paste0(peakFilePattern,'.bed'), full.names=TRUE)\n",
    "        unlink(files)\n",
    "    }\n",
    "    formatingToBed(peakFolder, peakFilePattern, outputFolder)\n",
    "    peakFilePattern = paste0(peakFilePattern,'.bed')\n",
    "    query = import(mergedPeakFile)\n",
    "    queryDF <- data.frame(query)\n",
    "    #queryDF <- queryDF[order(queryDF$name, decreasing=TRUE),]    \n",
    "    \n",
    "    totalOverlap <- data.frame(seqnames = queryDF$seqnames, start = queryDF$start, end = queryDF$end)    \n",
    "    files <- list.files(path=peakFolder, pattern = peakFilePattern, full.names=TRUE)\n",
    "    cellName <- list.files(path=peakFolder, pattern = peakFilePattern)\n",
    "    for (i in 1:length(files)){\n",
    "        subject = import(files[i])\n",
    "        hits = findOverlaps(query, subject)\n",
    "        hitsDF <- data.frame(hits)\n",
    "        cellName[i] <- gsub(peakFilePattern, '', cellName[i])\n",
    "        totalOverlap[hitsDF$queryHits, cellName[i]] <- 1\n",
    "        totalOverlap[-hitsDF$queryHits, cellName[i]] <- 0\n",
    "    }\n",
    "    outputFile = paste0(outputFolder,outputPeakFileName)\n",
    "    write.table(totalOverlap, outputFile, row.names=FALSE)    \n",
    "}    \n"
   ]
  },
  {
   "cell_type": "markdown",
   "metadata": {},
   "source": [
    "`peakAccesibility()`:\n",
    "> This function calculates the accessible peaks for each of the cells. It looks at each of the peaks listed in _Aggregated-Peak_ table and tries to find out whether there is any overlap between these peaks and the peaks of each cell. If there is then it puts a 1 agains that cells for that peak. Otherwise it puts 0. Calling these function for each of the cell completes the _Aggregated-Peak_ for which rows represnt all the peaks and the column represents cells.\n",
    "\n",
    "Arguements:\n",
    "> `mergedPeakFile`: This is the name and location of `mergedPeaks.bed` file that were generated while calling `mergePeaks()` python function.<br>\n",
    "> `peakFolder`: This is the location of the folder where all the peaks for each of the single-cells are located. <br>\n",
    "> `peakFilePattern` : The end pattern of the `peak` files of each single cells found in the `peakFolder`. Currently the only two accepted patterns are `_peaks.narrowPeak` and `_summits_shifted.bed` <br>\n",
    "> `outputFolder`: Folder where all the outputs will be saved\n",
    "> `outputPeakFileName`: Name of the file where the peak accessibility table, _Aggregated-Peak_ would be saved. This file will contain all the accessibility information for all the cells.\n",
    "\n",
    "\n",
    "Value:\n",
    "> Peak accessibile table saved according to the name set in `outputPeakFileName`. The table will have the results in 1 or 0 expression peak opening or closing respectively."
   ]
  },
  {
   "cell_type": "code",
   "execution_count": 12,
   "metadata": {
    "collapsed": false
   },
   "outputs": [],
   "source": [
    "%%R\n",
    "formatingToBed <- function(peakFolder, peakFilePattern, outputFolder){\n",
    "    files <- list.files(path=peakFolder, pattern = peakFilePattern, full.names=TRUE)\n",
    "    for (i in 1:length(files)){\n",
    "        narrowPeak <- read.csv(files[i], header=FALSE, sep='\\t')\n",
    "        write.table(narrowPeak[,1:4], paste0(files[i],'.bed'), \n",
    "                    row.names=FALSE, sep='\\t', col.names=FALSE, quote=FALSE)\n",
    "    }\n",
    "}"
   ]
  },
  {
   "cell_type": "markdown",
   "metadata": {},
   "source": [
    "`formatingToBed()`:\n",
    "> This function formats the bed file suitable for processing by ScAsAT. It adds a `.bed` extension at the end.\n",
    "\n",
    "Arguements:\n",
    "> `mergedPeakFile`: This is the name and location of `mergedPeaks.bed` file that were generated while calling `mergePeaks()` python function.<br>\n",
    "> `peakFolder`: This is the location of the folder where all the peaks for each of the single-cells are located. <br>\n",
    "> `peakFilePattern` : The end pattern of the `peak` files of each single cells found in the `peakFolder`. Currently the only two accepted patterns are `_peaks.narrowPeak` and `_summits_shifted.bed` <br>\n",
    "> `outputFolder`: Folder where all the outputs will be saved\n",
    "\n",
    "Value:\n",
    "> Formats the bed files with adding a `.bed` extesion."
   ]
  },
  {
   "cell_type": "code",
   "execution_count": 13,
   "metadata": {
    "collapsed": true
   },
   "outputs": [],
   "source": [
    "%%R\n",
    "getDiffAccessLogsitic <- function(cdBinary, groups=NULL){\n",
    "\n",
    "    if (length(levels(groups)) != 2) {\n",
    "        stop(paste(\"ERROR: wrong number of levels in the grouping factor (\", \n",
    "            paste(levels(groups), collapse = \" \"), \"), but must be two.\", \n",
    "            sep = \"\"))\n",
    "    }\n",
    "    if (is.null(groups)){\n",
    "        stop(\"ERROR: groups factor is not provided\")\n",
    "    }\n",
    "    \n",
    "    \n",
    "    SingleCell.Group1.CellNames <- names(groups[groups==levels(groups)[1]])\n",
    "    SingleCell.Group2.CellNames <- names(groups[groups==levels(groups)[2]])\n",
    "    \n",
    "    SingleCell.Group1.Binary <- cdBinary[,SingleCell.Group1.CellNames]\n",
    "    SingleCell.Group2.Binary <- cdBinary[,SingleCell.Group2.CellNames]\n",
    "    \n",
    "    CellType <- data.frame(CellType=gsub('_.*','',names(groups)))\n",
    "         \n",
    "    SingleCell.Group1VsGroup2 <- cbind(SingleCell.Group1.Binary,SingleCell.Group2.Binary)\n",
    "    SingleCell.Group1VsGroup2 <- t(SingleCell.Group1VsGroup2)\n",
    "    SingleCell.Group1VsGroup2 <- cbind(SingleCell.Group1VsGroup2,CellType)   \n",
    "    \n",
    "    dataDim = (dim(SingleCell.Group1VsGroup2)[2]-1)\n",
    "    #dataDim = 10\n",
    "    \n",
    "    pvalue = vector(mode=\"numeric\", length=(ncol(SingleCell.Group1VsGroup2)-1))\n",
    "    SingleCell.Group1VsGroup2.res <- data.frame(Chr = cdBinary[1:dataDim,1],\n",
    "                                           Start = cdBinary[1:dataDim,2],\n",
    "                                           end = cdBinary[1:dataDim,3])        \n",
    "    \n",
    "    \n",
    "    for(i in 1:dataDim)\n",
    "    {\n",
    "        hfit1 <- vgam(SingleCell.Group1VsGroup2[,i] ~ SingleCell.Group1VsGroup2$CellType, binomialff) \n",
    "        res <- VGAM::lrtest(hfit1, \"SingleCell.Group1VsGroup2$CellType\")        \n",
    "        SingleCell.Group1VsGroup2.res$pvalue[i] <- res@Body[5][2,]        \n",
    "    }\n",
    "    \n",
    "        \n",
    "    SingleCell.Group1.OneCount <- rowSums(SingleCell.Group1.Binary==1)\n",
    "    SingleCell.Group2.OneCount <- rowSums(SingleCell.Group2.Binary==1)\n",
    "    \n",
    "    # Bonferroni correction\n",
    "    SingleCell.Group1VsGroup2.res$p_adjust <- p.adjust(SingleCell.Group1VsGroup2.res$pvalue, method=\"hochberg\")\n",
    "    #print(p.adjust(pvalue, method=\"bonferroni\", n=(dim(SingleCell.Group1VsGroup2)[2]-1)))\n",
    "    #print(pvalue)\n",
    "\n",
    "    \n",
    "    \n",
    "    write.csv(SingleCell.Group1VsGroup2[order(SingleCell.Group1VsGroup2$pvalue, decreasing=FALSE),], \n",
    "              paste0(levels(groups)[1],'_vs_',levels(groups)[2],'Logistic.csv'), row.names=FALSE)\n",
    "    \n",
    "    return(SingleCell.Group1VsGroup2.res)    \n",
    "}"
   ]
  },
  {
   "cell_type": "markdown",
   "metadata": {},
   "source": [
    "`getDiffAccessLogsitic()`:\n",
    "> Caculates differential accessibility between two groups of cells using logistic regression. For each peak the accessibility is encoded as a binary variable. The group each cell belongs to is used as a catagorical preidctor variable for accessiblity. A generalized linear additive model (GLAM) is used to model the accessibility with the predictor variable. Likelihood ratio test is used to test the statistical significance of observed differences in each site's accessibility due the group of the cells. Benjamini and Hochberg method is used to correct the p-values for multiple testing. Finally the function returns a table with the peaks, the p-value and the q-value (corrected p-value).\n",
    "\n",
    "\n",
    "`Usage`:\n",
    "> `getDiffAccessLogsitic(count_data, groups)`\n",
    "\n",
    "Arguements:\n",
    "> `cdBinary`: The peak information converted into binary. Ideally this would be file that set in the `outputPeakFileName`. `cdBinary` would be used to calculate the Jaccard distance which would then be used as d matrix in MDS calculation<br>\n",
    "\n",
    ">`groups` : groups into which each cell belong to.\n",
    "\n",
    "Value:\n",
    "> Returns a table with the peaks, the p-value and the q-value (corrected p-value)."
   ]
  },
  {
   "cell_type": "code",
   "execution_count": 14,
   "metadata": {
    "collapsed": true
   },
   "outputs": [],
   "source": [
    "%%R\n",
    "getDiffAccessLInformationGain <- function(cdBinary, groups=NULL){\n",
    "\n",
    "    if (length(levels(groups)) != 2) {\n",
    "        stop(paste(\"ERROR: wrong number of levels in the grouping factor (\", \n",
    "            paste(levels(groups), collapse = \" \"), \"), but must be two.\", \n",
    "            sep = \"\"))\n",
    "    }\n",
    "    if (is.null(groups)){\n",
    "        stop(\"ERROR: groups factor is not provided\")\n",
    "    }\n",
    "    \n",
    "    \n",
    "    SingleCell.Group1.CellNames <- names(groups[groups==levels(groups)[1]])\n",
    "    SingleCell.Group2.CellNames <- names(groups[groups==levels(groups)[2]])\n",
    "    \n",
    "    SingleCell.Group1.Binary <- cdBinary[,SingleCell.Group1.CellNames]\n",
    "    SingleCell.Group2.Binary <- cdBinary[,SingleCell.Group2.CellNames]\n",
    "    \n",
    "    CellType <- data.frame(CellType=gsub('_.*','',names(groups)))\n",
    "    \n",
    "         \n",
    "    SingleCell.Group1VsGroup2 <- cbind(SingleCell.Group1.Binary,SingleCell.Group2.Binary)\n",
    "    SingleCell.Group1VsGroup2 <- t(SingleCell.Group1VsGroup2)\n",
    "    #SingleCell.Group1VsGroup2 <- cbind(SingleCell.Group1VsGroup2,CellType)   \n",
    "\n",
    "    \n",
    "    dataDim = (dim(SingleCell.Group1VsGroup2)[2])\n",
    "    #dataDim = 5\n",
    "    \n",
    "    information.gain = vector(mode=\"numeric\", length=(ncol(SingleCell.Group1VsGroup2)-1))\n",
    "    SingleCell.Group1VsGroup2.res <- data.frame(Chr = cdBinary[1:dataDim,1],\n",
    "                                           Start = cdBinary[1:dataDim,2],\n",
    "                                           end = cdBinary[1:dataDim,3])        \n",
    "    \n",
    "    \n",
    "    for(i in 1:dataDim)\n",
    "    {\n",
    "        jointData = cbind(SingleCell.Group1VsGroup2[,i], CellType)\n",
    "        \n",
    "        gain <- calcEntropy(jointData[,2]) - \n",
    "                (sum(table(jointData)[c(1,3)])/length(jointData[,2]))*calcEntropy(jointData[jointData[,1]==0,]) - \n",
    "                (sum(table(jointData)[c(2,4)])/length(jointData[,2]))*calcEntropy(jointData[jointData[,1]==1,])\n",
    "        SingleCell.Group1VsGroup2.res$information.gain[i] <- gain        \n",
    "    }\n",
    "    \n",
    "        \n",
    "    SingleCell.Group1.OneCount <- rowSums(SingleCell.Group1.Binary==1)\n",
    "    SingleCell.Group2.OneCount <- rowSums(SingleCell.Group2.Binary==1)\n",
    "    \n",
    "\n",
    "    #write.csv(SingleCell.Group1VsGroup2[order(SingleCell.Group1VsGroup2$information.gain, decreasing=TRUE),], \n",
    "    #          paste0(levels(groups)[1],'_vs_',levels(groups)[2],'InformationGain.csv'), row.names=FALSE)\n",
    "    \n",
    "    return(SingleCell.Group1VsGroup2.res)    \n",
    "}"
   ]
  },
  {
   "cell_type": "markdown",
   "metadata": {},
   "source": [
    "`getDiffAccessLInformationGain()`:\n",
    "> Caculates differential accessibility between two groups of cells using entropy and information gain. For each peak the accessibility is encoded as a binary variable. For each peak we calculate the \"Information gain\" by having the peak divided into two groups of cells for which we are trying to find out the differential accessibilty. The Information gain is calculated as\n",
    "\n",
    "$$ \n",
    " Gain(P, P_{G_1}, P_{G_2}) = Entropy(P) - \\sum_{v \\epsilon\\{G_1,G_2 \\}} \\frac{|P_v|}{|P|}Entropy(P_v)\n",
    "$$\n",
    "\n",
    ">where Entropy is calculated as\n",
    "$$\\sum_{i=1}^c -p_i log_2 p_i$$\n",
    "\n",
    "> The peaks are then sorted based on the informatin gain and the user can choose the cutoff value for selecting the DA peaks. A suggested value for this would be values < 0.01\n",
    "\n",
    "\n",
    "`Usage`:\n",
    "> `getDiffAccessLogsitic(count_data, groups)`\n",
    "\n",
    "Arguements:\n",
    "> `cdBinary`: The peak information converted into binary. Ideally this would be file that set in the `outputPeakFileName`. `cdBinary` would be used to calculate the Jaccard distance which would then be used as d matrix in MDS calculation<br>\n",
    "\n",
    ">`groups` : groups into which each cell belong to.\n",
    "\n",
    "Value:\n",
    "> Returns a table with the peaks along with Information gain."
   ]
  },
  {
   "cell_type": "code",
   "execution_count": 15,
   "metadata": {
    "code_folding": [],
    "collapsed": true
   },
   "outputs": [],
   "source": [
    "%%R\n",
    "getPeakVsPrecision <- function(peakA, peakB,start=100,stepSize=100){\n",
    "    \n",
    "    dimToRun <- min(dim(peakA)[1],dim(peakB)[1])\n",
    "    if(dim(peakB)[1]>dimToRun){\n",
    "        peakB <- peakB[1:dimToRun,]\n",
    "    }\n",
    "    GenomicRangeObjA <- makeGRangesFromDataFrame(peakA,\n",
    "                         keep.extra.columns=FALSE,\n",
    "                         ignore.strand=TRUE,\n",
    "                         seqinfo=NULL,\n",
    "                         seqnames.field=c(\"Chr\"),\n",
    "                         start.field=\"Start\",\n",
    "                         end.field=c(\"End\"),\n",
    "                         starts.in.df.are.0based=FALSE)\n",
    "    j=1\n",
    "    Recall <- vector(mode=\"numeric\", length=0)\n",
    "    Precision <- vector(mode=\"numeric\", length=0)\n",
    "    for(i in seq(100,dimToRun,stepSize)){\n",
    "           GenomicRangeObjB <- makeGRangesFromDataFrame(peakB[1:i,],\n",
    "                         keep.extra.columns=FALSE,\n",
    "                         ignore.strand=TRUE,\n",
    "                         seqinfo=NULL,\n",
    "                         seqnames.field=c(\"Chr\"),\n",
    "                         start.field=\"Start\",\n",
    "                         end.field=c(\"End\"),\n",
    "                         starts.in.df.are.0based=FALSE)\n",
    "                         \n",
    "           intersectRes <- as.data.frame(intersect(GenomicRangeObjA,GenomicRangeObjB))\n",
    "           FP = dim(peakB[1:i,])[1] - dim(intersectRes)[1]\n",
    "           TP = dim(intersectRes)[1]\n",
    "        \n",
    "           GenomicRangeObjB <- makeGRangesFromDataFrame(peakB[(i+1):dim(peakB)[1],],\n",
    "                         keep.extra.columns=FALSE,\n",
    "                         ignore.strand=TRUE,\n",
    "                         seqinfo=NULL,\n",
    "                         seqnames.field=c(\"Chr\"),\n",
    "                         start.field=\"Start\",\n",
    "                         end.field=c(\"End\"),\n",
    "                         starts.in.df.are.0based=FALSE)\n",
    "                         \n",
    "           intersectRes <- as.data.frame(intersect(GenomicRangeObjA,GenomicRangeObjB))\n",
    "           TN = dim(peakB[(i+1):dim(peakB)[1],]) - dim(intersectRes)[1]\n",
    "           FN = dim(intersectRes)[1]\n",
    "           Recall[j] = 100*(TP/(TP + FN))\n",
    "           Precision[j] = 100*(TP / (TP + FP))\n",
    "           j = j +1\n",
    "           \n",
    "   \n",
    "    }\n",
    "    df<-data.frame(x=Recall,y=Precision)\n",
    "    p <- ggplot(df, aes_string(x=\"x\",y =\"y\"))+ scale_colour_hue(l=40)\n",
    "    \n",
    "    p <- p + ggtitle(\"Recall vs Precision\") + theme(plot.title = element_text(size = 16, face = \"bold\"))\n",
    "    p <- p + geom_point(size = 2)\n",
    "    p <- p + xlab(\"Recall%\") \n",
    "    p <- p + ylab(\"Precision%\")+\n",
    "\ttheme_light(base_size=15) +\n",
    "        theme(strip.background = element_blank(),\n",
    "              panel.border     = element_blank(),\n",
    "              plot.title = element_text(hjust = 0.5))\n",
    "    print(p)\n",
    "    \n",
    "    GenomicRangeObjB <- makeGRangesFromDataFrame(peakB,\n",
    "                         keep.extra.columns=FALSE,\n",
    "                         ignore.strand=TRUE,\n",
    "                         seqinfo=NULL,\n",
    "                         seqnames.field=c(\"Chr\"),\n",
    "                         start.field=\"Start\",\n",
    "                         end.field=c(\"End\"),\n",
    "                         starts.in.df.are.0based=FALSE)\n",
    "                         \n",
    "   intersectRes <- as.data.frame(intersect(GenomicRangeObjA,GenomicRangeObjB))\n",
    "   \n",
    "   return(intersectRes) \n",
    "}"
   ]
  },
  {
   "cell_type": "markdown",
   "metadata": {},
   "source": [
    "`getPeakVsPrecision()`:\n",
    "> This function is used to see how many peaks from the Bulk data the single-cell have been able to capture. For that we calculate the Peak and the Precision of the single-cell data against its Bulk counterpart and then plot it. The way these two values are calculated are\n",
    "\n",
    "$$\n",
    "Recall = 100  \\frac{TP}{TP + FN}\n",
    "$$\n",
    "$$\n",
    "Precision = 100  \\frac{TP}{TP + FP}\n",
    "$$\n",
    "> where <br>\n",
    "> TP = True Positive <br>\n",
    "> TN = True Negative <br>\n",
    "> FP = False Positive <br>\n",
    "> FN = False Negative <br>\n",
    "\n",
    "`Usage`:\n",
    "> `getPeakVsPrecision(peakA, peakB,start,stepSize)`\n",
    "\n",
    "Arguements:\n",
    "> `peakA`: Peak of the BULK data <br>\n",
    "> `peakB`: Single-cell Peak <br>\n",
    "> `start`: Number of peaks to start with the calculation, default is `100`. <br>\n",
    "> `stepSize`: Size of the increase steps\n",
    "\n",
    "Value:\n",
    "> Plots Recall vs. Precision and returns a summary"
   ]
  },
  {
   "cell_type": "code",
   "execution_count": 16,
   "metadata": {
    "collapsed": true
   },
   "outputs": [],
   "source": [
    "%%R\n",
    "getJaccardDist <- function(cdBinary){\n",
    "        \n",
    "    if(colnames(cdBinary[,2:3])[1] == 'start' && colnames(cdBinary[,2:3])[2] == 'end'){\n",
    "        SingleCell.Binary <- cdBinary[,4:(dim(cdBinary)[2])]\n",
    "    }\n",
    "    else\n",
    "        SingleCell.Binary <- cdBinary\n",
    "    \n",
    "    \n",
    "    SingleCell.Binary.Jaccard <- jaccard(as.matrix(SingleCell.Binary))\n",
    "    \n",
    "    return(SingleCell.Binary.Jaccard)\n",
    "}"
   ]
  },
  {
   "cell_type": "markdown",
   "metadata": {},
   "source": [
    "`getJaccardDist()`:\n",
    "> This function calculates the jaccard distance between each of the cells. Jaccard distance calculates the ratio between the differences of the sizes of the union and intersection against the size of the union. The equation for calculating this distance is <br><br>$$d_J(A,B)=\\frac{|A \\cup B| - |A \\cap B|}{|A \\cup B|}$$\n",
    "\n",
    "Arguements:\n",
    "> `cdBinary`: The peak information converted into binary. Ideally this would be file that set in the `outputPeakFileName`. \n",
    "\n",
    "\n",
    "Value:\n",
    "> Jaccard distance between each of the cell."
   ]
  },
  {
   "cell_type": "code",
   "execution_count": 17,
   "metadata": {
    "collapsed": true
   },
   "outputs": [],
   "source": [
    "%%R\n",
    "plotCluster <- function(cdBinary, k, groups=NULL, cellName, ret.val=FALSE, text.label=FALSE){\n",
    "\n",
    "    if(missing(k)){\n",
    "        stop(\"ERROR: Number of groups \\\"k\\\" is missing\")\n",
    "    }\n",
    "    if(missing(ret.val)){\n",
    "        ret.val = FALSE\n",
    "    }\n",
    "    if(text.label==TRUE & missing(cellName)){\n",
    "        stop(\"ERROR: Please give cellName\")\n",
    "    }\n",
    "    \n",
    "    SingleCell.Binary.Jaccard <- getJaccardDist(cdBinary)\n",
    "    fit <- cmdscale(as.dist(SingleCell.Binary.Jaccard),eig=TRUE, k=k)\n",
    " \n",
    "    if(is.null(groups)){\n",
    "        df<-data.frame(x=fit$points[,1],y=fit$points[,2], Cell=colnames(SingleCell.Binary.Jaccard))\n",
    "        p <- ggplot(df, aes_string(x=\"x\",y =\"y\"))+ scale_colour_hue(l=40)\n",
    "    }\n",
    "    else{\n",
    "        df<-data.frame(x=fit$points[,1],y=fit$points[,2], Cell=colnames(SingleCell.Binary.Jaccard), Batch=groups)\n",
    "        p <- ggplot(df, aes_string(x=\"x\",y =\"y\", color=\"Batch\"))+ scale_colour_hue(l=40)\n",
    "    }\n",
    "\n",
    "    \n",
    "    p <- p + ggtitle(\"MDS with Jaccard Distance Matrix\") + theme(plot.title = element_text(size = 16, face = \"bold\"))\n",
    "    p <- p + geom_point(size = 2)\n",
    "    p <- p + xlab(\"Corrdinate 1\") \n",
    "    p <- p + ylab(\"Corrdinate 2\")+\n",
    "\ttheme_light(base_size=15) +\n",
    "        theme(strip.background = element_blank(),\n",
    "              panel.border     = element_blank(),\n",
    "              plot.title = element_text(hjust = 0.5))\n",
    "\n",
    "    if(length(levels(groups)) < 12)\n",
    "        p <- p + scale_colour_brewer(palette=\"Set1\")\n",
    "    if(text.label==TRUE)\n",
    "        p <- p + geom_text(data=df,aes(label=cellName),alpha=0.5,size=4, vjust=1,hjust=0.5,angle=45)\n",
    "\n",
    "    #p <- p + theme(axis.title = element_text(size = 14), axis.text = element_text(size = 14),\n",
    "    #legend.text = element_text(size = 14), legend.title = element_text(size = 14))\n",
    "    \n",
    "    print(p)\n",
    "    \n",
    "    if(ret.val == TRUE)\n",
    "        return(fit)\n",
    "}"
   ]
  },
  {
   "cell_type": "markdown",
   "metadata": {},
   "source": [
    "`plotCluster()`:\n",
    "> This function calculates the Multidimensional Scaling (MDS) and plots the cells based on Jaccard distance to visualize the level of similarity between the cells.\n",
    "\n",
    "Arguements:\n",
    "> `cdBinary`: The peak information converted into binary. Ideally this would be file that set in the `outputPeakFileName`. `cdBinary` would be used to calculate the Jaccard distance which would then be used as d matrix in MDS calculation<br>\n",
    "`k`: The maximum dimension of the space which the data are to be represented in; must be in {1, 2, ..., n-1}. <br>\n",
    "`groups`: If the cells can be organized into different groups (for eg. different batches), then they are passed as groups making them factor variable.<br>\n",
    "`cellName`: If `text.label` is set to `TRUE` then you have to supply `cellName`.\n",
    "`ret.val`: Need to set this TRUE for the function to return the MDS values <br>\n",
    "`text.label`: Need to set this TRUE if label of each of the cells are to be printed in the plot.\n",
    "\n",
    "\n",
    "Value:\n",
    "> Calculates the MDS and plots the cells based on their MDS dimension. It returns the MDS values if `ret.val` is set to TRUE."
   ]
  },
  {
   "cell_type": "code",
   "execution_count": 18,
   "metadata": {
    "collapsed": false
   },
   "outputs": [],
   "source": [
    "%%R\n",
    "plotPCAJaccard <- function(cdBinary, groups=NULL, ret.val=FALSE , cellName, text.label=FALSE, title){\n",
    "    \n",
    "   \n",
    "    if(missing(ret.val)){\n",
    "        ret.val = FALSE\n",
    "    }\n",
    "    if(text.label==TRUE & missing(cellName)){\n",
    "        stop(\"ERROR: Please give cellName\")\n",
    "    }\n",
    "    \n",
    "    SingleCell.Binary.Jaccard <- getJaccardDist(cdBinary)\n",
    "    FinalPCAData <- t(SingleCell.Binary.Jaccard)\n",
    "    PCx=1\n",
    "    PCy=2\n",
    "    pcaPRComp <- prcomp(FinalPCAData)\n",
    "    percentVar <- pcaPRComp$sdev^2/sum(pcaPRComp$sdev^2)\n",
    " \n",
    "    if(is.null(groups)){\n",
    "        df<-data.frame(PCX=pcaPRComp$x[,PCx],PCY=pcaPRComp$x[,PCy])\n",
    "        p1<-ggplot(df, aes_string(x=\"PCX\",y =\"PCY\"))        \n",
    "    }\n",
    "    else{\n",
    "        df<-data.frame(PCX=pcaPRComp$x[,PCx],PCY=pcaPRComp$x[,PCy], groups=groups)\n",
    "        p1<-ggplot(df, aes_string(x=\"PCX\",y =\"PCY\", color=\"groups\"))             \n",
    "    }          \n",
    "    if(missing(title))\n",
    "        p1<-p1+ggtitle(\"PCA with Jacard Matrix\")\n",
    "    else\n",
    "        p1<-p1+ggtitle(title)\n",
    "        \n",
    "    p1<-p1+geom_point(size = 3)\n",
    "    p1<-p1+xlab(paste(\"PC\",PCx,\": \", round(percentVar[PCx] * 100), \"% variance\"))\n",
    "    p1<-p1+ylab(paste(\"PC\",PCy,\": \", round(percentVar[PCy] * 100), \"% variance\"))\n",
    "    if(text.label == TRUE){\n",
    "        p1<-p1+geom_text(data=df,aes(label=cellName),\n",
    "                       alpha=0.5,size=4, vjust=1,hjust=0.5,angle=45, color=\"black\")\n",
    "    }\n",
    "    \n",
    "    p1<-p1 +\n",
    "    theme_light(base_size=15)+     \n",
    "         theme(plot.title = element_text(hjust = 0.5),\n",
    "              panel.border     = element_blank())\n",
    "\n",
    "    if(length(levels(groups)) < 12)\n",
    "        p1 <- p1 + scale_colour_brewer(palette=\"Set1\")\n",
    "    \n",
    "    print(p1)\n",
    "        \n",
    "    if(ret.val == TRUE)\n",
    "        return(pcaPRComp)\n",
    "}"
   ]
  },
  {
   "cell_type": "markdown",
   "metadata": {},
   "source": [
    "`plotPCAJaccard()`:\n",
    "> This function calculates the Principle Component Analysis (PCA) and plots the cells based on Jaccard distance in a reduced dimension to visualize how the cells cluster together.\n",
    "\n",
    "Arguements:\n",
    "> `cdBinary`: The peak information converted into binary. Ideally this would be file that set in the `outputPeakFileName`. `cdBinary` would be used to calculate the Jaccard distance which would then be used as d matrix in MDS calculation<br>\n",
    "`groups`: If the cells can be organized into different groups (for eg. different batches), then they are passed as groups making them factor variable.<br>\n",
    "`ret.val`: Need to set this TRUE for the function to return the MDS values <br>\n",
    "`text.label`: Need to set this TRUE if label of each of the cells are to be printed in the plot.<br>\n",
    "`title`: Sets the title of the plot.\n",
    "\n",
    "\n",
    "Value:\n",
    "> Calculates PCA and plots the cells in reduced dimension. If`ret.val` is set to TRUE it returns the PCA components along with standard deviations. "
   ]
  },
  {
   "cell_type": "code",
   "execution_count": 19,
   "metadata": {
    "collapsed": false
   },
   "outputs": [],
   "source": [
    "%%R\n",
    "plotMultiplePCAJaccard <- function(cdBinary, nPCAToDisplay, groups=NULL, ret.val=FALSE , text.label=FALSE, title=\"\"){\n",
    "    \n",
    "    if(missing(nPCAToDisplay)){\n",
    "    \tstop(\"ERROR: Number of PCA's \\\"nPCAToDisplay\\\" to display is missing\")\n",
    "    }\n",
    "    if(missing(ret.val)){\n",
    "        ret.val = FALSE\n",
    "    }\n",
    "    \n",
    "    SingleCell.Binary.Jaccard <- getJaccardDist(cdBinary)\n",
    "    FinalPCAData <- t(SingleCell.Binary.Jaccard)\n",
    "    PCx=1\n",
    "    PCy=2\n",
    "    pcaPRComp <- prcomp(FinalPCAData)\n",
    "\n",
    "    nmax = nPCAToDisplay\n",
    "    plotTitle = paste0('Plotting first ',nmax,' PCAs')\n",
    "    \n",
    "    txt1 <- paste(\"Percent_PC_Var_onfirst\",nmax,\"PCs\",sep=\"\")\n",
    "    pca_var = pcaPRComp$sdev ^ 2\n",
    "    pca_var_percent <- 100 * pca_var / sum(pca_var)\n",
    "    pca_var_percent_first10 <- NA * pca_var\n",
    "    pca_var_percent_first10[1:nmax] <- 100 * pca_var[1:nmax] / sum(pca_var[1:nmax])\n",
    "\n",
    "    pca_var_out <- data.frame(round(pca_var,3),round(pca_var_percent,1),\n",
    "                          round(pca_var_percent_first10,1))\n",
    "    rownames(pca_var_out) <- colnames(pcaPRComp$x)\n",
    "    colnames(pca_var_out) <- c(\"PC_Var\",\"PC_Var_percent\",txt1)\n",
    "\n",
    "\n",
    "    if(is.null(groups)){\n",
    "        df <- as.data.frame(pcaPRComp$x)\n",
    "        p <- ggpairs(df, columns=1:nPCAToDisplay, upper=list(continuous=\"points\"), \n",
    "             title=plotTitle,              \n",
    "             columnLabels = as.character(paste0(colnames(df[,1:nPCAToDisplay]), ' : ', \n",
    "                                                pca_var_out$PC_Var_percent[1:nPCAToDisplay], '% variance')))+\n",
    "    \t     theme_light(base_size=15)+     \n",
    "             theme(plot.title = element_text(hjust = 0.5))        \n",
    "    }\n",
    "    else{\n",
    "        df <- as.data.frame(pcaPRComp$x)\n",
    "        df$Cell=groups        \n",
    "        p <- ggpairs(df, columns=1:nPCAToDisplay, upper=list(continuous=\"points\"), \n",
    "             title=plotTitle, \n",
    "             mapping = aes_string(color=\"Cell\"),\n",
    "             legend = c(1,nPCAToDisplay),\n",
    "             columnLabels = as.character(paste0(colnames(df[,1:nPCAToDisplay]), ' : ', \n",
    "                                                pca_var_out$PC_Var_percent[1:nPCAToDisplay], '% variance')))+\n",
    "             theme_light(base_size=15)+     \n",
    "             theme(plot.title = element_text(hjust = 0.5))\n",
    "    }          \n",
    "    \n",
    "    print(p)\n",
    "}"
   ]
  },
  {
   "cell_type": "markdown",
   "metadata": {},
   "source": [
    "`plotMultiplePCAJaccard()`:\n",
    "> This function calculates the Principle Component Analysis (PCA) based on Jacard distance and plots the first `n` components of the PCA.\n",
    "\n",
    "Arguements:\n",
    "> `cdBinary`: The peak information converted into binary. Ideally this would be file that set in the `outputPeakFileName`. `cdBinary` would be used to calculate the Jaccard distance which would then be used as d matrix in MDS calculation<br>\n",
    "`nPCAToDisplay` : Number of PCAs to display. <br>\n",
    "`groups`: If the cells can be organized into different groups (for eg. different batches), then they are passed as groups making them factor variable.<br>\n",
    "`ret.val`: Need to set this TRUE for the function to return the MDS values <br>\n",
    "`text.label`: Need to set this TRUE if label of each of the cells are to be printed in the plot.<br>\n",
    "`title`: Sets the title of the plot.\n",
    "\n",
    "\n",
    "Value:\n",
    "> Calculates PCA and plots the cells in first `n` components. If`ret.val` is set to TRUE it returns the PCA components along with standard deviations. "
   ]
  },
  {
   "cell_type": "code",
   "execution_count": 20,
   "metadata": {
    "collapsed": true
   },
   "outputs": [],
   "source": [
    "%%R\n",
    "plotVarExplained <- function(cdBinary, nPCAToDisplay, groups=NULL, ret.val=FALSE , text.label=FALSE, title=\"\"){\n",
    "\n",
    "    if(missing(nPCAToDisplay)){\n",
    "    \tstop(\"ERROR: Number of PCA's \\\"nPCAToDisplay\\\" to display is missing\")\n",
    "    }\n",
    "    if(missing(ret.val)){\n",
    "        ret.val = FALSE\n",
    "    }\n",
    "    \n",
    "    SingleCell.Binary.Jaccard <- getJaccardDist(cdBinary)\n",
    "    FinalPCAData <- t(SingleCell.Binary.Jaccard)\n",
    "    PCx=1\n",
    "    PCy=2\n",
    "    pcaPRComp <- prcomp(FinalPCAData)\n",
    "\n",
    "    nmax = nPCAToDisplay\n",
    "    plotTitle = paste0('Plotting first ',nmax,' PCAs')\n",
    "    \n",
    "    txt1 <- paste(\"Percent_PC_Var_onfirst\",nmax,\"PCs\",sep=\"\")\n",
    "    pca_var = pcaPRComp$sdev ^ 2\n",
    "    pca_var_percent <- 100 * pca_var / sum(pca_var)\n",
    "    pca_var_percent_first10 <- NA * pca_var\n",
    "    pca_var_percent_first10[1:nmax] <- 100 * pca_var[1:nmax] / sum(pca_var[1:nmax])\n",
    "\n",
    "    pca_var_out <- data.frame(round(pca_var,3),round(pca_var_percent,1),round(pca_var_percent_first10,1))\n",
    "    rownames(pca_var_out) <- colnames(pcaPRComp$x)\n",
    "    colnames(pca_var_out) <- c(\"PC_Var\",\"PC_Var_percent\",\"PC_Var_n_percent\")\n",
    "\n",
    "\n",
    "    p <- ggplot(pca_var_out[1:nmax,]) + scale_colour_hue(l=40) \n",
    "    p <- p + geom_line(aes(x=c(1:nmax), y = PC_Var_percent, color=\"PC_Var_percent\"), size=1.5)+\n",
    "         geom_point(aes(x=c(1:nmax), y = PC_Var_percent, color=\"PC_Var_percent\"), size = 2)+\n",
    "         geom_line(aes(x=c(1:nmax), y = PC_Var_n_percent, color=\"PC_Var_n_percent\"), size=1.5)+\n",
    "         geom_point(aes(x=c(1:nmax), y = PC_Var_n_percent, color=\"PC_Var_n_percent\"), size = 2)+\n",
    "         ggtitle(\"Total variance by the PCAs considered\")+\n",
    "         xlab(paste(\"PC1 to PC10\"))+\n",
    "         ylab(paste(\"% of Variance\"))+     \n",
    "         theme_light(base_size=15)+     \n",
    "         theme(plot.title = element_text(hjust = 0.5),\n",
    "              panel.border     = element_blank())+\n",
    "         scale_x_continuous(breaks=c(1:nmax))+\n",
    "         scale_colour_brewer(palette=\"Set1\")\n",
    "         \n",
    "   print(p)\n",
    "}"
   ]
  },
  {
   "cell_type": "markdown",
   "metadata": {},
   "source": [
    "`plotVarExplained()`:\n",
    "> This function calculates the percent of variance explained by the PCAs and plots it.\n",
    "\n",
    "Arguements:\n",
    "> `cdBinary`: The peak information converted into binary. Ideally this would be file that set in the `outputPeakFileName`. `cdBinary` would be used to calculate the Jaccard distance which would then be used as d matrix in MDS calculation<br>\n",
    "`nPCAToDisplay` : Number of PCAs to display. <br>\n",
    "`groups`: If the cells can be organized into different groups (for eg. different batches), then they are passed as groups making them factor variable.<br>\n",
    "`ret.val`: Need to set this TRUE for the function to return the MDS values <br>\n",
    "`text.label`: Need to set this TRUE if label of each of the cells are to be printed in the plot.<br>\n",
    "`title`: Sets the title of the plot.\n",
    "\n",
    "\n",
    "Value:\n",
    "> Calculates the percent of variance explained by the PCAs and the plots thsoe percentage. "
   ]
  },
  {
   "cell_type": "code",
   "execution_count": 21,
   "metadata": {
    "collapsed": true
   },
   "outputs": [],
   "source": [
    "%%R\n",
    "plot_tSNE <- function(cdBinary, nPCAToUSE, groups=NULL, cellName, perplexity_division, ret.val=FALSE , text.label=FALSE, title=\"\"){\n",
    "\n",
    "    if(missing(nPCAToUSE)){\n",
    "    \tstop(\"ERROR: Number of PCA's \\\"nPCAToUSE\\\" to use is missing\")\n",
    "    }\n",
    "    if(missing(ret.val)){\n",
    "        ret.val = FALSE\n",
    "    }\n",
    "    \n",
    "    if(text.label==TRUE & missing(cellName)){\n",
    "        stop(\"ERROR: Please give cellName\")\n",
    "    }\n",
    "    \n",
    "    if(missing(perplexity_division)){\n",
    "        stop(\"ERROR: Please enter the number with which you want to divide the dimension of your data for perplexity setting\")\n",
    "    }\n",
    "        \n",
    "    \n",
    "    SingleCell.Binary.Jaccard <- getJaccardDist(cdBinary)\n",
    "    FinalPCAData <- t(SingleCell.Binary.Jaccard)\n",
    "\n",
    "    pcaPRComp <- prcomp(FinalPCAData)\n",
    "\n",
    "    \n",
    "    rtsne_pca_out <- Rtsne(as.matrix(pcaPRComp$x[,1:nPCAToUSE]), perplexity = dim(pcaPRComp$x)[1]/perplexity_division, check_duplicates = FALSE)\n",
    "    \n",
    "    if(is.null(groups)){\n",
    "        if(ret.val==TRUE)\n",
    "            df<-data.frame(X=rtsne_pca_out$Y[,1],Y=rtsne_pca_out$Y[,2], cellName=cellName)\n",
    "        else\n",
    "            df<-data.frame(X=rtsne_pca_out$Y[,1],Y=rtsne_pca_out$Y[,2])\n",
    "        p1 <- ggplot(df, aes_string(x=\"X\",y =\"Y\"))\n",
    "    }\n",
    "    else{\n",
    "        if(ret.val==TRUE)\n",
    "            df<-data.frame(X=rtsne_pca_out$Y[,1],Y=rtsne_pca_out$Y[,2], Cell=colnames(SingleCell.Binary.Jaccard), Batch=groups, cellName=cellName)\n",
    "        else\n",
    "            df<-data.frame(X=rtsne_pca_out$Y[,1],Y=rtsne_pca_out$Y[,2], Cell=colnames(SingleCell.Binary.Jaccard), Batch=groups)\n",
    "        p1 <- ggplot(df, aes_string(x=\"X\",y =\"Y\", color=\"Batch\"))\n",
    "    }\n",
    "    \n",
    "\n",
    "    p1<-p1 + ggtitle(\"t-SNE plot\")\n",
    "    p1<-p1 + geom_point(size = 2) \n",
    "    p1<-p1 + xlab(paste(\"Dim-1\"))\n",
    "    p1<-p1 + ylab(\"Dim-2\")+\n",
    "        theme_light(base_size=15) +\n",
    "        theme(strip.background = element_blank(),\n",
    "              panel.border     = element_blank(),\n",
    "              plot.title = element_text(hjust = 0.5))\n",
    "    if(length(levels(groups)) < 12)\n",
    "        p1 <- p1 + scale_colour_brewer(palette=\"Set1\")\n",
    "    if(text.label==TRUE)\n",
    "        p1<-p1 + geom_text(data=df,aes(label=cellName),alpha=0.5,size=4, vjust=1,hjust=0.5,angle=45)\n",
    "    print(p1)\n",
    "    return(df)\n",
    "}"
   ]
  },
  {
   "cell_type": "markdown",
   "metadata": {},
   "source": [
    "`plot_tSNE()`:\n",
    "> Caculates the t-distributed stochastic neighbor embedding (t-SNE) which is a non-linear dimensionality reduction technique particualrly suitable for embedding high-dimensional data into a space of two or three dimensions. This function then plots the lower dimensional representation of the cells in a 2-D scatter plot.\n",
    "\n",
    "Arguements:\n",
    "> `cdBinary`: The peak information converted into binary. Ideally this would be file that set in the `outputPeakFileName`. `cdBinary` would be used to calculate the Jaccard distance which would then be used as d matrix in MDS calculation<br>\n",
    "`nPCAToDisplay` : Number of PCAs to be used to calcualte the t-SNE values. <br>\n",
    "`groups`: If the cells can be organized into different groups (for eg. different batches), then they are passed as groups making them factor variable.<br>\n",
    "`ret.val`: Need to set this TRUE for the function to return the MDS values <br>\n",
    "`text.label`: Need to set this TRUE if label of each of the cells are to be printed in the plot.<br>\n",
    "`title`: Sets the title of the plot.\n",
    "\n",
    "\n",
    "Value:\n",
    "> Calculates and plots the t-SNE representation of the cells. "
   ]
  },
  {
   "cell_type": "code",
   "execution_count": 22,
   "metadata": {
    "collapsed": true
   },
   "outputs": [],
   "source": [
    "%%R\n",
    "getDiffAccess <- function(cdBinary, groups=NULL){\n",
    "\n",
    "    if (length(levels(groups)) != 2) {\n",
    "        stop(paste(\"ERROR: wrong number of levels in the grouping factor (\", \n",
    "            paste(levels(groups), collapse = \" \"), \"), but must be two.\", \n",
    "            sep = \"\"))\n",
    "    }\n",
    "    if (is.null(groups)){\n",
    "        stop(\"ERROR: groups factor is not provided\")\n",
    "    }\n",
    "    \n",
    "    \n",
    "    SingleCell.Group1.CellNames <- names(groups[groups==levels(groups)[1]])\n",
    "    SingleCell.Group2.CellNames <- names(groups[groups==levels(groups)[2]])\n",
    "    \n",
    "    SingleCell.Group1.Binary <- cdBinary[,SingleCell.Group1.CellNames]\n",
    "    SingleCell.Group2.Binary <- cdBinary[,SingleCell.Group2.CellNames]\n",
    "\n",
    "    SingleCell.Group1.ZeroCount <- rowSums(SingleCell.Group1.Binary==0)\n",
    "    SingleCell.Group2.ZeroCount <- rowSums(SingleCell.Group2.Binary==0)\n",
    "    SingleCell.Group1.OneCount <- rowSums(SingleCell.Group1.Binary==1)\n",
    "    SingleCell.Group2.OneCount <- rowSums(SingleCell.Group2.Binary==1)\n",
    "    \n",
    "    SingleCell.Group1VsGroup2 <- data.frame(Chr = cdBinary[,1],\n",
    "                                           Start = cdBinary[,2],\n",
    "                                           end = cdBinary[,3])\n",
    "\n",
    "    SingleCell.Group1VsGroup2$group1OneCounts <- SingleCell.Group1.OneCount\n",
    "    SingleCell.Group1VsGroup2$group2OneCounts <- SingleCell.Group2.OneCount\n",
    "    SingleCell.Group1VsGroup2$log2Fold <- log2(SingleCell.Group1.OneCount+1) - log2(SingleCell.Group2.OneCount+1)\n",
    "    pvalue = vector(mode=\"numeric\", length=length(SingleCell.Group2.OneCount))\n",
    "    nGenes <- nrow(SingleCell.Group1.Binary)\n",
    "    \n",
    "    \n",
    "    for(i in 1:length(SingleCell.Group2.OneCount))\n",
    "    {\n",
    "        contingencyTable <- matrix(c(SingleCell.Group1.ZeroCount[i], SingleCell.Group2.ZeroCount[i],\n",
    "                                     SingleCell.Group1.OneCount[i], SingleCell.Group2.OneCount[i]), ncol=2)\n",
    "        SingleCell.Group1VsGroup2$pvalue[i] <- fisher.test(contingencyTable)$p.value        \n",
    "    }\n",
    "    \n",
    "    # Bonferroni correction\n",
    "    SingleCell.Group1VsGroup2$p_adjust <- p.adjust(SingleCell.Group1VsGroup2$pvalue, method=\"bonferroni\")\n",
    "\n",
    "    write.csv(SingleCell.Group1VsGroup2[order(SingleCell.Group1VsGroup2$pvalue, decreasing=FALSE),], \n",
    "              paste0(levels(groups)[1],'_vs_',levels(groups)[2],'.csv'), row.names=FALSE)\n",
    "    \n",
    "    return(SingleCell.Group1VsGroup2)    \n",
    "}"
   ]
  },
  {
   "cell_type": "markdown",
   "metadata": {},
   "source": [
    "`getDiffAccess()`:\n",
    "> Caculates differential accessibility between two groups of cells. For each peak it creates a contingency table with number of 0's and 1's for the two groups. <br>\n",
    "\n",
    ">|               \t| Group-1 \t| Group-2 \t|\n",
    "|---------------\t|---------\t|---------\t|\n",
    "| Number of 0's \t|         \t|         \t|\n",
    "| Number of 1's \t|         \t|         \t| \n",
    "<br>\n",
    "It then runs Fisher exact test to calculate the p-values. These p-values are then corrected for multiple testing with Bonferroni correction. Finally the function returns a table with the peaks, their count of 1's in each group, the p-value and the q-value (corrected p-value).\n",
    "\n",
    "Arguements:\n",
    "> `cdBinary`: The peak information converted into binary. Ideally this would be file that set in the `outputPeakFileName`. `cdBinary` would be used to calculate the Jaccard distance which would then be used as d matrix in MDS calculation<br>\n",
    "\n",
    "Value:\n",
    "> Returns a table with the peaks, their count of 1's in each group, the p-value and the q-value (corrected p-value)."
   ]
  },
  {
   "cell_type": "code",
   "execution_count": 23,
   "metadata": {
    "collapsed": true
   },
   "outputs": [],
   "source": [
    "%%R\n",
    "MotifMatches <- function(cd, outputFile='cdMotif.csv', species = \"Homo sapiens\", collection = \"CORE\", ...){\n",
    "\n",
    "    # Setting the parameters\n",
    "    option <- list()\n",
    "    option[\"species\"] <- species\n",
    "    option[\"collection\"] <- collection\n",
    "    option <- c(option, list(...))\n",
    "    # Finding the motifs\n",
    "    jaspar_motifs <- TFBSTools::getMatrixSet(JASPAR2016::JASPAR2016, option)\n",
    "    if (!isTRUE(all.equal(TFBSTools::name(jaspar_motifs), names(jaspar_motifs)))) \n",
    "        names(jaspar_motifs) <- paste(names(jaspar_motifs), TFBSTools::name(jaspar_motifs), sep = \"_\")\n",
    "\n",
    "    #jaspar_motifs <- get_jaspar_motifs()\n",
    "\n",
    "    cdGenomicRangeObj <- makeGRangesFromDataFrame(cd,\n",
    "                         keep.extra.columns=FALSE,\n",
    "                         ignore.strand=TRUE,\n",
    "                         seqinfo=NULL,\n",
    "                         seqnames.field=c(\"seqnames\"),\n",
    "                         start.field=\"start\",\n",
    "                         end.field=c(\"end\"),\n",
    "                         strand.field=\"strand\",\n",
    "                         starts.in.df.are.0based=FALSE)\n",
    "    motif_ix <- motifmatchr::match_motifs(jaspar_motifs, cdGenomicRangeObj, out=\"matches\")\n",
    "\n",
    "    motifMatch <- as.data.frame(as.matrix(unlist(motif_ix@assays$data)))\n",
    "    motifMatch <- 1*motifMatch\n",
    "    rownames(motifMatch) <- rownames(motif_ix)\n",
    "    colnames(motifMatch) <- colnames(motif_ix)\n",
    "    \n",
    "    FinalMotifList <- motifMatch[rowSums(motifMatch)>0,]\n",
    "\n",
    "    cdMod <- cd[rownames(FinalMotifList),]\n",
    "    write.csv('cdMod',outputFile)\n",
    "    \n",
    "    return(cdMod)    \n",
    "   \n",
    "} "
   ]
  },
  {
   "cell_type": "markdown",
   "metadata": {},
   "source": [
    "`MotifMatches()`:\n",
    "> This function matches with the motifs in JASPAR database and the given peaks and reports a matrix with the peaks that has atleast one motif intersected.\n",
    "\n",
    "Arguements:\n",
    "> `cd`: A binay matrix with the peak accessiblity of all the single-cells. The row would reprsent each of the peaks unique name and the columns would be each cell. Each entry in the matrix is 0/1 representing either the peak is close/open for that cell. <br>\n",
    "> `species`: Which species the motifs represent?  use eithe jaspar code or latin name.  default is 'Homo sapiens' . <br>\n",
    "> `outputFile` : Where the results would be written. By default it would be written in cdMotif.csv file along with the accessibility. <br>\n",
    "\n",
    "Value:\n",
    "> A matrix that intersects with the motifs of that species."
   ]
  },
  {
   "cell_type": "code",
   "execution_count": 24,
   "metadata": {
    "collapsed": true
   },
   "outputs": [],
   "source": [
    "%%R\n",
    "clean.count.peaks <- function(cd, min.cell.peaks.obs = 3, min.peaks.cell = 10){\n",
    "    cdFilt <- cd[,1:3]\n",
    "    cdCells <- cd[,4:dim(cd)[2]]\n",
    "    valid.cell.ix <- which(colSums(cdCells) >= min.peaks.cell)\n",
    "    cdFilt <- cbind(cdFilt,cdCells[,valid.cell.ix])\n",
    "    cdFilt <- cdFilt[rowSums(cdFilt[,4:dim(cdFilt)[2]]) >=min.cell.peaks.obs ,]\n",
    "    return(cdFilt)\n",
    "}"
   ]
  },
  {
   "cell_type": "markdown",
   "metadata": {},
   "source": [
    "`clean.count.peaks()`:\n",
    "> This function filter peaks and cells based on peak and cell requirements.\n",
    "\n",
    "Usage:\n",
    "> `clean.count.peaks(cd, min.cell.peaks.obs = 3, min.peaks.cell = 10)`\n",
    "\n",
    "Arguements:\n",
    "> `cd`: A binay matrix with the peak accessiblity of all the single-cells. The row would reprsent each of the peaks unique name and the columns would be each cell. Each entry in the matrix is 0/1 representing either the peak is close/open for that cell. <br>\n",
    "> `min.cell.peaks.obs`: Minimum number of cells that a peak has to be observed in order for that peak to be a valid peak. <br>\n",
    "> `min.peaks.cell` : Minimum number of peaks that a cell needs to have in order for that cell to be called a valid cell. <br>\n",
    "\n",
    "Value:\n",
    "> A matrix with valid accessible peaks."
   ]
  },
  {
   "cell_type": "markdown",
   "metadata": {},
   "source": [
    "--------------"
   ]
  },
  {
   "cell_type": "markdown",
   "metadata": {},
   "source": [
    "### Configuration Cell\n",
    "Following is the cell where we configure all the parameters for the tool."
   ]
  },
  {
   "cell_type": "code",
   "execution_count": 25,
   "metadata": {
    "collapsed": true
   },
   "outputs": [],
   "source": [
    "# This cell holds the parameters for the tools\n",
    "\n",
    "# Set this parameter to the folder where all the Peak Files are. This has to be the folder\n",
    "# where each of the individual cells peak files reside\n",
    "peakFolder = '/home/baker/my-dpsf-scratch-share/Buenrostro_pipeline/Human_data_analysis_Second_Folder/output/Filtered_Macs2_files'\n",
    "\n",
    "\n",
    "# Set this parameter to the folder where the peaks for the merge files are. This can be the same folder\n",
    "# of all the individual cells peak folder or can be a single peak file that is generated from merging BAM files\n",
    "peakFolderToMerge = '/home/baker/my-dpsf-scratch-share/Buenrostro_pipeline/Human_data_analysis_Second_Folder/output/Bam_Files_Filtered_on_Library_Size/'\n",
    "\n",
    "\n",
    "\n",
    "# Set up the pattern for the BAM file ending\n",
    "BAMFilePattern = '_nodup_sorted_cleaned.bam'\n",
    "\n",
    "# Set this parameter to the pattern that is common to all the peak file names that you wish to merge. \n",
    "# for eg, if you want to combine OE19_C01_peaks.narrowPeak and OE19_C02_peaks.narrowPeak then the\n",
    "# pattern would be '_peaks.narrowPeak'\n",
    "# Allowed patterns while calling with the pipeline provided here are\n",
    "# _summits_shifted.bed and '_peaks.narrowPeak'\n",
    "peakFilePattern = '_peaks.narrowPeak'\n",
    "\n",
    "# This would be automatically set to 'mergedPeaks.bed' file in peakFolder folder\n",
    "mergedPeakFile = '/home/baker/my-dpsf-scratch-share/Buenrostro_pipeline/Human_data_analysis_Second_Folder/output/Bam_Files_Filtered_on_Library_Size/mergedPeaks.bed'\n",
    "\n",
    "# Set this folder to where the PeakHits.csv File would be saved\n",
    "outputFolder = '/home/baker/my-dpsf-scratch-share/Buenrostro_pipeline/Human_data_analysis_Second_Folder/output/Bam_Files_Filtered_on_Library_Size/'\n",
    "\n",
    "# Set the outputPeakFileName name here\n",
    "outputPeakFileName = 'All_Human_Bam.csv'\n",
    "\n",
    "# This will be automatically set to the 'PeakHits.csv' file in outputFolder folder\n",
    "peakFile = outputFolder + outputPeakFileName"
   ]
  },
  {
   "cell_type": "markdown",
   "metadata": {},
   "source": [
    "We now call `getAggregatedPeak()` to merge all the BAM files and generated the aggregated peak from the merged BAM file."
   ]
  },
  {
   "cell_type": "code",
   "execution_count": 55,
   "metadata": {
    "collapsed": false
   },
   "outputs": [],
   "source": [
    "getAggregatedPeak(peakFolderToMerge, BAMFilePattern)"
   ]
  },
  {
   "cell_type": "markdown",
   "metadata": {},
   "source": [
    "To calculates the accessiblity of each of the peaks for all the cells we call the following function."
   ]
  },
  {
   "cell_type": "code",
   "execution_count": 56,
   "metadata": {
    "collapsed": false
   },
   "outputs": [],
   "source": [
    "%%R -i mergedPeakFile,peakFolder,peakFilePattern,outputFolder,outputPeakFileName\n",
    "peakAccesibility(mergedPeakFile, peakFolder, peakFilePattern, outputFolder, outputPeakFileName)"
   ]
  },
  {
   "cell_type": "markdown",
   "metadata": {},
   "source": [
    "Reading the peak file"
   ]
  },
  {
   "cell_type": "code",
   "execution_count": 26,
   "metadata": {
    "collapsed": false
   },
   "outputs": [],
   "source": [
    "%%R -i peakFile\n",
    "cd <- read.csv(peakFile, sep=' ', header=TRUE)"
   ]
  },
  {
   "cell_type": "markdown",
   "metadata": {},
   "source": [
    "## Filtering accessible peaks"
   ]
  },
  {
   "cell_type": "code",
   "execution_count": 27,
   "metadata": {
    "collapsed": false
   },
   "outputs": [
    {
     "data": {
      "text/plain": [
       "[1] 113939    574\n",
       "[1] 62536   562\n"
      ]
     },
     "metadata": {},
     "output_type": "display_data"
    }
   ],
   "source": [
    "%%R\n",
    "cdFilt <- clean.count.peaks(cd)\n",
    "print(dim(cd))\n",
    "print(dim(cdFilt))"
   ]
  },
  {
   "cell_type": "code",
   "execution_count": 28,
   "metadata": {
    "collapsed": true
   },
   "outputs": [],
   "source": [
    "%%R\n",
    "write.csv(cdFilt, 'FilteredPeakCounts.csv')"
   ]
  },
  {
   "cell_type": "code",
   "execution_count": null,
   "metadata": {
    "collapsed": true
   },
   "outputs": [],
   "source": []
  }
 ],
 "metadata": {
  "anaconda-cloud": {},
  "kernelspec": {
   "display_name": "Python [conda root]",
   "language": "python",
   "name": "conda-root-py"
  },
  "language_info": {
   "codemirror_mode": {
    "name": "ipython",
    "version": 3
   },
   "file_extension": ".py",
   "mimetype": "text/x-python",
   "name": "python",
   "nbconvert_exporter": "python",
   "pygments_lexer": "ipython3",
   "version": "3.5.2"
  }
 },
 "nbformat": 4,
 "nbformat_minor": 1
}
